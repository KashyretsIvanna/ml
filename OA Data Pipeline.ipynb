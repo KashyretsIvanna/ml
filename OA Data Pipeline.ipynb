{
 "cells": [
  {
   "cell_type": "code",
   "execution_count": 1,
   "id": "02be421e",
   "metadata": {},
   "outputs": [],
   "source": [
    "import requests\n",
    "import os, json\n",
    "from IPython.display import JSON\n",
    "import base64\n",
    "from datetime import datetime"
   ]
  },
  {
   "cell_type": "code",
   "execution_count": 2,
   "id": "92630aff",
   "metadata": {},
   "outputs": [],
   "source": [
    "api_endpoint = \"https://staging.harritydev.com/api/uspto/applications/\"\n",
    "#analyze_oa_url = \"https://staging.harritydev.com/api/nlp/api/v1/parser/analyze/office-action\"\n",
    "analyze_oa_url = \"http://localhost:5000/api/v1/parser/analyze/office-action\"\n",
    "root_folder = \"data/oa_samples\"\n",
    "\n",
    "staging_bearer_token = \"eyJhbGciOiJIUzI1NiIsInR5cCI6IkpXVCJ9.eyJlbWFpbCI6ImFiYWxhYmFuQGhhcnJpdHlkZXYub25taWNyb3NvZnQuY29tIiwiZmlyc3ROYW1lIjoiQW5kcmlpIiwibGFzdE5hbWUiOiJCYWxhYmFuIE9mZmljZSAzNjUiLCJwZXJtaXNzaW9ucyI6WyJwb3J0Zm9saW8iLCJ1c2VycyIsIm9yZ2FuaXphdGlvbnMiLCJzcGVjaWZpY2F0aW9ucyIsImZvcm1zIiwidGVtcGxhdGVzIiwiYXBwbGljYXRpb25zIiwidXNwdG8iLCJtZXNzYWdlcyIsIndvcmtmbG93cyIsImFkbWluaXN0cmF0aW9uIiwiZG9ja2V0aW5nX3Rhc2tzIiwiYWRtaW5pc3RyYXRpb25fdGFza3MiLCJib3Rfc2NyaXB0cyJdLCJ0ZWFtcyI6WyJEcmFmdGluZyBUZWFtIl0sIm1zU2VjdXJpdHlHcm91cHMiOlt7ImlkIjoiODY3NmJjY2MtZjMzYi00YTUyLTg2NGYtZjA0ZDM1NjI5Zjc1Iiwic2VjdXJpdHlJZGVudGlmaWVyIjoiUy0xLTEyLTEtMjI1NTkyODUyNC0xMjQ2OTUwMjAzLTEzMDc1OTQ2MzAtMTk3MzM3OTYzNyIsImRpc3BsYXlOYW1lIjoiU29tZU90aGVyR3JvdXAiLCJvblByZW1pc2VzTmFtZSI6bnVsbH0seyJpZCI6ImNiYTA4ODdkLWQzYTMtNGY4ZS04YWI3LWM1NWQ3YWRkMmZiZSIsInNlY3VyaXR5SWRlbnRpZmllciI6IlMtMS0xMi0xLTM0MTYyOTU1NDktMTMzNDc2MDM1NS0xNTczMjM4NjY2LTMxOTA4MDc5MzAiLCJkaXNwbGF5TmFtZSI6IkFub3RoZXJHcm91cCIsIm9uUHJlbWlzZXNOYW1lIjpudWxsfV0sImlhdCI6MTY4NDkzODk1NiwiZXhwIjoxNjg3NTMwOTU2LCJzdWIiOiI2MmQ5ODA0Y2U5MjMyN2FiZjljN2QxMTYifQ.qI5Pfh_rwwFJszRBAahYucbN3C3g-1ABQBe27gzyWPo\"\n",
    "dev_bearer_token = \"eyJhbGciOiJIUzI1NiIsInR5cCI6IkpXVCJ9.eyJlbWFpbCI6ImFiYWxhYmFuQGhhcnJpdHlkZXYub25taWNyb3NvZnQuY29tIiwiZmlyc3ROYW1lIjoiQW5kcmlpIiwibGFzdE5hbWUiOiJCYWxhYmFuIE9mZmljZSAzNjUiLCJwZXJtaXNzaW9ucyI6WyJwb3J0Zm9saW8iLCJ1c2VycyIsIm9yZ2FuaXphdGlvbnMiLCJzcGVjaWZpY2F0aW9ucyIsImZvcm1zIiwidGVtcGxhdGVzIiwiYXBwbGljYXRpb25zIiwidXNwdG8iLCJtZXNzYWdlcyIsIndvcmtmbG93cyIsImFkbWluaXN0cmF0aW9uIiwiZG9ja2V0aW5nX3Rhc2tzIiwiYWRtaW5pc3RyYXRpb25fdGFza3MiLCJib3Rfc2NyaXB0cyJdLCJ0ZWFtcyI6WyJEcmFmdGluZyBUZWFtIl0sIm1zU2VjdXJpdHlHcm91cHMiOlt7ImlkIjoiODY3NmJjY2MtZjMzYi00YTUyLTg2NGYtZjA0ZDM1NjI5Zjc1Iiwic2VjdXJpdHlJZGVudGlmaWVyIjoiUy0xLTEyLTEtMjI1NTkyODUyNC0xMjQ2OTUwMjAzLTEzMDc1OTQ2MzAtMTk3MzM3OTYzNyIsImRpc3BsYXlOYW1lIjoiU29tZU90aGVyR3JvdXAiLCJvblByZW1pc2VzTmFtZSI6bnVsbH0seyJpZCI6ImNiYTA4ODdkLWQzYTMtNGY4ZS04YWI3LWM1NWQ3YWRkMmZiZSIsInNlY3VyaXR5SWRlbnRpZmllciI6IlMtMS0xMi0xLTM0MTYyOTU1NDktMTMzNDc2MDM1NS0xNTczMjM4NjY2LTMxOTA4MDc5MzAiLCJkaXNwbGF5TmFtZSI6IkFub3RoZXJHcm91cCIsIm9uUHJlbWlzZXNOYW1lIjpudWxsfV0sImlhdCI6MTY4NDkzODk1NiwiZXhwIjoxNjg3NTMwOTU2LCJzdWIiOiI2MmQ5ODA0Y2U5MjMyN2FiZjljN2QxMTYifQ.qI5Pfh_rwwFJszRBAahYucbN3C3g-1ABQBe27gzyWPo\"\n",
    "\n",
    "# Create the headers dictionary with the authorization header\n",
    "headers = {\n",
    "    \"Authorization\": f\"Bearer {staging_bearer_token}\"\n",
    "}\n",
    "\n",
    "os.makedirs(root_folder, exist_ok=True)"
   ]
  },
  {
   "cell_type": "code",
   "execution_count": 28,
   "id": "d2cd34f3",
   "metadata": {},
   "outputs": [],
   "source": [
    "application = \"16949396\"\n",
    "try:\n",
    "    response = requests.get(api_endpoint+application, headers=headers)\n",
    "    response.raise_for_status()\n",
    "    file_urls = response.json()\n",
    "\n",
    "except requests.exceptions.HTTPError as e:\n",
    "    print(f\"An HTTP error occurred: {e}\")"
   ]
  },
  {
   "cell_type": "code",
   "execution_count": 29,
   "id": "7dbbcb99",
   "metadata": {},
   "outputs": [],
   "source": [
    "docList = file_urls[\"documents\"]"
   ]
  },
  {
   "cell_type": "code",
   "execution_count": 30,
   "id": "9d8a0d1d-d789-4f4a-871c-1e96ac53776c",
   "metadata": {},
   "outputs": [
    {
     "data": {
      "application/json": [
       {
        "code": "EGRANT.NTF",
        "date": "2023-05-09T00:00:00.000Z",
        "description": "eGrant day-of Notification",
        "id": "LHFRBT9ZGREENX2",
        "mime": [
         "pdf"
        ],
        "packageNumber": 25
       },
       {
        "code": "ISSUE.NTF",
        "date": "2023-04-19T00:00:00.000Z",
        "description": "Issue Notification",
        "id": "LGOI634IXBLUEX1",
        "mime": [
         "pdf"
        ],
        "packageNumber": 23
       },
       {
        "code": "MFEE.C.AD",
        "date": "2023-04-06T10:45:10.000Z",
        "description": "Maintenance Fee Address Change",
        "id": "LG58CF0PGREENX3",
        "mime": [
         "pdf"
        ],
        "packageNumber": 22
       },
       {
        "code": "N417",
        "date": "2023-04-06T10:45:10.000Z",
        "description": "Electronic Filing System(EFS) Acknowledgment Receipt",
        "id": "LG58CF0QGREENX3",
        "mime": [
         "pdf"
        ],
        "packageNumber": 22
       },
       {
        "code": "N417.PYMT",
        "date": "2023-04-05T19:07:52.000Z",
        "description": "Electronic Fee Payment",
        "id": "LG4AV1WTGREENX3",
        "mime": [
         "pdf"
        ],
        "packageNumber": 21
       },
       {
        "code": "IFEE",
        "date": "2023-04-05T19:07:52.000Z",
        "description": "Issue Fee Payment (PTO-85B)",
        "id": "LG4AV1WVGREENX3",
        "mime": [
         "pdf"
        ],
        "packageNumber": 21
       },
       {
        "code": "N417",
        "date": "2023-04-05T19:07:52.000Z",
        "description": "Electronic Filing System(EFS) Acknowledgment Receipt",
        "id": "LG4AV1WWGREENX3",
        "mime": [
         "pdf"
        ],
        "packageNumber": 21
       },
       {
        "code": "NOA",
        "date": "2023-01-11T00:00:00.000Z",
        "description": "Notice of Allowance and Fees Due (PTOL-85)",
        "id": "LCOW2M2XXBLUEX3",
        "mime": [
         "docx",
         "xml",
         "pdf"
        ],
        "packageNumber": 19
       },
       {
        "code": "SRFW",
        "date": "2023-01-11T00:00:00.000Z",
        "description": "Search information including classification, databases and other search related notes",
        "id": "LCOW2M2YXBLUEX3",
        "mime": [
         "pdf"
        ],
        "packageNumber": 19
       },
       {
        "code": "IIFW",
        "date": "2023-01-11T00:00:00.000Z",
        "description": "Issue Information including classification, examiner, name, claim, renumbering, etc.",
        "id": "LCOW2M2ZXBLUEX3",
        "mime": [
         "pdf"
        ],
        "packageNumber": 19
       },
       {
        "code": "SRNT",
        "date": "2023-01-11T00:00:00.000Z",
        "description": "Examiner's search strategy and results",
        "id": "LCOW2M30XBLUEX3",
        "mime": [
         "pdf"
        ],
        "packageNumber": 19
       },
       {
        "code": "A...",
        "date": "2022-10-28T16:01:09.000Z",
        "description": "Amendment/Request for Reconsideration-After Non-Final Rejection",
        "id": "L9SX6I51XBLUEX0",
        "mime": [
         "pdf"
        ],
        "packageNumber": 18
       },
       {
        "code": "CLM",
        "date": "2022-10-28T16:01:09.000Z",
        "description": "Claims",
        "id": "L9SX6I52XBLUEX0",
        "mime": [
         "pdf",
         "xml"
        ],
        "packageNumber": 18
       },
       {
        "code": "REM",
        "date": "2022-10-28T16:01:09.000Z",
        "description": "Applicant Arguments/Remarks Made in an Amendment",
        "id": "L9SX6I53XBLUEX0",
        "mime": [
         "pdf",
         "xml"
        ],
        "packageNumber": 18
       },
       {
        "code": "N417",
        "date": "2022-10-28T16:01:09.000Z",
        "description": "Electronic Filing System(EFS) Acknowledgment Receipt",
        "id": "L9SX6I54XBLUEX0",
        "mime": [
         "pdf"
        ],
        "packageNumber": 18
       },
       {
        "code": "EXIN",
        "date": "2022-10-06T00:00:00.000Z",
        "description": "Examiner Interview Summary Record (PTOL - 413)",
        "id": "L8UTY1GLXBLUEX0",
        "mime": [
         "pdf"
        ],
        "packageNumber": 16
       },
       {
        "code": "CTNF",
        "date": "2022-07-29T00:00:00.000Z",
        "description": "Non-Final Rejection",
        "id": "L63WGIKLXBLUEX2",
        "mime": [
         "docx",
         "xml",
         "pdf"
        ],
        "packageNumber": 14
       },
       {
        "code": "892",
        "date": "2022-07-29T00:00:00.000Z",
        "description": "List of references cited by examiner",
        "id": "L63WGIKNXBLUEX2",
        "mime": [
         "pdf"
        ],
        "packageNumber": 14
       },
       {
        "code": "SRFW",
        "date": "2022-07-29T00:00:00.000Z",
        "description": "Search information including classification, databases and other search related notes",
        "id": "L63WGIKOXBLUEX2",
        "mime": [
         "pdf"
        ],
        "packageNumber": 14
       },
       {
        "code": "1449",
        "date": "2022-07-29T00:00:00.000Z",
        "description": "List of References cited by applicant and considered by examiner",
        "id": "L63WGIKPXBLUEX2",
        "mime": [
         "pdf"
        ],
        "packageNumber": 14
       },
       {
        "code": "SRNT",
        "date": "2022-07-29T00:00:00.000Z",
        "description": "Examiner's search strategy and results",
        "id": "L63WGIKQXBLUEX2",
        "mime": [
         "pdf"
        ],
        "packageNumber": 14
       },
       {
        "code": "BIB",
        "date": "2022-07-29T00:00:00.000Z",
        "description": "Bibliographic Data Sheet",
        "id": "L63WGIKRXBLUEX2",
        "mime": [
         "pdf"
        ],
        "packageNumber": 14
       },
       {
        "code": "WFEE",
        "date": "2022-05-10T20:15:17.000Z",
        "description": "Fee Worksheet (SB06)",
        "id": "L36JQ1SKGREENX5",
        "mime": [
         "pdf"
        ],
        "packageNumber": 13
       },
       {
        "code": "ELC.",
        "date": "2022-05-10T09:27:28.000Z",
        "description": "Response to Election / Restriction Filed",
        "id": "L306TJN2GREENX5",
        "mime": [
         "pdf"
        ],
        "packageNumber": 12
       },
       {
        "code": "CLM",
        "date": "2022-05-10T09:27:28.000Z",
        "description": "Claims",
        "id": "L306TJN3GREENX5",
        "mime": [
         "pdf",
         "xml"
        ],
        "packageNumber": 12
       },
       {
        "code": "REM",
        "date": "2022-05-10T09:27:28.000Z",
        "description": "Applicant Arguments/Remarks Made in an Amendment",
        "id": "L306TJN4GREENX5",
        "mime": [
         "pdf",
         "xml"
        ],
        "packageNumber": 12
       },
       {
        "code": "N417",
        "date": "2022-05-10T09:27:28.000Z",
        "description": "Electronic Filing System(EFS) Acknowledgment Receipt",
        "id": "L306TJN5GREENX5",
        "mime": [
         "pdf"
        ],
        "packageNumber": 12
       },
       {
        "code": "CTRS",
        "date": "2022-03-15T10:58:33.000Z",
        "description": "Requirement for Restriction/Election",
        "id": "L0MLSQ3HXBLUEX1",
        "mime": [
         "docx",
         "xml",
         "pdf"
        ],
        "packageNumber": 10
       },
       {
        "code": "IDS",
        "date": "2021-06-29T10:43:06.000Z",
        "description": "Information Disclosure Statement (IDS) Form (SB08)",
        "id": "KQI5TNP1LDFLYX4",
        "mime": [
         "pdf",
         "xml"
        ],
        "packageNumber": 9
       },
       {
        "code": "NPL",
        "date": "2021-06-29T10:43:06.000Z",
        "description": "Non Patent Literature",
        "id": "KQI5TNP2LDFLYX4",
        "mime": [],
        "packageNumber": 9
       },
       {
        "code": "NPL",
        "date": "2021-06-29T10:43:06.000Z",
        "description": "Non Patent Literature",
        "id": "KQI5TNP3LDFLYX4",
        "mime": [],
        "packageNumber": 9
       },
       {
        "code": "REF.OTHER",
        "date": "2021-06-29T10:43:06.000Z",
        "description": "Other reference-Patent/Application/Search Documents",
        "id": "KQI5TNP4LDFLYX4",
        "mime": [
         "pdf"
        ],
        "packageNumber": 9
       },
       {
        "code": "N417",
        "date": "2021-06-29T10:43:06.000Z",
        "description": "Electronic Filing System(EFS) Acknowledgment Receipt",
        "id": "KQI5TNP5LDFLYX4",
        "mime": [
         "pdf"
        ],
        "packageNumber": 9
       },
       {
        "code": "NPL",
        "date": "2021-06-29T10:43:06.000Z",
        "description": "Non Patent Literature",
        "id": "KQI5TNP6LDFLYX4",
        "mime": [],
        "packageNumber": 9
       },
       {
        "code": "NPL",
        "date": "2021-06-29T10:43:06.000Z",
        "description": "Non Patent Literature",
        "id": "KQI5TNP7LDFLYX4",
        "mime": [],
        "packageNumber": 9
       },
       {
        "code": "NPL",
        "date": "2021-06-29T10:43:06.000Z",
        "description": "Non Patent Literature",
        "id": "KQI5TNP8LDFLYX4",
        "mime": [],
        "packageNumber": 9
       },
       {
        "code": "NTC.PUB",
        "date": "2021-05-06T15:59:11.000Z",
        "description": "Notice of Publication",
        "id": "KODBBZ6PDFLYX10",
        "mime": [
         "pdf"
        ],
        "packageNumber": 7
       },
       {
        "code": "OATH",
        "date": "2021-01-21T18:03:16.000Z",
        "description": "Oath or Declaration filed",
        "id": "KK7GO92TDFLYX11",
        "mime": [
         "pdf"
        ],
        "packageNumber": 6
       },
       {
        "code": "N417",
        "date": "2021-01-21T18:03:16.000Z",
        "description": "Electronic Filing System(EFS) Acknowledgment Receipt",
        "id": "KK7GO92UDFLYX11",
        "mime": [
         "pdf"
        ],
        "packageNumber": 6
       },
       {
        "code": "APP.FILE.REC",
        "date": "2020-11-06T13:51:52.000Z",
        "description": "Filing Receipt",
        "id": "KH56SCOMDFLYX11",
        "mime": [
         "pdf"
        ],
        "packageNumber": 4
       },
       {
        "code": "WFEE",
        "date": "2020-11-06T13:51:50.000Z",
        "description": "Fee Worksheet (SB06)",
        "id": "KH56SB4LLDFLYX4",
        "mime": [
         "pdf"
        ],
        "packageNumber": 3
       },
       {
        "code": "M327",
        "date": "2020-11-06T13:51:49.000Z",
        "description": "Miscellaneous Communication to Applicant - No Action Count",
        "id": "KH56SA9YDFLYX10",
        "mime": [
         "pdf"
        ],
        "packageNumber": 2
       },
       {
        "code": "PA..",
        "date": "2020-10-28T16:19:56.000Z",
        "description": "Power of Attorney",
        "id": "KGTUEUVHLDFLYX5",
        "mime": [
         "pdf"
        ],
        "packageNumber": 1
       },
       {
        "code": "DRW",
        "date": "2020-10-28T16:19:56.000Z",
        "description": "Drawings-only black and white line drawings",
        "id": "KGTUEUVILDFLYX5",
        "mime": [
         "pdf"
        ],
        "packageNumber": 1
       },
       {
        "code": "TRAN.LET",
        "date": "2020-10-28T16:19:56.000Z",
        "description": "Transmittal Letter",
        "id": "KGTUEUVJLDFLYX5",
        "mime": [
         "pdf"
        ],
        "packageNumber": 1
       },
       {
        "code": "N417.PYMT",
        "date": "2020-10-28T16:19:56.000Z",
        "description": "Electronic Fee Payment",
        "id": "KGTUEUVKLDFLYX5",
        "mime": [
         "pdf"
        ],
        "packageNumber": 1
       },
       {
        "code": "SPEC",
        "date": "2020-10-28T16:19:56.000Z",
        "description": "Specification",
        "id": "KGTUEUVLLDFLYX5",
        "mime": [
         "pdf",
         "xml"
        ],
        "packageNumber": 1
       },
       {
        "code": "ADS",
        "date": "2020-10-28T16:19:56.000Z",
        "description": "Application Data Sheet",
        "id": "KGTUEUVMLDFLYX5",
        "mime": [
         "pdf"
        ],
        "packageNumber": 1
       },
       {
        "code": "CLM",
        "date": "2020-10-28T16:19:56.000Z",
        "description": "Claims",
        "id": "KGTUEUVNLDFLYX5",
        "mime": [
         "pdf",
         "xml"
        ],
        "packageNumber": 1
       },
       {
        "code": "ABST",
        "date": "2020-10-28T16:19:56.000Z",
        "description": "Abstract",
        "id": "KGTUEUVOLDFLYX5",
        "mime": [
         "pdf",
         "xml"
        ],
        "packageNumber": 1
       },
       {
        "code": "N417",
        "date": "2020-10-28T16:19:56.000Z",
        "description": "Electronic Filing System(EFS) Acknowledgment Receipt",
        "id": "KGTUEUVPLDFLYX5",
        "mime": [
         "pdf"
        ],
        "packageNumber": 1
       }
      ],
      "text/plain": [
       "<IPython.core.display.JSON object>"
      ]
     },
     "execution_count": 30,
     "metadata": {
      "application/json": {
       "expanded": false,
       "root": "root"
      }
     },
     "output_type": "execute_result"
    }
   ],
   "source": [
    "JSON(docList)"
   ]
  },
  {
   "cell_type": "code",
   "execution_count": 31,
   "id": "c7e4e141",
   "metadata": {},
   "outputs": [],
   "source": [
    "OAs = [doc for doc in file_urls[\"documents\"] \n",
    "       if doc[\"code\"]==\"CTNF\" or doc[\"code\"]==\"CTFR\"]"
   ]
  },
  {
   "cell_type": "code",
   "execution_count": 32,
   "id": "71741f09-a713-4588-8a23-1d8d3fe501dd",
   "metadata": {},
   "outputs": [
    {
     "data": {
      "application/json": [
       {
        "code": "CTNF",
        "date": "2022-07-29T00:00:00.000Z",
        "description": "Non-Final Rejection",
        "id": "L63WGIKLXBLUEX2",
        "mime": [
         "docx",
         "xml",
         "pdf"
        ],
        "packageNumber": 14
       }
      ],
      "text/plain": [
       "<IPython.core.display.JSON object>"
      ]
     },
     "execution_count": 32,
     "metadata": {
      "application/json": {
       "expanded": false,
       "root": "root"
      }
     },
     "output_type": "execute_result"
    }
   ],
   "source": [
    "JSON(OAs)"
   ]
  },
  {
   "cell_type": "code",
   "execution_count": 33,
   "id": "07bf79ee-4f67-48f2-976b-3030819647de",
   "metadata": {},
   "outputs": [],
   "source": [
    "CLMs = [doc for doc in docList if doc[\"code\"]==\"CLM\"]\n"
   ]
  },
  {
   "cell_type": "code",
   "execution_count": 34,
   "id": "d39fa9d6",
   "metadata": {},
   "outputs": [
    {
     "data": {
      "application/json": [
       {
        "code": "CLM",
        "date": "2022-10-28T16:01:09.000Z",
        "description": "Claims",
        "id": "L9SX6I52XBLUEX0",
        "mime": [
         "pdf",
         "xml"
        ],
        "packageNumber": 18
       },
       {
        "code": "CLM",
        "date": "2022-05-10T09:27:28.000Z",
        "description": "Claims",
        "id": "L306TJN3GREENX5",
        "mime": [
         "pdf",
         "xml"
        ],
        "packageNumber": 12
       },
       {
        "code": "CLM",
        "date": "2020-10-28T16:19:56.000Z",
        "description": "Claims",
        "id": "KGTUEUVNLDFLYX5",
        "mime": [
         "pdf",
         "xml"
        ],
        "packageNumber": 1
       }
      ],
      "text/plain": [
       "<IPython.core.display.JSON object>"
      ]
     },
     "execution_count": 34,
     "metadata": {
      "application/json": {
       "expanded": false,
       "root": "root"
      }
     },
     "output_type": "execute_result"
    }
   ],
   "source": [
    "JSON(CLMs)"
   ]
  },
  {
   "cell_type": "code",
   "execution_count": 35,
   "id": "08deb6fd-9794-4000-aed8-9a07777f3fce",
   "metadata": {},
   "outputs": [],
   "source": [
    "def getPreviousClaims(oa, claims):\n",
    "    threshold_date = datetime.strptime(oa[\"date\"], \"%Y-%m-%dT%H:%M:%S.%fZ\")\n",
    "    sorted_claims = sorted(claims, key=lambda x: datetime.strptime(x[\"date\"],\n",
    "                            \"%Y-%m-%dT%H:%M:%S.%fZ\"), reverse=True)\n",
    "    for clm in sorted_claims:\n",
    "        clm_date = datetime.strptime(clm[\"date\"], \"%Y-%m-%dT%H:%M:%S.%fZ\")\n",
    "        if clm_date < threshold_date:\n",
    "            return clm"
   ]
  },
  {
   "cell_type": "code",
   "execution_count": 36,
   "id": "89968a55-f6cc-4ccc-997b-928af5c909fc",
   "metadata": {},
   "outputs": [],
   "source": [
    "def download_file(name):\n",
    "    try:\n",
    "        response = requests.get(api_endpoint+application+\"/documents/\" + \n",
    "                                name, headers=headers)\n",
    "        response.raise_for_status()\n",
    "\n",
    "    except requests.exceptions.HTTPError as e:\n",
    "        print(f\"An HTTP error occurred: {e}\")\n",
    "    \n",
    "    return response.content"
   ]
  },
  {
   "cell_type": "code",
   "execution_count": 37,
   "id": "81ecfc3e-4eb9-47c8-8bb5-cd51e04f8653",
   "metadata": {},
   "outputs": [],
   "source": [
    "def save_binary(folder, name, content):\n",
    "    with open(folder + \"/\" + name, \"wb\") as f:\n",
    "        f.write(content)"
   ]
  },
  {
   "cell_type": "code",
   "execution_count": 38,
   "id": "3474e0ea-91ac-4571-8413-55590c8908a4",
   "metadata": {},
   "outputs": [],
   "source": [
    "def save_json(folder, name, content):\n",
    "    type(content)\n",
    "    if isinstance(content, bytes):\n",
    "        content = base64.b64encode(content).decode('utf-8')\n",
    "    with open(folder + \"/\" + name + \".json\", \"w\") as f:\n",
    "        json.dump(content, f, indent=4)"
   ]
  },
  {
   "cell_type": "code",
   "execution_count": 39,
   "id": "b2385a74-4b24-4088-9b09-857c0645d6df",
   "metadata": {},
   "outputs": [],
   "source": [
    "def save_pdf(folder, name, content):\n",
    "    with open(folder + \"/\" + name + \".pdf\", \"wb\") as f:\n",
    "        f.write(content)"
   ]
  },
  {
   "cell_type": "code",
   "execution_count": 40,
   "id": "5b6bc05c-2d4a-4eb2-8d8a-722159ab06a9",
   "metadata": {},
   "outputs": [],
   "source": [
    "def analyze_oa(oa_artifact, clm_artifact):\n",
    "    payload = {\"artifacts\": [oa_artifact, clm_artifact]}\n",
    "    save_json(output_folder, \"request_body\", payload)\n",
    "    \n",
    "    headers = {\n",
    "        \"Authorization\": f\"Bearer {staging_bearer_token}\"\n",
    "    }\n",
    "    \n",
    "    try:\n",
    "        response = requests.post(analyze_oa_url, json=payload, headers=headers)\n",
    "        response.raise_for_status()\n",
    "        \n",
    "    except requests.exceptions.HTTPError as e:\n",
    "        print(f\"An HTTP error occurred: {e}\")\n",
    "    save_json(output_folder, \"current_context\", response.json())    \n",
    "    return response"
   ]
  },
  {
   "cell_type": "code",
   "execution_count": 41,
   "id": "0bc14519-3e05-4185-ad93-93f6d254a01f",
   "metadata": {},
   "outputs": [],
   "source": [
    "for OA in OAs[:1]:\n",
    "    oa_date_str = OA[\"date\"].split('T')[0]\n",
    "    output_folder = (root_folder + \"/\" + application + \n",
    "                    \"-\" + oa_date_str + \"-\" + OA[\"code\"])\n",
    "    os.makedirs(output_folder, exist_ok=True)\n",
    "    \n",
    "    oa = download_file(OA[\"id\"] + \".xml\")\n",
    "    save_binary(output_folder, oa_date_str + \n",
    "         \"-\" + OA[\"code\"] + \".xml\", oa)\n",
    "\n",
    "    oapdf = download_file(OA[\"id\"] + \".pdf\")\n",
    "    save_binary(output_folder, oa_date_str + \n",
    "         \"-\" + OA[\"code\"] + \".pdf\", oapdf)\n",
    " \n",
    "    CLM = getPreviousClaims(OA, CLMs)\n",
    "    \n",
    "    clm = download_file(CLM[\"id\"] + \".xml\")\n",
    "    save_binary(output_folder, CLM[\"date\"].split('T')[0] + \n",
    "             \"-\" + CLM[\"code\"] + \".xml\", clm)\n",
    "    \n",
    "    clmpdf = download_file(CLM[\"id\"] + \".pdf\")\n",
    "    save_binary(output_folder, CLM[\"date\"].split('T')[0] + \n",
    "             \"-\" + CLM[\"code\"] + \".pdf\", clmpdf)\n",
    "\n",
    "    oa64 = base64.b64encode(oa).decode('utf-8')\n",
    "    clm64 = base64.b64encode(clm).decode('utf-8')\n",
    "\n",
    "    context = analyze_oa({\"type\": \"oaxml\", \"base64\": oa64}, \n",
    "               {\"type\": \"clmxml\", \"base64\": clm64})\n"
   ]
  },
  {
   "cell_type": "code",
   "execution_count": 42,
   "id": "af575ef6-d9d0-4e97-a6f7-da21a1148637",
   "metadata": {
    "scrolled": true
   },
   "outputs": [
    {
     "data": {
      "application/json": {
       "allowable": [],
       "allowed": [],
       "claims": [
        {
         "claimNumber": 1,
         "claimType": 0,
         "deviceName": {
          "acronym": "UE",
          "length": 14,
          "location": "preamble",
          "offset": 61,
          "originalText": "user equipment",
          "text": "user equipment"
         },
         "independentClaim": true,
         "independentParent": null,
         "limitations": [
          {
           "documentOrigin": {
            "end": 270,
            "paragraphHash": null,
            "paragraphId": null,
            "paragraphIndex": 13,
            "start": 0
           },
           "indentation": 0,
           "limitations": [],
           "origin": {
            "order": 0,
            "paragraphIndex": 1,
            "place": "limitationParagraph",
            "startsNewParagraph": true
           },
           "originalText": "receiving a signaling message that indicates one or more indicated component carrier sets, wherein the one or more indicated component carrier sets each include a component carrier group associated with joint transmission configuration indication (TCI) state activation;",
           "processStep": {
            "directObject": "a signaling message that indicates one or more indicated component carrier sets, wherein the one or more indicated component carrier sets each include a component carrier group associated with joint transmission configuration indication (TCI) state activation;",
            "verbPhrase": {
             "gerund": "receiving",
             "infinitive": "receive",
             "original": "receiving",
             "past": "received"
            }
           },
           "status": 0,
           "statusText": "Success",
           "text": "receiving a signaling message that indicates one or more indicated component carrier sets, wherein the one or more indicated component carrier sets each include a component carrier group associated with joint transmission configuration indication (TCI) state activation;"
          },
          {
           "documentOrigin": {
            "end": 259,
            "paragraphHash": null,
            "paragraphId": null,
            "paragraphIndex": 14,
            "start": 0
           },
           "indentation": 0,
           "limitations": [],
           "origin": {
            "order": 0,
            "paragraphIndex": 2,
            "place": "limitationParagraph",
            "startsNewParagraph": true
           },
           "originalText": "receiving a beam update command that identifies an individual component carrier and a TCJ state to activate for the individual component carrier, wherein the individual component carrier is not included in the one or more indicated component carrier sets; and",
           "processStep": {
            "directObject": "a beam update command that identifies an individual component carrier and a TCJ state to activate for the individual component carrier, wherein the individual component carrier is not included in the one or more indicated component carrier sets; and",
            "verbPhrase": {
             "gerund": "receiving",
             "infinitive": "receive",
             "original": "receiving",
             "past": "received"
            }
           },
           "status": 0,
           "statusText": "Success",
           "text": "receiving a beam update command that identifies an individual component carrier and a TCJ state to activate for the individual component carrier, wherein the individual component carrier is not included in the one or more indicated component carrier sets; and"
          },
          {
           "documentOrigin": {
            "end": 359,
            "paragraphHash": null,
            "paragraphId": null,
            "paragraphIndex": 15,
            "start": 0
           },
           "indentation": 0,
           "limitations": [],
           "origin": {
            "order": 0,
            "paragraphIndex": 3,
            "place": "limitationParagraph",
            "startsNewParagraph": true
           },
           "originalText": "applying the beam update command to a set of one or more component carriers that includes at least the individual component carrier, wherein the individual component carrier is included in the set of one or more component carriers based at least in part on the individual component carrier not being in any of the one or more indicated component carrier sets.",
           "processStep": {
            "directObject": "the beam update command to a set of one or more component carriers that includes at least the individual component carrier, wherein the individual component carrier is included in the set of one or more component carriers based at least in part on the individual component carrier not being in any of the one or more indicated component carrier sets.",
            "verbPhrase": {
             "gerund": "applying",
             "infinitive": "apply",
             "original": "applying",
             "past": "applied"
            }
           },
           "status": 0,
           "statusText": "Success",
           "text": "applying the beam update command to a set of one or more component carriers that includes at least the individual component carrier, wherein the individual component carrier is included in the set of one or more component carriers based at least in part on the individual component carrier not being in any of the one or more indicated component carrier sets."
          }
         ],
         "parentClaimNumbers": [],
         "preamble": {
          "documentOrigin": {
           "end": 99,
           "paragraphHash": null,
           "paragraphId": null,
           "paragraphIndex": 12,
           "start": 6
          },
          "origin": {
           "order": 0,
           "paragraphIndex": 0,
           "place": "preambleParagraph",
           "startsNewParagraph": true
          },
          "originalText": "(Original) A method of wireless communication performed by a user equipment (UE), comprising:",
          "text": "A method of wireless communication performed by a user equipment (UE), comprising:"
         },
         "status": 0,
         "statusIndicator": 5,
         "statusText": "Success"
        },
        {
         "claimNumber": 2,
         "claimType": 0,
         "deviceName": {},
         "independentClaim": false,
         "independentParent": 1,
         "limitations": [
          {
           "documentOrigin": {
            "end": 310,
            "paragraphHash": null,
            "paragraphId": null,
            "paragraphIndex": 18,
            "start": 40
           },
           "indentation": 0,
           "limitations": [],
           "origin": {
            "order": 1,
            "paragraphIndex": 0,
            "place": "preambleParagraph",
            "startsNewParagraph": false
           },
           "originalText": "wherein the UE is associated with one or more serving cells, and wherein each of the one or more serving cells is associated with a component carrier that is included in the component carrier group associated with one of the one or more indicated component carrier sets.",
           "status": 0,
           "statusText": "Success",
           "text": "wherein the UE is associated with one or more serving cells, and wherein each of the one or more serving cells is associated with a component carrier that is included in the component carrier group associated with one of the one or more indicated component carrier sets.",
           "whereinClause": {
            "addingProcessStep": false,
            "isComplete": true,
            "modifyingProcessStep": false,
            "unparsedPhrase": "the UE is associated with one or more serving cells, and wherein each of the one or more serving cells is associated with a component carrier that is included in the component carrier group associated with one of the one or more indicated component carrier sets.",
            "warning": "We might not have parsed this limitation correctly",
            "whereinIndicator": "wherein"
           }
          }
         ],
         "parentClaimNumbers": [
          1
         ],
         "preamble": {
          "documentOrigin": {
           "end": 39,
           "paragraphHash": null,
           "paragraphId": null,
           "paragraphIndex": 18,
           "start": 6
          },
          "origin": {
           "order": 0,
           "paragraphIndex": 0,
           "place": "preambleParagraph",
           "startsNewParagraph": true
          },
          "originalText": "(Original) The method of claim 1,",
          "text": "The method of claim 1,"
         },
         "status": 0,
         "statusIndicator": 5,
         "statusText": "Success"
        },
        {
         "claimNumber": 3,
         "claimType": 0,
         "deviceName": {},
         "independentClaim": false,
         "independentParent": 1,
         "limitations": [
          {
           "documentOrigin": {
            "end": 219,
            "paragraphHash": null,
            "paragraphId": null,
            "paragraphIndex": 23,
            "start": 40
           },
           "indentation": 0,
           "limitations": [],
           "origin": {
            "order": 1,
            "paragraphIndex": 0,
            "place": "preambleParagraph",
            "startsNewParagraph": false
           },
           "originalText": "wherein the set of one or more component carriers to which the beam update command is applied includes only the individual component carrier identified in the beam update command.",
           "status": 0,
           "statusText": "Success",
           "text": "wherein the set of one or more component carriers to which the beam update command is applied includes only the individual component carrier identified in the beam update command.",
           "whereinClause": {
            "addedLimitationPhrase": "only the individual component carrier identified in the beam update command.",
            "addingProcessStep": false,
            "isComplete": true,
            "modifyingProcessStep": false,
            "referencedTerm": "the set of one or more component carriers to which the beam update command is applied",
            "transitionalPhrase": "includes",
            "whereinIndicator": "wherein"
           }
          }
         ],
         "parentClaimNumbers": [
          1
         ],
         "preamble": {
          "documentOrigin": {
           "end": 39,
           "paragraphHash": null,
           "paragraphId": null,
           "paragraphIndex": 23,
           "start": 6
          },
          "origin": {
           "order": 0,
           "paragraphIndex": 0,
           "place": "preambleParagraph",
           "startsNewParagraph": true
          },
          "originalText": "(Original) The method of claim 1,",
          "text": "The method of claim 1,"
         },
         "status": 0,
         "statusIndicator": 5,
         "statusText": "Success"
        },
        {
         "claimNumber": 4,
         "claimType": 0,
         "deviceName": {},
         "independentClaim": false,
         "independentParent": 1,
         "limitations": [
          {
           "documentOrigin": {
            "end": 299,
            "paragraphHash": null,
            "paragraphId": null,
            "paragraphIndex": 26,
            "start": 40
           },
           "indentation": 0,
           "limitations": [],
           "origin": {
            "order": 1,
            "paragraphIndex": 0,
            "place": "preambleParagraph",
            "startsNewParagraph": false
           },
           "originalText": "wherein the beam update command is applied to only the individual component carrier identified in the beam update command based at least in part on the individual component carrier not being included in any of the one or more indicated component carrier sets.",
           "status": 0,
           "statusText": "Success",
           "text": "wherein the beam update command is applied to only the individual component carrier identified in the beam update command based at least in part on the individual component carrier not being included in any of the one or more indicated component carrier sets.",
           "whereinClause": {
            "addingProcessStep": false,
            "isComplete": true,
            "modifyingProcessStep": false,
            "unparsedPhrase": "the beam update command is applied to only the individual component carrier identified in the beam update command based at least in part on the individual component carrier not being included in any of the one or more indicated component carrier sets.",
            "whereinIndicator": "wherein"
           }
          }
         ],
         "parentClaimNumbers": [
          3
         ],
         "preamble": {
          "documentOrigin": {
           "end": 39,
           "paragraphHash": null,
           "paragraphId": null,
           "paragraphIndex": 26,
           "start": 6
          },
          "origin": {
           "order": 0,
           "paragraphIndex": 0,
           "place": "preambleParagraph",
           "startsNewParagraph": true
          },
          "originalText": "(Original) The method of claim 3,",
          "text": "The method of claim 3,"
         },
         "status": 0,
         "statusIndicator": 5,
         "statusText": "Success"
        },
        {
         "claimNumber": 5,
         "claimType": 0,
         "deviceName": {},
         "independentClaim": false,
         "independentParent": 1,
         "limitations": [
          {
           "documentOrigin": {
            "end": 272,
            "paragraphHash": null,
            "paragraphId": null,
            "paragraphIndex": 29,
            "start": 40
           },
           "indentation": 0,
           "limitations": [],
           "origin": {
            "order": 1,
            "paragraphIndex": 0,
            "place": "preambleParagraph",
            "startsNewParagraph": false
           },
           "originalText": "wherein the signaling message that indicates the one or more indicated component carrier sets is a radio resource control signaling message, and wherein the beam update command is included in a medium access control control element.",
           "status": 0,
           "statusText": "Success",
           "text": "wherein the signaling message that indicates the one or more indicated component carrier sets is a radio resource control signaling message, and wherein the beam update command is included in a medium access control control element.",
           "whereinClause": {
            "addingProcessStep": false,
            "isComplete": true,
            "modifyingProcessStep": false,
            "unparsedPhrase": "the signaling message that indicates the one or more indicated component carrier sets is a radio resource control signaling message, and wherein the beam update command is included in a medium access control control element.",
            "warning": "We might not have parsed this limitation correctly",
            "whereinIndicator": "wherein"
           }
          }
         ],
         "parentClaimNumbers": [
          1
         ],
         "preamble": {
          "documentOrigin": {
           "end": 39,
           "paragraphHash": null,
           "paragraphId": null,
           "paragraphIndex": 29,
           "start": 6
          },
          "origin": {
           "order": 0,
           "paragraphIndex": 0,
           "place": "preambleParagraph",
           "startsNewParagraph": true
          },
          "originalText": "(Original) The method of claim 1,",
          "text": "The method of claim 1,"
         },
         "status": 0,
         "statusIndicator": 5,
         "statusText": "Success"
        },
        {
         "claimNumber": 19,
         "claimType": 0,
         "deviceName": {},
         "independentClaim": true,
         "independentParent": null,
         "limitations": [
          {
           "documentOrigin": {
            "end": 11,
            "paragraphHash": null,
            "paragraphId": null,
            "paragraphIndex": 36,
            "start": 0
           },
           "indentation": 0,
           "limitations": [],
           "origin": {
            "order": 0,
            "paragraphIndex": 1,
            "place": "limitationParagraph",
            "startsNewParagraph": true
           },
           "originalText": "memory; and",
           "status": 0,
           "statusText": "Success",
           "text": "memory; and"
          },
          {
           "documentOrigin": {
            "end": 45,
            "paragraphHash": null,
            "paragraphId": null,
            "paragraphIndex": 37,
            "start": 0
           },
           "indentation": 0,
           "limitations": [
            {
             "documentOrigin": {
              "end": 160,
              "paragraphHash": null,
              "paragraphId": null,
              "paragraphIndex": 38,
              "start": 0
             },
             "indentation": 1,
             "limitations": [
              {
               "documentOrigin": {
                "end": 110,
                "paragraphHash": null,
                "paragraphId": null,
                "paragraphIndex": 40,
                "start": 3
               },
               "indentation": 2,
               "limitations": [],
               "origin": {
                "order": 0,
                "paragraphIndex": 4,
                "place": "limitationParagraph",
                "startsNewParagraph": true
               },
               "originalText": "component carrier group associated with joint transmission configuration indication (TCI) state activation;",
               "processStep": {
                "directObject": "carrier group associated with joint transmission configuration indication (TCI) state activation;",
                "verbPhrase": {
                 "gerund": "",
                 "infinitive": "",
                 "original": "component",
                 "past": ""
                }
               },
               "status": 0,
               "statusText": "Success",
               "text": "component carrier group associated with joint transmission configuration indication (TCI) state activation;"
              }
             ],
             "origin": {
              "order": 0,
              "paragraphIndex": 3,
              "place": "limitationParagraph",
              "startsNewParagraph": true
             },
             "originalText": "receive a signaling message that indicates one or more indicated component carrier sets, wherein the one or more indicated component carrier sets each include a",
             "processStep": {
              "directObject": "a signaling message that indicates one or more indicated component carrier sets, wherein the one or more indicated component carrier sets each include a",
              "verbPhrase": {
               "gerund": "receiving",
               "infinitive": "receive",
               "original": "receive",
               "past": "received"
              }
             },
             "status": 0,
             "statusText": "Success",
             "text": "receive a signaling message that indicates one or more indicated component carrier sets, wherein the one or more indicated component carrier sets each include a"
            }
           ],
           "origin": {
            "order": 0,
            "paragraphIndex": 2,
            "place": "limitationParagraph",
            "startsNewParagraph": true
           },
           "originalText": "one or more processors coupled to the memory,",
           "status": 0,
           "statusText": "Success",
           "text": "one or more processors coupled to the memory,"
          },
          {
           "documentOrigin": {
            "end": 253,
            "paragraphHash": null,
            "paragraphId": null,
            "paragraphIndex": 41,
            "start": 0
           },
           "indentation": 0,
           "limitations": [],
           "origin": {
            "order": 0,
            "paragraphIndex": 5,
            "place": "limitationParagraph",
            "startsNewParagraph": true
           },
           "originalText": "receive a beam update command that identifies an individual component carrier and a TCI state to activate for the individual component carrier, wherein the individual component carrier is not included in the one or more indicated component carrier sets;",
           "status": 0,
           "statusText": "Success",
           "text": "receive a beam update command that identifies an individual component carrier and a TCI state to activate for the individual component carrier, wherein the individual component carrier is not included in the one or more indicated component carrier sets;"
          },
          {
           "documentOrigin": {
            "end": 360,
            "paragraphHash": null,
            "paragraphId": null,
            "paragraphIndex": 42,
            "start": 0
           },
           "indentation": 0,
           "limitations": [],
           "origin": {
            "order": 0,
            "paragraphIndex": 6,
            "place": "limitationParagraph",
            "startsNewParagraph": true
           },
           "originalText": "and apply the beam update command to a set of one or more component carriers that includes at least the individual component carrier, wherein the individual component carrier is included in the set of one or more component carriers based at least in part on the individual component carrier not being in any of the one or more indicated component carrier sets.",
           "status": 0,
           "statusText": "Success",
           "text": "and apply the beam update command to a set of one or more component carriers that includes at least the individual component carrier, wherein the individual component carrier is included in the set of one or more component carriers based at least in part on the individual component carrier not being in any of the one or more indicated component carrier sets."
          }
         ],
         "parentClaimNumbers": [],
         "preamble": {
          "documentOrigin": {
           "end": 87,
           "paragraphHash": null,
           "paragraphId": null,
           "paragraphIndex": 35,
           "start": 6
          },
          "origin": {
           "order": 0,
           "paragraphIndex": 0,
           "place": "preambleParagraph",
           "startsNewParagraph": true
          },
          "originalText": "(Currently Amended) A user equipment (UE) for wireless communication, comprising:",
          "text": "A user equipment (UE) for wireless communication, comprising:"
         },
         "status": 0,
         "statusIndicator": 1,
         "statusText": "Success"
        },
        {
         "claimNumber": 20,
         "claimType": 0,
         "deviceName": {},
         "independentClaim": false,
         "independentParent": 19,
         "limitations": [
          {
           "documentOrigin": {
            "end": 307,
            "paragraphHash": null,
            "paragraphId": null,
            "paragraphIndex": 45,
            "start": 37
           },
           "indentation": 0,
           "limitations": [],
           "origin": {
            "order": 1,
            "paragraphIndex": 0,
            "place": "preambleParagraph",
            "startsNewParagraph": false
           },
           "originalText": "wherein the UE is associated with one or more serving cells, and wherein each of the one or more serving cells is associated with a component carrier that is included in the component carrier group associated with one of the one or more indicated component carrier sets.",
           "status": 0,
           "statusText": "Success",
           "text": "wherein the UE is associated with one or more serving cells, and wherein each of the one or more serving cells is associated with a component carrier that is included in the component carrier group associated with one of the one or more indicated component carrier sets.",
           "whereinClause": {
            "addingProcessStep": false,
            "isComplete": true,
            "modifyingProcessStep": false,
            "unparsedPhrase": "the UE is associated with one or more serving cells, and wherein each of the one or more serving cells is associated with a component carrier that is included in the component carrier group associated with one of the one or more indicated component carrier sets.",
            "warning": "We might not have parsed this limitation correctly",
            "whereinIndicator": "wherein"
           }
          }
         ],
         "parentClaimNumbers": [
          19
         ],
         "preamble": {
          "documentOrigin": {
           "end": 36,
           "paragraphHash": null,
           "paragraphId": null,
           "paragraphIndex": 45,
           "start": 6
          },
          "origin": {
           "order": 0,
           "paragraphIndex": 0,
           "place": "preambleParagraph",
           "startsNewParagraph": true
          },
          "originalText": "(Original) The UE of claim 19,",
          "text": "The UE of claim 19,"
         },
         "status": 0,
         "statusIndicator": 5,
         "statusText": "Success"
        },
        {
         "claimNumber": 21,
         "claimType": 0,
         "deviceName": {},
         "independentClaim": false,
         "independentParent": 19,
         "limitations": [
          {
           "documentOrigin": {
            "end": 216,
            "paragraphHash": null,
            "paragraphId": null,
            "paragraphIndex": 48,
            "start": 37
           },
           "indentation": 0,
           "limitations": [],
           "origin": {
            "order": 1,
            "paragraphIndex": 0,
            "place": "preambleParagraph",
            "startsNewParagraph": false
           },
           "originalText": "wherein the set of one or more component carriers to which the beam update command is applied includes only the individual component carrier identified in the beam update command.",
           "status": 0,
           "statusText": "Success",
           "text": "wherein the set of one or more component carriers to which the beam update command is applied includes only the individual component carrier identified in the beam update command.",
           "whereinClause": {
            "addedLimitationPhrase": "only the individual component carrier identified in the beam update command.",
            "addingProcessStep": false,
            "isComplete": true,
            "modifyingProcessStep": false,
            "referencedTerm": "the set of one or more component carriers to which the beam update command is applied",
            "transitionalPhrase": "includes",
            "whereinIndicator": "wherein"
           }
          }
         ],
         "parentClaimNumbers": [
          19
         ],
         "preamble": {
          "documentOrigin": {
           "end": 36,
           "paragraphHash": null,
           "paragraphId": null,
           "paragraphIndex": 48,
           "start": 6
          },
          "origin": {
           "order": 0,
           "paragraphIndex": 0,
           "place": "preambleParagraph",
           "startsNewParagraph": true
          },
          "originalText": "(Original) The UE of claim 19,",
          "text": "The UE of claim 19,"
         },
         "status": 0,
         "statusIndicator": 5,
         "statusText": "Success"
        },
        {
         "claimNumber": 22,
         "claimType": 0,
         "deviceName": {},
         "independentClaim": false,
         "independentParent": 19,
         "limitations": [
          {
           "documentOrigin": {
            "end": 181,
            "paragraphHash": null,
            "paragraphId": null,
            "paragraphIndex": 51,
            "start": 37
           },
           "indentation": 0,
           "limitations": [
            {
             "documentOrigin": {
              "end": 117,
              "paragraphHash": null,
              "paragraphId": null,
              "paragraphIndex": 52,
              "start": 3
             },
             "indentation": 1,
             "limitations": [],
             "origin": {
              "order": 0,
              "paragraphIndex": 1,
              "place": "limitationParagraph",
              "startsNewParagraph": true
             },
             "originalText": "on the individual component carrier not being included in any of the one or more indicated component carrier sets.",
             "status": 0,
             "statusText": "Success",
             "text": "on the individual component carrier not being included in any of the one or more indicated component carrier sets."
            }
           ],
           "origin": {
            "order": 1,
            "paragraphIndex": 0,
            "place": "preambleParagraph",
            "startsNewParagraph": false
           },
           "originalText": "wherein the beam update command is applied to only the individual component carrier identified in the beam update command based at least in part",
           "status": 0,
           "statusText": "Success",
           "text": "wherein the beam update command is applied to only the individual component carrier identified in the beam update command based at least in part",
           "whereinClause": {
            "addingProcessStep": false,
            "isComplete": false,
            "modifyingProcessStep": false,
            "unparsedPhrase": "the beam update command is applied to only the individual component carrier identified in the beam update command based at least in part",
            "whereinIndicator": "wherein"
           }
          }
         ],
         "parentClaimNumbers": [
          21
         ],
         "preamble": {
          "documentOrigin": {
           "end": 36,
           "paragraphHash": null,
           "paragraphId": null,
           "paragraphIndex": 51,
           "start": 6
          },
          "origin": {
           "order": 0,
           "paragraphIndex": 0,
           "place": "preambleParagraph",
           "startsNewParagraph": true
          },
          "originalText": "(Original) The UE of claim 21,",
          "text": "The UE of claim 21,"
         },
         "status": 0,
         "statusIndicator": 5,
         "statusText": "Success"
        },
        {
         "claimNumber": 23,
         "claimType": 0,
         "deviceName": {},
         "independentClaim": false,
         "independentParent": 19,
         "limitations": [
          {
           "documentOrigin": {
            "end": 181,
            "paragraphHash": null,
            "paragraphId": null,
            "paragraphIndex": 55,
            "start": 37
           },
           "indentation": 0,
           "limitations": [
            {
             "documentOrigin": {
              "end": 87,
              "paragraphHash": null,
              "paragraphId": null,
              "paragraphIndex": 56,
              "start": 0
             },
             "indentation": 1,
             "limitations": [],
             "origin": {
              "order": 0,
              "paragraphIndex": 1,
              "place": "limitationParagraph",
              "startsNewParagraph": true
             },
             "originalText": "wherein the beam update command is included in a medium access control control element.",
             "status": 0,
             "statusText": "Success",
             "text": "wherein the beam update command is included in a medium access control control element.",
             "whereinClause": {
              "addingProcessStep": false,
              "isComplete": true,
              "modifyingProcessStep": false,
              "unparsedPhrase": "the beam update command is included in a medium access control control element.",
              "whereinIndicator": "wherein"
             }
            }
           ],
           "origin": {
            "order": 1,
            "paragraphIndex": 0,
            "place": "preambleParagraph",
            "startsNewParagraph": false
           },
           "originalText": "wherein the signaling message that indicates the one or more indicated component carrier sets is a radio resource control signaling message, and",
           "status": 0,
           "statusText": "Success",
           "text": "wherein the signaling message that indicates the one or more indicated component carrier sets is a radio resource control signaling message, and",
           "whereinClause": {
            "addingProcessStep": false,
            "isComplete": false,
            "modifyingProcessStep": false,
            "unparsedPhrase": "the signaling message that indicates the one or more indicated component carrier sets is a radio resource control signaling message, and",
            "whereinIndicator": "wherein"
           }
          }
         ],
         "parentClaimNumbers": [
          19
         ],
         "preamble": {
          "documentOrigin": {
           "end": 36,
           "paragraphHash": null,
           "paragraphId": null,
           "paragraphIndex": 55,
           "start": 6
          },
          "origin": {
           "order": 0,
           "paragraphIndex": 0,
           "place": "preambleParagraph",
           "startsNewParagraph": true
          },
          "originalText": "(Original) The UE of claim 19,",
          "text": "The UE of claim 19,"
         },
         "status": 0,
         "statusIndicator": 5,
         "statusText": "Success"
        },
        {
         "claimNumber": 37,
         "claimType": 0,
         "deviceName": {},
         "independentClaim": true,
         "independentParent": null,
         "limitations": [
          {
           "documentOrigin": {
            "end": 133,
            "paragraphHash": null,
            "paragraphId": null,
            "paragraphIndex": 63,
            "start": 0
           },
           "indentation": 0,
           "limitations": [
            {
             "documentOrigin": {
              "end": 268,
              "paragraphHash": null,
              "paragraphId": null,
              "paragraphIndex": 64,
              "start": 0
             },
             "indentation": 1,
             "limitations": [],
             "origin": {
              "order": 0,
              "paragraphIndex": 2,
              "place": "limitationParagraph",
              "startsNewParagraph": true
             },
             "originalText": "receive a signaling message that indicates one or more indicated component carrier sets, wherein the one or more indicated component carrier sets each include a component carrier group associated with joint transmission configuration indication (TCI) state activation;",
             "processStep": {
              "directObject": "a signaling message that indicates one or more indicated component carrier sets, wherein the one or more indicated component carrier sets each include a component carrier group associated with joint transmission configuration indication (TCI) state activation;",
              "verbPhrase": {
               "gerund": "receiving",
               "infinitive": "receive",
               "original": "receive",
               "past": "received"
              }
             },
             "status": 0,
             "statusText": "Success",
             "text": "receive a signaling message that indicates one or more indicated component carrier sets, wherein the one or more indicated component carrier sets each include a component carrier group associated with joint transmission configuration indication (TCI) state activation;"
            },
            {
             "documentOrigin": {
              "end": 253,
              "paragraphHash": null,
              "paragraphId": null,
              "paragraphIndex": 65,
              "start": 0
             },
             "indentation": 1,
             "limitations": [],
             "origin": {
              "order": 0,
              "paragraphIndex": 3,
              "place": "limitationParagraph",
              "startsNewParagraph": true
             },
             "originalText": "receive a beam update command that identifies an individual component carrier and a TCJ state to activate for the individual component carrier, wherein the individual component carrier is not included in the one or more indicated component carrier sets;",
             "processStep": {
              "directObject": "a beam update command that identifies an individual component carrier and a TCJ state to activate for the individual component carrier, wherein the individual component carrier is not included in the one or more indicated component carrier sets;",
              "verbPhrase": {
               "gerund": "receiving",
               "infinitive": "receive",
               "original": "receive",
               "past": "received"
              }
             },
             "status": 0,
             "statusText": "Success",
             "text": "receive a beam update command that identifies an individual component carrier and a TCJ state to activate for the individual component carrier, wherein the individual component carrier is not included in the one or more indicated component carrier sets;"
            }
           ],
           "origin": {
            "order": 0,
            "paragraphIndex": 1,
            "place": "limitationParagraph",
            "startsNewParagraph": true
           },
           "originalText": "one or more instructions that, when executed by one or more processors of a user equipment (UE), cause the one or more processors to:",
           "status": 0,
           "statusText": "Success",
           "text": "one or more instructions that, when executed by one or more processors of a user equipment (UE), cause the one or more processors to:"
          },
          {
           "documentOrigin": {
            "end": 166,
            "paragraphHash": null,
            "paragraphId": null,
            "paragraphIndex": 66,
            "start": 0
           },
           "indentation": 0,
           "limitations": [
            {
             "documentOrigin": {
              "end": 196,
              "paragraphHash": null,
              "paragraphId": null,
              "paragraphIndex": 68,
              "start": 3
             },
             "indentation": 1,
             "limitations": [],
             "origin": {
              "order": 0,
              "paragraphIndex": 5,
              "place": "limitationParagraph",
              "startsNewParagraph": true
             },
             "originalText": "carrier is included in the set of one or more component carriers based at least in part on the individual component carrier not being in any of the one or more indicated component carrier sets.",
             "status": 0,
             "statusText": "Success",
             "text": "carrier is included in the set of one or more component carriers based at least in part on the individual component carrier not being in any of the one or more indicated component carrier sets."
            }
           ],
           "origin": {
            "order": 0,
            "paragraphIndex": 4,
            "place": "limitationParagraph",
            "startsNewParagraph": true
           },
           "originalText": "and apply the beam update command to a set of one or more component carriers that includes at least the individual component carrier, wherein the individual component",
           "status": 0,
           "statusText": "Success",
           "text": "and apply the beam update command to a set of one or more component carriers that includes at least the individual component carrier, wherein the individual component"
          }
         ],
         "parentClaimNumbers": [],
         "preamble": {
          "documentOrigin": {
           "end": 160,
           "paragraphHash": null,
           "paragraphId": null,
           "paragraphIndex": 62,
           "start": 6
          },
          "origin": {
           "order": 0,
           "paragraphIndex": 0,
           "place": "preambleParagraph",
           "startsNewParagraph": true
          },
          "originalText": "(Original) A non-transitory computer-readable medium storing one or more instructions for wireless communication, the one or more instructions comprising:",
          "text": "A non-transitory computer-readable medium storing one or more instructions for wireless communication, the one or more instructions comprising:"
         },
         "status": 0,
         "statusIndicator": 5,
         "statusText": "Success"
        },
        {
         "claimNumber": 41,
         "claimType": 0,
         "deviceName": {},
         "independentClaim": true,
         "independentParent": null,
         "limitations": [
          {
           "documentOrigin": {
            "end": 280,
            "paragraphHash": null,
            "paragraphId": null,
            "paragraphIndex": 75,
            "start": 0
           },
           "indentation": 0,
           "limitations": [],
           "origin": {
            "order": 0,
            "paragraphIndex": 1,
            "place": "limitationParagraph",
            "startsNewParagraph": true
           },
           "originalText": "means for receiving a signaling message that indicates one or more indicated component carrier sets, wherein the one or more indicated component carrier sets each include a component carrier group associated with joint transmission configuration indication (TCI) state activation;",
           "processStep": {
            "directObject": "a signaling message that indicates one or more indicated component carrier sets, wherein the one or more indicated component carrier sets each include a component carrier group associated with joint transmission configuration indication (TCI) state activation;",
            "verbPhrase": {
             "gerund": "receiving",
             "infinitive": "receive",
             "original": "receiving",
             "past": "received"
            }
           },
           "status": 0,
           "statusText": "Success",
           "text": "means for receiving a signaling message that indicates one or more indicated component carrier sets, wherein the one or more indicated component carrier sets each include a component carrier group associated with joint transmission configuration indication (TCI) state activation;"
          },
          {
           "documentOrigin": {
            "end": 269,
            "paragraphHash": null,
            "paragraphId": null,
            "paragraphIndex": 76,
            "start": 0
           },
           "indentation": 0,
           "limitations": [],
           "origin": {
            "order": 0,
            "paragraphIndex": 2,
            "place": "limitationParagraph",
            "startsNewParagraph": true
           },
           "originalText": "means for receiving a beam update command that identifies an individual component carrier and a TCI state to activate for the individual component carrier, wherein the individual component carrier is not included in the one or more indicated component carrier sets; and",
           "processStep": {
            "directObject": "a beam update command that identifies an individual component carrier and a TCI state to activate for the individual component carrier, wherein the individual component carrier is not included in the one or more indicated component carrier sets; and",
            "verbPhrase": {
             "gerund": "receiving",
             "infinitive": "receive",
             "original": "receiving",
             "past": "received"
            }
           },
           "status": 0,
           "statusText": "Success",
           "text": "means for receiving a beam update command that identifies an individual component carrier and a TCI state to activate for the individual component carrier, wherein the individual component carrier is not included in the one or more indicated component carrier sets; and"
          },
          {
           "documentOrigin": {
            "end": 369,
            "paragraphHash": null,
            "paragraphId": null,
            "paragraphIndex": 77,
            "start": 0
           },
           "indentation": 0,
           "limitations": [],
           "origin": {
            "order": 0,
            "paragraphIndex": 3,
            "place": "limitationParagraph",
            "startsNewParagraph": true
           },
           "originalText": "means for applying the beam update command to a set of one or more component carriers that includes at least the individual component carrier, wherein the individual component carrier is included in the set of one or more component carriers based at least in part on the individual component carrier not being in any of the one or more indicated component carrier sets.",
           "processStep": {
            "directObject": "the beam update command to a set of one or more component carriers that includes at least the individual component carrier, wherein the individual component carrier is included in the set of one or more component carriers based at least in part on the individual component carrier not being in any of the one or more indicated component carrier sets.",
            "verbPhrase": {
             "gerund": "applying",
             "infinitive": "apply",
             "original": "applying",
             "past": "applied"
            }
           },
           "status": 0,
           "statusText": "Success",
           "text": "means for applying the beam update command to a set of one or more component carriers that includes at least the individual component carrier, wherein the individual component carrier is included in the set of one or more component carriers based at least in part on the individual component carrier not being in any of the one or more indicated component carrier sets."
          }
         ],
         "parentClaimNumbers": [],
         "preamble": {
          "documentOrigin": {
           "end": 69,
           "paragraphHash": null,
           "paragraphId": null,
           "paragraphIndex": 74,
           "start": 6
          },
          "origin": {
           "order": 0,
           "paragraphIndex": 0,
           "place": "preambleParagraph",
           "startsNewParagraph": true
          },
          "originalText": "(Original) An apparatus for wireless communication, comprising:",
          "text": "An apparatus for wireless communication, comprising:"
         },
         "status": 0,
         "statusIndicator": 5,
         "statusText": "Success"
        },
        {
         "claimNumber": 45,
         "claimType": 0,
         "deviceName": {
          "acronym": "UE",
          "length": 14,
          "location": "preamble",
          "offset": 56,
          "originalText": "user equipment",
          "text": "user equipment"
         },
         "independentClaim": true,
         "independentParent": null,
         "limitations": [
          {
           "documentOrigin": {
            "end": 93,
            "paragraphHash": null,
            "paragraphId": null,
            "paragraphIndex": 85,
            "start": 3
           },
           "indentation": 0,
           "limitations": [],
           "origin": {
            "order": 0,
            "paragraphIndex": 1,
            "place": "limitationParagraph",
            "startsNewParagraph": true
           },
           "originalText": "receiving a signaling message that indicates one or more indicated component carrier sets;",
           "processStep": {
            "directObject": "a signaling message that indicates one or more indicated component carrier sets;",
            "verbPhrase": {
             "gerund": "receiving",
             "infinitive": "receive",
             "original": "receiving",
             "past": "received"
            }
           },
           "status": 0,
           "statusText": "Success",
           "text": "receiving a signaling message that indicates one or more indicated component carrier sets;"
          },
          {
           "documentOrigin": {
            "end": 299,
            "paragraphHash": null,
            "paragraphId": null,
            "paragraphIndex": 86,
            "start": 0
           },
           "indentation": 0,
           "limitations": [],
           "origin": {
            "order": 0,
            "paragraphIndex": 2,
            "place": "limitationParagraph",
            "startsNewParagraph": true
           },
           "originalText": "receiving a beam update command that identifies an individual component carrier and a transmission configuration indication (TCI) state to activate for the individual component carrier, wherein the individual component carrier is not included in the one or more indicated component carrier sets; and",
           "processStep": {
            "directObject": "a beam update command that identifies an individual component carrier and a transmission configuration indication (TCI) state to activate for the individual component carrier, wherein the individual component carrier is not included in the one or more indicated component carrier sets; and",
            "verbPhrase": {
             "gerund": "receiving",
             "infinitive": "receive",
             "original": "receiving",
             "past": "received"
            }
           },
           "status": 0,
           "statusText": "Success",
           "text": "receiving a beam update command that identifies an individual component carrier and a transmission configuration indication (TCI) state to activate for the individual component carrier, wherein the individual component carrier is not included in the one or more indicated component carrier sets; and"
          },
          {
           "documentOrigin": {
            "end": 359,
            "paragraphHash": null,
            "paragraphId": null,
            "paragraphIndex": 87,
            "start": 0
           },
           "indentation": 0,
           "limitations": [],
           "origin": {
            "order": 0,
            "paragraphIndex": 3,
            "place": "limitationParagraph",
            "startsNewParagraph": true
           },
           "originalText": "applying the beam update command to a set of one or more component carriers that includes at least the individual component carrier, wherein the individual component carrier is included in the set of one or more component carriers based at least in part on the individual component carrier not being in any of the one or more indicated component carrier sets.",
           "processStep": {
            "directObject": "the beam update command to a set of one or more component carriers that includes at least the individual component carrier, wherein the individual component carrier is included in the set of one or more component carriers based at least in part on the individual component carrier not being in any of the one or more indicated component carrier sets.",
            "verbPhrase": {
             "gerund": "applying",
             "infinitive": "apply",
             "original": "applying",
             "past": "applied"
            }
           },
           "status": 0,
           "statusText": "Success",
           "text": "applying the beam update command to a set of one or more component carriers that includes at least the individual component carrier, wherein the individual component carrier is included in the set of one or more component carriers based at least in part on the individual component carrier not being in any of the one or more indicated component carrier sets."
          }
         ],
         "parentClaimNumbers": [],
         "preamble": {
          "documentOrigin": {
           "end": 94,
           "paragraphHash": null,
           "paragraphId": null,
           "paragraphIndex": 83,
           "start": 6
          },
          "origin": {
           "order": 0,
           "paragraphIndex": 0,
           "place": "preambleParagraph",
           "startsNewParagraph": true
          },
          "originalText": "(New) A method of wireless communication performed by a user equipment (UE), comprising:",
          "text": "A method of wireless communication performed by a user equipment (UE), comprising:"
         },
         "status": 0,
         "statusIndicator": 0,
         "statusText": "Success"
        },
        {
         "claimNumber": 46,
         "claimType": 0,
         "deviceName": {},
         "independentClaim": false,
         "independentParent": 45,
         "limitations": [
          {
           "documentOrigin": {
            "end": 375,
            "paragraphHash": null,
            "paragraphId": null,
            "paragraphIndex": 90,
            "start": 36
           },
           "indentation": 0,
           "limitations": [],
           "origin": {
            "order": 1,
            "paragraphIndex": 0,
            "place": "preambleParagraph",
            "startsNewParagraph": false
           },
           "originalText": "wherein the UE is associated with one or more serving cells, and wherein each of the one or more serving cells is associated with a component carrier that is included in a component carrier group associated with one of the one or more indicated component carrier sets and joint transmission configuration indication (TCI) state activation.",
           "status": 0,
           "statusText": "Success",
           "text": "wherein the UE is associated with one or more serving cells, and wherein each of the one or more serving cells is associated with a component carrier that is included in a component carrier group associated with one of the one or more indicated component carrier sets and joint transmission configuration indication (TCI) state activation.",
           "whereinClause": {
            "addingProcessStep": false,
            "isComplete": true,
            "modifyingProcessStep": false,
            "unparsedPhrase": "the UE is associated with one or more serving cells, and wherein each of the one or more serving cells is associated with a component carrier that is included in a component carrier group associated with one of the one or more indicated component carrier sets and joint transmission configuration indication (TCI) state activation.",
            "warning": "We might not have parsed this limitation correctly",
            "whereinIndicator": "wherein"
           }
          }
         ],
         "parentClaimNumbers": [
          45
         ],
         "preamble": {
          "documentOrigin": {
           "end": 35,
           "paragraphHash": null,
           "paragraphId": null,
           "paragraphIndex": 90,
           "start": 6
          },
          "origin": {
           "order": 0,
           "paragraphIndex": 0,
           "place": "preambleParagraph",
           "startsNewParagraph": true
          },
          "originalText": "(New) The method of claim 45,",
          "text": "The method of claim 45,"
         },
         "status": 0,
         "statusIndicator": 0,
         "statusText": "Success"
        },
        {
         "claimNumber": 47,
         "claimType": 0,
         "deviceName": {},
         "independentClaim": false,
         "independentParent": 45,
         "limitations": [
          {
           "documentOrigin": {
            "end": 215,
            "paragraphHash": null,
            "paragraphId": null,
            "paragraphIndex": 93,
            "start": 36
           },
           "indentation": 0,
           "limitations": [],
           "origin": {
            "order": 1,
            "paragraphIndex": 0,
            "place": "preambleParagraph",
            "startsNewParagraph": false
           },
           "originalText": "wherein the set of one or more component carriers to which the beam update command is applied includes only the individual component carrier identified in the beam update command.",
           "status": 0,
           "statusText": "Success",
           "text": "wherein the set of one or more component carriers to which the beam update command is applied includes only the individual component carrier identified in the beam update command.",
           "whereinClause": {
            "addedLimitationPhrase": "only the individual component carrier identified in the beam update command.",
            "addingProcessStep": false,
            "isComplete": true,
            "modifyingProcessStep": false,
            "referencedTerm": "the set of one or more component carriers to which the beam update command is applied",
            "transitionalPhrase": "includes",
            "whereinIndicator": "wherein"
           }
          }
         ],
         "parentClaimNumbers": [
          45
         ],
         "preamble": {
          "documentOrigin": {
           "end": 35,
           "paragraphHash": null,
           "paragraphId": null,
           "paragraphIndex": 93,
           "start": 6
          },
          "origin": {
           "order": 0,
           "paragraphIndex": 0,
           "place": "preambleParagraph",
           "startsNewParagraph": true
          },
          "originalText": "(New) The method of claim 45,",
          "text": "The method of claim 45,"
         },
         "status": 0,
         "statusIndicator": 0,
         "statusText": "Success"
        },
        {
         "claimNumber": 48,
         "claimType": 0,
         "deviceName": {},
         "independentClaim": false,
         "independentParent": 45,
         "limitations": [
          {
           "documentOrigin": {
            "end": 175,
            "paragraphHash": null,
            "paragraphId": null,
            "paragraphIndex": 96,
            "start": 36
           },
           "indentation": 0,
           "limitations": [
            {
             "documentOrigin": {
              "end": 122,
              "paragraphHash": null,
              "paragraphId": null,
              "paragraphIndex": 97,
              "start": 3
             },
             "indentation": 1,
             "limitations": [],
             "origin": {
              "order": 0,
              "paragraphIndex": 1,
              "place": "limitationParagraph",
              "startsNewParagraph": true
             },
             "originalText": "part on the individual component carrier not being included in any of the one or more indicated component carrier sets.",
             "status": 0,
             "statusText": "Success",
             "text": "part on the individual component carrier not being included in any of the one or more indicated component carrier sets."
            }
           ],
           "origin": {
            "order": 1,
            "paragraphIndex": 0,
            "place": "preambleParagraph",
            "startsNewParagraph": false
           },
           "originalText": "wherein the beam update command is applied to only the individual component carrier identified in the beam update command based at least in",
           "status": 0,
           "statusText": "Success",
           "text": "wherein the beam update command is applied to only the individual component carrier identified in the beam update command based at least in",
           "whereinClause": {
            "addingProcessStep": false,
            "isComplete": false,
            "modifyingProcessStep": false,
            "unparsedPhrase": "the beam update command is applied to only the individual component carrier identified in the beam update command based at least in",
            "whereinIndicator": "wherein"
           }
          }
         ],
         "parentClaimNumbers": [
          47
         ],
         "preamble": {
          "documentOrigin": {
           "end": 35,
           "paragraphHash": null,
           "paragraphId": null,
           "paragraphIndex": 96,
           "start": 6
          },
          "origin": {
           "order": 0,
           "paragraphIndex": 0,
           "place": "preambleParagraph",
           "startsNewParagraph": true
          },
          "originalText": "(New) The method of claim 47,",
          "text": "The method of claim 47,"
         },
         "status": 0,
         "statusIndicator": 0,
         "statusText": "Success"
        },
        {
         "claimNumber": 49,
         "claimType": 0,
         "deviceName": {},
         "independentClaim": false,
         "independentParent": 45,
         "limitations": [
          {
           "documentOrigin": {
            "end": 180,
            "paragraphHash": null,
            "paragraphId": null,
            "paragraphIndex": 100,
            "start": 36
           },
           "indentation": 0,
           "limitations": [
            {
             "documentOrigin": {
              "end": 87,
              "paragraphHash": null,
              "paragraphId": null,
              "paragraphIndex": 101,
              "start": 0
             },
             "indentation": 1,
             "limitations": [],
             "origin": {
              "order": 0,
              "paragraphIndex": 1,
              "place": "limitationParagraph",
              "startsNewParagraph": true
             },
             "originalText": "wherein the beam update command is included in a medium access control control element.",
             "status": 0,
             "statusText": "Success",
             "text": "wherein the beam update command is included in a medium access control control element.",
             "whereinClause": {
              "addingProcessStep": false,
              "isComplete": true,
              "modifyingProcessStep": false,
              "unparsedPhrase": "the beam update command is included in a medium access control control element.",
              "whereinIndicator": "wherein"
             }
            }
           ],
           "origin": {
            "order": 1,
            "paragraphIndex": 0,
            "place": "preambleParagraph",
            "startsNewParagraph": false
           },
           "originalText": "wherein the signaling message that indicates the one or more indicated component carrier sets is a radio resource control signaling message, and",
           "status": 0,
           "statusText": "Success",
           "text": "wherein the signaling message that indicates the one or more indicated component carrier sets is a radio resource control signaling message, and",
           "whereinClause": {
            "addingProcessStep": false,
            "isComplete": false,
            "modifyingProcessStep": false,
            "unparsedPhrase": "the signaling message that indicates the one or more indicated component carrier sets is a radio resource control signaling message, and",
            "whereinIndicator": "wherein"
           }
          }
         ],
         "parentClaimNumbers": [
          45
         ],
         "preamble": {
          "documentOrigin": {
           "end": 35,
           "paragraphHash": null,
           "paragraphId": null,
           "paragraphIndex": 100,
           "start": 6
          },
          "origin": {
           "order": 0,
           "paragraphIndex": 0,
           "place": "preambleParagraph",
           "startsNewParagraph": true
          },
          "originalText": "(New) The method of claim 45,",
          "text": "The method of claim 45,"
         },
         "status": 0,
         "statusIndicator": 0,
         "statusText": "Success"
        },
        {
         "claimNumber": 50,
         "claimType": 0,
         "deviceName": {},
         "independentClaim": true,
         "independentParent": null,
         "limitations": [
          {
           "documentOrigin": {
            "end": 11,
            "paragraphHash": null,
            "paragraphId": null,
            "paragraphIndex": 105,
            "start": 0
           },
           "indentation": 0,
           "limitations": [],
           "origin": {
            "order": 0,
            "paragraphIndex": 1,
            "place": "limitationParagraph",
            "startsNewParagraph": true
           },
           "originalText": "memory; and",
           "status": 0,
           "statusText": "Success",
           "text": "memory; and"
          },
          {
           "documentOrigin": {
            "end": 87,
            "paragraphHash": null,
            "paragraphId": null,
            "paragraphIndex": 106,
            "start": 0
           },
           "indentation": 0,
           "limitations": [
            {
             "documentOrigin": {
              "end": 88,
              "paragraphHash": null,
              "paragraphId": null,
              "paragraphIndex": 107,
              "start": 0
             },
             "indentation": 1,
             "limitations": [],
             "origin": {
              "order": 0,
              "paragraphIndex": 3,
              "place": "limitationParagraph",
              "startsNewParagraph": true
             },
             "originalText": "receive a signaling message that indicates one or more indicated component carrier sets;",
             "processStep": {
              "directObject": "a signaling message that indicates one or more indicated component carrier sets;",
              "verbPhrase": {
               "gerund": "receiving",
               "infinitive": "receive",
               "original": "receive",
               "past": "received"
              }
             },
             "status": 0,
             "statusText": "Success",
             "text": "receive a signaling message that indicates one or more indicated component carrier sets;"
            },
            {
             "documentOrigin": {
              "end": 297,
              "paragraphHash": null,
              "paragraphId": null,
              "paragraphIndex": 108,
              "start": 0
             },
             "indentation": 1,
             "limitations": [],
             "origin": {
              "order": 0,
              "paragraphIndex": 4,
              "place": "limitationParagraph",
              "startsNewParagraph": true
             },
             "originalText": "receive a beam update command that identifies an individual component carrier and a transmission configuration indication (TCI) state to activate for the individual component carrier, wherein the individual component carrier is not included in the one or more indicated component carrier sets; and",
             "processStep": {
              "directObject": "a beam update command that identifies an individual component carrier and a transmission configuration indication (TCI) state to activate for the individual component carrier, wherein the individual component carrier is not included in the one or more indicated component carrier sets; and",
              "verbPhrase": {
               "gerund": "receiving",
               "infinitive": "receive",
               "original": "receive",
               "past": "received"
              }
             },
             "status": 0,
             "statusText": "Success",
             "text": "receive a beam update command that identifies an individual component carrier and a transmission configuration indication (TCI) state to activate for the individual component carrier, wherein the individual component carrier is not included in the one or more indicated component carrier sets; and"
            },
            {
             "documentOrigin": {
              "end": 356,
              "paragraphHash": null,
              "paragraphId": null,
              "paragraphIndex": 109,
              "start": 0
             },
             "indentation": 1,
             "limitations": [],
             "origin": {
              "order": 0,
              "paragraphIndex": 5,
              "place": "limitationParagraph",
              "startsNewParagraph": true
             },
             "originalText": "apply the beam update command to a set of one or more component carriers that includes at least the individual component carrier, wherein the individual component carrier is included in the set of one or more component carriers based at least in part on the individual component carrier not being in any of the one or more indicated component carrier sets.",
             "processStep": {
              "directObject": "the beam update command to a set of one or more component carriers that includes at least the individual component carrier, wherein the individual component carrier is included in the set of one or more component carriers based at least in part on the individual component carrier not being in any of the one or more indicated component carrier sets.",
              "verbPhrase": {
               "gerund": "applying",
               "infinitive": "apply",
               "original": "apply",
               "past": "applied"
              }
             },
             "status": 0,
             "statusText": "Success",
             "text": "apply the beam update command to a set of one or more component carriers that includes at least the individual component carrier, wherein the individual component carrier is included in the set of one or more component carriers based at least in part on the individual component carrier not being in any of the one or more indicated component carrier sets."
            }
           ],
           "origin": {
            "order": 0,
            "paragraphIndex": 2,
            "place": "limitationParagraph",
            "startsNewParagraph": true
           },
           "originalText": "one or more processors coupled to the memory, the one or more processors configured to:",
           "status": 0,
           "statusText": "Success",
           "text": "one or more processors coupled to the memory, the one or more processors configured to:"
          }
         ],
         "parentClaimNumbers": [],
         "preamble": {
          "documentOrigin": {
           "end": 73,
           "paragraphHash": null,
           "paragraphId": null,
           "paragraphIndex": 104,
           "start": 6
          },
          "origin": {
           "order": 0,
           "paragraphIndex": 0,
           "place": "preambleParagraph",
           "startsNewParagraph": true
          },
          "originalText": "(New) A user equipment (UE) for wireless communication, comprising:",
          "text": "A user equipment (UE) for wireless communication, comprising:"
         },
         "status": 0,
         "statusIndicator": 0,
         "statusText": "Success"
        },
        {
         "claimNumber": 51,
         "claimType": 0,
         "deviceName": {},
         "independentClaim": false,
         "independentParent": 50,
         "limitations": [
          {
           "documentOrigin": {
            "end": 300,
            "paragraphHash": null,
            "paragraphId": null,
            "paragraphIndex": 114,
            "start": 32
           },
           "indentation": 0,
           "limitations": [],
           "origin": {
            "order": 1,
            "paragraphIndex": 0,
            "place": "preambleParagraph",
            "startsNewParagraph": false
           },
           "originalText": "wherein the UE is associated with one or more serving cells, and wherein each of the one or more serving cells is associated with a component carrier that is included in a component carrier group associated with one of the one or more indicated component carrier sets.",
           "status": 0,
           "statusText": "Success",
           "text": "wherein the UE is associated with one or more serving cells, and wherein each of the one or more serving cells is associated with a component carrier that is included in a component carrier group associated with one of the one or more indicated component carrier sets.",
           "whereinClause": {
            "addingProcessStep": false,
            "isComplete": true,
            "modifyingProcessStep": false,
            "unparsedPhrase": "the UE is associated with one or more serving cells, and wherein each of the one or more serving cells is associated with a component carrier that is included in a component carrier group associated with one of the one or more indicated component carrier sets.",
            "warning": "We might not have parsed this limitation correctly",
            "whereinIndicator": "wherein"
           }
          }
         ],
         "parentClaimNumbers": [
          50
         ],
         "preamble": {
          "documentOrigin": {
           "end": 31,
           "paragraphHash": null,
           "paragraphId": null,
           "paragraphIndex": 114,
           "start": 6
          },
          "origin": {
           "order": 0,
           "paragraphIndex": 0,
           "place": "preambleParagraph",
           "startsNewParagraph": true
          },
          "originalText": "(New) The UE of claim 50,",
          "text": "The UE of claim 50,"
         },
         "status": 0,
         "statusIndicator": 0,
         "statusText": "Success"
        },
        {
         "claimNumber": 52,
         "claimType": 0,
         "deviceName": {},
         "independentClaim": false,
         "independentParent": 50,
         "limitations": [
          {
           "documentOrigin": {
            "end": 211,
            "paragraphHash": null,
            "paragraphId": null,
            "paragraphIndex": 117,
            "start": 32
           },
           "indentation": 0,
           "limitations": [],
           "origin": {
            "order": 1,
            "paragraphIndex": 0,
            "place": "preambleParagraph",
            "startsNewParagraph": false
           },
           "originalText": "wherein the set of one or more component carriers to which the beam update command is applied includes only the individual component carrier identified in the beam update command.",
           "status": 0,
           "statusText": "Success",
           "text": "wherein the set of one or more component carriers to which the beam update command is applied includes only the individual component carrier identified in the beam update command.",
           "whereinClause": {
            "addedLimitationPhrase": "only the individual component carrier identified in the beam update command.",
            "addingProcessStep": false,
            "isComplete": true,
            "modifyingProcessStep": false,
            "referencedTerm": "the set of one or more component carriers to which the beam update command is applied",
            "transitionalPhrase": "includes",
            "whereinIndicator": "wherein"
           }
          }
         ],
         "parentClaimNumbers": [
          50
         ],
         "preamble": {
          "documentOrigin": {
           "end": 31,
           "paragraphHash": null,
           "paragraphId": null,
           "paragraphIndex": 117,
           "start": 6
          },
          "origin": {
           "order": 0,
           "paragraphIndex": 0,
           "place": "preambleParagraph",
           "startsNewParagraph": true
          },
          "originalText": "(New) The UE of claim 50,",
          "text": "The UE of claim 50,"
         },
         "status": 0,
         "statusIndicator": 0,
         "statusText": "Success"
        },
        {
         "claimNumber": 53,
         "claimType": 0,
         "deviceName": {},
         "independentClaim": false,
         "independentParent": 50,
         "limitations": [
          {
           "documentOrigin": {
            "end": 291,
            "paragraphHash": null,
            "paragraphId": null,
            "paragraphIndex": 120,
            "start": 32
           },
           "indentation": 0,
           "limitations": [],
           "origin": {
            "order": 1,
            "paragraphIndex": 0,
            "place": "preambleParagraph",
            "startsNewParagraph": false
           },
           "originalText": "wherein the beam update command is applied to only the individual component carrier identified in the beam update command based at least in part on the individual component carrier not being included in any of the one or more indicated component carrier sets.",
           "status": 0,
           "statusText": "Success",
           "text": "wherein the beam update command is applied to only the individual component carrier identified in the beam update command based at least in part on the individual component carrier not being included in any of the one or more indicated component carrier sets.",
           "whereinClause": {
            "addingProcessStep": false,
            "isComplete": true,
            "modifyingProcessStep": false,
            "unparsedPhrase": "the beam update command is applied to only the individual component carrier identified in the beam update command based at least in part on the individual component carrier not being included in any of the one or more indicated component carrier sets.",
            "whereinIndicator": "wherein"
           }
          }
         ],
         "parentClaimNumbers": [
          52
         ],
         "preamble": {
          "documentOrigin": {
           "end": 31,
           "paragraphHash": null,
           "paragraphId": null,
           "paragraphIndex": 120,
           "start": 6
          },
          "origin": {
           "order": 0,
           "paragraphIndex": 0,
           "place": "preambleParagraph",
           "startsNewParagraph": true
          },
          "originalText": "(New) The UE of claim 52,",
          "text": "The UE of claim 52,"
         },
         "status": 0,
         "statusIndicator": 0,
         "statusText": "Success"
        },
        {
         "claimNumber": 54,
         "claimType": 0,
         "deviceName": {},
         "independentClaim": false,
         "independentParent": 50,
         "limitations": [
          {
           "documentOrigin": {
            "end": 264,
            "paragraphHash": null,
            "paragraphId": null,
            "paragraphIndex": 123,
            "start": 32
           },
           "indentation": 0,
           "limitations": [],
           "origin": {
            "order": 1,
            "paragraphIndex": 0,
            "place": "preambleParagraph",
            "startsNewParagraph": false
           },
           "originalText": "wherein the signaling message that indicates the one or more indicated component carrier sets is a radio resource control signaling message, and wherein the beam update command is included in a medium access control control element.",
           "status": 0,
           "statusText": "Success",
           "text": "wherein the signaling message that indicates the one or more indicated component carrier sets is a radio resource control signaling message, and wherein the beam update command is included in a medium access control control element.",
           "whereinClause": {
            "addingProcessStep": false,
            "isComplete": true,
            "modifyingProcessStep": false,
            "unparsedPhrase": "the signaling message that indicates the one or more indicated component carrier sets is a radio resource control signaling message, and wherein the beam update command is included in a medium access control control element.",
            "warning": "We might not have parsed this limitation correctly",
            "whereinIndicator": "wherein"
           }
          }
         ],
         "parentClaimNumbers": [
          50
         ],
         "preamble": {
          "documentOrigin": {
           "end": 31,
           "paragraphHash": null,
           "paragraphId": null,
           "paragraphIndex": 123,
           "start": 6
          },
          "origin": {
           "order": 0,
           "paragraphIndex": 0,
           "place": "preambleParagraph",
           "startsNewParagraph": true
          },
          "originalText": "(New) The UE of claim 50,",
          "text": "The UE of claim 50,"
         },
         "status": 0,
         "statusIndicator": 0,
         "statusText": "Success"
        },
        {
         "claimNumber": 55,
         "claimType": 0,
         "deviceName": {},
         "independentClaim": false,
         "independentParent": 37,
         "limitations": [
          {
           "documentOrigin": {
            "end": 339,
            "paragraphHash": null,
            "paragraphId": null,
            "paragraphIndex": 126,
            "start": 69
           },
           "indentation": 0,
           "limitations": [],
           "origin": {
            "order": 1,
            "paragraphIndex": 0,
            "place": "preambleParagraph",
            "startsNewParagraph": false
           },
           "originalText": "wherein the UE is associated with one or more serving cells, and wherein each of the one or more serving cells is associated with a component carrier that is included in the component carrier group associated with one of the one or more indicated component carrier sets.",
           "status": 0,
           "statusText": "Success",
           "text": "wherein the UE is associated with one or more serving cells, and wherein each of the one or more serving cells is associated with a component carrier that is included in the component carrier group associated with one of the one or more indicated component carrier sets.",
           "whereinClause": {
            "addingProcessStep": false,
            "isComplete": true,
            "modifyingProcessStep": false,
            "unparsedPhrase": "the UE is associated with one or more serving cells, and wherein each of the one or more serving cells is associated with a component carrier that is included in the component carrier group associated with one of the one or more indicated component carrier sets.",
            "warning": "We might not have parsed this limitation correctly",
            "whereinIndicator": "wherein"
           }
          }
         ],
         "parentClaimNumbers": [
          37
         ],
         "preamble": {
          "documentOrigin": {
           "end": 68,
           "paragraphHash": null,
           "paragraphId": null,
           "paragraphIndex": 126,
           "start": 6
          },
          "origin": {
           "order": 0,
           "paragraphIndex": 0,
           "place": "preambleParagraph",
           "startsNewParagraph": true
          },
          "originalText": "(New) The non-transitory computer-readable medium of claim 37,",
          "text": "The non-transitory computer-readable medium of claim 37,"
         },
         "status": 0,
         "statusIndicator": 0,
         "statusText": "Success"
        },
        {
         "claimNumber": 56,
         "claimType": 0,
         "deviceName": {},
         "independentClaim": false,
         "independentParent": 37,
         "limitations": [
          {
           "documentOrigin": {
            "end": 248,
            "paragraphHash": null,
            "paragraphId": null,
            "paragraphIndex": 131,
            "start": 69
           },
           "indentation": 0,
           "limitations": [],
           "origin": {
            "order": 1,
            "paragraphIndex": 0,
            "place": "preambleParagraph",
            "startsNewParagraph": false
           },
           "originalText": "wherein the set of one or more component carriers to which the beam update command is applied includes only the individual component carrier identified in the beam update command.",
           "status": 0,
           "statusText": "Success",
           "text": "wherein the set of one or more component carriers to which the beam update command is applied includes only the individual component carrier identified in the beam update command.",
           "whereinClause": {
            "addedLimitationPhrase": "only the individual component carrier identified in the beam update command.",
            "addingProcessStep": false,
            "isComplete": true,
            "modifyingProcessStep": false,
            "referencedTerm": "the set of one or more component carriers to which the beam update command is applied",
            "transitionalPhrase": "includes",
            "whereinIndicator": "wherein"
           }
          }
         ],
         "parentClaimNumbers": [
          37
         ],
         "preamble": {
          "documentOrigin": {
           "end": 68,
           "paragraphHash": null,
           "paragraphId": null,
           "paragraphIndex": 131,
           "start": 6
          },
          "origin": {
           "order": 0,
           "paragraphIndex": 0,
           "place": "preambleParagraph",
           "startsNewParagraph": true
          },
          "originalText": "(New) The non-transitory computer-readable medium of claim 37,",
          "text": "The non-transitory computer-readable medium of claim 37,"
         },
         "status": 0,
         "statusIndicator": 0,
         "statusText": "Success"
        },
        {
         "claimNumber": 57,
         "claimType": 0,
         "deviceName": {},
         "independentClaim": false,
         "independentParent": 37,
         "limitations": [
          {
           "documentOrigin": {
            "end": 328,
            "paragraphHash": null,
            "paragraphId": null,
            "paragraphIndex": 134,
            "start": 69
           },
           "indentation": 0,
           "limitations": [],
           "origin": {
            "order": 1,
            "paragraphIndex": 0,
            "place": "preambleParagraph",
            "startsNewParagraph": false
           },
           "originalText": "wherein the beam update command is applied to only the individual component carrier identified in the beam update command based at least in part on the individual component carrier not being included in any of the one or more indicated component carrier sets.",
           "status": 0,
           "statusText": "Success",
           "text": "wherein the beam update command is applied to only the individual component carrier identified in the beam update command based at least in part on the individual component carrier not being included in any of the one or more indicated component carrier sets.",
           "whereinClause": {
            "addingProcessStep": false,
            "isComplete": true,
            "modifyingProcessStep": false,
            "unparsedPhrase": "the beam update command is applied to only the individual component carrier identified in the beam update command based at least in part on the individual component carrier not being included in any of the one or more indicated component carrier sets.",
            "whereinIndicator": "wherein"
           }
          }
         ],
         "parentClaimNumbers": [
          56
         ],
         "preamble": {
          "documentOrigin": {
           "end": 68,
           "paragraphHash": null,
           "paragraphId": null,
           "paragraphIndex": 134,
           "start": 6
          },
          "origin": {
           "order": 0,
           "paragraphIndex": 0,
           "place": "preambleParagraph",
           "startsNewParagraph": true
          },
          "originalText": "(New) The non-transitory computer-readable medium of claim 56,",
          "text": "The non-transitory computer-readable medium of claim 56,"
         },
         "status": 0,
         "statusIndicator": 0,
         "statusText": "Success"
        },
        {
         "claimNumber": 58,
         "claimType": 0,
         "deviceName": {},
         "independentClaim": false,
         "independentParent": 37,
         "limitations": [
          {
           "documentOrigin": {
            "end": 301,
            "paragraphHash": null,
            "paragraphId": null,
            "paragraphIndex": 137,
            "start": 69
           },
           "indentation": 0,
           "limitations": [],
           "origin": {
            "order": 1,
            "paragraphIndex": 0,
            "place": "preambleParagraph",
            "startsNewParagraph": false
           },
           "originalText": "wherein the signaling message that indicates the one or more indicated component carrier sets is a radio resource control signaling message, and wherein the beam update command is included in a medium access control control element.",
           "status": 0,
           "statusText": "Success",
           "text": "wherein the signaling message that indicates the one or more indicated component carrier sets is a radio resource control signaling message, and wherein the beam update command is included in a medium access control control element.",
           "whereinClause": {
            "addingProcessStep": false,
            "isComplete": true,
            "modifyingProcessStep": false,
            "unparsedPhrase": "the signaling message that indicates the one or more indicated component carrier sets is a radio resource control signaling message, and wherein the beam update command is included in a medium access control control element.",
            "warning": "We might not have parsed this limitation correctly",
            "whereinIndicator": "wherein"
           }
          }
         ],
         "parentClaimNumbers": [
          37
         ],
         "preamble": {
          "documentOrigin": {
           "end": 68,
           "paragraphHash": null,
           "paragraphId": null,
           "paragraphIndex": 137,
           "start": 6
          },
          "origin": {
           "order": 0,
           "paragraphIndex": 0,
           "place": "preambleParagraph",
           "startsNewParagraph": true
          },
          "originalText": "(New) The non-transitory computer-readable medium of claim 37,",
          "text": "The non-transitory computer-readable medium of claim 37,"
         },
         "status": 0,
         "statusIndicator": 0,
         "statusText": "Success"
        },
        {
         "claimNumber": 59,
         "claimType": 0,
         "deviceName": {},
         "independentClaim": true,
         "independentParent": null,
         "limitations": [
          {
           "documentOrigin": {
            "end": 128,
            "paragraphHash": null,
            "paragraphId": null,
            "paragraphIndex": 141,
            "start": 0
           },
           "indentation": 0,
           "limitations": [
            {
             "documentOrigin": {
              "end": 88,
              "paragraphHash": null,
              "paragraphId": null,
              "paragraphIndex": 142,
              "start": 0
             },
             "indentation": 1,
             "limitations": [],
             "origin": {
              "order": 0,
              "paragraphIndex": 2,
              "place": "limitationParagraph",
              "startsNewParagraph": true
             },
             "originalText": "receive a signaling message that indicates one or more indicated component carrier sets;",
             "processStep": {
              "directObject": "a signaling message that indicates one or more indicated component carrier sets;",
              "verbPhrase": {
               "gerund": "receiving",
               "infinitive": "receive",
               "original": "receive",
               "past": "received"
              }
             },
             "status": 0,
             "statusText": "Success",
             "text": "receive a signaling message that indicates one or more indicated component carrier sets;"
            },
            {
             "documentOrigin": {
              "end": 164,
              "paragraphHash": null,
              "paragraphId": null,
              "paragraphIndex": 143,
              "start": 0
             },
             "indentation": 1,
             "limitations": [
              {
               "documentOrigin": {
                "end": 135,
                "paragraphHash": null,
                "paragraphId": null,
                "paragraphIndex": 145,
                "start": 3
               },
               "indentation": 2,
               "limitations": [],
               "origin": {
                "order": 0,
                "paragraphIndex": 4,
                "place": "limitationParagraph",
                "startsNewParagraph": true
               },
               "originalText": "component carrier, wherein the individual component carrier is not included in the one or more indicated component carrier sets; and",
               "status": 0,
               "statusText": "Success",
               "text": "component carrier, wherein the individual component carrier is not included in the one or more indicated component carrier sets; and"
              }
             ],
             "origin": {
              "order": 0,
              "paragraphIndex": 3,
              "place": "limitationParagraph",
              "startsNewParagraph": true
             },
             "originalText": "receive a beam update command that identifies an individual component carrier and a transmission configuration indication (TCI) state to activate for the individual",
             "processStep": {
              "directObject": "a beam update command that identifies an individual component carrier and a transmission configuration indication (TCI) state to activate for the individual",
              "verbPhrase": {
               "gerund": "receiving",
               "infinitive": "receive",
               "original": "receive",
               "past": "received"
              }
             },
             "status": 0,
             "statusText": "Success",
             "text": "receive a beam update command that identifies an individual component carrier and a transmission configuration indication (TCI) state to activate for the individual"
            },
            {
             "documentOrigin": {
              "end": 356,
              "paragraphHash": null,
              "paragraphId": null,
              "paragraphIndex": 146,
              "start": 0
             },
             "indentation": 1,
             "limitations": [],
             "origin": {
              "order": 0,
              "paragraphIndex": 5,
              "place": "limitationParagraph",
              "startsNewParagraph": true
             },
             "originalText": "apply the beam update command to a set of one or more component carriers that includes at least the individual component carrier, wherein the individual component carrier is included in the set of one or more component carriers based at least in part on the individual component carrier not being in any of the one or more indicated component carrier sets.",
             "processStep": {
              "directObject": "the beam update command to a set of one or more component carriers that includes at least the individual component carrier, wherein the individual component carrier is included in the set of one or more component carriers based at least in part on the individual component carrier not being in any of the one or more indicated component carrier sets.",
              "verbPhrase": {
               "gerund": "applying",
               "infinitive": "apply",
               "original": "apply",
               "past": "applied"
              }
             },
             "status": 0,
             "statusText": "Success",
             "text": "apply the beam update command to a set of one or more component carriers that includes at least the individual component carrier, wherein the individual component carrier is included in the set of one or more component carriers based at least in part on the individual component carrier not being in any of the one or more indicated component carrier sets."
            }
           ],
           "origin": {
            "order": 0,
            "paragraphIndex": 1,
            "place": "limitationParagraph",
            "startsNewParagraph": true
           },
           "originalText": "one or more instructions that, when executed by one or more processors of a user equipment, cause the one or more processors to:",
           "status": 0,
           "statusText": "Success",
           "text": "one or more instructions that, when executed by one or more processors of a user equipment, cause the one or more processors to:"
          }
         ],
         "parentClaimNumbers": [],
         "preamble": {
          "documentOrigin": {
           "end": 158,
           "paragraphHash": null,
           "paragraphId": null,
           "paragraphIndex": 140,
           "start": 6
          },
          "origin": {
           "order": 0,
           "paragraphIndex": 0,
           "place": "preambleParagraph",
           "startsNewParagraph": true
          },
          "originalText": "(New) A   non-transitory computer-readable medium  storing one or more instructions for wireless communication, the one or more instructions comprising:",
          "text": "A   non-transitory computer-readable medium  storing one or more instructions for wireless communication, the one or more instructions comprising:"
         },
         "status": 0,
         "statusIndicator": 0,
         "statusText": "Success"
        },
        {
         "claimNumber": 60,
         "claimType": 0,
         "deviceName": {},
         "independentClaim": false,
         "independentParent": 59,
         "limitations": [
          {
           "documentOrigin": {
            "end": 337,
            "paragraphHash": null,
            "paragraphId": null,
            "paragraphIndex": 149,
            "start": 69
           },
           "indentation": 0,
           "limitations": [],
           "origin": {
            "order": 1,
            "paragraphIndex": 0,
            "place": "preambleParagraph",
            "startsNewParagraph": false
           },
           "originalText": "wherein the UE is associated with one or more serving cells, and wherein each of the one or more serving cells is associated with a component carrier that is included in a component carrier group associated with one of the one or more indicated component carrier sets.",
           "status": 0,
           "statusText": "Success",
           "text": "wherein the UE is associated with one or more serving cells, and wherein each of the one or more serving cells is associated with a component carrier that is included in a component carrier group associated with one of the one or more indicated component carrier sets.",
           "whereinClause": {
            "addingProcessStep": false,
            "isComplete": true,
            "modifyingProcessStep": false,
            "unparsedPhrase": "the UE is associated with one or more serving cells, and wherein each of the one or more serving cells is associated with a component carrier that is included in a component carrier group associated with one of the one or more indicated component carrier sets.",
            "warning": "We might not have parsed this limitation correctly",
            "whereinIndicator": "wherein"
           }
          }
         ],
         "parentClaimNumbers": [
          59
         ],
         "preamble": {
          "documentOrigin": {
           "end": 68,
           "paragraphHash": null,
           "paragraphId": null,
           "paragraphIndex": 149,
           "start": 6
          },
          "origin": {
           "order": 0,
           "paragraphIndex": 0,
           "place": "preambleParagraph",
           "startsNewParagraph": true
          },
          "originalText": "(New) The non-transitory computer-readable medium of claim 59,",
          "text": "The non-transitory computer-readable medium of claim 59,"
         },
         "status": 0,
         "statusIndicator": 0,
         "statusText": "Success"
        },
        {
         "claimNumber": 61,
         "claimType": 0,
         "deviceName": {},
         "independentClaim": false,
         "independentParent": 59,
         "limitations": [
          {
           "documentOrigin": {
            "end": 248,
            "paragraphHash": null,
            "paragraphId": null,
            "paragraphIndex": 152,
            "start": 69
           },
           "indentation": 0,
           "limitations": [],
           "origin": {
            "order": 1,
            "paragraphIndex": 0,
            "place": "preambleParagraph",
            "startsNewParagraph": false
           },
           "originalText": "wherein the set of one or more component carriers to which the beam update command is applied includes only the individual component carrier identified in the beam update command.",
           "status": 0,
           "statusText": "Success",
           "text": "wherein the set of one or more component carriers to which the beam update command is applied includes only the individual component carrier identified in the beam update command.",
           "whereinClause": {
            "addedLimitationPhrase": "only the individual component carrier identified in the beam update command.",
            "addingProcessStep": false,
            "isComplete": true,
            "modifyingProcessStep": false,
            "referencedTerm": "the set of one or more component carriers to which the beam update command is applied",
            "transitionalPhrase": "includes",
            "whereinIndicator": "wherein"
           }
          }
         ],
         "parentClaimNumbers": [
          59
         ],
         "preamble": {
          "documentOrigin": {
           "end": 68,
           "paragraphHash": null,
           "paragraphId": null,
           "paragraphIndex": 152,
           "start": 6
          },
          "origin": {
           "order": 0,
           "paragraphIndex": 0,
           "place": "preambleParagraph",
           "startsNewParagraph": true
          },
          "originalText": "(New) The non-transitory computer-readable medium of claim 59,",
          "text": "The non-transitory computer-readable medium of claim 59,"
         },
         "status": 0,
         "statusIndicator": 0,
         "statusText": "Success"
        },
        {
         "claimNumber": 62,
         "claimType": 0,
         "deviceName": {},
         "independentClaim": false,
         "independentParent": 59,
         "limitations": [
          {
           "documentOrigin": {
            "end": 328,
            "paragraphHash": null,
            "paragraphId": null,
            "paragraphIndex": 155,
            "start": 69
           },
           "indentation": 0,
           "limitations": [],
           "origin": {
            "order": 1,
            "paragraphIndex": 0,
            "place": "preambleParagraph",
            "startsNewParagraph": false
           },
           "originalText": "wherein the beam update command is applied to only the individual component carrier identified in the beam update command based at least in part on the individual component carrier not being included in any of the one or more indicated component carrier sets.",
           "status": 0,
           "statusText": "Success",
           "text": "wherein the beam update command is applied to only the individual component carrier identified in the beam update command based at least in part on the individual component carrier not being included in any of the one or more indicated component carrier sets.",
           "whereinClause": {
            "addingProcessStep": false,
            "isComplete": true,
            "modifyingProcessStep": false,
            "unparsedPhrase": "the beam update command is applied to only the individual component carrier identified in the beam update command based at least in part on the individual component carrier not being included in any of the one or more indicated component carrier sets.",
            "whereinIndicator": "wherein"
           }
          }
         ],
         "parentClaimNumbers": [
          61
         ],
         "preamble": {
          "documentOrigin": {
           "end": 68,
           "paragraphHash": null,
           "paragraphId": null,
           "paragraphIndex": 155,
           "start": 6
          },
          "origin": {
           "order": 0,
           "paragraphIndex": 0,
           "place": "preambleParagraph",
           "startsNewParagraph": true
          },
          "originalText": "(New) The non-transitory computer-readable medium of claim 61,",
          "text": "The non-transitory computer-readable medium of claim 61,"
         },
         "status": 0,
         "statusIndicator": 0,
         "statusText": "Success"
        },
        {
         "claimNumber": 63,
         "claimType": 0,
         "deviceName": {},
         "independentClaim": false,
         "independentParent": 59,
         "limitations": [
          {
           "documentOrigin": {
            "end": 301,
            "paragraphHash": null,
            "paragraphId": null,
            "paragraphIndex": 160,
            "start": 69
           },
           "indentation": 0,
           "limitations": [],
           "origin": {
            "order": 1,
            "paragraphIndex": 0,
            "place": "preambleParagraph",
            "startsNewParagraph": false
           },
           "originalText": "wherein the signaling message that indicates the one or more indicated component carrier sets is a radio resource control signaling message, and wherein the beam update command is included in a medium access control control element.",
           "status": 0,
           "statusText": "Success",
           "text": "wherein the signaling message that indicates the one or more indicated component carrier sets is a radio resource control signaling message, and wherein the beam update command is included in a medium access control control element.",
           "whereinClause": {
            "addingProcessStep": false,
            "isComplete": true,
            "modifyingProcessStep": false,
            "unparsedPhrase": "the signaling message that indicates the one or more indicated component carrier sets is a radio resource control signaling message, and wherein the beam update command is included in a medium access control control element.",
            "warning": "We might not have parsed this limitation correctly",
            "whereinIndicator": "wherein"
           }
          }
         ],
         "parentClaimNumbers": [
          59
         ],
         "preamble": {
          "documentOrigin": {
           "end": 68,
           "paragraphHash": null,
           "paragraphId": null,
           "paragraphIndex": 160,
           "start": 6
          },
          "origin": {
           "order": 0,
           "paragraphIndex": 0,
           "place": "preambleParagraph",
           "startsNewParagraph": true
          },
          "originalText": "(New) The non-transitory computer-readable medium of claim 59,",
          "text": "The non-transitory computer-readable medium of claim 59,"
         },
         "status": 0,
         "statusIndicator": 0,
         "statusText": "Success"
        },
        {
         "claimNumber": 64,
         "claimType": 0,
         "deviceName": {},
         "independentClaim": false,
         "independentParent": 41,
         "limitations": [
          {
           "documentOrigin": {
            "end": 316,
            "paragraphHash": null,
            "paragraphId": null,
            "paragraphIndex": 163,
            "start": 39
           },
           "indentation": 0,
           "limitations": [],
           "origin": {
            "order": 1,
            "paragraphIndex": 0,
            "place": "preambleParagraph",
            "startsNewParagraph": false
           },
           "originalText": "wherein the apparatus is associated with one or more serving cells, and wherein each of the one or more serving cells is associated with a component carrier that is included in the component carrier group associated with one of the one or more indicated component carrier sets.",
           "status": 0,
           "statusText": "Success",
           "text": "wherein the apparatus is associated with one or more serving cells, and wherein each of the one or more serving cells is associated with a component carrier that is included in the component carrier group associated with one of the one or more indicated component carrier sets.",
           "whereinClause": {
            "addingProcessStep": false,
            "isComplete": true,
            "modifyingProcessStep": false,
            "unparsedPhrase": "the apparatus is associated with one or more serving cells, and wherein each of the one or more serving cells is associated with a component carrier that is included in the component carrier group associated with one of the one or more indicated component carrier sets.",
            "warning": "We might not have parsed this limitation correctly",
            "whereinIndicator": "wherein"
           }
          }
         ],
         "parentClaimNumbers": [
          41
         ],
         "preamble": {
          "documentOrigin": {
           "end": 38,
           "paragraphHash": null,
           "paragraphId": null,
           "paragraphIndex": 163,
           "start": 6
          },
          "origin": {
           "order": 0,
           "paragraphIndex": 0,
           "place": "preambleParagraph",
           "startsNewParagraph": true
          },
          "originalText": "(New) The apparatus of claim 41,",
          "text": "The apparatus of claim 41,"
         },
         "status": 0,
         "statusIndicator": 0,
         "statusText": "Success"
        },
        {
         "claimNumber": 65,
         "claimType": 0,
         "deviceName": {},
         "independentClaim": false,
         "independentParent": 41,
         "limitations": [
          {
           "documentOrigin": {
            "end": 218,
            "paragraphHash": null,
            "paragraphId": null,
            "paragraphIndex": 166,
            "start": 39
           },
           "indentation": 0,
           "limitations": [],
           "origin": {
            "order": 1,
            "paragraphIndex": 0,
            "place": "preambleParagraph",
            "startsNewParagraph": false
           },
           "originalText": "wherein the set of one or more component carriers to which the beam update command is applied includes only the individual component carrier identified in the beam update command.",
           "status": 0,
           "statusText": "Success",
           "text": "wherein the set of one or more component carriers to which the beam update command is applied includes only the individual component carrier identified in the beam update command.",
           "whereinClause": {
            "addedLimitationPhrase": "only the individual component carrier identified in the beam update command.",
            "addingProcessStep": false,
            "isComplete": true,
            "modifyingProcessStep": false,
            "referencedTerm": "the set of one or more component carriers to which the beam update command is applied",
            "transitionalPhrase": "includes",
            "whereinIndicator": "wherein"
           }
          }
         ],
         "parentClaimNumbers": [
          41
         ],
         "preamble": {
          "documentOrigin": {
           "end": 38,
           "paragraphHash": null,
           "paragraphId": null,
           "paragraphIndex": 166,
           "start": 6
          },
          "origin": {
           "order": 0,
           "paragraphIndex": 0,
           "place": "preambleParagraph",
           "startsNewParagraph": true
          },
          "originalText": "(New) The apparatus of claim 41,",
          "text": "The apparatus of claim 41,"
         },
         "status": 0,
         "statusIndicator": 0,
         "statusText": "Success"
        },
        {
         "claimNumber": 66,
         "claimType": 0,
         "deviceName": {},
         "independentClaim": false,
         "independentParent": 41,
         "limitations": [
          {
           "documentOrigin": {
            "end": 298,
            "paragraphHash": null,
            "paragraphId": null,
            "paragraphIndex": 169,
            "start": 39
           },
           "indentation": 0,
           "limitations": [],
           "origin": {
            "order": 1,
            "paragraphIndex": 0,
            "place": "preambleParagraph",
            "startsNewParagraph": false
           },
           "originalText": "wherein the beam update command is applied to only the individual component carrier identified in the beam update command based at least in part on the individual component carrier not being included in any of the one or more indicated component carrier sets.",
           "status": 0,
           "statusText": "Success",
           "text": "wherein the beam update command is applied to only the individual component carrier identified in the beam update command based at least in part on the individual component carrier not being included in any of the one or more indicated component carrier sets.",
           "whereinClause": {
            "addingProcessStep": false,
            "isComplete": true,
            "modifyingProcessStep": false,
            "unparsedPhrase": "the beam update command is applied to only the individual component carrier identified in the beam update command based at least in part on the individual component carrier not being included in any of the one or more indicated component carrier sets.",
            "whereinIndicator": "wherein"
           }
          }
         ],
         "parentClaimNumbers": [
          65
         ],
         "preamble": {
          "documentOrigin": {
           "end": 38,
           "paragraphHash": null,
           "paragraphId": null,
           "paragraphIndex": 169,
           "start": 6
          },
          "origin": {
           "order": 0,
           "paragraphIndex": 0,
           "place": "preambleParagraph",
           "startsNewParagraph": true
          },
          "originalText": "(New) The apparatus of claim 65,",
          "text": "The apparatus of claim 65,"
         },
         "status": 0,
         "statusIndicator": 0,
         "statusText": "Success"
        },
        {
         "claimNumber": 67,
         "claimType": 0,
         "deviceName": {},
         "independentClaim": false,
         "independentParent": 41,
         "limitations": [
          {
           "documentOrigin": {
            "end": 183,
            "paragraphHash": null,
            "paragraphId": null,
            "paragraphIndex": 172,
            "start": 39
           },
           "indentation": 0,
           "limitations": [
            {
             "documentOrigin": {
              "end": 87,
              "paragraphHash": null,
              "paragraphId": null,
              "paragraphIndex": 173,
              "start": 0
             },
             "indentation": 1,
             "limitations": [],
             "origin": {
              "order": 0,
              "paragraphIndex": 1,
              "place": "limitationParagraph",
              "startsNewParagraph": true
             },
             "originalText": "wherein the beam update command is included in a medium access control control element.",
             "status": 0,
             "statusText": "Success",
             "text": "wherein the beam update command is included in a medium access control control element.",
             "whereinClause": {
              "addingProcessStep": false,
              "isComplete": true,
              "modifyingProcessStep": false,
              "unparsedPhrase": "the beam update command is included in a medium access control control element.",
              "whereinIndicator": "wherein"
             }
            }
           ],
           "origin": {
            "order": 1,
            "paragraphIndex": 0,
            "place": "preambleParagraph",
            "startsNewParagraph": false
           },
           "originalText": "wherein the signaling message that indicates the one or more indicated component carrier sets is a radio resource control signaling message, and",
           "status": 0,
           "statusText": "Success",
           "text": "wherein the signaling message that indicates the one or more indicated component carrier sets is a radio resource control signaling message, and",
           "whereinClause": {
            "addingProcessStep": false,
            "isComplete": false,
            "modifyingProcessStep": false,
            "unparsedPhrase": "the signaling message that indicates the one or more indicated component carrier sets is a radio resource control signaling message, and",
            "whereinIndicator": "wherein"
           }
          }
         ],
         "parentClaimNumbers": [
          41
         ],
         "preamble": {
          "documentOrigin": {
           "end": 38,
           "paragraphHash": null,
           "paragraphId": null,
           "paragraphIndex": 172,
           "start": 6
          },
          "origin": {
           "order": 0,
           "paragraphIndex": 0,
           "place": "preambleParagraph",
           "startsNewParagraph": true
          },
          "originalText": "(New) The apparatus of claim 41,",
          "text": "The apparatus of claim 41,"
         },
         "status": 0,
         "statusIndicator": 0,
         "statusText": "Success"
        },
        {
         "claimNumber": 68,
         "claimType": 0,
         "deviceName": {},
         "independentClaim": true,
         "independentParent": null,
         "limitations": [
          {
           "documentOrigin": {
            "end": 100,
            "paragraphHash": null,
            "paragraphId": null,
            "paragraphIndex": 179,
            "start": 0
           },
           "indentation": 0,
           "limitations": [],
           "origin": {
            "order": 0,
            "paragraphIndex": 1,
            "place": "limitationParagraph",
            "startsNewParagraph": true
           },
           "originalText": "means for receiving a signaling message that indicates one or more indicated component carrier sets;",
           "processStep": {
            "directObject": "a signaling message that indicates one or more indicated component carrier sets;",
            "verbPhrase": {
             "gerund": "receiving",
             "infinitive": "receive",
             "original": "receiving",
             "past": "received"
            }
           },
           "status": 0,
           "statusText": "Success",
           "text": "means for receiving a signaling message that indicates one or more indicated component carrier sets;"
          },
          {
           "documentOrigin": {
            "end": 309,
            "paragraphHash": null,
            "paragraphId": null,
            "paragraphIndex": 180,
            "start": 0
           },
           "indentation": 0,
           "limitations": [],
           "origin": {
            "order": 0,
            "paragraphIndex": 2,
            "place": "limitationParagraph",
            "startsNewParagraph": true
           },
           "originalText": "means for receiving a beam update command that identifies an individual component carrier and a transmission configuration indication (TCI) state to activate for the individual component carrier, wherein the individual component carrier is not included in the one or more indicated component carrier sets; and",
           "processStep": {
            "directObject": "a beam update command that identifies an individual component carrier and a transmission configuration indication (TCI) state to activate for the individual component carrier, wherein the individual component carrier is not included in the one or more indicated component carrier sets; and",
            "verbPhrase": {
             "gerund": "receiving",
             "infinitive": "receive",
             "original": "receiving",
             "past": "received"
            }
           },
           "status": 0,
           "statusText": "Success",
           "text": "means for receiving a beam update command that identifies an individual component carrier and a transmission configuration indication (TCI) state to activate for the individual component carrier, wherein the individual component carrier is not included in the one or more indicated component carrier sets; and"
          },
          {
           "documentOrigin": {
            "end": 369,
            "paragraphHash": null,
            "paragraphId": null,
            "paragraphIndex": 181,
            "start": 0
           },
           "indentation": 0,
           "limitations": [],
           "origin": {
            "order": 0,
            "paragraphIndex": 3,
            "place": "limitationParagraph",
            "startsNewParagraph": true
           },
           "originalText": "means for applying the beam update command to a set of one or more component carriers that includes at least the individual component carrier, wherein the individual component carrier is included in the set of one or more component carriers based at least in part on the individual component carrier not being in any of the one or more indicated component carrier sets.",
           "processStep": {
            "directObject": "the beam update command to a set of one or more component carriers that includes at least the individual component carrier, wherein the individual component carrier is included in the set of one or more component carriers based at least in part on the individual component carrier not being in any of the one or more indicated component carrier sets.",
            "verbPhrase": {
             "gerund": "applying",
             "infinitive": "apply",
             "original": "applying",
             "past": "applied"
            }
           },
           "status": 0,
           "statusText": "Success",
           "text": "means for applying the beam update command to a set of one or more component carriers that includes at least the individual component carrier, wherein the individual component carrier is included in the set of one or more component carriers based at least in part on the individual component carrier not being in any of the one or more indicated component carrier sets."
          }
         ],
         "parentClaimNumbers": [],
         "preamble": {
          "documentOrigin": {
           "end": 64,
           "paragraphHash": null,
           "paragraphId": null,
           "paragraphIndex": 178,
           "start": 6
          },
          "origin": {
           "order": 0,
           "paragraphIndex": 0,
           "place": "preambleParagraph",
           "startsNewParagraph": true
          },
          "originalText": "(New) An apparatus for wireless communication, comprising:",
          "text": "An apparatus for wireless communication, comprising:"
         },
         "status": 0,
         "statusIndicator": 0,
         "statusText": "Success"
        },
        {
         "claimNumber": 69,
         "claimType": 0,
         "deviceName": {},
         "independentClaim": false,
         "independentParent": 68,
         "limitations": [
          {
           "documentOrigin": {
            "end": 314,
            "paragraphHash": null,
            "paragraphId": null,
            "paragraphIndex": 184,
            "start": 39
           },
           "indentation": 0,
           "limitations": [],
           "origin": {
            "order": 1,
            "paragraphIndex": 0,
            "place": "preambleParagraph",
            "startsNewParagraph": false
           },
           "originalText": "wherein the apparatus is associated with one or more serving cells, and wherein each of the one or more serving cells is associated with a component carrier that is included in a component carrier group associated with one of the one or more indicated component carrier sets.",
           "status": 0,
           "statusText": "Success",
           "text": "wherein the apparatus is associated with one or more serving cells, and wherein each of the one or more serving cells is associated with a component carrier that is included in a component carrier group associated with one of the one or more indicated component carrier sets.",
           "whereinClause": {
            "addingProcessStep": false,
            "isComplete": true,
            "modifyingProcessStep": false,
            "unparsedPhrase": "the apparatus is associated with one or more serving cells, and wherein each of the one or more serving cells is associated with a component carrier that is included in a component carrier group associated with one of the one or more indicated component carrier sets.",
            "warning": "We might not have parsed this limitation correctly",
            "whereinIndicator": "wherein"
           }
          }
         ],
         "parentClaimNumbers": [
          68
         ],
         "preamble": {
          "documentOrigin": {
           "end": 38,
           "paragraphHash": null,
           "paragraphId": null,
           "paragraphIndex": 184,
           "start": 6
          },
          "origin": {
           "order": 0,
           "paragraphIndex": 0,
           "place": "preambleParagraph",
           "startsNewParagraph": true
          },
          "originalText": "(New) The apparatus of claim 68,",
          "text": "The apparatus of claim 68,"
         },
         "status": 0,
         "statusIndicator": 0,
         "statusText": "Success"
        },
        {
         "claimNumber": 70,
         "claimType": 0,
         "deviceName": {},
         "independentClaim": false,
         "independentParent": 68,
         "limitations": [
          {
           "documentOrigin": {
            "end": 218,
            "paragraphHash": null,
            "paragraphId": null,
            "paragraphIndex": 187,
            "start": 39
           },
           "indentation": 0,
           "limitations": [],
           "origin": {
            "order": 1,
            "paragraphIndex": 0,
            "place": "preambleParagraph",
            "startsNewParagraph": false
           },
           "originalText": "wherein the set of one or more component carriers to which the beam update command is applied includes only the individual component carrier identified in the beam update command.",
           "status": 0,
           "statusText": "Success",
           "text": "wherein the set of one or more component carriers to which the beam update command is applied includes only the individual component carrier identified in the beam update command.",
           "whereinClause": {
            "addedLimitationPhrase": "only the individual component carrier identified in the beam update command.",
            "addingProcessStep": false,
            "isComplete": true,
            "modifyingProcessStep": false,
            "referencedTerm": "the set of one or more component carriers to which the beam update command is applied",
            "transitionalPhrase": "includes",
            "whereinIndicator": "wherein"
           }
          }
         ],
         "parentClaimNumbers": [
          68
         ],
         "preamble": {
          "documentOrigin": {
           "end": 38,
           "paragraphHash": null,
           "paragraphId": null,
           "paragraphIndex": 187,
           "start": 6
          },
          "origin": {
           "order": 0,
           "paragraphIndex": 0,
           "place": "preambleParagraph",
           "startsNewParagraph": true
          },
          "originalText": "(New) The apparatus of claim 68,",
          "text": "The apparatus of claim 68,"
         },
         "status": 0,
         "statusIndicator": 0,
         "statusText": "Success"
        },
        {
         "claimNumber": 71,
         "claimType": 0,
         "deviceName": {},
         "independentClaim": false,
         "independentParent": 68,
         "limitations": [
          {
           "documentOrigin": {
            "end": 183,
            "paragraphHash": null,
            "paragraphId": null,
            "paragraphIndex": 190,
            "start": 39
           },
           "indentation": 0,
           "limitations": [
            {
             "documentOrigin": {
              "end": 117,
              "paragraphHash": null,
              "paragraphId": null,
              "paragraphIndex": 191,
              "start": 3
             },
             "indentation": 1,
             "limitations": [],
             "origin": {
              "order": 0,
              "paragraphIndex": 1,
              "place": "limitationParagraph",
              "startsNewParagraph": true
             },
             "originalText": "on the individual component carrier not being included in any of the one or more indicated component carrier sets.",
             "status": 0,
             "statusText": "Success",
             "text": "on the individual component carrier not being included in any of the one or more indicated component carrier sets."
            }
           ],
           "origin": {
            "order": 1,
            "paragraphIndex": 0,
            "place": "preambleParagraph",
            "startsNewParagraph": false
           },
           "originalText": "wherein the beam update command is applied to only the individual component carrier identified in the beam update command based at least in part",
           "status": 0,
           "statusText": "Success",
           "text": "wherein the beam update command is applied to only the individual component carrier identified in the beam update command based at least in part",
           "whereinClause": {
            "addingProcessStep": false,
            "isComplete": false,
            "modifyingProcessStep": false,
            "unparsedPhrase": "the beam update command is applied to only the individual component carrier identified in the beam update command based at least in part",
            "whereinIndicator": "wherein"
           }
          }
         ],
         "parentClaimNumbers": [
          70
         ],
         "preamble": {
          "documentOrigin": {
           "end": 38,
           "paragraphHash": null,
           "paragraphId": null,
           "paragraphIndex": 190,
           "start": 6
          },
          "origin": {
           "order": 0,
           "paragraphIndex": 0,
           "place": "preambleParagraph",
           "startsNewParagraph": true
          },
          "originalText": "(New) The apparatus of claim 70,",
          "text": "The apparatus of claim 70,"
         },
         "status": 0,
         "statusIndicator": 0,
         "statusText": "Success"
        },
        {
         "claimNumber": 72,
         "claimType": 0,
         "deviceName": {},
         "independentClaim": false,
         "independentParent": 68,
         "limitations": [
          {
           "documentOrigin": {
            "end": 183,
            "paragraphHash": null,
            "paragraphId": null,
            "paragraphIndex": 194,
            "start": 39
           },
           "indentation": 0,
           "limitations": [
            {
             "documentOrigin": {
              "end": 87,
              "paragraphHash": null,
              "paragraphId": null,
              "paragraphIndex": 195,
              "start": 0
             },
             "indentation": 1,
             "limitations": [],
             "origin": {
              "order": 0,
              "paragraphIndex": 1,
              "place": "limitationParagraph",
              "startsNewParagraph": true
             },
             "originalText": "wherein the beam update command is included in a medium access control control element.",
             "status": 0,
             "statusText": "Success",
             "text": "wherein the beam update command is included in a medium access control control element.",
             "whereinClause": {
              "addingProcessStep": false,
              "isComplete": true,
              "modifyingProcessStep": false,
              "unparsedPhrase": "the beam update command is included in a medium access control control element.",
              "whereinIndicator": "wherein"
             }
            }
           ],
           "origin": {
            "order": 1,
            "paragraphIndex": 0,
            "place": "preambleParagraph",
            "startsNewParagraph": false
           },
           "originalText": "wherein the signaling message that indicates the one or more indicated component carrier sets is a radio resource control signaling message, and",
           "status": 0,
           "statusText": "Success",
           "text": "wherein the signaling message that indicates the one or more indicated component carrier sets is a radio resource control signaling message, and",
           "whereinClause": {
            "addingProcessStep": false,
            "isComplete": false,
            "modifyingProcessStep": false,
            "unparsedPhrase": "the signaling message that indicates the one or more indicated component carrier sets is a radio resource control signaling message, and",
            "whereinIndicator": "wherein"
           }
          }
         ],
         "parentClaimNumbers": [
          68
         ],
         "preamble": {
          "documentOrigin": {
           "end": 38,
           "paragraphHash": null,
           "paragraphId": null,
           "paragraphIndex": 194,
           "start": 6
          },
          "origin": {
           "order": 0,
           "paragraphIndex": 0,
           "place": "preambleParagraph",
           "startsNewParagraph": true
          },
          "originalText": "(New) The apparatus of claim 68,",
          "text": "The apparatus of claim 68,"
         },
         "status": 0,
         "statusIndicator": 0,
         "statusText": "Success"
        }
       ],
       "examiner": {
        "firstName": "Kevin",
        "lastName": "Harper",
        "phone": "571-272-3166"
       },
       "indexOfClaims": [
        {
         "claimNumber": 1,
         "currentlyPending": true,
         "dispositions": [
          {
           "appliedToIndParent": true,
           "disposition": "rejected",
           "dispositionType": "103"
          }
         ],
         "independentClaim": true,
         "independentParent": null
        },
        {
         "claimNumber": 2,
         "currentlyPending": true,
         "dispositions": [
          {
           "appliedToIndParent": true,
           "disposition": "rejected",
           "dispositionType": "103"
          }
         ],
         "independentClaim": false,
         "independentParent": 1
        },
        {
         "claimNumber": 3,
         "currentlyPending": true,
         "dispositions": [
          {
           "appliedToIndParent": true,
           "disposition": "rejected",
           "dispositionType": "103"
          }
         ],
         "independentClaim": false,
         "independentParent": 1
        },
        {
         "claimNumber": 4,
         "currentlyPending": true,
         "dispositions": [
          {
           "appliedToIndParent": true,
           "disposition": "rejected",
           "dispositionType": "103"
          }
         ],
         "independentClaim": false,
         "independentParent": 1
        },
        {
         "claimNumber": 5,
         "currentlyPending": true,
         "dispositions": [
          {
           "appliedToIndParent": true,
           "disposition": "rejected",
           "dispositionType": "103"
          }
         ],
         "independentClaim": false,
         "independentParent": 1
        },
        {
         "claimNumber": 19,
         "currentlyPending": true,
         "dispositions": [
          {
           "appliedToIndParent": true,
           "disposition": "rejected",
           "dispositionType": "103"
          }
         ],
         "independentClaim": true,
         "independentParent": null
        },
        {
         "claimNumber": 20,
         "currentlyPending": true,
         "dispositions": [
          {
           "appliedToIndParent": true,
           "disposition": "rejected",
           "dispositionType": "103"
          }
         ],
         "independentClaim": false,
         "independentParent": 19
        },
        {
         "claimNumber": 21,
         "currentlyPending": true,
         "dispositions": [
          {
           "appliedToIndParent": true,
           "disposition": "rejected",
           "dispositionType": "103"
          }
         ],
         "independentClaim": false,
         "independentParent": 19
        },
        {
         "claimNumber": 22,
         "currentlyPending": true,
         "dispositions": [
          {
           "appliedToIndParent": true,
           "disposition": "rejected",
           "dispositionType": "103"
          }
         ],
         "independentClaim": false,
         "independentParent": 19
        },
        {
         "claimNumber": 23,
         "currentlyPending": true,
         "dispositions": [
          {
           "appliedToIndParent": true,
           "disposition": "rejected",
           "dispositionType": "103"
          }
         ],
         "independentClaim": false,
         "independentParent": 19
        },
        {
         "claimNumber": 37,
         "currentlyPending": true,
         "dispositions": [
          {
           "appliedToIndParent": true,
           "disposition": "rejected",
           "dispositionType": "103"
          }
         ],
         "independentClaim": true,
         "independentParent": null
        },
        {
         "claimNumber": 41,
         "currentlyPending": true,
         "dispositions": [
          {
           "appliedToIndParent": true,
           "disposition": "rejected",
           "dispositionType": "103"
          }
         ],
         "independentClaim": true,
         "independentParent": null
        },
        {
         "claimNumber": 45,
         "currentlyPending": true,
         "dispositions": [
          {
           "appliedToIndParent": true,
           "disposition": "rejected",
           "dispositionType": "103"
          }
         ],
         "independentClaim": true,
         "independentParent": null
        },
        {
         "claimNumber": 46,
         "currentlyPending": true,
         "dispositions": [
          {
           "appliedToIndParent": true,
           "disposition": "rejected",
           "dispositionType": "103"
          }
         ],
         "independentClaim": false,
         "independentParent": 45
        },
        {
         "claimNumber": 47,
         "currentlyPending": true,
         "dispositions": [
          {
           "appliedToIndParent": true,
           "disposition": "rejected",
           "dispositionType": "103"
          }
         ],
         "independentClaim": false,
         "independentParent": 45
        },
        {
         "claimNumber": 48,
         "currentlyPending": true,
         "dispositions": [
          {
           "appliedToIndParent": true,
           "disposition": "rejected",
           "dispositionType": "103"
          }
         ],
         "independentClaim": false,
         "independentParent": 45
        },
        {
         "claimNumber": 49,
         "currentlyPending": true,
         "dispositions": [
          {
           "appliedToIndParent": true,
           "disposition": "rejected",
           "dispositionType": "103"
          }
         ],
         "independentClaim": false,
         "independentParent": 45
        },
        {
         "claimNumber": 50,
         "currentlyPending": true,
         "dispositions": [
          {
           "appliedToIndParent": true,
           "disposition": "rejected",
           "dispositionType": "103"
          }
         ],
         "independentClaim": true,
         "independentParent": null
        },
        {
         "claimNumber": 51,
         "currentlyPending": true,
         "dispositions": [
          {
           "appliedToIndParent": true,
           "disposition": "rejected",
           "dispositionType": "103"
          }
         ],
         "independentClaim": false,
         "independentParent": 50
        },
        {
         "claimNumber": 52,
         "currentlyPending": true,
         "dispositions": [
          {
           "appliedToIndParent": true,
           "disposition": "rejected",
           "dispositionType": "103"
          }
         ],
         "independentClaim": false,
         "independentParent": 50
        },
        {
         "claimNumber": 53,
         "currentlyPending": true,
         "dispositions": [
          {
           "appliedToIndParent": true,
           "disposition": "rejected",
           "dispositionType": "103"
          }
         ],
         "independentClaim": false,
         "independentParent": 50
        },
        {
         "claimNumber": 54,
         "currentlyPending": true,
         "dispositions": [
          {
           "appliedToIndParent": true,
           "disposition": "rejected",
           "dispositionType": "103"
          }
         ],
         "independentClaim": false,
         "independentParent": 50
        },
        {
         "claimNumber": 55,
         "currentlyPending": true,
         "dispositions": [
          {
           "appliedToIndParent": true,
           "disposition": "rejected",
           "dispositionType": "103"
          }
         ],
         "independentClaim": false,
         "independentParent": 37
        },
        {
         "claimNumber": 56,
         "currentlyPending": true,
         "dispositions": [
          {
           "appliedToIndParent": true,
           "disposition": "rejected",
           "dispositionType": "103"
          }
         ],
         "independentClaim": false,
         "independentParent": 37
        },
        {
         "claimNumber": 57,
         "currentlyPending": true,
         "dispositions": [
          {
           "appliedToIndParent": true,
           "disposition": "rejected",
           "dispositionType": "103"
          }
         ],
         "independentClaim": false,
         "independentParent": 37
        },
        {
         "claimNumber": 58,
         "currentlyPending": true,
         "dispositions": [
          {
           "appliedToIndParent": true,
           "disposition": "rejected",
           "dispositionType": "103"
          }
         ],
         "independentClaim": false,
         "independentParent": 37
        },
        {
         "claimNumber": 59,
         "currentlyPending": true,
         "dispositions": [
          {
           "appliedToIndParent": true,
           "disposition": "rejected",
           "dispositionType": "103"
          }
         ],
         "independentClaim": true,
         "independentParent": null
        },
        {
         "claimNumber": 60,
         "currentlyPending": true,
         "dispositions": [
          {
           "appliedToIndParent": true,
           "disposition": "rejected",
           "dispositionType": "103"
          }
         ],
         "independentClaim": false,
         "independentParent": 59
        },
        {
         "claimNumber": 61,
         "currentlyPending": true,
         "dispositions": [
          {
           "appliedToIndParent": true,
           "disposition": "rejected",
           "dispositionType": "103"
          }
         ],
         "independentClaim": false,
         "independentParent": 59
        },
        {
         "claimNumber": 62,
         "currentlyPending": true,
         "dispositions": [
          {
           "appliedToIndParent": true,
           "disposition": "rejected",
           "dispositionType": "103"
          }
         ],
         "independentClaim": false,
         "independentParent": 59
        },
        {
         "claimNumber": 63,
         "currentlyPending": true,
         "dispositions": [
          {
           "appliedToIndParent": true,
           "disposition": "rejected",
           "dispositionType": "103"
          }
         ],
         "independentClaim": false,
         "independentParent": 59
        },
        {
         "claimNumber": 64,
         "currentlyPending": true,
         "dispositions": [
          {
           "appliedToIndParent": true,
           "disposition": "rejected",
           "dispositionType": "103"
          }
         ],
         "independentClaim": false,
         "independentParent": 41
        },
        {
         "claimNumber": 65,
         "currentlyPending": true,
         "dispositions": [
          {
           "appliedToIndParent": true,
           "disposition": "rejected",
           "dispositionType": "103"
          }
         ],
         "independentClaim": false,
         "independentParent": 41
        },
        {
         "claimNumber": 66,
         "currentlyPending": true,
         "dispositions": [
          {
           "appliedToIndParent": true,
           "disposition": "rejected",
           "dispositionType": "103"
          }
         ],
         "independentClaim": false,
         "independentParent": 41
        },
        {
         "claimNumber": 67,
         "currentlyPending": true,
         "dispositions": [
          {
           "appliedToIndParent": true,
           "disposition": "rejected",
           "dispositionType": "103"
          }
         ],
         "independentClaim": false,
         "independentParent": 41
        },
        {
         "claimNumber": 68,
         "currentlyPending": true,
         "dispositions": [
          {
           "appliedToIndParent": true,
           "disposition": "rejected",
           "dispositionType": "103"
          }
         ],
         "independentClaim": true,
         "independentParent": null
        },
        {
         "claimNumber": 69,
         "currentlyPending": true,
         "dispositions": [
          {
           "appliedToIndParent": true,
           "disposition": "rejected",
           "dispositionType": "103"
          }
         ],
         "independentClaim": false,
         "independentParent": 68
        },
        {
         "claimNumber": 70,
         "currentlyPending": true,
         "dispositions": [
          {
           "appliedToIndParent": true,
           "disposition": "rejected",
           "dispositionType": "103"
          }
         ],
         "independentClaim": false,
         "independentParent": 68
        },
        {
         "claimNumber": 71,
         "currentlyPending": true,
         "dispositions": [
          {
           "appliedToIndParent": true,
           "disposition": "rejected",
           "dispositionType": "103"
          }
         ],
         "independentClaim": false,
         "independentParent": 68
        },
        {
         "claimNumber": 72,
         "currentlyPending": true,
         "dispositions": [
          {
           "appliedToIndParent": true,
           "disposition": "rejected",
           "dispositionType": "103"
          }
         ],
         "independentClaim": false,
         "independentParent": 68
        }
       ],
       "isFinal": false,
       "objections": [],
       "refsCited": [
        {
         "citation": "US 2022/0173848",
         "name": "Guan"
        },
        {
         "citation": "US 2022/0225370",
         "name": "Park"
        }
       ],
       "rejections": [
        {
         "anyIndependentClaims": true,
         "claimIndex": [
          {
           "claimNumber": 1,
           "currentlyPending": true,
           "dispositions": [
            {
             "appliedToIndParent": true,
             "disposition": "rejected",
             "dispositionType": "103"
            }
           ],
           "independentClaim": true,
           "independentParent": null
          },
          {
           "claimNumber": 2,
           "currentlyPending": true,
           "dispositions": [
            {
             "appliedToIndParent": true,
             "disposition": "rejected",
             "dispositionType": "103"
            }
           ],
           "independentClaim": false,
           "independentParent": 1
          },
          {
           "claimNumber": 3,
           "currentlyPending": true,
           "dispositions": [
            {
             "appliedToIndParent": true,
             "disposition": "rejected",
             "dispositionType": "103"
            }
           ],
           "independentClaim": false,
           "independentParent": 1
          },
          {
           "claimNumber": 4,
           "currentlyPending": true,
           "dispositions": [
            {
             "appliedToIndParent": true,
             "disposition": "rejected",
             "dispositionType": "103"
            }
           ],
           "independentClaim": false,
           "independentParent": 1
          },
          {
           "claimNumber": 5,
           "currentlyPending": true,
           "dispositions": [
            {
             "appliedToIndParent": true,
             "disposition": "rejected",
             "dispositionType": "103"
            }
           ],
           "independentClaim": false,
           "independentParent": 1
          },
          {
           "claimNumber": 19,
           "currentlyPending": true,
           "dispositions": [
            {
             "appliedToIndParent": true,
             "disposition": "rejected",
             "dispositionType": "103"
            }
           ],
           "independentClaim": true,
           "independentParent": null
          },
          {
           "claimNumber": 20,
           "currentlyPending": true,
           "dispositions": [
            {
             "appliedToIndParent": true,
             "disposition": "rejected",
             "dispositionType": "103"
            }
           ],
           "independentClaim": false,
           "independentParent": 19
          },
          {
           "claimNumber": 21,
           "currentlyPending": true,
           "dispositions": [
            {
             "appliedToIndParent": true,
             "disposition": "rejected",
             "dispositionType": "103"
            }
           ],
           "independentClaim": false,
           "independentParent": 19
          },
          {
           "claimNumber": 22,
           "currentlyPending": true,
           "dispositions": [
            {
             "appliedToIndParent": true,
             "disposition": "rejected",
             "dispositionType": "103"
            }
           ],
           "independentClaim": false,
           "independentParent": 19
          },
          {
           "claimNumber": 23,
           "currentlyPending": true,
           "dispositions": [
            {
             "appliedToIndParent": true,
             "disposition": "rejected",
             "dispositionType": "103"
            }
           ],
           "independentClaim": false,
           "independentParent": 19
          },
          {
           "claimNumber": 37,
           "currentlyPending": true,
           "dispositions": [
            {
             "appliedToIndParent": true,
             "disposition": "rejected",
             "dispositionType": "103"
            }
           ],
           "independentClaim": true,
           "independentParent": null
          },
          {
           "claimNumber": 41,
           "currentlyPending": true,
           "dispositions": [
            {
             "appliedToIndParent": true,
             "disposition": "rejected",
             "dispositionType": "103"
            }
           ],
           "independentClaim": true,
           "independentParent": null
          },
          {
           "claimNumber": 45,
           "currentlyPending": true,
           "dispositions": [
            {
             "appliedToIndParent": true,
             "disposition": "rejected",
             "dispositionType": "103"
            }
           ],
           "independentClaim": true,
           "independentParent": null
          },
          {
           "claimNumber": 46,
           "currentlyPending": true,
           "dispositions": [
            {
             "appliedToIndParent": true,
             "disposition": "rejected",
             "dispositionType": "103"
            }
           ],
           "independentClaim": false,
           "independentParent": 45
          },
          {
           "claimNumber": 47,
           "currentlyPending": true,
           "dispositions": [
            {
             "appliedToIndParent": true,
             "disposition": "rejected",
             "dispositionType": "103"
            }
           ],
           "independentClaim": false,
           "independentParent": 45
          },
          {
           "claimNumber": 48,
           "currentlyPending": true,
           "dispositions": [
            {
             "appliedToIndParent": true,
             "disposition": "rejected",
             "dispositionType": "103"
            }
           ],
           "independentClaim": false,
           "independentParent": 45
          },
          {
           "claimNumber": 49,
           "currentlyPending": true,
           "dispositions": [
            {
             "appliedToIndParent": true,
             "disposition": "rejected",
             "dispositionType": "103"
            }
           ],
           "independentClaim": false,
           "independentParent": 45
          },
          {
           "claimNumber": 50,
           "currentlyPending": true,
           "dispositions": [
            {
             "appliedToIndParent": true,
             "disposition": "rejected",
             "dispositionType": "103"
            }
           ],
           "independentClaim": true,
           "independentParent": null
          },
          {
           "claimNumber": 51,
           "currentlyPending": true,
           "dispositions": [
            {
             "appliedToIndParent": true,
             "disposition": "rejected",
             "dispositionType": "103"
            }
           ],
           "independentClaim": false,
           "independentParent": 50
          },
          {
           "claimNumber": 52,
           "currentlyPending": true,
           "dispositions": [
            {
             "appliedToIndParent": true,
             "disposition": "rejected",
             "dispositionType": "103"
            }
           ],
           "independentClaim": false,
           "independentParent": 50
          },
          {
           "claimNumber": 53,
           "currentlyPending": true,
           "dispositions": [
            {
             "appliedToIndParent": true,
             "disposition": "rejected",
             "dispositionType": "103"
            }
           ],
           "independentClaim": false,
           "independentParent": 50
          },
          {
           "claimNumber": 54,
           "currentlyPending": true,
           "dispositions": [
            {
             "appliedToIndParent": true,
             "disposition": "rejected",
             "dispositionType": "103"
            }
           ],
           "independentClaim": false,
           "independentParent": 50
          },
          {
           "claimNumber": 55,
           "currentlyPending": true,
           "dispositions": [
            {
             "appliedToIndParent": true,
             "disposition": "rejected",
             "dispositionType": "103"
            }
           ],
           "independentClaim": false,
           "independentParent": 37
          },
          {
           "claimNumber": 56,
           "currentlyPending": true,
           "dispositions": [
            {
             "appliedToIndParent": true,
             "disposition": "rejected",
             "dispositionType": "103"
            }
           ],
           "independentClaim": false,
           "independentParent": 37
          },
          {
           "claimNumber": 57,
           "currentlyPending": true,
           "dispositions": [
            {
             "appliedToIndParent": true,
             "disposition": "rejected",
             "dispositionType": "103"
            }
           ],
           "independentClaim": false,
           "independentParent": 37
          },
          {
           "claimNumber": 58,
           "currentlyPending": true,
           "dispositions": [
            {
             "appliedToIndParent": true,
             "disposition": "rejected",
             "dispositionType": "103"
            }
           ],
           "independentClaim": false,
           "independentParent": 37
          },
          {
           "claimNumber": 59,
           "currentlyPending": true,
           "dispositions": [
            {
             "appliedToIndParent": true,
             "disposition": "rejected",
             "dispositionType": "103"
            }
           ],
           "independentClaim": true,
           "independentParent": null
          },
          {
           "claimNumber": 60,
           "currentlyPending": true,
           "dispositions": [
            {
             "appliedToIndParent": true,
             "disposition": "rejected",
             "dispositionType": "103"
            }
           ],
           "independentClaim": false,
           "independentParent": 59
          },
          {
           "claimNumber": 61,
           "currentlyPending": true,
           "dispositions": [
            {
             "appliedToIndParent": true,
             "disposition": "rejected",
             "dispositionType": "103"
            }
           ],
           "independentClaim": false,
           "independentParent": 59
          },
          {
           "claimNumber": 62,
           "currentlyPending": true,
           "dispositions": [
            {
             "appliedToIndParent": true,
             "disposition": "rejected",
             "dispositionType": "103"
            }
           ],
           "independentClaim": false,
           "independentParent": 59
          },
          {
           "claimNumber": 63,
           "currentlyPending": true,
           "dispositions": [
            {
             "appliedToIndParent": true,
             "disposition": "rejected",
             "dispositionType": "103"
            }
           ],
           "independentClaim": false,
           "independentParent": 59
          },
          {
           "claimNumber": 64,
           "currentlyPending": true,
           "dispositions": [
            {
             "appliedToIndParent": true,
             "disposition": "rejected",
             "dispositionType": "103"
            }
           ],
           "independentClaim": false,
           "independentParent": 41
          },
          {
           "claimNumber": 65,
           "currentlyPending": true,
           "dispositions": [
            {
             "appliedToIndParent": true,
             "disposition": "rejected",
             "dispositionType": "103"
            }
           ],
           "independentClaim": false,
           "independentParent": 41
          },
          {
           "claimNumber": 66,
           "currentlyPending": true,
           "dispositions": [
            {
             "appliedToIndParent": true,
             "disposition": "rejected",
             "dispositionType": "103"
            }
           ],
           "independentClaim": false,
           "independentParent": 41
          },
          {
           "claimNumber": 67,
           "currentlyPending": true,
           "dispositions": [
            {
             "appliedToIndParent": true,
             "disposition": "rejected",
             "dispositionType": "103"
            }
           ],
           "independentClaim": false,
           "independentParent": 41
          },
          {
           "claimNumber": 68,
           "currentlyPending": true,
           "dispositions": [
            {
             "appliedToIndParent": true,
             "disposition": "rejected",
             "dispositionType": "103"
            }
           ],
           "independentClaim": true,
           "independentParent": null
          },
          {
           "claimNumber": 69,
           "currentlyPending": true,
           "dispositions": [
            {
             "appliedToIndParent": true,
             "disposition": "rejected",
             "dispositionType": "103"
            }
           ],
           "independentClaim": false,
           "independentParent": 68
          },
          {
           "claimNumber": 70,
           "currentlyPending": true,
           "dispositions": [
            {
             "appliedToIndParent": true,
             "disposition": "rejected",
             "dispositionType": "103"
            }
           ],
           "independentClaim": false,
           "independentParent": 68
          },
          {
           "claimNumber": 71,
           "currentlyPending": true,
           "dispositions": [
            {
             "appliedToIndParent": true,
             "disposition": "rejected",
             "dispositionType": "103"
            }
           ],
           "independentClaim": false,
           "independentParent": 68
          },
          {
           "claimNumber": 72,
           "currentlyPending": true,
           "dispositions": [
            {
             "appliedToIndParent": true,
             "disposition": "rejected",
             "dispositionType": "103"
            }
           ],
           "independentClaim": false,
           "independentParent": 68
          }
         ],
         "claimsString": "1-5, 19-23, 37, 41 and 45-72",
         "references": [
          {
           "citation": "US 2022/0173848",
           "name": "Guan"
          },
          {
           "citation": "US 2022/0225370",
           "name": "Park"
          }
         ],
         "text": "Claims 1-5, 19-23, 37, 41 and 45-72 are rejected under 35 U.S.C. 103 as being unpatentable over Guan et al. (US 2022/0173848) in view of Park et al. (US 2022/0225370).",
         "type": "103",
         "typeString": "35 U.S.C. 103"
        }
       ],
       "responseToFilingDated": null
      },
      "text/plain": [
       "<IPython.core.display.JSON object>"
      ]
     },
     "execution_count": 42,
     "metadata": {
      "application/json": {
       "expanded": false,
       "root": "root"
      }
     },
     "output_type": "execute_result"
    }
   ],
   "source": [
    "JSON(context.json())"
   ]
  },
  {
   "cell_type": "code",
   "execution_count": 25,
   "id": "349e2ddd-6656-4bce-b08c-521b02aa46f8",
   "metadata": {},
   "outputs": [],
   "source": [
    "def generate(template, context):\n",
    "    payload = {\n",
    "        \"templates\": [\n",
    "            {\n",
    "                \"name\": \"test\",\n",
    "                \"body\": template,\n",
    "                \"claims\": [],\n",
    "                \"params\": []\n",
    "            }\n",
    "        ],\n",
    "        \"context\": context\n",
    "    }\n",
    "    \n",
    "    headers = {\n",
    "        \"Authorization\": f\"Bearer {dev_bearer_token}\"\n",
    "    }\n",
    "    \n",
    "    try:\n",
    "        #response = requests.post(\"https://staging.harritydev.com/api/nlp/api/v1/generator/generate\", json=payload, headers=headers)\n",
    "        response = requests.post(\"http://localhost:5000/api/v1/generator/generate\", json=payload, headers=headers)\n",
    "        response.raise_for_status()\n",
    "        \n",
    "    except requests.exceptions.HTTPError as e:\n",
    "        print(f\"An HTTP error occurred: {e}\")\n",
    "    save_json(output_folder, \"current_output\", response.json())    \n",
    "    return response\n"
   ]
  },
  {
   "cell_type": "code",
   "execution_count": 19,
   "id": "b246fecc-6522-49ac-9b39-08e869fe3583",
   "metadata": {},
   "outputs": [
    {
     "data": {
      "text/plain": [
       "'hello SETH, can I call you at (571)272-5105?'"
      ]
     },
     "execution_count": 19,
     "metadata": {},
     "output_type": "execute_result"
    }
   ],
   "source": [
    "generate(\"hello {{examiner.firstName}}, can I call you at {{examiner.phone}}?\", context.json()).json()[\"paragraphs\"][0][\"runs\"][0][\"text\"]"
   ]
  },
  {
   "cell_type": "code",
   "execution_count": null,
   "id": "8e406069-8756-4f8b-b726-c383fea4a45e",
   "metadata": {},
   "outputs": [],
   "source": [
    "generate(\"Claims {{listToRanges indexOfClaims}} have been filed.\", context.json()).json()[\"paragraphs\"][0][\"runs\"][0][\"text\"]"
   ]
  },
  {
   "cell_type": "code",
   "execution_count": null,
   "id": "98d794f8-699a-42f3-9459-09b1cd8c7638",
   "metadata": {},
   "outputs": [],
   "source": [
    "generate(\"hello {{#each indexOfClaims}} {{hasDispositionNotAppliedToIndParent this}} {{/each}}\", context.json()).json()[\"paragraphs\"][0][\"runs\"][0][\"text\"]"
   ]
  },
  {
   "cell_type": "code",
   "execution_count": null,
   "id": "7235fa98-fd60-42d5-87d4-5b3c72801bd9",
   "metadata": {},
   "outputs": [],
   "source": [
    "generate(\"hello {{listToRanges (filter indexOfClaims 'hasDispositionNotAppliedToIndParent')}}\", context.json()).json()[\"paragraphs\"][0][\"runs\"][0][\"text\"]"
   ]
  },
  {
   "cell_type": "code",
   "execution_count": null,
   "id": "f26f6351-5b89-4bb3-a373-ee5695b27012",
   "metadata": {},
   "outputs": [],
   "source": [
    "generate(\"\"\"{{#each (groupByIndependentClaim (filter indexOfClaims 'hasDispositionNotAppliedToIndParent'))}}\n",
    "              Claim {{independentClaimNumber}} has dependent claims {{listToRanges dependentClaims}}. \n",
    "              {{/each}}\"\"\"\n",
    "              , context.json()).json()[\"paragraphs\"][0][\"runs\"][0][\"text\"]"
   ]
  },
  {
   "cell_type": "code",
   "execution_count": null,
   "id": "05859907-6473-433b-a71c-506f8ccaa6a8",
   "metadata": {},
   "outputs": [],
   "source": []
  },
  {
   "cell_type": "code",
   "execution_count": null,
   "id": "bea89df8-6ff0-4cec-9ffa-ed5b51632f4e",
   "metadata": {},
   "outputs": [],
   "source": []
  }
 ],
 "metadata": {
  "kernelspec": {
   "display_name": "Python 3 (ipykernel)",
   "language": "python",
   "name": "python3"
  },
  "language_info": {
   "codemirror_mode": {
    "name": "ipython",
    "version": 3
   },
   "file_extension": ".py",
   "mimetype": "text/x-python",
   "name": "python",
   "nbconvert_exporter": "python",
   "pygments_lexer": "ipython3",
   "version": "3.8.10"
  }
 },
 "nbformat": 4,
 "nbformat_minor": 5
}
