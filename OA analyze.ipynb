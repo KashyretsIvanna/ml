{
 "cells": [
  {
   "cell_type": "code",
   "execution_count": 2,
   "id": "0b46572b-7b52-4b66-abea-823717ea10b4",
   "metadata": {},
   "outputs": [],
   "source": [
    "import requests\n",
    "import os, json\n",
    "from IPython.display import JSON\n",
    "import base64\n",
    "from datetime import datetime"
   ]
  },
  {
   "cell_type": "code",
   "execution_count": 3,
   "id": "0ca3b1f0-c1ac-4aa8-97f7-96f838ab620c",
   "metadata": {},
   "outputs": [],
   "source": [
    "api = \"http://localhost:5000/api/v1\"\n",
    "#api = \"https://staging.harritydev.com/api/nlp/api/v1\"\n",
    "rout = \"parser/analyze/office-action\"\n",
    "\n",
    "url = f\"{api}/{rout}\"\n",
    "\n",
    "staging_bearer_token = \"eyJhbGciOiJIUzI1NiIsInR5cCI6IkpXVCJ9.eyJlbWFpbCI6ImFiYWxhYmFuQGhhcnJpdHlkZXYub25taWNyb3NvZnQuY29tIiwiZmlyc3ROYW1lIjoiQW5kcmlpIiwibGFzdE5hbWUiOiJCYWxhYmFuIE9mZmljZSAzNjUiLCJwZXJtaXNzaW9ucyI6WyJwb3J0Zm9saW8iLCJ1c2VycyIsIm9yZ2FuaXphdGlvbnMiLCJzcGVjaWZpY2F0aW9ucyIsImZvcm1zIiwidGVtcGxhdGVzIiwiYXBwbGljYXRpb25zIiwidXNwdG8iLCJtZXNzYWdlcyIsIndvcmtmbG93cyIsImFkbWluaXN0cmF0aW9uIiwiZG9ja2V0aW5nX3Rhc2tzIiwiYWRtaW5pc3RyYXRpb25fdGFza3MiLCJib3Rfc2NyaXB0cyJdLCJ0ZWFtcyI6WyJEcmFmdGluZyBUZWFtIl0sIm1zU2VjdXJpdHlHcm91cHMiOlt7ImlkIjoiODY3NmJjY2MtZjMzYi00YTUyLTg2NGYtZjA0ZDM1NjI5Zjc1Iiwic2VjdXJpdHlJZGVudGlmaWVyIjoiUy0xLTEyLTEtMjI1NTkyODUyNC0xMjQ2OTUwMjAzLTEzMDc1OTQ2MzAtMTk3MzM3OTYzNyIsImRpc3BsYXlOYW1lIjoiU29tZU90aGVyR3JvdXAiLCJvblByZW1pc2VzTmFtZSI6bnVsbH0seyJpZCI6ImNiYTA4ODdkLWQzYTMtNGY4ZS04YWI3LWM1NWQ3YWRkMmZiZSIsInNlY3VyaXR5SWRlbnRpZmllciI6IlMtMS0xMi0xLTM0MTYyOTU1NDktMTMzNDc2MDM1NS0xNTczMjM4NjY2LTMxOTA4MDc5MzAiLCJkaXNwbGF5TmFtZSI6IkFub3RoZXJHcm91cCIsIm9uUHJlbWlzZXNOYW1lIjpudWxsfV0sImlhdCI6MTY4NDkzODk1NiwiZXhwIjoxNjg3NTMwOTU2LCJzdWIiOiI2MmQ5ODA0Y2U5MjMyN2FiZjljN2QxMTYifQ.qI5Pfh_rwwFJszRBAahYucbN3C3g-1ABQBe27gzyWPo\"\n",
    "dev_bearer_token = \"eyJhbGciOiJIUzI1NiIsInR5cCI6IkpXVCJ9.eyJlbWFpbCI6ImFiYWxhYmFuQGhhcnJpdHlkZXYub25taWNyb3NvZnQuY29tIiwiZmlyc3ROYW1lIjoiQW5kcmlpIiwibGFzdE5hbWUiOiJCYWxhYmFuIE9mZmljZSAzNjUiLCJwZXJtaXNzaW9ucyI6WyJwb3J0Zm9saW8iLCJ1c2VycyIsIm9yZ2FuaXphdGlvbnMiLCJzcGVjaWZpY2F0aW9ucyIsImZvcm1zIiwidGVtcGxhdGVzIiwiYXBwbGljYXRpb25zIiwidXNwdG8iLCJtZXNzYWdlcyIsIndvcmtmbG93cyIsImFkbWluaXN0cmF0aW9uIiwiZG9ja2V0aW5nX3Rhc2tzIiwiYWRtaW5pc3RyYXRpb25fdGFza3MiLCJib3Rfc2NyaXB0cyJdLCJ0ZWFtcyI6WyJEcmFmdGluZyBUZWFtIl0sIm1zU2VjdXJpdHlHcm91cHMiOlt7ImlkIjoiODY3NmJjY2MtZjMzYi00YTUyLTg2NGYtZjA0ZDM1NjI5Zjc1Iiwic2VjdXJpdHlJZGVudGlmaWVyIjoiUy0xLTEyLTEtMjI1NTkyODUyNC0xMjQ2OTUwMjAzLTEzMDc1OTQ2MzAtMTk3MzM3OTYzNyIsImRpc3BsYXlOYW1lIjoiU29tZU90aGVyR3JvdXAiLCJvblByZW1pc2VzTmFtZSI6bnVsbH0seyJpZCI6ImNiYTA4ODdkLWQzYTMtNGY4ZS04YWI3LWM1NWQ3YWRkMmZiZSIsInNlY3VyaXR5SWRlbnRpZmllciI6IlMtMS0xMi0xLTM0MTYyOTU1NDktMTMzNDc2MDM1NS0xNTczMjM4NjY2LTMxOTA4MDc5MzAiLCJkaXNwbGF5TmFtZSI6IkFub3RoZXJHcm91cCIsIm9uUHJlbWlzZXNOYW1lIjpudWxsfV0sImlhdCI6MTY4NDkzODk1NiwiZXhwIjoxNjg3NTMwOTU2LCJzdWIiOiI2MmQ5ODA0Y2U5MjMyN2FiZjljN2QxMTYifQ.qI5Pfh_rwwFJszRBAahYucbN3C3g-1ABQBe27gzyWPo\"\n",
    "\n",
    "# Create the headers dictionary with the authorization header\n",
    "headers = {\n",
    "    \"Authorization\": f\"Bearer {staging_bearer_token}\"\n",
    "}"
   ]
  },
  {
   "cell_type": "code",
   "execution_count": 66,
   "id": "beec8006-548a-4f90-8e61-2b0d09cec300",
   "metadata": {
    "scrolled": true
   },
   "outputs": [
    {
     "name": "stdout",
     "output_type": "stream",
     "text": [
      "Error occured for 0099-0301 Response 05-08-23.docx: [Errno 20] Not a directory: './data/oa_samples/0099-0301 Response 05-08-23.docx'\n",
      "Error occured for 205923 Response After Final  25 April 2023.docx: [Errno 20] Not a directory: './data/oa_samples/205923 Response After Final  25 April 2023.docx'\n",
      "Error occured for 15976652-2020-12-28-CTFR: 500 Server Error: INTERNAL SERVER ERROR for url: http://localhost:5000/api/v1/parser/analyze/office-action\n",
      "Error occured for 0096-0219_Restriction_Response_due_9-20-22 - FINAL.docx:Zone.Identifier: [Errno 20] Not a directory: './data/oa_samples/0096-0219_Restriction_Response_due_9-20-22 - FINAL.docx:Zone.Identifier'\n",
      "Error occured for 0096-0616 Response 02-28-23.docx:Zone.Identifier: [Errno 20] Not a directory: './data/oa_samples/0096-0616 Response 02-28-23.docx:Zone.Identifier'\n",
      "Error occured for 17248152-2022-02-08-CTNF: 500 Server Error: INTERNAL SERVER ERROR for url: http://localhost:5000/api/v1/parser/analyze/office-action\n",
      "Error occured for 192630 Response AF 22 March 2023.docx:Zone.Identifier: [Errno 20] Not a directory: './data/oa_samples/192630 Response AF 22 March 2023.docx:Zone.Identifier'\n",
      "Error occured for 17133063-2021-07-23-CTNF: 500 Server Error: INTERNAL SERVER ERROR for url: http://localhost:5000/api/v1/parser/analyze/office-action\n",
      "Error occured for Untitled.ipynb: [Errno 20] Not a directory: './data/oa_samples/Untitled.ipynb'\n",
      "Error occured for 0104-0193C2 Response 04-24-23.docx: [Errno 20] Not a directory: './data/oa_samples/0104-0193C2 Response 04-24-23.docx'\n",
      "Not all file present in 10207006-2008-09-24-CTNF\n",
      "Error occured for 0099-0301 Response 05-08-23.docx:Zone.Identifier: [Errno 20] Not a directory: './data/oa_samples/0099-0301 Response 05-08-23.docx:Zone.Identifier'\n",
      "Error occured for 17024974-2021-05-24-CTNF: 500 Server Error: INTERNAL SERVER ERROR for url: http://localhost:5000/api/v1/parser/analyze/office-action\n",
      "Error occured for 205923 Response After Final  25 April 2023 (1).docx:Zone.Identifier: [Errno 20] Not a directory: './data/oa_samples/205923 Response After Final  25 April 2023 (1).docx:Zone.Identifier'\n",
      "Error occured for 16722851-2021-09-23-CTNF: 500 Server Error: INTERNAL SERVER ERROR for url: http://localhost:5000/api/v1/parser/analyze/office-action\n",
      "Error occured for 16832951-2021-07-20-CTNF: 500 Server Error: INTERNAL SERVER ERROR for url: http://localhost:5000/api/v1/parser/analyze/office-action\n",
      "Error occured for 17000270-2021-10-05-CTNF: 500 Server Error: INTERNAL SERVER ERROR for url: http://localhost:5000/api/v1/parser/analyze/office-action\n",
      "Error occured for 29730943-2021-11-24-CTNF: 500 Server Error: INTERNAL SERVER ERROR for url: http://localhost:5000/api/v1/parser/analyze/office-action\n",
      "Error occured for 16786855-2021-12-14-CTNF: 500 Server Error: INTERNAL SERVER ERROR for url: http://localhost:5000/api/v1/parser/analyze/office-action\n",
      "Error occured for 17313352-2022-09-12-CTNF: 500 Server Error: INTERNAL SERVER ERROR for url: http://localhost:5000/api/v1/parser/analyze/office-action\n",
      "Error occured for 16829872-2021-11-22-CTNF: 500 Server Error: INTERNAL SERVER ERROR for url: http://localhost:5000/api/v1/parser/analyze/office-action\n",
      "Error occured for 0104-0419 Response AF 05-05-23.docx: [Errno 20] Not a directory: './data/oa_samples/0104-0419 Response AF 05-05-23.docx'\n",
      "Error occured for 16744636-2022-05-24-CTNF: 500 Server Error: INTERNAL SERVER ERROR for url: http://localhost:5000/api/v1/parser/analyze/office-action\n",
      "Error occured for 16996493-2022-03-23-CTNF: 500 Server Error: INTERNAL SERVER ERROR for url: http://localhost:5000/api/v1/parser/analyze/office-action\n",
      "Error occured for 17175470-2022-08-02-CTNF: 500 Server Error: INTERNAL SERVER ERROR for url: http://localhost:5000/api/v1/parser/analyze/office-action\n",
      "Error occured for 0104-0193C2 Response 04-24-23 (1).docx:Zone.Identifier: [Errno 20] Not a directory: './data/oa_samples/0104-0193C2 Response 04-24-23 (1).docx:Zone.Identifier'\n",
      "Not all file present in .ipynb_checkpoints\n",
      "Error occured for 16923583-2021-11-23-CTNF: 500 Server Error: INTERNAL SERVER ERROR for url: http://localhost:5000/api/v1/parser/analyze/office-action\n",
      "Error occured for 192630 Response AF 22 March 2023.docx: [Errno 20] Not a directory: './data/oa_samples/192630 Response AF 22 March 2023.docx'\n",
      "Error occured for 0096-0219_Restriction_Response_due_9-20-22 - FINAL.docx: [Errno 20] Not a directory: './data/oa_samples/0096-0219_Restriction_Response_due_9-20-22 - FINAL.docx'\n",
      "Error occured for 16949396-2022-07-29-CTNF: 500 Server Error: INTERNAL SERVER ERROR for url: http://localhost:5000/api/v1/parser/analyze/office-action\n",
      "Error occured for 0096-0660 Response 05-05-23.docx: [Errno 20] Not a directory: './data/oa_samples/0096-0660 Response 05-05-23.docx'\n",
      "Not all file present in 29706521-2021-06-02-CTNF\n",
      "Error occured for 17108684-2022-08-23-CTNF: 500 Server Error: INTERNAL SERVER ERROR for url: http://localhost:5000/api/v1/parser/analyze/office-action\n",
      "Error occured for 16835941-2022-01-14-CTNF: 500 Server Error: INTERNAL SERVER ERROR for url: http://localhost:5000/api/v1/parser/analyze/office-action\n",
      "Error occured for 0023-1067_Response AF_05-01-23.docx: [Errno 20] Not a directory: './data/oa_samples/0023-1067_Response AF_05-01-23.docx'\n",
      "Error occured for 16417164-2020-12-15-CTNF: 500 Server Error: INTERNAL SERVER ERROR for url: http://localhost:5000/api/v1/parser/analyze/office-action\n",
      "Error occured for 0023-1067_Response AF_05-01-23.docx:Zone.Identifier: [Errno 20] Not a directory: './data/oa_samples/0023-1067_Response AF_05-01-23.docx:Zone.Identifier'\n",
      "Error occured for 16678989-2021-06-10-CTNF: 500 Server Error: INTERNAL SERVER ERROR for url: http://localhost:5000/api/v1/parser/analyze/office-action\n",
      "Error occured for 0096-0616 Response 02-28-23.docx: [Errno 20] Not a directory: './data/oa_samples/0096-0616 Response 02-28-23.docx'\n",
      "Error occured for 29722300-2021-12-07-CTNF: 500 Server Error: INTERNAL SERVER ERROR for url: http://localhost:5000/api/v1/parser/analyze/office-action\n",
      "Error occured for 0104-0419 Response AF 05-05-23.docx:Zone.Identifier: [Errno 20] Not a directory: './data/oa_samples/0104-0419 Response AF 05-05-23.docx:Zone.Identifier'\n"
     ]
    }
   ],
   "source": [
    "for dir in os.listdir('./data/oa_samples'):\n",
    "    try:\n",
    "        files = os.listdir(f'./data/oa_samples/{dir}')\n",
    "        clmFile = next((file for file in files if \"CLM\" in file), None)\n",
    "        oaFile = next((file for file in files if \"CTNF.xml\" in file or \"CTFR.xml\" in file), None)\n",
    "        if clmFile and oaFile:\n",
    "            clmBase64 = base64.b64encode(open(f\"./data/oa_samples/{dir}/{clmFile}\", 'rb').read()).decode(\"utf-8\")\n",
    "            oaBase64 = base64.b64encode(open(f\"./data/oa_samples/{dir}/{oaFile}\", 'rb').read()).decode(\"utf-8\")\n",
    "        \n",
    "            payload = {\"artifacts\": [{\"type\": \"oaxml\", \"base64\": oaBase64}, {\"type\": \"clmxml\", \"base64\": clmBase64}]}\n",
    "        \n",
    "            response = requests.post(url, json=payload, headers=headers)\n",
    "            response.raise_for_status()\n",
    "            context = response.json()\n",
    "\n",
    "            with open(f\"./data/oa_samples/{dir}/context.json\", \"w\") as outfile:\n",
    "                outfile.write(json.dumps(context, indent=4))\n",
    "        else:\n",
    "            print(f\"Not all file present in {dir}\")\n",
    "            \n",
    "    except Exception as e:\n",
    "        print(f\"Error occured for {dir}: {e}\")\n",
    "\n"
   ]
  },
  {
   "cell_type": "code",
   "execution_count": 131,
   "id": "5f4f8f98-1ede-4222-a69b-eae9333efc92",
   "metadata": {},
   "outputs": [
    {
     "name": "stdout",
     "output_type": "stream",
     "text": [
      "<Response [200]>\n"
     ]
    }
   ],
   "source": [
    "#\"17249325-2022-06-10-CTNF\" - wrong claims in OA\n",
    "#\"16587832-2021-06-14-CTNF\" - wrong claims in OA\n",
    "#\"15976652-2020-12-28-CTFR\" - missing OA xml\n",
    "#\"16948729-2021-12-08-CTNF\" - claims missmatch\n",
    "#\"15733435-2021-08-25-CTNF\" - bad claims\n",
    "#\"16678989-2021-06-10-CTNF\" - typos\n",
    "#\"16417164-2020-12-15-CTNF\" - circular reference\n",
    "#\"16835941-2022-01-14-CTNF\" - circular reference\n",
    "#\"17108684-2022-08-23-CTNF\" - typos\n",
    "#\"16949396-2022-07-29-CTNF\" - missing OA xml\n",
    "#\"17175470-2022-08-02-CTNF\" - circular reference\n",
    "#\"16744636-2022-05-24-CTNF\" - circualr refrence\n",
    "#\"16829872-2021-11-22-CTNF\" - missing OA xml\n",
    "#\"17313352-2022-09-12-CTNF\" - bad claims\n",
    "#\"16786855-2021-12-14-CTNF\" - missing OA xml\n",
    "#\"29730943-2021-11-24-CTNF\" - design patent\n",
    "#\"17000270-2021-10-05-CTNF\" - circular reference\n",
    "#\"16832951-2021-07-20-CTNF\" - circular reference\n",
    "#\"16722851-2021-09-23-CTNF\" - circular reference\n",
    "#\"17024974-2021-05-24-CTNF\" - circular reference\n",
    "#\"17133063-2021-07-23-CTNF\" - bad claims\n",
    "#\"17248152-2022-02-08-CTNF\" - circular reference\n",
    "#\"15976652-2020-12-28-CTFR\" - missing OA xml\n",
    "dir = \"16948729-2021-12-08-CTNF\"\n",
    "\n",
    "try:\n",
    "    files = os.listdir(f'./data/oa_samples/{dir}')\n",
    "    clmFile = next((file for file in files if \"CLM\" in file), None)\n",
    "    oaFile = next((file for file in files if \"CTNF.xml\" in file or \"CTFR.xml\" in file), None)\n",
    "    if clmFile and oaFile:\n",
    "        clmBase64 = base64.b64encode(open(f\"./data/oa_samples/{dir}/{clmFile}\", 'rb').read()).decode(\"utf-8\")\n",
    "        oaBase64 = base64.b64encode(open(f\"./data/oa_samples/{dir}/{oaFile}\", 'rb').read()).decode(\"utf-8\")\n",
    "    \n",
    "        payload = {\"artifacts\": [{\"type\": \"oaxml\", \"base64\": oaBase64}, {\"type\": \"clmxml\", \"base64\": clmBase64}]}\n",
    "    \n",
    "        response = requests.post(url, json=payload, headers=headers)\n",
    "        print(response)\n",
    "        response.raise_for_status()\n",
    "        context = response.json()\n",
    "\n",
    "        with open(f\"./data/oa_samples/{dir}/context.json\", \"w\") as outfile:\n",
    "            outfile.write(json.dumps(context, indent=4))\n",
    "    else:\n",
    "        print(f\"Not all files present in {dir}\")\n",
    "        \n",
    "except Exception as e:\n",
    "    print(f\"Error occured for {dir}: {e}\")"
   ]
  },
  {
   "cell_type": "code",
   "execution_count": 130,
   "id": "6cbdda76-923d-4978-b015-8d6873769ced",
   "metadata": {},
   "outputs": [
    {
     "data": {
      "application/json": {
       "allowable": [],
       "allowed": [],
       "claims": [
        {
         "claimNumber": 1,
         "claimType": 2,
         "deviceName": {
          "acronym": "",
          "length": 6,
          "location": "preamble",
          "offset": 2,
          "originalText": "device",
          "text": "device"
         },
         "independentClaim": true,
         "independentParent": null,
         "limitations": [
          {
           "documentOrigin": {
            "end": 26,
            "paragraphHash": null,
            "paragraphId": null,
            "paragraphIndex": 3,
            "start": 0
           },
           "indentation": 0,
           "limitations": [
            {
             "documentOrigin": {
              "end": 206,
              "paragraphHash": null,
              "paragraphId": null,
              "paragraphIndex": 4,
              "start": 0
             },
             "indentation": 1,
             "limitations": [],
             "origin": {
              "order": 0,
              "paragraphIndex": 2,
              "place": "limitationParagraph",
              "startsNewParagraph": true
             },
             "originalText": "receive information identifying a set of tasks to be executed, the set of tasks being associated with a microservices application, the microservices application being associated with a set of microservices;",
             "processStep": {
              "directObject": "information identifying a set of tasks to be executed, the set of tasks being associated with a microservices application, the microservices application being associated with a set of microservices;",
              "verbPhrase": {
               "gerund": "receiving",
               "infinitive": "receive",
               "original": "receive",
               "past": "received"
              }
             },
             "status": 0,
             "statusText": "Success",
             "text": "receive information identifying a set of tasks to be executed, the set of tasks being associated with a microservices application, the microservices application being associated with a set of microservices;"
            },
            {
             "documentOrigin": {
              "end": 131,
              "paragraphHash": null,
              "paragraphId": null,
              "paragraphIndex": 5,
              "start": 0
             },
             "indentation": 1,
             "limitations": [
              {
               "documentOrigin": {
                "end": 426,
                "paragraphHash": null,
                "paragraphId": null,
                "paragraphIndex": 6,
                "start": 0
               },
               "indentation": 2,
               "limitations": [],
               "origin": {
                "order": 0,
                "paragraphIndex": 4,
                "place": "limitationParagraph",
                "startsNewParagraph": true
               },
               "originalText": "a first parameter that identifies a number of tasks of the set of tasks, a second parameter that identifies a first number of instances of a first microservice of the set of microservices, a third parameter that identifies a first score associated with the first microservice of the set of microservices, a fourth parameter that identifies a second number of instances of a second microservice of the set of microservices, and",
               "status": 0,
               "statusText": "Success",
               "text": "a first parameter that identifies a number of tasks of the set of tasks, a second parameter that identifies a first number of instances of a first microservice of the set of microservices, a third parameter that identifies a first score associated with the first microservice of the set of microservices, a fourth parameter that identifies a second number of instances of a second microservice of the set of microservices, and"
              },
              {
               "documentOrigin": {
                "end": 117,
                "paragraphHash": null,
                "paragraphId": null,
                "paragraphIndex": 7,
                "start": 0
               },
               "indentation": 2,
               "limitations": [],
               "origin": {
                "order": 0,
                "paragraphIndex": 5,
                "place": "limitationParagraph",
                "startsNewParagraph": true
               },
               "originalText": "a fifth parameter that identifies a second score associated with the second microservice of the set of microservices;",
               "status": 0,
               "statusText": "Success",
               "text": "a fifth parameter that identifies a second score associated with the second microservice of the set of microservices;"
              }
             ],
             "origin": {
              "order": 0,
              "paragraphIndex": 3,
              "place": "limitationParagraph",
              "startsNewParagraph": true
             },
             "originalText": "determine an execution time of the set of tasks based on a set of parameters and a model, the set of parameters including at least:",
             "processStep": {
              "directObject": "an execution time of the set of tasks based on a set of parameters and a model, the set of parameters including at least:",
              "verbPhrase": {
               "gerund": "determining",
               "infinitive": "determine",
               "original": "determine",
               "past": "determined"
              }
             },
             "status": 0,
             "statusText": "Success",
             "text": "determine an execution time of the set of tasks based on a set of parameters and a model, the set of parameters including at least:"
            },
            {
             "documentOrigin": {
              "end": 47,
              "paragraphHash": null,
              "paragraphId": null,
              "paragraphIndex": 8,
              "start": 0
             },
             "indentation": 1,
             "limitations": [],
             "origin": {
              "order": 0,
              "paragraphIndex": 6,
              "place": "limitationParagraph",
              "startsNewParagraph": true
             },
             "originalText": "compare the execution time and a threshold; and",
             "processStep": {
              "directObject": "the execution time and a threshold; and",
              "verbPhrase": {
               "gerund": "comparing",
               "infinitive": "compare",
               "original": "compare",
               "past": "compared"
              }
             },
             "status": 0,
             "statusText": "Success",
             "text": "compare the execution time and a threshold; and"
            },
            {
             "documentOrigin": {
              "end": 192,
              "paragraphHash": null,
              "paragraphId": null,
              "paragraphIndex": 9,
              "start": 0
             },
             "indentation": 1,
             "limitations": [],
             "origin": {
              "order": 0,
              "paragraphIndex": 7,
              "place": "limitationParagraph",
              "startsNewParagraph": true
             },
             "originalText": "selectively adjust the first number of instances of the first microservice or the second number of instances of the second microservice based on comparing the execution time and the threshold.",
             "processStep": {
              "directObject": "the first number of instances of the first microservice or the second number of instances of the second microservice based on comparing the execution time and the threshold.",
              "verbPhrase": {
               "gerund": "selectively adjusting",
               "infinitive": "selectively adjust",
               "original": "selectively adjust",
               "past": "selectively adjusted"
              }
             },
             "status": 0,
             "statusText": "Success",
             "text": "selectively adjust the first number of instances of the first microservice or the second number of instances of the second microservice based on comparing the execution time and the threshold."
            }
           ],
           "origin": {
            "order": 0,
            "paragraphIndex": 1,
            "place": "limitationParagraph",
            "startsNewParagraph": true
           },
           "originalText": "one or more processors to:",
           "status": 0,
           "statusText": "Success",
           "text": "one or more processors to:"
          }
         ],
         "parentClaimNumbers": [],
         "preamble": {
          "documentOrigin": {
           "end": 27,
           "paragraphHash": null,
           "paragraphId": null,
           "paragraphIndex": 2,
           "start": 6
          },
          "origin": {
           "order": 0,
           "paragraphIndex": 0,
           "place": "preambleParagraph",
           "startsNewParagraph": true
          },
          "originalText": "A device, comprising:",
          "text": "A device, comprising:"
         },
         "status": 0,
         "statusIndicator": 0,
         "statusText": "Success"
        },
        {
         "claimNumber": 2,
         "claimType": 2,
         "deviceName": {},
         "independentClaim": false,
         "independentParent": 1,
         "limitations": [
          {
           "documentOrigin": {
            "end": 78,
            "paragraphHash": null,
            "paragraphId": null,
            "paragraphIndex": 10,
            "start": 30
           },
           "indentation": 0,
           "limitations": [
            {
             "documentOrigin": {
              "end": 65,
              "paragraphHash": null,
              "paragraphId": null,
              "paragraphIndex": 11,
              "start": 0
             },
             "indentation": 1,
             "limitations": [],
             "origin": {
              "order": 0,
              "paragraphIndex": 1,
              "place": "limitationParagraph",
              "startsNewParagraph": true
             },
             "originalText": "determine that the execution time does not satisfy the threshold;",
             "processStep": {
              "directObject": "that the execution time does not satisfy the threshold;",
              "verbPhrase": {
               "gerund": "determining",
               "infinitive": "determine",
               "original": "determine",
               "past": "determined"
              }
             },
             "status": 0,
             "statusText": "Success",
             "text": "determine that the execution time does not satisfy the threshold;"
            },
            {
             "documentOrigin": {
              "end": 97,
              "paragraphHash": null,
              "paragraphId": null,
              "paragraphIndex": 12,
              "start": 0
             },
             "indentation": 1,
             "limitations": [],
             "origin": {
              "order": 0,
              "paragraphIndex": 2,
              "place": "limitationParagraph",
              "startsNewParagraph": true
             },
             "originalText": "decrease the second number of instances of the second microservice based on the second score; and",
             "processStep": {
              "directObject": "the second number of instances of the second microservice based on the second score; and",
              "verbPhrase": {
               "gerund": "decreasing",
               "infinitive": "decrease",
               "original": "decrease",
               "past": "decreased"
              }
             },
             "status": 0,
             "statusText": "Success",
             "text": "decrease the second number of instances of the second microservice based on the second score; and"
            },
            {
             "documentOrigin": {
              "end": 90,
              "paragraphHash": null,
              "paragraphId": null,
              "paragraphIndex": 13,
              "start": 0
             },
             "indentation": 1,
             "limitations": [],
             "origin": {
              "order": 0,
              "paragraphIndex": 3,
              "place": "limitationParagraph",
              "startsNewParagraph": true
             },
             "originalText": "increase the first number of instances of the first microservice based on the first score.",
             "processStep": {
              "directObject": "the first number of instances of the first microservice based on the first score.",
              "verbPhrase": {
               "gerund": "increasing",
               "infinitive": "increase",
               "original": "increase",
               "past": "increased"
              }
             },
             "status": 0,
             "statusText": "Success",
             "text": "increase the first number of instances of the first microservice based on the first score."
            }
           ],
           "origin": {
            "order": 1,
            "paragraphIndex": 0,
            "place": "preambleParagraph",
            "startsNewParagraph": false
           },
           "originalText": "where the one or more processors are further to:",
           "status": 0,
           "statusText": "Success",
           "text": "where the one or more processors are further to:",
           "whereinClause": {
            "actorName": "one or more processors",
            "addedLimitationPhrase": null,
            "addingProcessStep": true,
            "isComplete": false,
            "modifyingProcessStep": false,
            "referencedTerm": null,
            "transitionalPhrase": "are further to",
            "whereinIndicator": "where"
           }
          }
         ],
         "parentClaimNumbers": [
          1
         ],
         "preamble": {
          "documentOrigin": {
           "end": 29,
           "paragraphHash": null,
           "paragraphId": null,
           "paragraphIndex": 10,
           "start": 7
          },
          "origin": {
           "order": 0,
           "paragraphIndex": 0,
           "place": "preambleParagraph",
           "startsNewParagraph": true
          },
          "originalText": "The device of claim 1,",
          "text": "The device of claim 1,"
         },
         "status": 0,
         "statusIndicator": 0,
         "statusText": "Success"
        },
        {
         "claimNumber": 3,
         "claimType": 2,
         "deviceName": {},
         "independentClaim": false,
         "independentParent": 1,
         "limitations": [
          {
           "documentOrigin": {
            "end": 78,
            "paragraphHash": null,
            "paragraphId": null,
            "paragraphIndex": 14,
            "start": 30
           },
           "indentation": 0,
           "limitations": [
            {
             "documentOrigin": {
              "end": 87,
              "paragraphHash": null,
              "paragraphId": null,
              "paragraphIndex": 15,
              "start": 0
             },
             "indentation": 1,
             "limitations": [],
             "origin": {
              "order": 0,
              "paragraphIndex": 1,
              "place": "limitationParagraph",
              "startsNewParagraph": true
             },
             "originalText": "determine a percentage completion associated with an execution of the set of tasks; and",
             "processStep": {
              "directObject": "a percentage completion associated with an execution of the set of tasks; and",
              "verbPhrase": {
               "gerund": "determining",
               "infinitive": "determine",
               "original": "determine",
               "past": "determined"
              }
             },
             "status": 0,
             "statusText": "Success",
             "text": "determine a percentage completion associated with an execution of the set of tasks; and"
            },
            {
             "documentOrigin": {
              "end": 98,
              "paragraphHash": null,
              "paragraphId": null,
              "paragraphIndex": 16,
              "start": 0
             },
             "indentation": 1,
             "limitations": [
              {
               "documentOrigin": {
                "end": 64,
                "paragraphHash": null,
                "paragraphId": null,
                "paragraphIndex": 17,
                "start": 0
               },
               "indentation": 2,
               "limitations": [],
               "origin": {
                "order": 0,
                "paragraphIndex": 3,
                "place": "limitationParagraph",
                "startsNewParagraph": true
               },
               "originalText": "determine the execution time based on the percentage completion.",
               "processStep": {
                "directObject": "the execution time based on the percentage completion.",
                "verbPhrase": {
                 "gerund": "determining",
                 "infinitive": "determine",
                 "original": "determine",
                 "past": "determined"
                }
               },
               "status": 0,
               "statusText": "Success",
               "text": "determine the execution time based on the percentage completion."
              }
             ],
             "origin": {
              "order": 0,
              "paragraphIndex": 2,
              "place": "limitationParagraph",
              "startsNewParagraph": true
             },
             "originalText": "where the one or more processors, when determining the execution time of the set of tasks, are to:",
             "status": 0,
             "statusText": "Success",
             "text": "where the one or more processors, when determining the execution time of the set of tasks, are to:",
             "whereinClause": {
              "actorName": "one or more processors",
              "addedLimitationPhrase": null,
              "addingProcessStep": true,
              "isComplete": false,
              "modifyingProcessStep": true,
              "referencedTerm": "determining the execution time of the set of tasks",
              "transitionalPhrase": "are to",
              "whereinIndicator": "where"
             }
            }
           ],
           "origin": {
            "order": 1,
            "paragraphIndex": 0,
            "place": "preambleParagraph",
            "startsNewParagraph": false
           },
           "originalText": "where the one or more processors are further to:",
           "status": 0,
           "statusText": "Success",
           "text": "where the one or more processors are further to:",
           "whereinClause": {
            "actorName": "one or more processors",
            "addedLimitationPhrase": null,
            "addingProcessStep": true,
            "isComplete": false,
            "modifyingProcessStep": false,
            "referencedTerm": null,
            "transitionalPhrase": "are further to",
            "whereinIndicator": "where"
           }
          }
         ],
         "parentClaimNumbers": [
          1
         ],
         "preamble": {
          "documentOrigin": {
           "end": 29,
           "paragraphHash": null,
           "paragraphId": null,
           "paragraphIndex": 14,
           "start": 7
          },
          "origin": {
           "order": 0,
           "paragraphIndex": 0,
           "place": "preambleParagraph",
           "startsNewParagraph": true
          },
          "originalText": "The device of claim 1,",
          "text": "The device of claim 1,"
         },
         "status": 0,
         "statusIndicator": 0,
         "statusText": "Success"
        },
        {
         "claimNumber": 4,
         "claimType": 2,
         "deviceName": {},
         "independentClaim": false,
         "independentParent": 1,
         "limitations": [
          {
           "documentOrigin": {
            "end": 78,
            "paragraphHash": null,
            "paragraphId": null,
            "paragraphIndex": 18,
            "start": 30
           },
           "indentation": 0,
           "limitations": [
            {
             "documentOrigin": {
              "end": 75,
              "paragraphHash": null,
              "paragraphId": null,
              "paragraphIndex": 19,
              "start": 0
             },
             "indentation": 1,
             "limitations": [],
             "origin": {
              "order": 0,
              "paragraphIndex": 1,
              "place": "limitationParagraph",
              "startsNewParagraph": true
             },
             "originalText": "determine an elapsed time associated with an execution of the set of tasks;",
             "processStep": {
              "directObject": "an elapsed time associated with an execution of the set of tasks;",
              "verbPhrase": {
               "gerund": "determining",
               "infinitive": "determine",
               "original": "determine",
               "past": "determined"
              }
             },
             "status": 0,
             "statusText": "Success",
             "text": "determine an elapsed time associated with an execution of the set of tasks;"
            },
            {
             "documentOrigin": {
              "end": 54,
              "paragraphHash": null,
              "paragraphId": null,
              "paragraphIndex": 20,
              "start": 0
             },
             "indentation": 1,
             "limitations": [],
             "origin": {
              "order": 0,
              "paragraphIndex": 2,
              "place": "limitationParagraph",
              "startsNewParagraph": true
             },
             "originalText": "determine the threshold based on the elapsed time; and",
             "processStep": {
              "directObject": "the threshold based on the elapsed time; and",
              "verbPhrase": {
               "gerund": "determining",
               "infinitive": "determine",
               "original": "determine",
               "past": "determined"
              }
             },
             "status": 0,
             "statusText": "Success",
             "text": "determine the threshold based on the elapsed time; and"
            },
            {
             "documentOrigin": {
              "end": 94,
              "paragraphHash": null,
              "paragraphId": null,
              "paragraphIndex": 21,
              "start": 0
             },
             "indentation": 1,
             "limitations": [
              {
               "documentOrigin": {
                "end": 80,
                "paragraphHash": null,
                "paragraphId": null,
                "paragraphIndex": 22,
                "start": 0
               },
               "indentation": 2,
               "limitations": [],
               "origin": {
                "order": 0,
                "paragraphIndex": 4,
                "place": "limitationParagraph",
                "startsNewParagraph": true
               },
               "originalText": "compare the execution time and the threshold based on determining the threshold.",
               "processStep": {
                "directObject": "the execution time and the threshold based on determining the threshold.",
                "verbPhrase": {
                 "gerund": "comparing",
                 "infinitive": "compare",
                 "original": "compare",
                 "past": "compared"
                }
               },
               "status": 0,
               "statusText": "Success",
               "text": "compare the execution time and the threshold based on determining the threshold."
              }
             ],
             "origin": {
              "order": 0,
              "paragraphIndex": 3,
              "place": "limitationParagraph",
              "startsNewParagraph": true
             },
             "originalText": "where the one or more processors, when comparing the execution time and the threshold, are to:",
             "status": 0,
             "statusText": "Success",
             "text": "where the one or more processors, when comparing the execution time and the threshold, are to:",
             "whereinClause": {
              "actorName": "one or more processors",
              "addedLimitationPhrase": null,
              "addingProcessStep": true,
              "isComplete": false,
              "modifyingProcessStep": true,
              "referencedTerm": "comparing the execution time and the threshold",
              "transitionalPhrase": "are to",
              "whereinIndicator": "where"
             }
            }
           ],
           "origin": {
            "order": 1,
            "paragraphIndex": 0,
            "place": "preambleParagraph",
            "startsNewParagraph": false
           },
           "originalText": "where the one or more processors are further to:",
           "status": 0,
           "statusText": "Success",
           "text": "where the one or more processors are further to:",
           "whereinClause": {
            "actorName": "one or more processors",
            "addedLimitationPhrase": null,
            "addingProcessStep": true,
            "isComplete": false,
            "modifyingProcessStep": false,
            "referencedTerm": null,
            "transitionalPhrase": "are further to",
            "whereinIndicator": "where"
           }
          }
         ],
         "parentClaimNumbers": [
          1
         ],
         "preamble": {
          "documentOrigin": {
           "end": 29,
           "paragraphHash": null,
           "paragraphId": null,
           "paragraphIndex": 18,
           "start": 7
          },
          "origin": {
           "order": 0,
           "paragraphIndex": 0,
           "place": "preambleParagraph",
           "startsNewParagraph": true
          },
          "originalText": "The device of claim 1,",
          "text": "The device of claim 1,"
         },
         "status": 0,
         "statusIndicator": 0,
         "statusText": "Success"
        },
        {
         "claimNumber": 5,
         "claimType": 2,
         "deviceName": {},
         "independentClaim": false,
         "independentParent": 1,
         "limitations": [
          {
           "documentOrigin": {
            "end": 155,
            "paragraphHash": null,
            "paragraphId": null,
            "paragraphIndex": 23,
            "start": 30
           },
           "indentation": 0,
           "limitations": [
            {
             "documentOrigin": {
              "end": 61,
              "paragraphHash": null,
              "paragraphId": null,
              "paragraphIndex": 24,
              "start": 0
             },
             "indentation": 1,
             "limitations": [
              {
               "documentOrigin": {
                "end": 73,
                "paragraphHash": null,
                "paragraphId": null,
                "paragraphIndex": 25,
                "start": 3
               },
               "indentation": 2,
               "limitations": [],
               "origin": {
                "order": 0,
                "paragraphIndex": 2,
                "place": "limitationParagraph",
                "startsNewParagraph": true
               },
               "originalText": "the third microservice being associated with another set of tasks; and",
               "status": 0,
               "statusText": "Success",
               "text": "the third microservice being associated with another set of tasks; and"
              }
             ],
             "origin": {
              "order": 0,
              "paragraphIndex": 1,
              "place": "limitationParagraph",
              "startsNewParagraph": true
             },
             "originalText": "decrease a third number of instances of a third microservice,",
             "processStep": {
              "directObject": "a third number of instances of a third microservice,",
              "verbPhrase": {
               "gerund": "decreasing",
               "infinitive": "decrease",
               "original": "decrease",
               "past": "decreased"
              }
             },
             "status": 0,
             "statusText": "Success",
             "text": "decrease a third number of instances of a third microservice,"
            },
            {
             "documentOrigin": {
              "end": 141,
              "paragraphHash": null,
              "paragraphId": null,
              "paragraphIndex": 26,
              "start": 0
             },
             "indentation": 1,
             "limitations": [],
             "origin": {
              "order": 0,
              "paragraphIndex": 3,
              "place": "limitationParagraph",
              "startsNewParagraph": true
             },
             "originalText": "increase the first number of instances of the first microservice based on decreasing the third number of instances of the third microservice.",
             "processStep": {
              "directObject": "the first number of instances of the first microservice based on decreasing the third number of instances of the third microservice.",
              "verbPhrase": {
               "gerund": "increasing",
               "infinitive": "increase",
               "original": "increase",
               "past": "increased"
              }
             },
             "status": 0,
             "statusText": "Success",
             "text": "increase the first number of instances of the first microservice based on decreasing the third number of instances of the third microservice."
            }
           ],
           "origin": {
            "order": 1,
            "paragraphIndex": 0,
            "place": "preambleParagraph",
            "startsNewParagraph": false
           },
           "originalText": "where the one or more processors, when selectively adjusting the first number of instances of the first microservice, are to:",
           "status": 0,
           "statusText": "Success",
           "text": "where the one or more processors, when selectively adjusting the first number of instances of the first microservice, are to:",
           "whereinClause": {
            "actorName": "one or more processors",
            "addedLimitationPhrase": null,
            "addingProcessStep": true,
            "isComplete": false,
            "modifyingProcessStep": true,
            "referencedTerm": "selectively adjusting the first number of instances of the first microservice",
            "transitionalPhrase": "are to",
            "whereinIndicator": "where"
           }
          }
         ],
         "parentClaimNumbers": [
          1
         ],
         "preamble": {
          "documentOrigin": {
           "end": 29,
           "paragraphHash": null,
           "paragraphId": null,
           "paragraphIndex": 23,
           "start": 7
          },
          "origin": {
           "order": 0,
           "paragraphIndex": 0,
           "place": "preambleParagraph",
           "startsNewParagraph": true
          },
          "originalText": "The device of claim 1,",
          "text": "The device of claim 1,"
         },
         "status": 0,
         "statusIndicator": 0,
         "statusText": "Success"
        },
        {
         "claimNumber": 6,
         "claimType": 2,
         "deviceName": {},
         "independentClaim": false,
         "independentParent": 1,
         "limitations": [
          {
           "documentOrigin": {
            "end": 78,
            "paragraphHash": null,
            "paragraphId": null,
            "paragraphIndex": 27,
            "start": 30
           },
           "indentation": 0,
           "limitations": [
            {
             "documentOrigin": {
              "end": 80,
              "paragraphHash": null,
              "paragraphId": null,
              "paragraphIndex": 28,
              "start": 0
             },
             "indentation": 1,
             "limitations": [],
             "origin": {
              "order": 0,
              "paragraphIndex": 1,
              "place": "limitationParagraph",
              "startsNewParagraph": true
             },
             "originalText": "provision a set of network devices to execute the microservices application; and",
             "processStep": {
              "directObject": "a set of network devices to execute the microservices application; and",
              "verbPhrase": {
               "gerund": "provisioning",
               "infinitive": "provision",
               "original": "provision",
               "past": "provisioned"
              }
             },
             "status": 0,
             "statusText": "Success",
             "text": "provision a set of network devices to execute the microservices application; and"
            },
            {
             "documentOrigin": {
              "end": 98,
              "paragraphHash": null,
              "paragraphId": null,
              "paragraphIndex": 29,
              "start": 0
             },
             "indentation": 1,
             "limitations": [
              {
               "documentOrigin": {
                "end": 139,
                "paragraphHash": null,
                "paragraphId": null,
                "paragraphIndex": 30,
                "start": 0
               },
               "indentation": 2,
               "limitations": [],
               "origin": {
                "order": 0,
                "paragraphIndex": 3,
                "place": "limitationParagraph",
                "startsNewParagraph": true
               },
               "originalText": "determine the execution time of the set of tasks based on provisioning the set of network devices to execute the microservices application.",
               "processStep": {
                "directObject": "the execution time of the set of tasks based on provisioning the set of network devices to execute the microservices application.",
                "verbPhrase": {
                 "gerund": "determining",
                 "infinitive": "determine",
                 "original": "determine",
                 "past": "determined"
                }
               },
               "status": 0,
               "statusText": "Success",
               "text": "determine the execution time of the set of tasks based on provisioning the set of network devices to execute the microservices application."
              }
             ],
             "origin": {
              "order": 0,
              "paragraphIndex": 2,
              "place": "limitationParagraph",
              "startsNewParagraph": true
             },
             "originalText": "where the one or more processors, when determining the execution time of the set of tasks, are to:",
             "status": 0,
             "statusText": "Success",
             "text": "where the one or more processors, when determining the execution time of the set of tasks, are to:",
             "whereinClause": {
              "actorName": "one or more processors",
              "addedLimitationPhrase": null,
              "addingProcessStep": true,
              "isComplete": false,
              "modifyingProcessStep": true,
              "referencedTerm": "determining the execution time of the set of tasks",
              "transitionalPhrase": "are to",
              "whereinIndicator": "where"
             }
            }
           ],
           "origin": {
            "order": 1,
            "paragraphIndex": 0,
            "place": "preambleParagraph",
            "startsNewParagraph": false
           },
           "originalText": "where the one or more processors are further to:",
           "status": 0,
           "statusText": "Success",
           "text": "where the one or more processors are further to:",
           "whereinClause": {
            "actorName": "one or more processors",
            "addedLimitationPhrase": null,
            "addingProcessStep": true,
            "isComplete": false,
            "modifyingProcessStep": false,
            "referencedTerm": null,
            "transitionalPhrase": "are further to",
            "whereinIndicator": "where"
           }
          }
         ],
         "parentClaimNumbers": [
          1
         ],
         "preamble": {
          "documentOrigin": {
           "end": 29,
           "paragraphHash": null,
           "paragraphId": null,
           "paragraphIndex": 27,
           "start": 7
          },
          "origin": {
           "order": 0,
           "paragraphIndex": 0,
           "place": "preambleParagraph",
           "startsNewParagraph": true
          },
          "originalText": "The device of claim 1,",
          "text": "The device of claim 1,"
         },
         "status": 0,
         "statusIndicator": 0,
         "statusText": "Success"
        },
        {
         "claimNumber": 7,
         "claimType": 2,
         "deviceName": {},
         "independentClaim": false,
         "independentParent": 1,
         "limitations": [
          {
           "documentOrigin": {
            "end": 155,
            "paragraphHash": null,
            "paragraphId": null,
            "paragraphIndex": 31,
            "start": 30
           },
           "indentation": 0,
           "limitations": [
            {
             "documentOrigin": {
              "end": 90,
              "paragraphHash": null,
              "paragraphId": null,
              "paragraphIndex": 32,
              "start": 0
             },
             "indentation": 1,
             "limitations": [],
             "origin": {
              "order": 0,
              "paragraphIndex": 1,
              "place": "limitationParagraph",
              "startsNewParagraph": true
             },
             "originalText": "increase the first number of instances of the first microservice based on the first score.",
             "processStep": {
              "directObject": "the first number of instances of the first microservice based on the first score.",
              "verbPhrase": {
               "gerund": "increasing",
               "infinitive": "increase",
               "original": "increase",
               "past": "increased"
              }
             },
             "status": 0,
             "statusText": "Success",
             "text": "increase the first number of instances of the first microservice based on the first score."
            }
           ],
           "origin": {
            "order": 1,
            "paragraphIndex": 0,
            "place": "preambleParagraph",
            "startsNewParagraph": false
           },
           "originalText": "where the one or more processors, when selectively adjusting the first number of instances of the first microservice, are to:",
           "status": 0,
           "statusText": "Success",
           "text": "where the one or more processors, when selectively adjusting the first number of instances of the first microservice, are to:",
           "whereinClause": {
            "actorName": "one or more processors",
            "addedLimitationPhrase": null,
            "addingProcessStep": true,
            "isComplete": false,
            "modifyingProcessStep": true,
            "referencedTerm": "selectively adjusting the first number of instances of the first microservice",
            "transitionalPhrase": "are to",
            "whereinIndicator": "where"
           }
          }
         ],
         "parentClaimNumbers": [
          1
         ],
         "preamble": {
          "documentOrigin": {
           "end": 29,
           "paragraphHash": null,
           "paragraphId": null,
           "paragraphIndex": 31,
           "start": 7
          },
          "origin": {
           "order": 0,
           "paragraphIndex": 0,
           "place": "preambleParagraph",
           "startsNewParagraph": true
          },
          "originalText": "The device of claim 1,",
          "text": "The device of claim 1,"
         },
         "status": 0,
         "statusIndicator": 0,
         "statusText": "Success"
        },
        {
         "claimNumber": 8,
         "claimType": 3,
         "deviceName": {},
         "independentClaim": true,
         "independentParent": null,
         "limitations": [
          {
           "documentOrigin": {
            "end": 108,
            "paragraphHash": null,
            "paragraphId": null,
            "paragraphIndex": 34,
            "start": 0
           },
           "indentation": 0,
           "limitations": [
            {
             "documentOrigin": {
              "end": 136,
              "paragraphHash": null,
              "paragraphId": null,
              "paragraphIndex": 35,
              "start": 0
             },
             "indentation": 1,
             "limitations": [],
             "origin": {
              "order": 0,
              "paragraphIndex": 2,
              "place": "limitationParagraph",
              "startsNewParagraph": true
             },
             "originalText": "receive information identifying a set of tasks to be executed by a microservices application that includes a plurality of microservices;",
             "processStep": {
              "directObject": "information identifying a set of tasks to be executed by a microservices application that includes a plurality of microservices;",
              "verbPhrase": {
               "gerund": "receiving",
               "infinitive": "receive",
               "original": "receive",
               "past": "received"
              }
             },
             "status": 0,
             "statusText": "Success",
             "text": "receive information identifying a set of tasks to be executed by a microservices application that includes a plurality of microservices;"
            },
            {
             "documentOrigin": {
              "end": 89,
              "paragraphHash": null,
              "paragraphId": null,
              "paragraphIndex": 36,
              "start": 0
             },
             "indentation": 1,
             "limitations": [
              {
               "documentOrigin": {
                "end": 35,
                "paragraphHash": null,
                "paragraphId": null,
                "paragraphIndex": 37,
                "start": 3
               },
               "indentation": 2,
               "limitations": [
                {
                 "documentOrigin": {
                  "end": 124,
                  "paragraphHash": null,
                  "paragraphId": null,
                  "paragraphIndex": 38,
                  "start": 0
                 },
                 "indentation": 3,
                 "limitations": [],
                 "origin": {
                  "order": 0,
                  "paragraphIndex": 5,
                  "place": "limitationParagraph",
                  "startsNewParagraph": true
                 },
                 "originalText": "a first parameter that identifies a first number of instances of a first microservice of the plurality of microservices, and",
                 "status": 0,
                 "statusText": "Success",
                 "text": "a first parameter that identifies a first number of instances of a first microservice of the plurality of microservices, and"
                },
                {
                 "documentOrigin": {
                  "end": 123,
                  "paragraphHash": null,
                  "paragraphId": null,
                  "paragraphIndex": 39,
                  "start": 0
                 },
                 "indentation": 3,
                 "limitations": [],
                 "origin": {
                  "order": 0,
                  "paragraphIndex": 6,
                  "place": "limitationParagraph",
                  "startsNewParagraph": true
                 },
                 "originalText": "a second parameter that identifies a second number of instances of a second microservice of the plurality of microservices;",
                 "status": 0,
                 "statusText": "Success",
                 "text": "a second parameter that identifies a second number of instances of a second microservice of the plurality of microservices;"
                }
               ],
               "origin": {
                "order": 0,
                "paragraphIndex": 4,
                "place": "limitationParagraph",
                "startsNewParagraph": true
               },
               "originalText": "the set of parameters including:",
               "status": 0,
               "statusText": "Success",
               "text": "the set of parameters including:"
              }
             ],
             "origin": {
              "order": 0,
              "paragraphIndex": 3,
              "place": "limitationParagraph",
              "startsNewParagraph": true
             },
             "originalText": "determine an execution time of the set of tasks based on a set of parameters and a model,",
             "processStep": {
              "directObject": "an execution time of the set of tasks based on a set of parameters and a model,",
              "verbPhrase": {
               "gerund": "determining",
               "infinitive": "determine",
               "original": "determine",
               "past": "determined"
              }
             },
             "status": 0,
             "statusText": "Success",
             "text": "determine an execution time of the set of tasks based on a set of parameters and a model,"
            },
            {
             "documentOrigin": {
              "end": 110,
              "paragraphHash": null,
              "paragraphId": null,
              "paragraphIndex": 40,
              "start": 0
             },
             "indentation": 1,
             "limitations": [],
             "origin": {
              "order": 0,
              "paragraphIndex": 7,
              "place": "limitationParagraph",
              "startsNewParagraph": true
             },
             "originalText": "compare the execution time and a threshold, the threshold being associated with a service level agreement; and",
             "processStep": {
              "directObject": "the execution time and a threshold, the threshold being associated with a service level agreement; and",
              "verbPhrase": {
               "gerund": "comparing",
               "infinitive": "compare",
               "original": "compare",
               "past": "compared"
              }
             },
             "status": 0,
             "statusText": "Success",
             "text": "compare the execution time and a threshold, the threshold being associated with a service level agreement; and"
            },
            {
             "documentOrigin": {
              "end": 139,
              "paragraphHash": null,
              "paragraphId": null,
              "paragraphIndex": 41,
              "start": 0
             },
             "indentation": 1,
             "limitations": [],
             "origin": {
              "order": 0,
              "paragraphIndex": 8,
              "place": "limitationParagraph",
              "startsNewParagraph": true
             },
             "originalText": "selectively adjust the first number of instances or the second number of instances based on comparing the execution time and the threshold.",
             "processStep": {
              "directObject": "the first number of instances or the second number of instances based on comparing the execution time and the threshold.",
              "verbPhrase": {
               "gerund": "selectively adjusting",
               "infinitive": "selectively adjust",
               "original": "selectively adjust",
               "past": "selectively adjusted"
              }
             },
             "status": 0,
             "statusText": "Success",
             "text": "selectively adjust the first number of instances or the second number of instances based on comparing the execution time and the threshold."
            }
           ],
           "origin": {
            "order": 0,
            "paragraphIndex": 1,
            "place": "limitationParagraph",
            "startsNewParagraph": true
           },
           "originalText": "one or more instructions that, when executed by one or more processors, cause the one or more processors to:",
           "status": 0,
           "statusText": "Success",
           "text": "one or more instructions that, when executed by one or more processors, cause the one or more processors to:"
          }
         ],
         "parentClaimNumbers": [],
         "preamble": {
          "documentOrigin": {
           "end": 99,
           "paragraphHash": null,
           "paragraphId": null,
           "paragraphIndex": 33,
           "start": 7
          },
          "origin": {
           "order": 0,
           "paragraphIndex": 0,
           "place": "preambleParagraph",
           "startsNewParagraph": true
          },
          "originalText": "A non-transitory computer-readable medium storing instructions, the instructions comprising:",
          "text": "A non-transitory computer-readable medium storing instructions, the instructions comprising:"
         },
         "status": 0,
         "statusIndicator": 0,
         "statusText": "Success"
        },
        {
         "claimNumber": 9,
         "claimType": 3,
         "deviceName": {},
         "independentClaim": false,
         "independentParent": 8,
         "limitations": [
          {
           "documentOrigin": {
            "end": 188,
            "paragraphHash": null,
            "paragraphId": null,
            "paragraphIndex": 42,
            "start": 63
           },
           "indentation": 0,
           "limitations": [
            {
             "documentOrigin": {
              "end": 69,
              "paragraphHash": null,
              "paragraphId": null,
              "paragraphIndex": 43,
              "start": 0
             },
             "indentation": 1,
             "limitations": [],
             "origin": {
              "order": 0,
              "paragraphIndex": 1,
              "place": "limitationParagraph",
              "startsNewParagraph": true
             },
             "originalText": "determine that the execution time does not satisfy the threshold; and",
             "processStep": {
              "directObject": "that the execution time does not satisfy the threshold; and",
              "verbPhrase": {
               "gerund": "determining",
               "infinitive": "determine",
               "original": "determine",
               "past": "determined"
              }
             },
             "status": 0,
             "statusText": "Success",
             "text": "determine that the execution time does not satisfy the threshold; and"
            },
            {
             "documentOrigin": {
              "end": 162,
              "paragraphHash": null,
              "paragraphId": null,
              "paragraphIndex": 44,
              "start": 0
             },
             "indentation": 1,
             "limitations": [
              {
               "documentOrigin": {
                "end": 94,
                "paragraphHash": null,
                "paragraphId": null,
                "paragraphIndex": 45,
                "start": 0
               },
               "indentation": 2,
               "limitations": [],
               "origin": {
                "order": 0,
                "paragraphIndex": 3,
                "place": "limitationParagraph",
                "startsNewParagraph": true
               },
               "originalText": "adjust the first number of instances based on the execution time not satisfying the threshold.",
               "processStep": {
                "directObject": "the first number of instances based on the execution time not satisfying the threshold.",
                "verbPhrase": {
                 "gerund": "adjusting",
                 "infinitive": "adjust",
                 "original": "adjust",
                 "past": "adjusted"
                }
               },
               "status": 0,
               "statusText": "Success",
               "text": "adjust the first number of instances based on the execution time not satisfying the threshold."
              }
             ],
             "origin": {
              "order": 0,
              "paragraphIndex": 2,
              "place": "limitationParagraph",
              "startsNewParagraph": true
             },
             "originalText": "where the one or more instructions, that cause the one or more processor to selectively adjust the first number of instances, cause the one or more processors to:",
             "status": 0,
             "statusText": "Success",
             "text": "where the one or more instructions, that cause the one or more processor to selectively adjust the first number of instances, cause the one or more processors to:",
             "whereinClause": {
              "actorName": "one or more processors",
              "addedLimitationPhrase": null,
              "addingProcessStep": true,
              "isComplete": false,
              "modifyingProcessStep": true,
              "referencedTerm": "selectively adjust the first number of instances",
              "transitionalPhrase": "cause ... to",
              "whereinIndicator": "where"
             }
            }
           ],
           "origin": {
            "order": 1,
            "paragraphIndex": 0,
            "place": "preambleParagraph",
            "startsNewParagraph": false
           },
           "originalText": "where the one or more instructions, when executed by the one or more processors, further cause the one or more processors to:",
           "status": 0,
           "statusText": "Success",
           "text": "where the one or more instructions, when executed by the one or more processors, further cause the one or more processors to:",
           "whereinClause": {
            "actorName": "one or more processors",
            "addedLimitationPhrase": null,
            "addingProcessStep": true,
            "isComplete": false,
            "modifyingProcessStep": false,
            "referencedTerm": null,
            "transitionalPhrase": "further cause ... to",
            "whereinIndicator": "where"
           }
          }
         ],
         "parentClaimNumbers": [
          8
         ],
         "preamble": {
          "documentOrigin": {
           "end": 62,
           "paragraphHash": null,
           "paragraphId": null,
           "paragraphIndex": 42,
           "start": 7
          },
          "origin": {
           "order": 0,
           "paragraphIndex": 0,
           "place": "preambleParagraph",
           "startsNewParagraph": true
          },
          "originalText": "The non-transitory computer-readable medium of claim 8,",
          "text": "The non-transitory computer-readable medium of claim 8,"
         },
         "status": 0,
         "statusIndicator": 0,
         "statusText": "Success"
        },
        {
         "claimNumber": 10,
         "claimType": 3,
         "deviceName": {},
         "independentClaim": false,
         "independentParent": 8,
         "limitations": [
          {
           "documentOrigin": {
            "end": 187,
            "paragraphHash": null,
            "paragraphId": null,
            "paragraphIndex": 46,
            "start": 62
           },
           "indentation": 0,
           "limitations": [
            {
             "documentOrigin": {
              "end": 134,
              "paragraphHash": null,
              "paragraphId": null,
              "paragraphIndex": 47,
              "start": 3
             },
             "indentation": 1,
             "limitations": [],
             "origin": {
              "order": 0,
              "paragraphIndex": 1,
              "place": "limitationParagraph",
              "startsNewParagraph": true
             },
             "originalText": "determine a score associated with the first microservice based on an instruction metric associated with the first microservice; and",
             "processStep": {
              "directObject": "a score associated with the first microservice based on an instruction metric associated with the first microservice; and",
              "verbPhrase": {
               "gerund": "determining",
               "infinitive": "determine",
               "original": "determine",
               "past": "determined"
              }
             },
             "status": 0,
             "statusText": "Success",
             "text": "determine a score associated with the first microservice based on an instruction metric associated with the first microservice; and"
            },
            {
             "documentOrigin": {
              "end": 80,
              "paragraphHash": null,
              "paragraphId": null,
              "paragraphIndex": 48,
              "start": 0
             },
             "indentation": 1,
             "limitations": [
              {
               "documentOrigin": {
                "end": 48,
                "paragraphHash": null,
                "paragraphId": null,
                "paragraphIndex": 49,
                "start": 0
               },
               "indentation": 2,
               "limitations": [],
               "origin": {
                "order": 0,
                "paragraphIndex": 3,
                "place": "limitationParagraph",
                "startsNewParagraph": true
               },
               "originalText": "determine the execution time based on the score.",
               "processStep": {
                "directObject": "the execution time based on the score.",
                "verbPhrase": {
                 "gerund": "determining",
                 "infinitive": "determine",
                 "original": "determine",
                 "past": "determined"
                }
               },
               "status": 0,
               "statusText": "Success",
               "text": "determine the execution time based on the score."
              }
             ],
             "origin": {
              "order": 0,
              "paragraphIndex": 2,
              "place": "limitationParagraph",
              "startsNewParagraph": true
             },
             "originalText": "where the one or more instructions, when determining the execution time, are to:",
             "status": 0,
             "statusText": "Success",
             "text": "where the one or more instructions, when determining the execution time, are to:",
             "whereinClause": {
              "actorName": "one or more instructions",
              "addedLimitationPhrase": null,
              "addingProcessStep": true,
              "isComplete": false,
              "modifyingProcessStep": true,
              "referencedTerm": "determining the execution time",
              "transitionalPhrase": "are to",
              "whereinIndicator": "where"
             }
            }
           ],
           "origin": {
            "order": 1,
            "paragraphIndex": 0,
            "place": "preambleParagraph",
            "startsNewParagraph": false
           },
           "originalText": "where the one or more instructions, when executed by the one or more processors, further cause the one or more processors to:",
           "status": 0,
           "statusText": "Success",
           "text": "where the one or more instructions, when executed by the one or more processors, further cause the one or more processors to:",
           "whereinClause": {
            "actorName": "one or more processors",
            "addedLimitationPhrase": null,
            "addingProcessStep": true,
            "isComplete": false,
            "modifyingProcessStep": false,
            "referencedTerm": null,
            "transitionalPhrase": "further cause ... to",
            "whereinIndicator": "where"
           }
          }
         ],
         "parentClaimNumbers": [
          8
         ],
         "preamble": {
          "documentOrigin": {
           "end": 61,
           "paragraphHash": null,
           "paragraphId": null,
           "paragraphIndex": 46,
           "start": 6
          },
          "origin": {
           "order": 0,
           "paragraphIndex": 0,
           "place": "preambleParagraph",
           "startsNewParagraph": true
          },
          "originalText": "The non-transitory computer-readable medium of claim 8,",
          "text": "The non-transitory computer-readable medium of claim 8,"
         },
         "status": 0,
         "statusIndicator": 0,
         "statusText": "Success"
        },
        {
         "claimNumber": 11,
         "claimType": 3,
         "deviceName": {},
         "independentClaim": false,
         "independentParent": 8,
         "limitations": [
          {
           "documentOrigin": {
            "end": 187,
            "paragraphHash": null,
            "paragraphId": null,
            "paragraphIndex": 50,
            "start": 62
           },
           "indentation": 0,
           "limitations": [
            {
             "documentOrigin": {
              "end": 241,
              "paragraphHash": null,
              "paragraphId": null,
              "paragraphIndex": 51,
              "start": 0
             },
             "indentation": 1,
             "limitations": [],
             "origin": {
              "order": 0,
              "paragraphIndex": 1,
              "place": "limitationParagraph",
              "startsNewParagraph": true
             },
             "originalText": "receive information that identifies a number of requests for the first microservice to execute a subtask of a task of another set of tasks, other microservices, of the plurality of microservices, being associated with the number of requests;",
             "processStep": {
              "directObject": "information that identifies a number of requests for the first microservice to execute a subtask of a task of another set of tasks, other microservices, of the plurality of microservices, being associated with the number of requests;",
              "verbPhrase": {
               "gerund": "receiving",
               "infinitive": "receive",
               "original": "receive",
               "past": "received"
              }
             },
             "status": 0,
             "statusText": "Success",
             "text": "receive information that identifies a number of requests for the first microservice to execute a subtask of a task of another set of tasks, other microservices, of the plurality of microservices, being associated with the number of requests;"
            },
            {
             "documentOrigin": {
              "end": 81,
              "paragraphHash": null,
              "paragraphId": null,
              "paragraphIndex": 52,
              "start": 0
             },
             "indentation": 1,
             "limitations": [],
             "origin": {
              "order": 0,
              "paragraphIndex": 2,
              "place": "limitationParagraph",
              "startsNewParagraph": true
             },
             "originalText": "train the model using the information that identifies the number of requests; and",
             "processStep": {
              "directObject": "the model using the information that identifies the number of requests; and",
              "verbPhrase": {
               "gerund": "training",
               "infinitive": "train",
               "original": "train",
               "past": "trained"
              }
             },
             "status": 0,
             "statusText": "Success",
             "text": "train the model using the information that identifies the number of requests; and"
            },
            {
             "documentOrigin": {
              "end": 188,
              "paragraphHash": null,
              "paragraphId": null,
              "paragraphIndex": 53,
              "start": 0
             },
             "indentation": 1,
             "limitations": [
              {
               "documentOrigin": {
                "end": 57,
                "paragraphHash": null,
                "paragraphId": null,
                "paragraphIndex": 54,
                "start": 0
               },
               "indentation": 2,
               "limitations": [],
               "origin": {
                "order": 0,
                "paragraphIndex": 4,
                "place": "limitationParagraph",
                "startsNewParagraph": true
               },
               "originalText": "determine the execution time based on training the model.",
               "processStep": {
                "directObject": "the execution time based on training the model.",
                "verbPhrase": {
                 "gerund": "determining",
                 "infinitive": "determine",
                 "original": "determine",
                 "past": "determined"
                }
               },
               "status": 0,
               "statusText": "Success",
               "text": "determine the execution time based on training the model."
              }
             ],
             "origin": {
              "order": 0,
              "paragraphIndex": 3,
              "place": "limitationParagraph",
              "startsNewParagraph": true
             },
             "originalText": "where the one or more instructions, that cause the one or more processors to determine the execution time based on the set of parameters and the model, cause the one or more processors to:",
             "status": 0,
             "statusText": "Success",
             "text": "where the one or more instructions, that cause the one or more processors to determine the execution time based on the set of parameters and the model, cause the one or more processors to:",
             "whereinClause": {
              "actorName": "one or more processors",
              "addedLimitationPhrase": null,
              "addingProcessStep": true,
              "isComplete": false,
              "modifyingProcessStep": true,
              "referencedTerm": "determine the execution time based on the set of parameters and the model",
              "transitionalPhrase": "cause ... to",
              "whereinIndicator": "where"
             }
            }
           ],
           "origin": {
            "order": 1,
            "paragraphIndex": 0,
            "place": "preambleParagraph",
            "startsNewParagraph": false
           },
           "originalText": "where the one or more instructions, when executed by the one or more processors, further cause the one or more processors to:",
           "status": 0,
           "statusText": "Success",
           "text": "where the one or more instructions, when executed by the one or more processors, further cause the one or more processors to:",
           "whereinClause": {
            "actorName": "one or more processors",
            "addedLimitationPhrase": null,
            "addingProcessStep": true,
            "isComplete": false,
            "modifyingProcessStep": false,
            "referencedTerm": null,
            "transitionalPhrase": "further cause ... to",
            "whereinIndicator": "where"
           }
          }
         ],
         "parentClaimNumbers": [
          8
         ],
         "preamble": {
          "documentOrigin": {
           "end": 61,
           "paragraphHash": null,
           "paragraphId": null,
           "paragraphIndex": 50,
           "start": 6
          },
          "origin": {
           "order": 0,
           "paragraphIndex": 0,
           "place": "preambleParagraph",
           "startsNewParagraph": true
          },
          "originalText": "The non-transitory computer-readable medium of claim 8,",
          "text": "The non-transitory computer-readable medium of claim 8,"
         },
         "status": 0,
         "statusIndicator": 0,
         "statusText": "Success"
        },
        {
         "claimNumber": 12,
         "claimType": 3,
         "deviceName": {},
         "independentClaim": false,
         "independentParent": 8,
         "limitations": [
          {
           "documentOrigin": {
            "end": 187,
            "paragraphHash": null,
            "paragraphId": null,
            "paragraphIndex": 55,
            "start": 62
           },
           "indentation": 0,
           "limitations": [
            {
             "documentOrigin": {
              "end": 58,
              "paragraphHash": null,
              "paragraphId": null,
              "paragraphIndex": 56,
              "start": 0
             },
             "indentation": 1,
             "limitations": [],
             "origin": {
              "order": 0,
              "paragraphIndex": 1,
              "place": "limitationParagraph",
              "startsNewParagraph": true
             },
             "originalText": "identify a resource utilization of the first microservice;",
             "processStep": {
              "directObject": "a resource utilization of the first microservice;",
              "verbPhrase": {
               "gerund": "identifying",
               "infinitive": "identify",
               "original": "identify",
               "past": "identified"
              }
             },
             "status": 0,
             "statusText": "Success",
             "text": "identify a resource utilization of the first microservice;"
            },
            {
             "documentOrigin": {
              "end": 94,
              "paragraphHash": null,
              "paragraphId": null,
              "paragraphIndex": 57,
              "start": 3
             },
             "indentation": 1,
             "limitations": [],
             "origin": {
              "order": 0,
              "paragraphIndex": 2,
              "place": "limitationParagraph",
              "startsNewParagraph": true
             },
             "originalText": "determine a score associated with the first microservice based on the resource utilization;",
             "processStep": {
              "directObject": "a score associated with the first microservice based on the resource utilization;",
              "verbPhrase": {
               "gerund": "determining",
               "infinitive": "determine",
               "original": "determine",
               "past": "determined"
              }
             },
             "status": 0,
             "statusText": "Success",
             "text": "determine a score associated with the first microservice based on the resource utilization;"
            },
            {
             "documentOrigin": {
              "end": 147,
              "paragraphHash": null,
              "paragraphId": null,
              "paragraphIndex": 58,
              "start": 0
             },
             "indentation": 1,
             "limitations": [
              {
               "documentOrigin": {
                "end": 87,
                "paragraphHash": null,
                "paragraphId": null,
                "paragraphIndex": 59,
                "start": 0
               },
               "indentation": 2,
               "limitations": [],
               "origin": {
                "order": 0,
                "paragraphIndex": 4,
                "place": "limitationParagraph",
                "startsNewParagraph": true
               },
               "originalText": "determine the execution time based on the score associated with the first microservice.",
               "processStep": {
                "directObject": "the execution time based on the score associated with the first microservice.",
                "verbPhrase": {
                 "gerund": "determining",
                 "infinitive": "determine",
                 "original": "determine",
                 "past": "determined"
                }
               },
               "status": 0,
               "statusText": "Success",
               "text": "determine the execution time based on the score associated with the first microservice."
              }
             ],
             "origin": {
              "order": 0,
              "paragraphIndex": 3,
              "place": "limitationParagraph",
              "startsNewParagraph": true
             },
             "originalText": "and where the one or more instructions, that cause the one or more processors to determine the execution time, cause the one or more processors to:",
             "status": 1,
             "statusText": "This limitation may be a process step",
             "text": "and where the one or more instructions, that cause the one or more processors to determine the execution time, cause the one or more processors to:"
            }
           ],
           "origin": {
            "order": 1,
            "paragraphIndex": 0,
            "place": "preambleParagraph",
            "startsNewParagraph": false
           },
           "originalText": "where the one or more instructions, when executed by the one or more processors, further cause the one or more processors to:",
           "status": 0,
           "statusText": "Success",
           "text": "where the one or more instructions, when executed by the one or more processors, further cause the one or more processors to:",
           "whereinClause": {
            "actorName": "one or more processors",
            "addedLimitationPhrase": null,
            "addingProcessStep": true,
            "isComplete": false,
            "modifyingProcessStep": false,
            "referencedTerm": null,
            "transitionalPhrase": "further cause ... to",
            "whereinIndicator": "where"
           }
          }
         ],
         "parentClaimNumbers": [
          8
         ],
         "preamble": {
          "documentOrigin": {
           "end": 61,
           "paragraphHash": null,
           "paragraphId": null,
           "paragraphIndex": 55,
           "start": 6
          },
          "origin": {
           "order": 0,
           "paragraphIndex": 0,
           "place": "preambleParagraph",
           "startsNewParagraph": true
          },
          "originalText": "The non-transitory computer-readable medium of claim 8,",
          "text": "The non-transitory computer-readable medium of claim 8,"
         },
         "status": 0,
         "statusIndicator": 0,
         "statusText": "Success"
        },
        {
         "claimNumber": 13,
         "claimType": 3,
         "deviceName": {},
         "independentClaim": false,
         "independentParent": 8,
         "limitations": [
          {
           "documentOrigin": {
            "end": 187,
            "paragraphHash": null,
            "paragraphId": null,
            "paragraphIndex": 60,
            "start": 62
           },
           "indentation": 0,
           "limitations": [
            {
             "documentOrigin": {
              "end": 54,
              "paragraphHash": null,
              "paragraphId": null,
              "paragraphIndex": 61,
              "start": 0
             },
             "indentation": 1,
             "limitations": [],
             "origin": {
              "order": 0,
              "paragraphIndex": 1,
              "place": "limitationParagraph",
              "startsNewParagraph": true
             },
             "originalText": "receive information that identifies a time period; and",
             "processStep": {
              "directObject": "information that identifies a time period; and",
              "verbPhrase": {
               "gerund": "receiving",
               "infinitive": "receive",
               "original": "receive",
               "past": "received"
              }
             },
             "status": 0,
             "statusText": "Success",
             "text": "receive information that identifies a time period; and"
            },
            {
             "documentOrigin": {
              "end": 143,
              "paragraphHash": null,
              "paragraphId": null,
              "paragraphIndex": 62,
              "start": 0
             },
             "indentation": 1,
             "limitations": [
              {
               "documentOrigin": {
                "end": 54,
                "paragraphHash": null,
                "paragraphId": null,
                "paragraphIndex": 63,
                "start": 0
               },
               "indentation": 2,
               "limitations": [],
               "origin": {
                "order": 0,
                "paragraphIndex": 3,
                "place": "limitationParagraph",
                "startsNewParagraph": true
               },
               "originalText": "determine the execution time based on the time period.",
               "processStep": {
                "directObject": "the execution time based on the time period.",
                "verbPhrase": {
                 "gerund": "determining",
                 "infinitive": "determine",
                 "original": "determine",
                 "past": "determined"
                }
               },
               "status": 0,
               "statusText": "Success",
               "text": "determine the execution time based on the time period."
              }
             ],
             "origin": {
              "order": 0,
              "paragraphIndex": 2,
              "place": "limitationParagraph",
              "startsNewParagraph": true
             },
             "originalText": "where the one or more instructions, that cause the one or more processors to determine the execution time, cause the one or more processors to:",
             "status": 0,
             "statusText": "Success",
             "text": "where the one or more instructions, that cause the one or more processors to determine the execution time, cause the one or more processors to:",
             "whereinClause": {
              "actorName": "one or more processors",
              "addedLimitationPhrase": null,
              "addingProcessStep": true,
              "isComplete": false,
              "modifyingProcessStep": true,
              "referencedTerm": "determine the execution time",
              "transitionalPhrase": "cause ... to",
              "whereinIndicator": "where"
             }
            }
           ],
           "origin": {
            "order": 1,
            "paragraphIndex": 0,
            "place": "preambleParagraph",
            "startsNewParagraph": false
           },
           "originalText": "where the one or more instructions, when executed by the one or more processors, further cause the one or more processors to:",
           "status": 0,
           "statusText": "Success",
           "text": "where the one or more instructions, when executed by the one or more processors, further cause the one or more processors to:",
           "whereinClause": {
            "actorName": "one or more processors",
            "addedLimitationPhrase": null,
            "addingProcessStep": true,
            "isComplete": false,
            "modifyingProcessStep": false,
            "referencedTerm": null,
            "transitionalPhrase": "further cause ... to",
            "whereinIndicator": "where"
           }
          }
         ],
         "parentClaimNumbers": [
          8
         ],
         "preamble": {
          "documentOrigin": {
           "end": 61,
           "paragraphHash": null,
           "paragraphId": null,
           "paragraphIndex": 60,
           "start": 6
          },
          "origin": {
           "order": 0,
           "paragraphIndex": 0,
           "place": "preambleParagraph",
           "startsNewParagraph": true
          },
          "originalText": "The non-transitory computer-readable medium of claim 8,",
          "text": "The non-transitory computer-readable medium of claim 8,"
         },
         "status": 0,
         "statusIndicator": 0,
         "statusText": "Success"
        },
        {
         "claimNumber": 14,
         "claimType": 3,
         "deviceName": {},
         "independentClaim": false,
         "independentParent": 8,
         "limitations": [
          {
           "documentOrigin": {
            "end": 251,
            "paragraphHash": null,
            "paragraphId": null,
            "paragraphIndex": 64,
            "start": 62
           },
           "indentation": 0,
           "limitations": [
            {
             "documentOrigin": {
              "end": 71,
              "paragraphHash": null,
              "paragraphId": null,
              "paragraphIndex": 65,
              "start": 0
             },
             "indentation": 1,
             "limitations": [],
             "origin": {
              "order": 0,
              "paragraphIndex": 1,
              "place": "limitationParagraph",
              "startsNewParagraph": true
             },
             "originalText": "decrease the second number of instances of the second microservice; and",
             "processStep": {
              "directObject": "the second number of instances of the second microservice; and",
              "verbPhrase": {
               "gerund": "decreasing",
               "infinitive": "decrease",
               "original": "decrease",
               "past": "decreased"
              }
             },
             "status": 0,
             "statusText": "Success",
             "text": "decrease the second number of instances of the second microservice; and"
            },
            {
             "documentOrigin": {
              "end": 143,
              "paragraphHash": null,
              "paragraphId": null,
              "paragraphIndex": 66,
              "start": 0
             },
             "indentation": 1,
             "limitations": [],
             "origin": {
              "order": 0,
              "paragraphIndex": 2,
              "place": "limitationParagraph",
              "startsNewParagraph": true
             },
             "originalText": "increase the first number of instances of the first microservice based on decreasing the second number of instances of the second microservice.",
             "processStep": {
              "directObject": "the first number of instances of the first microservice based on decreasing the second number of instances of the second microservice.",
              "verbPhrase": {
               "gerund": "increasing",
               "infinitive": "increase",
               "original": "increase",
               "past": "increased"
              }
             },
             "status": 0,
             "statusText": "Success",
             "text": "increase the first number of instances of the first microservice based on decreasing the second number of instances of the second microservice."
            }
           ],
           "origin": {
            "order": 1,
            "paragraphIndex": 0,
            "place": "preambleParagraph",
            "startsNewParagraph": false
           },
           "originalText": "where the one or more instructions, that cause the one or more processors to selectively adjust the first number of instances of the first microservice, cause the one or more processors to:",
           "status": 0,
           "statusText": "Success",
           "text": "where the one or more instructions, that cause the one or more processors to selectively adjust the first number of instances of the first microservice, cause the one or more processors to:",
           "whereinClause": {
            "actorName": "one or more processors",
            "addedLimitationPhrase": null,
            "addingProcessStep": true,
            "isComplete": false,
            "modifyingProcessStep": true,
            "referencedTerm": "selectively adjust the first number of instances of the first microservice",
            "transitionalPhrase": "cause ... to",
            "whereinIndicator": "where"
           }
          }
         ],
         "parentClaimNumbers": [
          8
         ],
         "preamble": {
          "documentOrigin": {
           "end": 61,
           "paragraphHash": null,
           "paragraphId": null,
           "paragraphIndex": 64,
           "start": 6
          },
          "origin": {
           "order": 0,
           "paragraphIndex": 0,
           "place": "preambleParagraph",
           "startsNewParagraph": true
          },
          "originalText": "The non-transitory computer-readable medium of claim 8,",
          "text": "The non-transitory computer-readable medium of claim 8,"
         },
         "status": 0,
         "statusIndicator": 0,
         "statusText": "Success"
        },
        {
         "claimNumber": 15,
         "claimType": 1,
         "deviceName": {
          "length": 6,
          "location": "limitation 1",
          "offset": 16,
          "originalText": "device",
          "text": "device"
         },
         "independentClaim": true,
         "independentParent": null,
         "limitations": [
          {
           "documentOrigin": {
            "end": 229,
            "paragraphHash": null,
            "paragraphId": null,
            "paragraphIndex": 68,
            "start": 3
           },
           "indentation": 0,
           "limitations": [],
           "origin": {
            "order": 0,
            "paragraphIndex": 1,
            "place": "limitationParagraph",
            "startsNewParagraph": true
           },
           "originalText": "receiving, by a device, information that identifies a set of tasks to be executed, the set of tasks being associated with a microservices application, the microservices application being associated with a set of microservices;",
           "processStep": {
            "devicePhrase": {
             "article": "a",
             "phrase": "device"
            },
            "directObject": "information that identifies a set of tasks to be executed, the set of tasks being associated with a microservices application, the microservices application being associated with a set of microservices;",
            "verbPhrase": {
             "gerund": "receiving",
             "infinitive": "receive",
             "original": "receiving",
             "past": "received"
            }
           },
           "status": 0,
           "statusText": "Success",
           "text": "receiving, by a device, information that identifies a set of tasks to be executed, the set of tasks being associated with a microservices application, the microservices application being associated with a set of microservices;"
          },
          {
           "documentOrigin": {
            "end": 128,
            "paragraphHash": null,
            "paragraphId": null,
            "paragraphIndex": 69,
            "start": 0
           },
           "indentation": 0,
           "limitations": [
            {
             "documentOrigin": {
              "end": 296,
              "paragraphHash": null,
              "paragraphId": null,
              "paragraphIndex": 70,
              "start": 0
             },
             "indentation": 1,
             "limitations": [],
             "origin": {
              "order": 0,
              "paragraphIndex": 3,
              "place": "limitationParagraph",
              "startsNewParagraph": true
             },
             "originalText": "a first parameter that identifies a first number of instances of a first microservice of the set of microservices, a second parameter that identifies a first score associated with the first microservice, a third parameter that identifies a second number of instances of a second microservice, and",
             "status": 0,
             "statusText": "Success",
             "text": "a first parameter that identifies a first number of instances of a first microservice of the set of microservices, a second parameter that identifies a first score associated with the first microservice, a third parameter that identifies a second number of instances of a second microservice, and"
            },
            {
             "documentOrigin": {
              "end": 118,
              "paragraphHash": null,
              "paragraphId": null,
              "paragraphIndex": 71,
              "start": 0
             },
             "indentation": 1,
             "limitations": [],
             "origin": {
              "order": 0,
              "paragraphIndex": 4,
              "place": "limitationParagraph",
              "startsNewParagraph": true
             },
             "originalText": "a fourth parameter that identifies a second score associated with the second microservice of the set of microservices;",
             "status": 0,
             "statusText": "Success",
             "text": "a fourth parameter that identifies a second score associated with the second microservice of the set of microservices;"
            }
           ],
           "origin": {
            "order": 0,
            "paragraphIndex": 2,
            "place": "limitationParagraph",
            "startsNewParagraph": true
           },
           "originalText": "determining, by the device, an execution time of the set of tasks based on a set of parameters, the set of parameters including:",
           "processStep": {
            "devicePhrase": {
             "article": "the",
             "phrase": "device"
            },
            "directObject": "an execution time of the set of tasks based on a set of parameters, the set of parameters including:",
            "verbPhrase": {
             "gerund": "determining",
             "infinitive": "determine",
             "original": "determining",
             "past": "determined"
            }
           },
           "status": 0,
           "statusText": "Success",
           "text": "determining, by the device, an execution time of the set of tasks based on a set of parameters, the set of parameters including:"
          },
          {
           "documentOrigin": {
            "end": 81,
            "paragraphHash": null,
            "paragraphId": null,
            "paragraphIndex": 72,
            "start": 0
           },
           "indentation": 0,
           "limitations": [],
           "origin": {
            "order": 0,
            "paragraphIndex": 5,
            "place": "limitationParagraph",
            "startsNewParagraph": true
           },
           "originalText": "determining, by the device, whether the execution time satisfies a threshold; and",
           "processStep": {
            "devicePhrase": {
             "article": "the",
             "phrase": "device"
            },
            "directObject": "whether the execution time satisfies a threshold; and",
            "verbPhrase": {
             "gerund": "determining",
             "infinitive": "determine",
             "original": "determining",
             "past": "determined"
            }
           },
           "status": 0,
           "statusText": "Success",
           "text": "determining, by the device, whether the execution time satisfies a threshold; and"
          },
          {
           "documentOrigin": {
            "end": 174,
            "paragraphHash": null,
            "paragraphId": null,
            "paragraphIndex": 73,
            "start": 0
           },
           "indentation": 0,
           "limitations": [],
           "origin": {
            "order": 0,
            "paragraphIndex": 6,
            "place": "limitationParagraph",
            "startsNewParagraph": true
           },
           "originalText": "selectively adjusting, by the device, the first number of instances or the second number of instances based on determining whether the execution time satisfies the threshold.",
           "processStep": {
            "devicePhrase": {
             "article": "the",
             "phrase": "device"
            },
            "directObject": "the first number of instances or the second number of instances based on determining whether the execution time satisfies the threshold.",
            "verbPhrase": {
             "gerund": "selectively adjusting",
             "infinitive": "selectively adjust",
             "original": "selectively adjusting",
             "past": "selectively adjusted"
            }
           },
           "status": 0,
           "statusText": "Success",
           "text": "selectively adjusting, by the device, the first number of instances or the second number of instances based on determining whether the execution time satisfies the threshold."
          }
         ],
         "parentClaimNumbers": [],
         "preamble": {
          "documentOrigin": {
           "end": 27,
           "paragraphHash": null,
           "paragraphId": null,
           "paragraphIndex": 67,
           "start": 6
          },
          "origin": {
           "order": 0,
           "paragraphIndex": 0,
           "place": "preambleParagraph",
           "startsNewParagraph": true
          },
          "originalText": "A method, comprising:",
          "text": "A method, comprising:"
         },
         "status": 0,
         "statusIndicator": 0,
         "statusText": "Success"
        },
        {
         "claimNumber": 16,
         "claimType": 1,
         "deviceName": {},
         "independentClaim": false,
         "independentParent": 15,
         "limitations": [
          {
           "documentOrigin": {
            "end": 191,
            "paragraphHash": null,
            "paragraphId": null,
            "paragraphIndex": 75,
            "start": 0
           },
           "indentation": 0,
           "limitations": [
            {
             "documentOrigin": {
              "end": 70,
              "paragraphHash": null,
              "paragraphId": null,
              "paragraphIndex": 76,
              "start": 0
             },
             "indentation": 1,
             "limitations": [],
             "origin": {
              "order": 0,
              "paragraphIndex": 2,
              "place": "limitationParagraph",
              "startsNewParagraph": true
             },
             "originalText": "the service level agreement being used to determine the threshold; and",
             "status": 0,
             "statusText": "Success",
             "text": "the service level agreement being used to determine the threshold; and"
            }
           ],
           "origin": {
            "order": 0,
            "paragraphIndex": 1,
            "place": "limitationParagraph",
            "startsNewParagraph": true
           },
           "originalText": "receiving, from another device, information that identifies a job to be scheduled, the job being associated with the set of tasks, the job being associated with a service level agreement, and",
           "processStep": {
            "directObject": "information that identifies a job to be scheduled, the job being associated with the set of tasks, the job being associated with a service level agreement, and",
            "prepositionalPhrase": "from another device",
            "verbPhrase": {
             "gerund": "receiving",
             "infinitive": "receive",
             "original": "receiving",
             "past": "received"
            }
           },
           "status": 0,
           "statusText": "Success",
           "text": "receiving, from another device, information that identifies a job to be scheduled, the job being associated with the set of tasks, the job being associated with a service level agreement, and"
          },
          {
           "documentOrigin": {
            "end": 74,
            "paragraphHash": null,
            "paragraphId": null,
            "paragraphIndex": 77,
            "start": 3
           },
           "indentation": 0,
           "limitations": [
            {
             "documentOrigin": {
              "end": 104,
              "paragraphHash": null,
              "paragraphId": null,
              "paragraphIndex": 78,
              "start": 0
             },
             "indentation": 1,
             "limitations": [],
             "origin": {
              "order": 0,
              "paragraphIndex": 4,
              "place": "limitationParagraph",
              "startsNewParagraph": true
             },
             "originalText": "receiving the information identifying the set of tasks based on the information that identifies the job.",
             "processStep": {
              "directObject": "the information identifying the set of tasks based on the information that identifies the job.",
              "verbPhrase": {
               "gerund": "receiving",
               "infinitive": "receive",
               "original": "receiving",
               "past": "received"
              }
             },
             "status": 0,
             "statusText": "Success",
             "text": "receiving the information identifying the set of tasks based on the information that identifies the job."
            }
           ],
           "origin": {
            "order": 0,
            "paragraphIndex": 3,
            "place": "limitationParagraph",
            "startsNewParagraph": true
           },
           "originalText": "where receiving the information identifying the set of tasks comprises:",
           "status": 0,
           "statusText": "Success",
           "text": "where receiving the information identifying the set of tasks comprises:",
           "whereinClause": {
            "addedLimitationPhrase": null,
            "addingProcessStep": true,
            "isComplete": false,
            "modifyingProcessStep": true,
            "referencedTerm": "receiving the information identifying the set of tasks",
            "transitionalPhrase": "comprises",
            "whereinIndicator": "where"
           }
          }
         ],
         "parentClaimNumbers": [
          15
         ],
         "preamble": {
          "documentOrigin": {
           "end": 49,
           "paragraphHash": null,
           "paragraphId": null,
           "paragraphIndex": 74,
           "start": 6
          },
          "origin": {
           "order": 0,
           "paragraphIndex": 0,
           "place": "preambleParagraph",
           "startsNewParagraph": true
          },
          "originalText": "The method of claim 15, further comprising:",
          "text": "The method of claim 15, further comprising:"
         },
         "status": 0,
         "statusIndicator": 0,
         "statusText": "Success"
        },
        {
         "claimNumber": 17,
         "claimType": 1,
         "deviceName": {},
         "independentClaim": false,
         "independentParent": 15,
         "limitations": [
          {
           "documentOrigin": {
            "end": 67,
            "paragraphHash": null,
            "paragraphId": null,
            "paragraphIndex": 80,
            "start": 0
           },
           "indentation": 0,
           "limitations": [],
           "origin": {
            "order": 0,
            "paragraphIndex": 1,
            "place": "limitationParagraph",
            "startsNewParagraph": true
           },
           "originalText": "determining that the execution time does not satisfy the threshold;",
           "processStep": {
            "directObject": "that the execution time does not satisfy the threshold;",
            "verbPhrase": {
             "gerund": "determining",
             "infinitive": "determine",
             "original": "determining",
             "past": "determined"
            }
           },
           "status": 0,
           "statusText": "Success",
           "text": "determining that the execution time does not satisfy the threshold;"
          },
          {
           "documentOrigin": {
            "end": 153,
            "paragraphHash": null,
            "paragraphId": null,
            "paragraphIndex": 81,
            "start": 0
           },
           "indentation": 0,
           "limitations": [],
           "origin": {
            "order": 0,
            "paragraphIndex": 2,
            "place": "limitationParagraph",
            "startsNewParagraph": true
           },
           "originalText": "increasing the first number of instances of the first microservice based on the first score and based on the execution time not satisfying the threshold;",
           "processStep": {
            "directObject": "the first number of instances of the first microservice based on the first score and based on the execution time not satisfying the threshold;",
            "verbPhrase": {
             "gerund": "increasing",
             "infinitive": "increase",
             "original": "increasing",
             "past": "increased"
            }
           },
           "status": 0,
           "statusText": "Success",
           "text": "increasing the first number of instances of the first microservice based on the first score and based on the execution time not satisfying the threshold;"
          },
          {
           "documentOrigin": {
            "end": 153,
            "paragraphHash": null,
            "paragraphId": null,
            "paragraphIndex": 82,
            "start": 0
           },
           "indentation": 0,
           "limitations": [],
           "origin": {
            "order": 0,
            "paragraphIndex": 3,
            "place": "limitationParagraph",
            "startsNewParagraph": true
           },
           "originalText": "decreasing the second number of instances of the second microservice based on the second score and based on increasing the first number of instances; and",
           "processStep": {
            "directObject": "the second number of instances of the second microservice based on the second score and based on increasing the first number of instances; and",
            "verbPhrase": {
             "gerund": "decreasing",
             "infinitive": "decrease",
             "original": "decreasing",
             "past": "decreased"
            }
           },
           "status": 0,
           "statusText": "Success",
           "text": "decreasing the second number of instances of the second microservice based on the second score and based on increasing the first number of instances; and"
          },
          {
           "documentOrigin": {
            "end": 130,
            "paragraphHash": null,
            "paragraphId": null,
            "paragraphIndex": 83,
            "start": 0
           },
           "indentation": 0,
           "limitations": [
            {
             "documentOrigin": {
              "end": 186,
              "paragraphHash": null,
              "paragraphId": null,
              "paragraphIndex": 84,
              "start": 0
             },
             "indentation": 1,
             "limitations": [],
             "origin": {
              "order": 0,
              "paragraphIndex": 5,
              "place": "limitationParagraph",
              "startsNewParagraph": true
             },
             "originalText": "adjusting the first number of instances based on increasing the first number of instances and adjusting the second number of instances based on decreasing the second number of instances.",
             "processStep": {
              "directObject": "the first number of instances based on increasing the first number of instances and adjusting the second number of instances based on decreasing the second number of instances.",
              "verbPhrase": {
               "gerund": "adjusting",
               "infinitive": "adjust",
               "original": "adjusting",
               "past": "adjusted"
              }
             },
             "status": 0,
             "statusText": "Success",
             "text": "adjusting the first number of instances based on increasing the first number of instances and adjusting the second number of instances based on decreasing the second number of instances."
            }
           ],
           "origin": {
            "order": 0,
            "paragraphIndex": 4,
            "place": "limitationParagraph",
            "startsNewParagraph": true
           },
           "originalText": "where selectively adjusting the first number of instances or the second number of instances based on the execution time comprises:",
           "status": 0,
           "statusText": "Success",
           "text": "where selectively adjusting the first number of instances or the second number of instances based on the execution time comprises:",
           "whereinClause": {
            "addedLimitationPhrase": null,
            "addingProcessStep": true,
            "isComplete": false,
            "modifyingProcessStep": true,
            "referencedTerm": "selectively adjusting the first number of instances or the second number of instances based on the execution time",
            "transitionalPhrase": "comprises",
            "whereinIndicator": "where"
           }
          }
         ],
         "parentClaimNumbers": [
          15
         ],
         "preamble": {
          "documentOrigin": {
           "end": 49,
           "paragraphHash": null,
           "paragraphId": null,
           "paragraphIndex": 79,
           "start": 6
          },
          "origin": {
           "order": 0,
           "paragraphIndex": 0,
           "place": "preambleParagraph",
           "startsNewParagraph": true
          },
          "originalText": "The method of claim 15, further comprising:",
          "text": "The method of claim 15, further comprising:"
         },
         "status": 0,
         "statusIndicator": 0,
         "statusText": "Success"
        },
        {
         "claimNumber": 18,
         "claimType": 1,
         "deviceName": {},
         "independentClaim": false,
         "independentParent": 15,
         "limitations": [
          {
           "documentOrigin": {
            "end": 88,
            "paragraphHash": null,
            "paragraphId": null,
            "paragraphIndex": 86,
            "start": 0
           },
           "indentation": 0,
           "limitations": [],
           "origin": {
            "order": 0,
            "paragraphIndex": 1,
            "place": "limitationParagraph",
            "startsNewParagraph": true
           },
           "originalText": "training a model using information associated with execution of a training set of tasks;",
           "status": 0,
           "statusText": "Success",
           "text": "training a model using information associated with execution of a training set of tasks;"
          },
          {
           "documentOrigin": {
            "end": 51,
            "paragraphHash": null,
            "paragraphId": null,
            "paragraphIndex": 87,
            "start": 0
           },
           "indentation": 0,
           "limitations": [
            {
             "documentOrigin": {
              "end": 50,
              "paragraphHash": null,
              "paragraphId": null,
              "paragraphIndex": 88,
              "start": 0
             },
             "indentation": 1,
             "limitations": [],
             "origin": {
              "order": 0,
              "paragraphIndex": 3,
              "place": "limitationParagraph",
              "startsNewParagraph": true
             },
             "originalText": "determining the execution time based on the model.",
             "processStep": {
              "directObject": "the execution time based on the model.",
              "verbPhrase": {
               "gerund": "determining",
               "infinitive": "determine",
               "original": "determining",
               "past": "determined"
              }
             },
             "status": 0,
             "statusText": "Success",
             "text": "determining the execution time based on the model."
            }
           ],
           "origin": {
            "order": 0,
            "paragraphIndex": 2,
            "place": "limitationParagraph",
            "startsNewParagraph": true
           },
           "originalText": "and where determining the execution time comprises:",
           "status": 0,
           "statusText": "Success",
           "text": "and where determining the execution time comprises:"
          }
         ],
         "parentClaimNumbers": [
          15
         ],
         "preamble": {
          "documentOrigin": {
           "end": 49,
           "paragraphHash": null,
           "paragraphId": null,
           "paragraphIndex": 85,
           "start": 6
          },
          "origin": {
           "order": 0,
           "paragraphIndex": 0,
           "place": "preambleParagraph",
           "startsNewParagraph": true
          },
          "originalText": "The method of claim 15, further comprising:",
          "text": "The method of claim 15, further comprising:"
         },
         "status": 0,
         "statusIndicator": 0,
         "statusText": "Success"
        },
        {
         "claimNumber": 19,
         "claimType": 1,
         "deviceName": {},
         "independentClaim": false,
         "independentParent": 15,
         "limitations": [
          {
           "documentOrigin": {
            "end": 86,
            "paragraphHash": null,
            "paragraphId": null,
            "paragraphIndex": 90,
            "start": 3
           },
           "indentation": 0,
           "limitations": [],
           "origin": {
            "order": 0,
            "paragraphIndex": 1,
            "place": "limitationParagraph",
            "startsNewParagraph": true
           },
           "originalText": "provisioning a set of network devices to execute the microservices application; and",
           "processStep": {
            "directObject": "a set of network devices to execute the microservices application; and",
            "verbPhrase": {
             "gerund": "provisioning",
             "infinitive": "provision",
             "original": "provisioning",
             "past": "provisioned"
            }
           },
           "status": 0,
           "statusText": "Success",
           "text": "provisioning a set of network devices to execute the microservices application; and"
          },
          {
           "documentOrigin": {
            "end": 47,
            "paragraphHash": null,
            "paragraphId": null,
            "paragraphIndex": 91,
            "start": 0
           },
           "indentation": 0,
           "limitations": [
            {
             "documentOrigin": {
              "end": 80,
              "paragraphHash": null,
              "paragraphId": null,
              "paragraphIndex": 92,
              "start": 0
             },
             "indentation": 1,
             "limitations": [],
             "origin": {
              "order": 0,
              "paragraphIndex": 3,
              "place": "limitationParagraph",
              "startsNewParagraph": true
             },
             "originalText": "determining the execution time based on provisioning the set of network devices.",
             "processStep": {
              "directObject": "the execution time based on provisioning the set of network devices.",
              "verbPhrase": {
               "gerund": "determining",
               "infinitive": "determine",
               "original": "determining",
               "past": "determined"
              }
             },
             "status": 0,
             "statusText": "Success",
             "text": "determining the execution time based on provisioning the set of network devices."
            }
           ],
           "origin": {
            "order": 0,
            "paragraphIndex": 2,
            "place": "limitationParagraph",
            "startsNewParagraph": true
           },
           "originalText": "where determining the execution time comprises:",
           "status": 0,
           "statusText": "Success",
           "text": "where determining the execution time comprises:",
           "whereinClause": {
            "addedLimitationPhrase": null,
            "addingProcessStep": true,
            "isComplete": false,
            "modifyingProcessStep": true,
            "referencedTerm": "determining the execution time",
            "transitionalPhrase": "comprises",
            "whereinIndicator": "where"
           }
          }
         ],
         "parentClaimNumbers": [
          15
         ],
         "preamble": {
          "documentOrigin": {
           "end": 49,
           "paragraphHash": null,
           "paragraphId": null,
           "paragraphIndex": 89,
           "start": 6
          },
          "origin": {
           "order": 0,
           "paragraphIndex": 0,
           "place": "preambleParagraph",
           "startsNewParagraph": true
          },
          "originalText": "The method of claim 15, further comprising:",
          "text": "The method of claim 15, further comprising:"
         },
         "status": 0,
         "statusIndicator": 0,
         "statusText": "Success"
        },
        {
         "claimNumber": 20,
         "claimType": 1,
         "deviceName": {},
         "independentClaim": false,
         "independentParent": 15,
         "limitations": [
          {
           "documentOrigin": {
            "end": 130,
            "paragraphHash": null,
            "paragraphId": null,
            "paragraphIndex": 94,
            "start": 0
           },
           "indentation": 0,
           "limitations": [],
           "origin": {
            "order": 0,
            "paragraphIndex": 1,
            "place": "limitationParagraph",
            "startsNewParagraph": true
           },
           "originalText": "decreasing a third number of instances of a third microservice, the third microservice being associated with another set of tasks;",
           "processStep": {
            "directObject": "a third number of instances of a third microservice, the third microservice being associated with another set of tasks;",
            "verbPhrase": {
             "gerund": "decreasing",
             "infinitive": "decrease",
             "original": "decreasing",
             "past": "decreased"
            }
           },
           "status": 0,
           "statusText": "Success",
           "text": "decreasing a third number of instances of a third microservice, the third microservice being associated with another set of tasks;"
          },
          {
           "documentOrigin": {
            "end": 147,
            "paragraphHash": null,
            "paragraphId": null,
            "paragraphIndex": 95,
            "start": 0
           },
           "indentation": 0,
           "limitations": [],
           "origin": {
            "order": 0,
            "paragraphIndex": 2,
            "place": "limitationParagraph",
            "startsNewParagraph": true
           },
           "originalText": "increasing the first number of instances of the first microservice based on decreasing the third number of instances of the third microservice; and",
           "processStep": {
            "directObject": "the first number of instances of the first microservice based on decreasing the third number of instances of the third microservice; and",
            "verbPhrase": {
             "gerund": "increasing",
             "infinitive": "increase",
             "original": "increasing",
             "past": "increased"
            }
           },
           "status": 0,
           "statusText": "Success",
           "text": "increasing the first number of instances of the first microservice based on decreasing the third number of instances of the third microservice; and"
          },
          {
           "documentOrigin": {
            "end": 130,
            "paragraphHash": null,
            "paragraphId": null,
            "paragraphIndex": 96,
            "start": 0
           },
           "indentation": 0,
           "limitations": [
            {
             "documentOrigin": {
              "end": 90,
              "paragraphHash": null,
              "paragraphId": null,
              "paragraphIndex": 97,
              "start": 0
             },
             "indentation": 1,
             "limitations": [],
             "origin": {
              "order": 0,
              "paragraphIndex": 4,
              "place": "limitationParagraph",
              "startsNewParagraph": true
             },
             "originalText": "adjusting the first number of instances based on increasing the first number of instances.",
             "processStep": {
              "directObject": "the first number of instances based on increasing the first number of instances.",
              "verbPhrase": {
               "gerund": "adjusting",
               "infinitive": "adjust",
               "original": "adjusting",
               "past": "adjusted"
              }
             },
             "status": 0,
             "statusText": "Success",
             "text": "adjusting the first number of instances based on increasing the first number of instances."
            }
           ],
           "origin": {
            "order": 0,
            "paragraphIndex": 3,
            "place": "limitationParagraph",
            "startsNewParagraph": true
           },
           "originalText": "where selectively adjusting the first number of instances or the second number of instances based on the execution time comprises:",
           "status": 0,
           "statusText": "Success",
           "text": "where selectively adjusting the first number of instances or the second number of instances based on the execution time comprises:",
           "whereinClause": {
            "addedLimitationPhrase": null,
            "addingProcessStep": true,
            "isComplete": false,
            "modifyingProcessStep": true,
            "referencedTerm": "selectively adjusting the first number of instances or the second number of instances based on the execution time",
            "transitionalPhrase": "comprises",
            "whereinIndicator": "where"
           }
          }
         ],
         "parentClaimNumbers": [
          15
         ],
         "preamble": {
          "documentOrigin": {
           "end": 49,
           "paragraphHash": null,
           "paragraphId": null,
           "paragraphIndex": 93,
           "start": 6
          },
          "origin": {
           "order": 0,
           "paragraphIndex": 0,
           "place": "preambleParagraph",
           "startsNewParagraph": true
          },
          "originalText": "The method of claim 15, further comprising:",
          "text": "The method of claim 15, further comprising:"
         },
         "status": 0,
         "statusIndicator": 0,
         "statusText": "Success"
        }
       ],
       "examiner": {
        "firstName": "SISLEY",
        "lastName": "KIM",
        "phone": "(571)270-7832"
       },
       "indexOfClaims": [
        {
         "claimNumber": 1,
         "currentlyPending": true,
         "dispositions": [],
         "independentClaim": true,
         "independentParent": null
        },
        {
         "claimNumber": 2,
         "currentlyPending": true,
         "dispositions": [],
         "independentClaim": false,
         "independentParent": 1
        },
        {
         "claimNumber": 3,
         "currentlyPending": true,
         "dispositions": [],
         "independentClaim": false,
         "independentParent": 1
        },
        {
         "claimNumber": 4,
         "currentlyPending": true,
         "dispositions": [],
         "independentClaim": false,
         "independentParent": 1
        },
        {
         "claimNumber": 5,
         "currentlyPending": true,
         "dispositions": [],
         "independentClaim": false,
         "independentParent": 1
        },
        {
         "claimNumber": 6,
         "currentlyPending": true,
         "dispositions": [],
         "independentClaim": false,
         "independentParent": 1
        },
        {
         "claimNumber": 7,
         "currentlyPending": true,
         "dispositions": [],
         "independentClaim": false,
         "independentParent": 1
        },
        {
         "claimNumber": 8,
         "currentlyPending": true,
         "dispositions": [],
         "independentClaim": true,
         "independentParent": null
        },
        {
         "claimNumber": 9,
         "currentlyPending": true,
         "dispositions": [],
         "independentClaim": false,
         "independentParent": 8
        },
        {
         "claimNumber": 10,
         "currentlyPending": true,
         "dispositions": [],
         "independentClaim": false,
         "independentParent": 8
        },
        {
         "claimNumber": 11,
         "currentlyPending": true,
         "dispositions": [],
         "independentClaim": false,
         "independentParent": 8
        },
        {
         "claimNumber": 12,
         "currentlyPending": true,
         "dispositions": [],
         "independentClaim": false,
         "independentParent": 8
        },
        {
         "claimNumber": 13,
         "currentlyPending": true,
         "dispositions": [],
         "independentClaim": false,
         "independentParent": 8
        },
        {
         "claimNumber": 14,
         "currentlyPending": true,
         "dispositions": [],
         "independentClaim": false,
         "independentParent": 8
        },
        {
         "claimNumber": 15,
         "currentlyPending": true,
         "dispositions": [],
         "independentClaim": true,
         "independentParent": null
        },
        {
         "claimNumber": 16,
         "currentlyPending": true,
         "dispositions": [],
         "independentClaim": false,
         "independentParent": 15
        },
        {
         "claimNumber": 17,
         "currentlyPending": true,
         "dispositions": [],
         "independentClaim": false,
         "independentParent": 15
        },
        {
         "claimNumber": 18,
         "currentlyPending": true,
         "dispositions": [],
         "independentClaim": false,
         "independentParent": 15
        },
        {
         "claimNumber": 19,
         "currentlyPending": true,
         "dispositions": [],
         "independentClaim": false,
         "independentParent": 15
        },
        {
         "claimNumber": 20,
         "currentlyPending": true,
         "dispositions": [],
         "independentClaim": false,
         "independentParent": 15
        },
        {
         "claimNumber": 21,
         "currentlyPending": false,
         "dispositions": [],
         "independentClaim": false,
         "independentParent": 0,
         "missingInClaimSet": true
        },
        {
         "claimNumber": 22,
         "currentlyPending": false,
         "dispositions": [],
         "independentClaim": false,
         "independentParent": 0,
         "missingInClaimSet": true
        },
        {
         "claimNumber": 23,
         "currentlyPending": false,
         "dispositions": [],
         "independentClaim": false,
         "independentParent": 0,
         "missingInClaimSet": true
        },
        {
         "claimNumber": 24,
         "currentlyPending": false,
         "dispositions": [],
         "independentClaim": false,
         "independentParent": 0,
         "missingInClaimSet": true
        },
        {
         "claimNumber": 25,
         "currentlyPending": false,
         "dispositions": [],
         "independentClaim": false,
         "independentParent": 0,
         "missingInClaimSet": true
        },
        {
         "claimNumber": 26,
         "currentlyPending": false,
         "dispositions": [],
         "independentClaim": false,
         "independentParent": 0,
         "missingInClaimSet": true
        },
        {
         "claimNumber": 27,
         "currentlyPending": false,
         "dispositions": [],
         "independentClaim": false,
         "independentParent": 0,
         "missingInClaimSet": true
        },
        {
         "claimNumber": 28,
         "currentlyPending": false,
         "dispositions": [],
         "independentClaim": false,
         "independentParent": 0,
         "missingInClaimSet": true
        },
        {
         "claimNumber": 29,
         "currentlyPending": false,
         "dispositions": [],
         "independentClaim": false,
         "independentParent": 0,
         "missingInClaimSet": true
        },
        {
         "claimNumber": 30,
         "currentlyPending": false,
         "dispositions": [],
         "independentClaim": false,
         "independentParent": 0,
         "missingInClaimSet": true
        },
        {
         "claimNumber": 31,
         "currentlyPending": false,
         "dispositions": [],
         "independentClaim": false,
         "independentParent": 0,
         "missingInClaimSet": true
        },
        {
         "claimNumber": 32,
         "currentlyPending": false,
         "dispositions": [],
         "independentClaim": false,
         "independentParent": 0,
         "missingInClaimSet": true
        },
        {
         "claimNumber": 33,
         "currentlyPending": false,
         "dispositions": [],
         "independentClaim": false,
         "independentParent": 0,
         "missingInClaimSet": true
        },
        {
         "claimNumber": 34,
         "currentlyPending": false,
         "dispositions": [],
         "independentClaim": false,
         "independentParent": 0,
         "missingInClaimSet": true
        },
        {
         "claimNumber": 35,
         "currentlyPending": false,
         "dispositions": [],
         "independentClaim": false,
         "independentParent": 0,
         "missingInClaimSet": true
        },
        {
         "claimNumber": 36,
         "currentlyPending": false,
         "dispositions": [],
         "independentClaim": false,
         "independentParent": 0,
         "missingInClaimSet": true
        },
        {
         "claimNumber": 37,
         "currentlyPending": false,
         "dispositions": [],
         "independentClaim": false,
         "independentParent": 0,
         "missingInClaimSet": true
        },
        {
         "claimNumber": 38,
         "currentlyPending": false,
         "dispositions": [],
         "independentClaim": false,
         "independentParent": 0,
         "missingInClaimSet": true
        },
        {
         "claimNumber": 39,
         "currentlyPending": false,
         "dispositions": [],
         "independentClaim": false,
         "independentParent": 0,
         "missingInClaimSet": true
        },
        {
         "claimNumber": 40,
         "currentlyPending": false,
         "dispositions": [],
         "independentClaim": false,
         "independentParent": 0,
         "missingInClaimSet": true
        }
       ],
       "isFinal": false,
       "objections": [
        {
         "claimIndex": [
          {
           "claimNumber": 23,
           "disposition": [
            "objected"
           ],
           "independentClaim": false,
           "missingInClaimSet": true
          },
          {
           "claimNumber": 30,
           "disposition": [
            "objected"
           ],
           "independentClaim": false,
           "missingInClaimSet": true
          },
          {
           "claimNumber": 37,
           "disposition": [
            "objected"
           ],
           "independentClaim": false,
           "missingInClaimSet": true
          }
         ],
         "claimsString": "23, 30, and 37",
         "text": "Claims 23, 30, and 37 are objected to as being dependent upon a rejected base claim, but would be allowable if rewritten in independent form including all of the limitations of the base claim and any intervening claims."
        }
       ],
       "refsCited": [
        {
         "citation": "2017/0220281",
         "name": "Gupta"
        },
        {
         "citation": "2018/0113742",
         "name": "Chung"
        },
        {
         "citation": "2017/0060621",
         "name": "Whipple"
        },
        {
         "citation": "2015/0262114",
         "name": "Ming"
        }
       ],
       "rejections": [
        {
         "anyIndependentClaims": false,
         "claimIndex": [
          {
           "claimNumber": 27,
           "disposition": [
            "rejected"
           ],
           "independentClaim": false,
           "missingInClaimSet": true
          },
          {
           "claimNumber": 34,
           "disposition": [
            "rejected"
           ],
           "independentClaim": false,
           "missingInClaimSet": true
          }
         ],
         "claimsString": "27 and 34",
         "references": [],
         "text": "Claims 27 and 34 are rejected under 35 U.S.C. 112(a) or pre-AIA 35 U.S.C. 112, first paragraph, as failing to comply with the written description requirement. The claim(s) contains subject matter which was not described in the specification in such a way as to reasonably convey to one skilled in the relevant art that the inventor or a joint inventor, or for pre-AIA the inventor(s), at the time the application was filed, had possession of the claimed invention. Claims 27 and 34 discloses “where the one or more processors, when executing the number of instances of the first microservice based on the comparison, are to: selectively adjust a quantity of one or more of a plurality of first tasks associated with the first microservice”. On the other hand, specification discloses “the parameters may include information that identifies a percentage of completion of the set of tasks (e.g., 0%), a number of tasks (e.g., 5000), an elapsed time associated with the set of tasks (e.g., 0:00), and various numbers of instances of various microservices of the microservices application (e.g., 15 for microservice 1, 10 for microservice 2, and 4 for microservice N)” (paragraph [0014], emphasis added) and “the scheduling platform may selectively adjust a number of instances, of a microservice, based on the execution time. For example, as shown, the scheduling platform may adjust a number of instances of microservice 1 (e.g., increase from 15 to 30), and may adjust a number of instances of microservice 2 (e.g., decease from 20 to 5)” (paragraph [0018], emphasis added).",
         "type": "112",
         "typeString": "35 U.S.C. 112"
        },
        {
         "anyIndependentClaims": false,
         "claimIndex": [
          {
           "claimNumber": 21,
           "disposition": [
            "rejected"
           ],
           "independentClaim": false,
           "missingInClaimSet": true
          },
          {
           "claimNumber": 22,
           "disposition": [
            "rejected"
           ],
           "independentClaim": false,
           "missingInClaimSet": true
          },
          {
           "claimNumber": 24,
           "disposition": [
            "rejected"
           ],
           "independentClaim": false,
           "missingInClaimSet": true
          },
          {
           "claimNumber": 26,
           "disposition": [
            "rejected"
           ],
           "independentClaim": false,
           "missingInClaimSet": true
          },
          {
           "claimNumber": 28,
           "disposition": [
            "rejected"
           ],
           "independentClaim": false,
           "missingInClaimSet": true
          },
          {
           "claimNumber": 29,
           "disposition": [
            "rejected"
           ],
           "independentClaim": false,
           "missingInClaimSet": true
          },
          {
           "claimNumber": 31,
           "disposition": [
            "rejected"
           ],
           "independentClaim": false,
           "missingInClaimSet": true
          },
          {
           "claimNumber": 33,
           "disposition": [
            "rejected"
           ],
           "independentClaim": false,
           "missingInClaimSet": true
          },
          {
           "claimNumber": 35,
           "disposition": [
            "rejected"
           ],
           "independentClaim": false,
           "missingInClaimSet": true
          },
          {
           "claimNumber": 36,
           "disposition": [
            "rejected"
           ],
           "independentClaim": false,
           "missingInClaimSet": true
          },
          {
           "claimNumber": 38,
           "disposition": [
            "rejected"
           ],
           "independentClaim": false,
           "missingInClaimSet": true
          },
          {
           "claimNumber": 40,
           "disposition": [
            "rejected"
           ],
           "independentClaim": false,
           "missingInClaimSet": true
          }
         ],
         "claimsString": "21, 22, 24, 26, 28, 29, 31, 33, 35, 36, 38, and 40",
         "references": [
          {
           "citation": "2017/0220281",
           "name": "Gupta"
          }
         ],
         "text": "Claims 21, 22, 24, 26, 28, 29, 31, 33, 35, 36, 38, and 40 are rejected under 35 U.S.C. 102(a)(2) as being anticipated by Gupta et al. (US 2017/0220281, hereinafter Gupta).",
         "type": "102",
         "typeString": "35 U.S.C. 102"
        },
        {
         "anyIndependentClaims": false,
         "claimIndex": [
          {
           "claimNumber": 25,
           "disposition": [
            "rejected"
           ],
           "independentClaim": false,
           "missingInClaimSet": true
          },
          {
           "claimNumber": 39,
           "disposition": [
            "rejected"
           ],
           "independentClaim": false,
           "missingInClaimSet": true
          }
         ],
         "claimsString": "25 and 39",
         "references": [
          {
           "citation": "2017/0220281",
           "name": "Gupta"
          },
          {
           "citation": "2018/0113742",
           "name": "Chung"
          }
         ],
         "text": "Claims 25 and 39 are rejected under 35 U.S.C. 103 as being unpatentable over Gupta et al. (US 2017/0220281, hereinafter Gupta) in view of Chung et al. (US 2018/0113742, hereinafter Chung).",
         "type": "103",
         "typeString": "35 U.S.C. 103"
        },
        {
         "anyIndependentClaims": false,
         "claimIndex": [
          {
           "claimNumber": 27,
           "disposition": [
            "rejected"
           ],
           "independentClaim": false,
           "missingInClaimSet": true
          },
          {
           "claimNumber": 34,
           "disposition": [
            "rejected"
           ],
           "independentClaim": false,
           "missingInClaimSet": true
          }
         ],
         "claimsString": "27 and 34",
         "references": [
          {
           "citation": "2017/0220281",
           "name": "Gupta"
          },
          {
           "citation": "2017/0060621",
           "name": "Whipple"
          }
         ],
         "text": "Claims 27 and 34 are rejected under 35 U.S.C. 103 as being unpatentable over Gupta et al. (US 2017/0220281, hereinafter Gupta) in view of Whipple et al. (US 2017/0060621, hereinafter Whipple).",
         "type": "103",
         "typeString": "35 U.S.C. 103"
        },
        {
         "anyIndependentClaims": false,
         "claimIndex": [
          {
           "claimNumber": 32,
           "disposition": [
            "rejected"
           ],
           "independentClaim": false,
           "missingInClaimSet": true
          }
         ],
         "claimsString": "32",
         "references": [
          {
           "citation": "2017/0220281",
           "name": "Gupta"
          },
          {
           "citation": "2015/0262114",
           "name": "Ming"
          }
         ],
         "text": "Claim 32 is rejected under 35 U.S.C. 103 as being unpatentable over Gupta et al. (US 2017/0220281, hereinafter Gupta) in view of Ming (US 2015/0262114, hereinafter Ming).",
         "type": "103",
         "typeString": "35 U.S.C. 103"
        }
       ],
       "responseToFilingDated": null
      },
      "text/plain": [
       "<IPython.core.display.JSON object>"
      ]
     },
     "execution_count": 130,
     "metadata": {
      "application/json": {
       "expanded": false,
       "root": "root"
      }
     },
     "output_type": "execute_result"
    }
   ],
   "source": [
    "JSON(context)"
   ]
  },
  {
   "cell_type": "code",
   "execution_count": null,
   "id": "1c5442d8-98c2-48c2-89af-e50ebd37e4de",
   "metadata": {},
   "outputs": [],
   "source": []
  },
  {
   "cell_type": "code",
   "execution_count": null,
   "id": "53232a0c-1829-4022-989c-a274df7bb4f4",
   "metadata": {},
   "outputs": [],
   "source": []
  }
 ],
 "metadata": {
  "kernelspec": {
   "display_name": "Python 3 (ipykernel)",
   "language": "python",
   "name": "python3"
  },
  "language_info": {
   "codemirror_mode": {
    "name": "ipython",
    "version": 3
   },
   "file_extension": ".py",
   "mimetype": "text/x-python",
   "name": "python",
   "nbconvert_exporter": "python",
   "pygments_lexer": "ipython3",
   "version": "3.8.10"
  }
 },
 "nbformat": 4,
 "nbformat_minor": 5
}
