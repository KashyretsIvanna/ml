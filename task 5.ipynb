{
 "cells": [
  {
   "cell_type": "code",
   "execution_count": 91,
   "id": "4cf69c49",
   "metadata": {},
   "outputs": [],
   "source": [
    "import pandas as pd \n",
    "import numpy as np\n",
    "import matplotlib.pyplot as plt\n",
    "from statsmodels.tsa.ar_model import AutoReg\n",
    "from statsmodels.tsa.stattools import adfuller\n",
    "import math\n",
    "from statsmodels.tsa.stattools import grangercausalitytests\n",
    "from statsmodels.tsa.api import VAR\n",
    "from statsmodels.tools.eval_measures import rmse, aic\n",
    "\n",
    "%matplotlib inline "
   ]
  },
  {
   "cell_type": "markdown",
   "id": "4fb439f3",
   "metadata": {},
   "source": [
    "завантаження даних"
   ]
  },
  {
   "cell_type": "code",
   "execution_count": 2,
   "id": "e847ad0a",
   "metadata": {},
   "outputs": [
    {
     "data": {
      "text/html": [
       "<div>\n",
       "<style scoped>\n",
       "    .dataframe tbody tr th:only-of-type {\n",
       "        vertical-align: middle;\n",
       "    }\n",
       "\n",
       "    .dataframe tbody tr th {\n",
       "        vertical-align: top;\n",
       "    }\n",
       "\n",
       "    .dataframe thead th {\n",
       "        text-align: right;\n",
       "    }\n",
       "</style>\n",
       "<table border=\"1\" class=\"dataframe\">\n",
       "  <thead>\n",
       "    <tr style=\"text-align: right;\">\n",
       "      <th></th>\n",
       "      <th>quarter</th>\n",
       "      <th>GDP</th>\n",
       "      <th>Investment</th>\n",
       "      <th>Government Spending</th>\n",
       "      <th>M2</th>\n",
       "      <th>Key policy rate</th>\n",
       "    </tr>\n",
       "  </thead>\n",
       "  <tbody>\n",
       "    <tr>\n",
       "      <th>0</th>\n",
       "      <td>1</td>\n",
       "      <td>20871</td>\n",
       "      <td>1744</td>\n",
       "      <td>6720</td>\n",
       "      <td>12835</td>\n",
       "      <td>35.0</td>\n",
       "    </tr>\n",
       "    <tr>\n",
       "      <th>1</th>\n",
       "      <td>2</td>\n",
       "      <td>23367</td>\n",
       "      <td>2675</td>\n",
       "      <td>7384</td>\n",
       "      <td>13257</td>\n",
       "      <td>41.0</td>\n",
       "    </tr>\n",
       "    <tr>\n",
       "      <th>2</th>\n",
       "      <td>3</td>\n",
       "      <td>28908</td>\n",
       "      <td>2877</td>\n",
       "      <td>8210</td>\n",
       "      <td>14142</td>\n",
       "      <td>51.0</td>\n",
       "    </tr>\n",
       "    <tr>\n",
       "      <th>3</th>\n",
       "      <td>4</td>\n",
       "      <td>29447</td>\n",
       "      <td>6662</td>\n",
       "      <td>8952</td>\n",
       "      <td>15432</td>\n",
       "      <td>82.0</td>\n",
       "    </tr>\n",
       "    <tr>\n",
       "      <th>4</th>\n",
       "      <td>5</td>\n",
       "      <td>24980</td>\n",
       "      <td>1861</td>\n",
       "      <td>6245</td>\n",
       "      <td>15631</td>\n",
       "      <td>60.0</td>\n",
       "    </tr>\n",
       "  </tbody>\n",
       "</table>\n",
       "</div>"
      ],
      "text/plain": [
       "   quarter    GDP  Investment  Government Spending     M2  Key policy rate\n",
       "0        1  20871        1744                 6720  12835             35.0\n",
       "1        2  23367        2675                 7384  13257             41.0\n",
       "2        3  28908        2877                 8210  14142             51.0\n",
       "3        4  29447        6662                 8952  15432             82.0\n",
       "4        5  24980        1861                 6245  15631             60.0"
      ]
     },
     "execution_count": 2,
     "metadata": {},
     "output_type": "execute_result"
    }
   ],
   "source": [
    "series = pd.read_excel('financial.xlsx')\n",
    "series.head()"
   ]
  },
  {
   "cell_type": "code",
   "execution_count": 3,
   "id": "c08aef68",
   "metadata": {},
   "outputs": [
    {
     "name": "stdout",
     "output_type": "stream",
     "text": [
      "<class 'pandas.core.frame.DataFrame'>\n",
      "RangeIndex: 23 entries, 0 to 22\n",
      "Data columns (total 6 columns):\n",
      " #   Column               Non-Null Count  Dtype  \n",
      "---  ------               --------------  -----  \n",
      " 0   quarter              23 non-null     int64  \n",
      " 1   GDP                  23 non-null     int64  \n",
      " 2   Investment           23 non-null     int64  \n",
      " 3   Government Spending  23 non-null     int64  \n",
      " 4   M2                   23 non-null     int64  \n",
      " 5   Key policy rate      23 non-null     float64\n",
      "dtypes: float64(1), int64(5)\n",
      "memory usage: 1.2 KB\n"
     ]
    }
   ],
   "source": [
    "series.info()"
   ]
  },
  {
   "cell_type": "markdown",
   "id": "95bb2ccb",
   "metadata": {},
   "source": [
    "зображуємо часовий ряд по змінній GDP"
   ]
  },
  {
   "cell_type": "code",
   "execution_count": 4,
   "id": "9f36d464",
   "metadata": {},
   "outputs": [
    {
     "data": {
      "text/plain": [
       "<Axes: >"
      ]
     },
     "execution_count": 4,
     "metadata": {},
     "output_type": "execute_result"
    },
    {
     "data": {
      "image/png": "[encoded data removed]",
      "text/plain": [
       "<Figure size 640x480 with 1 Axes>"
      ]
     },
     "metadata": {},
     "output_type": "display_data"
    }
   ],
   "source": [
    "series['GDP'].plot()"
   ]
  },
  {
   "cell_type": "markdown",
   "id": "9bf3aeee",
   "metadata": {},
   "source": [
    "є тренд ряд за графіком не є стаціонарним"
   ]
  },
  {
   "cell_type": "markdown",
   "id": "b7707d7c",
   "metadata": {},
   "source": [
    "зображуємо часовий ряд по змінній Investment"
   ]
  },
  {
   "cell_type": "code",
   "execution_count": 5,
   "id": "36fad467",
   "metadata": {},
   "outputs": [
    {
     "data": {
      "text/plain": [
       "<Axes: >"
      ]
     },
     "execution_count": 5,
     "metadata": {},
     "output_type": "execute_result"
    },
    {
     "data": {
      "image/png": "[encoded data removed]",
      "text/plain": [
       "<Figure size 640x480 with 1 Axes>"
      ]
     },
     "metadata": {},
     "output_type": "display_data"
    }
   ],
   "source": [
    "series['Investment'].plot()"
   ]
  },
  {
   "cell_type": "markdown",
   "id": "eca07b58",
   "metadata": {},
   "source": [
    "на графіку видно, що є якась сезонність, ряд нестаціонарний "
   ]
  },
  {
   "cell_type": "markdown",
   "id": "f301c090",
   "metadata": {},
   "source": [
    "зображуємо часовий ряд по змінній Key policy rate"
   ]
  },
  {
   "cell_type": "code",
   "execution_count": 6,
   "id": "5f011999",
   "metadata": {},
   "outputs": [
    {
     "data": {
      "text/plain": [
       "<Axes: >"
      ]
     },
     "execution_count": 6,
     "metadata": {},
     "output_type": "execute_result"
    },
    {
     "data": {
      "image/png": "[encoded data removed]",
      "text/plain": [
       "<Figure size 640x480 with 1 Axes>"
      ]
     },
     "metadata": {},
     "output_type": "display_data"
    }
   ],
   "source": [
    "series['Key policy rate'].plot()"
   ]
  },
  {
   "cell_type": "markdown",
   "id": "0bc852f2",
   "metadata": {},
   "source": [
    "наявний тренд, ряд нестаціонарний"
   ]
  },
  {
   "cell_type": "markdown",
   "id": "60b8097d",
   "metadata": {},
   "source": [
    "ВВП тест Діккі-Фулера "
   ]
  },
  {
   "cell_type": "code",
   "execution_count": 7,
   "id": "9fa38cd8",
   "metadata": {},
   "outputs": [
    {
     "data": {
      "text/plain": [
       "0.897969883183179"
      ]
     },
     "execution_count": 7,
     "metadata": {},
     "output_type": "execute_result"
    }
   ],
   "source": [
    "test_stat, pvalue = adfuller(series['GDP'])[0:2]\n",
    "pvalue"
   ]
  },
  {
   "cell_type": "markdown",
   "id": "28035c27",
   "metadata": {},
   "source": [
    "H0: The time series is non-stationary. In other words, it has some time-dependent structure and does not have constant variance over time.\n",
    "\n",
    "HA: The time series is stationary.\n",
    "\n",
    "висновок: Оскільки p-value не менше 0,05, ми не можемо відхилити нульову гіпотезу.\n",
    "\n",
    "Це означає, що часовий ряд є нестаціонарним. Іншими словами, він має деяку залежну від часу структуру і не має постійної дисперсії в часі."
   ]
  },
  {
   "cell_type": "markdown",
   "id": "6b6860c8",
   "metadata": {},
   "source": [
    "Інвестиції тест Діккі-Фулера"
   ]
  },
  {
   "cell_type": "code",
   "execution_count": 8,
   "id": "c7bb38df",
   "metadata": {},
   "outputs": [
    {
     "data": {
      "text/plain": [
       "0.9958016808571452"
      ]
     },
     "execution_count": 8,
     "metadata": {},
     "output_type": "execute_result"
    }
   ],
   "source": [
    "test_stat, pvalue = adfuller(series['Investment'])[0:2]\n",
    "pvalue"
   ]
  },
  {
   "cell_type": "markdown",
   "id": "bc89622c",
   "metadata": {},
   "source": [
    "висновок: Оскільки p-value не є менше за 0,05, ми не можемо відхилити нульову гіпотезу. ряд нестаціонарний."
   ]
  },
  {
   "cell_type": "markdown",
   "id": "68b9ec6d",
   "metadata": {},
   "source": [
    "#### Облікова ставка тест Діккі-Фулера"
   ]
  },
  {
   "cell_type": "code",
   "execution_count": 9,
   "id": "2b00ca8c",
   "metadata": {},
   "outputs": [
    {
     "data": {
      "text/plain": [
       "0.6074875097438759"
      ]
     },
     "execution_count": 9,
     "metadata": {},
     "output_type": "execute_result"
    }
   ],
   "source": [
    "test_stat, pvalue = adfuller(series['Key policy rate'])[0:2]\n",
    "pvalue"
   ]
  },
  {
   "cell_type": "markdown",
   "id": "83acec29",
   "metadata": {},
   "source": [
    "висновок: Оскільки p-value не є менше за 0,05, ми не можемо відхилити нульову гіпотезу. ряд нестаціонарний."
   ]
  },
  {
   "cell_type": "markdown",
   "id": "25b055d0",
   "metadata": {},
   "source": [
    "###### ряди мають бути стаціонарним аби побудувати модель, беремо ряди перших різниць для приведення до стаціонарності"
   ]
  },
  {
   "cell_type": "code",
   "execution_count": 10,
   "id": "3856621a",
   "metadata": {},
   "outputs": [
    {
     "data": {
      "text/html": [
       "<div>\n",
       "<style scoped>\n",
       "    .dataframe tbody tr th:only-of-type {\n",
       "        vertical-align: middle;\n",
       "    }\n",
       "\n",
       "    .dataframe tbody tr th {\n",
       "        vertical-align: top;\n",
       "    }\n",
       "\n",
       "    .dataframe thead th {\n",
       "        text-align: right;\n",
       "    }\n",
       "</style>\n",
       "<table border=\"1\" class=\"dataframe\">\n",
       "  <thead>\n",
       "    <tr style=\"text-align: right;\">\n",
       "      <th></th>\n",
       "      <th>quarter</th>\n",
       "      <th>GDP</th>\n",
       "      <th>Investment</th>\n",
       "      <th>Government Spending</th>\n",
       "      <th>M2</th>\n",
       "      <th>Key policy rate</th>\n",
       "      <th>Diff 1 GDP</th>\n",
       "      <th>Diff 1 Investment</th>\n",
       "      <th>Diff 1 Key policy rate</th>\n",
       "    </tr>\n",
       "  </thead>\n",
       "  <tbody>\n",
       "    <tr>\n",
       "      <th>0</th>\n",
       "      <td>1</td>\n",
       "      <td>20871</td>\n",
       "      <td>1744</td>\n",
       "      <td>6720</td>\n",
       "      <td>12835</td>\n",
       "      <td>35.0</td>\n",
       "      <td>NaN</td>\n",
       "      <td>NaN</td>\n",
       "      <td>NaN</td>\n",
       "    </tr>\n",
       "    <tr>\n",
       "      <th>1</th>\n",
       "      <td>2</td>\n",
       "      <td>23367</td>\n",
       "      <td>2675</td>\n",
       "      <td>7384</td>\n",
       "      <td>13257</td>\n",
       "      <td>41.0</td>\n",
       "      <td>2496.0</td>\n",
       "      <td>931.0</td>\n",
       "      <td>6.0</td>\n",
       "    </tr>\n",
       "    <tr>\n",
       "      <th>2</th>\n",
       "      <td>3</td>\n",
       "      <td>28908</td>\n",
       "      <td>2877</td>\n",
       "      <td>8210</td>\n",
       "      <td>14142</td>\n",
       "      <td>51.0</td>\n",
       "      <td>5541.0</td>\n",
       "      <td>202.0</td>\n",
       "      <td>10.0</td>\n",
       "    </tr>\n",
       "    <tr>\n",
       "      <th>3</th>\n",
       "      <td>4</td>\n",
       "      <td>29447</td>\n",
       "      <td>6662</td>\n",
       "      <td>8952</td>\n",
       "      <td>15432</td>\n",
       "      <td>82.0</td>\n",
       "      <td>539.0</td>\n",
       "      <td>3785.0</td>\n",
       "      <td>31.0</td>\n",
       "    </tr>\n",
       "    <tr>\n",
       "      <th>4</th>\n",
       "      <td>5</td>\n",
       "      <td>24980</td>\n",
       "      <td>1861</td>\n",
       "      <td>6245</td>\n",
       "      <td>15631</td>\n",
       "      <td>60.0</td>\n",
       "      <td>-4467.0</td>\n",
       "      <td>-4801.0</td>\n",
       "      <td>-22.0</td>\n",
       "    </tr>\n",
       "  </tbody>\n",
       "</table>\n",
       "</div>"
      ],
      "text/plain": [
       "   quarter    GDP  Investment  Government Spending     M2  Key policy rate  \\\n",
       "0        1  20871        1744                 6720  12835             35.0   \n",
       "1        2  23367        2675                 7384  13257             41.0   \n",
       "2        3  28908        2877                 8210  14142             51.0   \n",
       "3        4  29447        6662                 8952  15432             82.0   \n",
       "4        5  24980        1861                 6245  15631             60.0   \n",
       "\n",
       "   Diff 1 GDP  Diff 1 Investment  Diff 1 Key policy rate  \n",
       "0         NaN                NaN                     NaN  \n",
       "1      2496.0              931.0                     6.0  \n",
       "2      5541.0              202.0                    10.0  \n",
       "3       539.0             3785.0                    31.0  \n",
       "4     -4467.0            -4801.0                   -22.0  "
      ]
     },
     "execution_count": 10,
     "metadata": {},
     "output_type": "execute_result"
    }
   ],
   "source": [
    "series['Diff 1 GDP'] = series['GDP'].diff()\n",
    "series['Diff 1 Investment'] = series['Investment'].diff()\n",
    "series['Diff 1 Key policy rate'] = series['Key policy rate'].diff()\n",
    "\n",
    "series.head()"
   ]
  },
  {
   "cell_type": "markdown",
   "id": "54289f27",
   "metadata": {},
   "source": [
    "*ВВП*"
   ]
  },
  {
   "cell_type": "code",
   "execution_count": 11,
   "id": "15b4680e",
   "metadata": {},
   "outputs": [
    {
     "data": {
      "text/plain": [
       "<Axes: >"
      ]
     },
     "execution_count": 11,
     "metadata": {},
     "output_type": "execute_result"
    },
    {
     "data": {
      "image/png": "[encoded data removed]",
      "text/plain": [
       "<Figure size 640x480 with 1 Axes>"
      ]
     },
     "metadata": {},
     "output_type": "display_data"
    }
   ],
   "source": [
    "series['Diff 1 GDP'].plot()"
   ]
  },
  {
   "cell_type": "markdown",
   "id": "71c1442c",
   "metadata": {},
   "source": [
    "Інвестиції"
   ]
  },
  {
   "cell_type": "code",
   "execution_count": 12,
   "id": "ca00f5b7",
   "metadata": {},
   "outputs": [
    {
     "data": {
      "text/plain": [
       "<Axes: >"
      ]
     },
     "execution_count": 12,
     "metadata": {},
     "output_type": "execute_result"
    },
    {
     "data": {
      "image/png": "[encoded data removed]",
      "text/plain": [
       "<Figure size 640x480 with 1 Axes>"
      ]
     },
     "metadata": {},
     "output_type": "display_data"
    }
   ],
   "source": [
    "series['Diff 1 Investment'].plot()"
   ]
  },
  {
   "cell_type": "markdown",
   "id": "e212633c",
   "metadata": {},
   "source": [
    "*Облікова ставка*"
   ]
  },
  {
   "cell_type": "code",
   "execution_count": 13,
   "id": "3b6d784e",
   "metadata": {},
   "outputs": [
    {
     "data": {
      "text/plain": [
       "<Axes: >"
      ]
     },
     "execution_count": 13,
     "metadata": {},
     "output_type": "execute_result"
    },
    {
     "data": {
      "image/png": "[encoded data removed]",
      "text/plain": [
       "<Figure size 640x480 with 1 Axes>"
      ]
     },
     "metadata": {},
     "output_type": "display_data"
    }
   ],
   "source": [
    "series['Diff 1 Key policy rate'].plot()"
   ]
  },
  {
   "cell_type": "code",
   "execution_count": null,
   "id": "f915934b",
   "metadata": {},
   "outputs": [],
   "source": []
  },
  {
   "cell_type": "markdown",
   "id": "07db9761",
   "metadata": {},
   "source": [
    "**Перевіримо на стаціонарність ряди перших різниць за тестом Діккі-Фулера:**"
   ]
  },
  {
   "cell_type": "code",
   "execution_count": 14,
   "id": "f03130fc",
   "metadata": {},
   "outputs": [
    {
     "name": "stdout",
     "output_type": "stream",
     "text": [
      "0.47013378146637336 1.5065836352424174e-11 1.0\n"
     ]
    }
   ],
   "source": [
    "pvalue_GDP = adfuller(series['Diff 1 GDP'].dropna())[1]\n",
    "pvalue_Investment = adfuller(series['Diff 1 Investment'].dropna())[1]\n",
    "pvalue_KPR = adfuller(series['Diff 1 Key policy rate'].dropna())[1]\n",
    "\n",
    "print(pvalue_GDP, pvalue_Investment, pvalue_KPR)"
   ]
  },
  {
   "cell_type": "markdown",
   "id": "29b2d947",
   "metadata": {},
   "source": [
    "Для показника інвестицій застосуємо ряд перших різниць для побудови моделі\n",
    "Для інших двох показників будуємо ряд жругих різниць і перевіряємо на стаціонарність"
   ]
  },
  {
   "cell_type": "code",
   "execution_count": 15,
   "id": "ddc86521",
   "metadata": {},
   "outputs": [
    {
     "data": {
      "text/html": [
       "<div>\n",
       "<style scoped>\n",
       "    .dataframe tbody tr th:only-of-type {\n",
       "        vertical-align: middle;\n",
       "    }\n",
       "\n",
       "    .dataframe tbody tr th {\n",
       "        vertical-align: top;\n",
       "    }\n",
       "\n",
       "    .dataframe thead th {\n",
       "        text-align: right;\n",
       "    }\n",
       "</style>\n",
       "<table border=\"1\" class=\"dataframe\">\n",
       "  <thead>\n",
       "    <tr style=\"text-align: right;\">\n",
       "      <th></th>\n",
       "      <th>quarter</th>\n",
       "      <th>GDP</th>\n",
       "      <th>Investment</th>\n",
       "      <th>Government Spending</th>\n",
       "      <th>M2</th>\n",
       "      <th>Key policy rate</th>\n",
       "      <th>Diff 1 GDP</th>\n",
       "      <th>Diff 1 Investment</th>\n",
       "      <th>Diff 1 Key policy rate</th>\n",
       "      <th>Diff2 GDP</th>\n",
       "      <th>Diff2 Key policy rate</th>\n",
       "    </tr>\n",
       "  </thead>\n",
       "  <tbody>\n",
       "    <tr>\n",
       "      <th>0</th>\n",
       "      <td>1</td>\n",
       "      <td>20871</td>\n",
       "      <td>1744</td>\n",
       "      <td>6720</td>\n",
       "      <td>12835</td>\n",
       "      <td>35.0</td>\n",
       "      <td>NaN</td>\n",
       "      <td>NaN</td>\n",
       "      <td>NaN</td>\n",
       "      <td>NaN</td>\n",
       "      <td>NaN</td>\n",
       "    </tr>\n",
       "    <tr>\n",
       "      <th>1</th>\n",
       "      <td>2</td>\n",
       "      <td>23367</td>\n",
       "      <td>2675</td>\n",
       "      <td>7384</td>\n",
       "      <td>13257</td>\n",
       "      <td>41.0</td>\n",
       "      <td>2496.0</td>\n",
       "      <td>931.0</td>\n",
       "      <td>6.0</td>\n",
       "      <td>NaN</td>\n",
       "      <td>NaN</td>\n",
       "    </tr>\n",
       "    <tr>\n",
       "      <th>2</th>\n",
       "      <td>3</td>\n",
       "      <td>28908</td>\n",
       "      <td>2877</td>\n",
       "      <td>8210</td>\n",
       "      <td>14142</td>\n",
       "      <td>51.0</td>\n",
       "      <td>5541.0</td>\n",
       "      <td>202.0</td>\n",
       "      <td>10.0</td>\n",
       "      <td>8037.0</td>\n",
       "      <td>16.0</td>\n",
       "    </tr>\n",
       "    <tr>\n",
       "      <th>3</th>\n",
       "      <td>4</td>\n",
       "      <td>29447</td>\n",
       "      <td>6662</td>\n",
       "      <td>8952</td>\n",
       "      <td>15432</td>\n",
       "      <td>82.0</td>\n",
       "      <td>539.0</td>\n",
       "      <td>3785.0</td>\n",
       "      <td>31.0</td>\n",
       "      <td>6080.0</td>\n",
       "      <td>41.0</td>\n",
       "    </tr>\n",
       "    <tr>\n",
       "      <th>4</th>\n",
       "      <td>5</td>\n",
       "      <td>24980</td>\n",
       "      <td>1861</td>\n",
       "      <td>6245</td>\n",
       "      <td>15631</td>\n",
       "      <td>60.0</td>\n",
       "      <td>-4467.0</td>\n",
       "      <td>-4801.0</td>\n",
       "      <td>-22.0</td>\n",
       "      <td>-3928.0</td>\n",
       "      <td>9.0</td>\n",
       "    </tr>\n",
       "  </tbody>\n",
       "</table>\n",
       "</div>"
      ],
      "text/plain": [
       "   quarter    GDP  Investment  Government Spending     M2  Key policy rate  \\\n",
       "0        1  20871        1744                 6720  12835             35.0   \n",
       "1        2  23367        2675                 7384  13257             41.0   \n",
       "2        3  28908        2877                 8210  14142             51.0   \n",
       "3        4  29447        6662                 8952  15432             82.0   \n",
       "4        5  24980        1861                 6245  15631             60.0   \n",
       "\n",
       "   Diff 1 GDP  Diff 1 Investment  Diff 1 Key policy rate  Diff2 GDP  \\\n",
       "0         NaN                NaN                     NaN        NaN   \n",
       "1      2496.0              931.0                     6.0        NaN   \n",
       "2      5541.0              202.0                    10.0     8037.0   \n",
       "3       539.0             3785.0                    31.0     6080.0   \n",
       "4     -4467.0            -4801.0                   -22.0    -3928.0   \n",
       "\n",
       "   Diff2 Key policy rate  \n",
       "0                    NaN  \n",
       "1                    NaN  \n",
       "2                   16.0  \n",
       "3                   41.0  \n",
       "4                    9.0  "
      ]
     },
     "execution_count": 15,
     "metadata": {},
     "output_type": "execute_result"
    }
   ],
   "source": [
    "series['Diff2 GDP'] = series['GDP'].diff(periods=2)\n",
    "series['Diff2 Key policy rate'] = series['Key policy rate'].diff(periods=2)\n",
    "\n",
    "series.head()"
   ]
  },
  {
   "cell_type": "code",
   "execution_count": 16,
   "id": "f1903f80",
   "metadata": {},
   "outputs": [
    {
     "name": "stdout",
     "output_type": "stream",
     "text": [
      "0.03185124435742596 1.0\n"
     ]
    }
   ],
   "source": [
    "pvalue_GDP = adfuller(series['Diff2 GDP'].dropna())[1]\n",
    "pvalue_KPR = adfuller(series['Diff2 Key policy rate'].dropna())[1]\n",
    "\n",
    "print(pvalue_GDP, pvalue_KPR)"
   ]
  },
  {
   "cell_type": "markdown",
   "id": "9f3a8661",
   "metadata": {},
   "source": [
    "Для ряду ВВП є підстави відхилити нульову гіпотезу ряд є стаціонарним тест Діккі-Фулера"
   ]
  },
  {
   "cell_type": "markdown",
   "id": "b88ccbda",
   "metadata": {},
   "source": [
    "Для ряду облікової ставки ряд других різниць не допоміг досягти стаціонарності, тому будемо застосовувати перетворення"
   ]
  },
  {
   "cell_type": "code",
   "execution_count": 17,
   "id": "aa45c0be",
   "metadata": {},
   "outputs": [
    {
     "data": {
      "text/plain": [
       "<Axes: >"
      ]
     },
     "execution_count": 17,
     "metadata": {},
     "output_type": "execute_result"
    },
    {
     "data": {
      "image/png": "[encoded data removed]",
      "text/plain": [
       "<Figure size 640x480 with 1 Axes>"
      ]
     },
     "metadata": {},
     "output_type": "display_data"
    }
   ],
   "source": [
    "series['Diff2 Key policy rate'].plot()"
   ]
  },
  {
   "cell_type": "markdown",
   "id": "98f6f773",
   "metadata": {},
   "source": [
    "Спробуємо до кореню квадратного значень ряду побудувати ряд перших різниць"
   ]
  },
  {
   "cell_type": "code",
   "execution_count": 18,
   "id": "ee0de09c",
   "metadata": {},
   "outputs": [],
   "source": [
    "series['sqrt Key policy rate'] = series['Key policy rate'].apply(lambda x: x*0.5).diff(periods=1)"
   ]
  },
  {
   "cell_type": "code",
   "execution_count": 19,
   "id": "4aaacd83",
   "metadata": {},
   "outputs": [
    {
     "data": {
      "text/plain": [
       "<Axes: >"
      ]
     },
     "execution_count": 19,
     "metadata": {},
     "output_type": "execute_result"
    },
    {
     "data": {
      "image/png": "[encoded data removed]",
      "text/plain": [
       "<Figure size 640x480 with 1 Axes>"
      ]
     },
     "metadata": {},
     "output_type": "display_data"
    }
   ],
   "source": [
    "series['sqrt Key policy rate'].plot()"
   ]
  },
  {
   "cell_type": "code",
   "execution_count": 20,
   "id": "d2377997",
   "metadata": {},
   "outputs": [
    {
     "name": "stdout",
     "output_type": "stream",
     "text": [
      "1.0\n"
     ]
    }
   ],
   "source": [
    "pvalue_KPR = adfuller(series['sqrt Key policy rate'].dropna())[1]\n",
    "\n",
    "print(pvalue_KPR)"
   ]
  },
  {
   "cell_type": "markdown",
   "id": "0d3595aa",
   "metadata": {},
   "source": [
    "Бачимо, що за тестом дікі фулера ми підтверджуємо нестаціонарність нашого часового ряду будемо шукати інші варіанти"
   ]
  },
  {
   "cell_type": "code",
   "execution_count": null,
   "id": "845f10b7",
   "metadata": {},
   "outputs": [],
   "source": []
  },
  {
   "cell_type": "code",
   "execution_count": 21,
   "id": "9b296146",
   "metadata": {},
   "outputs": [
    {
     "ename": "SyntaxError",
     "evalue": "invalid syntax (381796638.py, line 1)",
     "output_type": "error",
     "traceback": [
      "\u001b[1;36m  Cell \u001b[1;32mIn[21], line 1\u001b[1;36m\u001b[0m\n\u001b[1;33m    Спробуємо застосувати логарфмування нашого часового ряду облікової ставки і по ньому виконати побудову ряду перших різниць.\u001b[0m\n\u001b[1;37m              ^\u001b[0m\n\u001b[1;31mSyntaxError\u001b[0m\u001b[1;31m:\u001b[0m invalid syntax\n"
     ]
    }
   ],
   "source": [
    "Спробуємо застосувати логарфмування нашого часового ряду облікової ставки і по ньому виконати побудову ряду перших різниць."
   ]
  },
  {
   "cell_type": "code",
   "execution_count": 22,
   "id": "3aacf77d",
   "metadata": {},
   "outputs": [],
   "source": [
    "series['log Key policy rate'] = series['Key policy rate'].apply(lambda x: math.log10(x)).diff(periods=1)"
   ]
  },
  {
   "cell_type": "code",
   "execution_count": 23,
   "id": "9686474f",
   "metadata": {},
   "outputs": [
    {
     "data": {
      "text/plain": [
       "<Axes: >"
      ]
     },
     "execution_count": 23,
     "metadata": {},
     "output_type": "execute_result"
    },
    {
     "data": {
      "image/png": "[encoded data removed]",
      "text/plain": [
       "<Figure size 640x480 with 1 Axes>"
      ]
     },
     "metadata": {},
     "output_type": "display_data"
    }
   ],
   "source": [
    "series['log Key policy rate'].plot()"
   ]
  },
  {
   "cell_type": "code",
   "execution_count": 24,
   "id": "471ec5e9",
   "metadata": {},
   "outputs": [
    {
     "name": "stdout",
     "output_type": "stream",
     "text": [
      "0.5514795397301441\n"
     ]
    }
   ],
   "source": [
    "pvalue_KPR = adfuller(series['log Key policy rate'].dropna())[1]\n",
    "\n",
    "print(pvalue_KPR)"
   ]
  },
  {
   "cell_type": "markdown",
   "id": "620345b6",
   "metadata": {},
   "source": [
    "Бачимо, що умова стаціонарності все ще не досягнуто, але ми вже наближаємося до необхідних нам трансформацій. Візьмемо ряд других різниць:"
   ]
  },
  {
   "cell_type": "code",
   "execution_count": 25,
   "id": "07694648",
   "metadata": {},
   "outputs": [
    {
     "name": "stdout",
     "output_type": "stream",
     "text": [
      "0.008512113650885578\n"
     ]
    }
   ],
   "source": [
    "series['log d2 Key policy rate'] = series['Key policy rate'].apply(lambda x: math.log10(x)).diff(periods=2)\n",
    "pvalue_KPR = adfuller(series['log d2 Key policy rate'].dropna())[1]\n",
    "\n",
    "print(pvalue_KPR)"
   ]
  },
  {
   "cell_type": "code",
   "execution_count": 26,
   "id": "215bbf50",
   "metadata": {},
   "outputs": [
    {
     "data": {
      "text/plain": [
       "<Axes: >"
      ]
     },
     "execution_count": 26,
     "metadata": {},
     "output_type": "execute_result"
    },
    {
     "data": {
      "image/png": "[encoded data removed]",
      "text/plain": [
       "<Figure size 640x480 with 1 Axes>"
      ]
     },
     "metadata": {},
     "output_type": "display_data"
    }
   ],
   "source": [
    "series['log d2 Key policy rate'].plot()"
   ]
  },
  {
   "cell_type": "markdown",
   "id": "1fc64e41",
   "metadata": {},
   "source": [
    "Значення пі велью менше за 0,05 отже ми відхиляємо нульову гіпотезу і наш ряд є стаціонарним. Для побудови моделі облікової ставки використовуємо ряд других різниць після логарфмування."
   ]
  },
  {
   "cell_type": "markdown",
   "id": "0921d451",
   "metadata": {},
   "source": [
    "Ділимо вибірку на навчальну та тестову вибірки:"
   ]
  },
  {
   "cell_type": "markdown",
   "id": "e772f714",
   "metadata": {},
   "source": [
    "Наступним етапом дослідження є перевірка каузальності на основі тесту Грейнджера. Перш, ніж перейти до побудови VAR-моделі, необхідно визначити порядок моделі. Для цього розрахуємо значення інформаційних критеріїв для моделей з різною кількістю лагів. "
   ]
  },
  {
   "cell_type": "code",
   "execution_count": 27,
   "id": "343dfc57",
   "metadata": {},
   "outputs": [
    {
     "data": {
      "text/html": [
       "<div>\n",
       "<style scoped>\n",
       "    .dataframe tbody tr th:only-of-type {\n",
       "        vertical-align: middle;\n",
       "    }\n",
       "\n",
       "    .dataframe tbody tr th {\n",
       "        vertical-align: top;\n",
       "    }\n",
       "\n",
       "    .dataframe thead th {\n",
       "        text-align: right;\n",
       "    }\n",
       "</style>\n",
       "<table border=\"1\" class=\"dataframe\">\n",
       "  <thead>\n",
       "    <tr style=\"text-align: right;\">\n",
       "      <th></th>\n",
       "      <th>GDP</th>\n",
       "      <th>Investments</th>\n",
       "      <th>KPR</th>\n",
       "    </tr>\n",
       "  </thead>\n",
       "  <tbody>\n",
       "    <tr>\n",
       "      <th>2</th>\n",
       "      <td>8037.0</td>\n",
       "      <td>202.0</td>\n",
       "      <td>0.163502</td>\n",
       "    </tr>\n",
       "    <tr>\n",
       "      <th>3</th>\n",
       "      <td>6080.0</td>\n",
       "      <td>3785.0</td>\n",
       "      <td>0.301030</td>\n",
       "    </tr>\n",
       "    <tr>\n",
       "      <th>4</th>\n",
       "      <td>-3928.0</td>\n",
       "      <td>-4801.0</td>\n",
       "      <td>0.070581</td>\n",
       "    </tr>\n",
       "    <tr>\n",
       "      <th>5</th>\n",
       "      <td>-251.0</td>\n",
       "      <td>1145.0</td>\n",
       "      <td>-0.135663</td>\n",
       "    </tr>\n",
       "    <tr>\n",
       "      <th>6</th>\n",
       "      <td>12653.0</td>\n",
       "      <td>1017.0</td>\n",
       "      <td>-0.124939</td>\n",
       "    </tr>\n",
       "  </tbody>\n",
       "</table>\n",
       "</div>"
      ],
      "text/plain": [
       "       GDP  Investments       KPR\n",
       "2   8037.0        202.0  0.163502\n",
       "3   6080.0       3785.0  0.301030\n",
       "4  -3928.0      -4801.0  0.070581\n",
       "5   -251.0       1145.0 -0.135663\n",
       "6  12653.0       1017.0 -0.124939"
      ]
     },
     "execution_count": 27,
     "metadata": {},
     "output_type": "execute_result"
    }
   ],
   "source": [
    "model_data = pd.DataFrame()\n",
    "model_data['GDP'] = series['Diff2 GDP'] \n",
    "model_data['Investments'] = series['Diff 1 Investment'] \n",
    "model_data['KPR'] = series['log d2 Key policy rate']\n",
    "model_data.dropna(inplace=True)\n",
    "\n",
    "model_data.head()"
   ]
  },
  {
   "cell_type": "markdown",
   "id": "9af76628",
   "metadata": {},
   "source": [
    "Null Hypothesis (H0) : Investments do not granger cause GDP.\n",
    "\n",
    "Alternative Hypothesis (HA) : Investments granger cause GDP."
   ]
  },
  {
   "cell_type": "markdown",
   "metadata": {},
   "source": []
  },
  {
   "cell_type": "code",
   "execution_count": 28,
   "id": "5e56dcae",
   "metadata": {},
   "outputs": [
    {
     "name": "stdout",
     "output_type": "stream",
     "text": [
      "\n",
      "Granger Causality\n",
      "number of lags (no zero) 1\n",
      "ssr based F test:         F=0.0018  , p=0.9663  , df_denom=17, df_num=1\n",
      "ssr based chi2 test:   chi2=0.0022  , p=0.9629  , df=1\n",
      "likelihood ratio test: chi2=0.0022  , p=0.9629  , df=1\n",
      "parameter F test:         F=0.0018  , p=0.9663  , df_denom=17, df_num=1\n",
      "\n",
      "Granger Causality\n",
      "number of lags (no zero) 2\n",
      "ssr based F test:         F=0.9416  , p=0.4133  , df_denom=14, df_num=2\n",
      "ssr based chi2 test:   chi2=2.5559  , p=0.2786  , df=2\n",
      "likelihood ratio test: chi2=2.3980  , p=0.3015  , df=2\n",
      "parameter F test:         F=0.9416  , p=0.4133  , df_denom=14, df_num=2\n",
      "\n",
      "Granger Causality\n",
      "number of lags (no zero) 3\n",
      "ssr based F test:         F=0.4546  , p=0.7193  , df_denom=11, df_num=3\n",
      "ssr based chi2 test:   chi2=2.2318  , p=0.5257  , df=3\n",
      "likelihood ratio test: chi2=2.1039  , p=0.5511  , df=3\n",
      "parameter F test:         F=0.4546  , p=0.7193  , df_denom=11, df_num=3\n",
      "\n",
      "Granger Causality\n",
      "number of lags (no zero) 4\n",
      "ssr based F test:         F=0.6411  , p=0.6481  , df_denom=8, df_num=4\n",
      "ssr based chi2 test:   chi2=5.4494  , p=0.2442  , df=4\n",
      "likelihood ratio test: chi2=4.7269  , p=0.3165  , df=4\n",
      "parameter F test:         F=0.6411  , p=0.6481  , df_denom=8, df_num=4\n",
      "\n",
      "Granger Causality\n",
      "number of lags (no zero) 5\n",
      "ssr based F test:         F=0.6975  , p=0.6489  , df_denom=5, df_num=5\n",
      "ssr based chi2 test:   chi2=11.1594 , p=0.0483  , df=5\n",
      "likelihood ratio test: chi2=8.4662  , p=0.1323  , df=5\n",
      "parameter F test:         F=0.6975  , p=0.6489  , df_denom=5, df_num=5\n"
     ]
    },
    {
     "data": {
      "text/plain": [
       "{1: ({'ssr_ftest': (0.0018359564211976225, 0.9663219028854595, 17.0, 1),\n",
       "   'ssr_chi2test': (0.002159948730820732, 0.9629314615336304, 1),\n",
       "   'lrtest': (0.0021598321047804347, 0.9629324615813489, 1),\n",
       "   'params_ftest': (0.001835956421198003, 0.9663219028854595, 17.0, 1.0)},\n",
       "  [<statsmodels.regression.linear_model.RegressionResultsWrapper at 0x259ac960250>,\n",
       "   <statsmodels.regression.linear_model.RegressionResultsWrapper at 0x259ac972d10>,\n",
       "   array([[0., 1., 0.]])]),\n",
       " 2: ({'ssr_ftest': (0.9416442447925966, 0.41334556388558064, 14.0, 2),\n",
       "   'ssr_chi2test': (2.555891521579905, 0.27860904262417585, 2),\n",
       "   'lrtest': (2.3979935813457587, 0.3014965243708517, 2),\n",
       "   'params_ftest': (0.9416442447928658, 0.4133455638854826, 14.0, 2.0)},\n",
       "  [<statsmodels.regression.linear_model.RegressionResultsWrapper at 0x259ac902d10>,\n",
       "   <statsmodels.regression.linear_model.RegressionResultsWrapper at 0x259aca4e710>,\n",
       "   array([[0., 0., 1., 0., 0.],\n",
       "          [0., 0., 0., 1., 0.]])]),\n",
       " 3: ({'ssr_ftest': (0.4546319685968556, 0.7193032097678034, 11.0, 3),\n",
       "   'ssr_chi2test': (2.231829664020928, 0.5257061612313327, 3),\n",
       "   'lrtest': (2.1039359813836995, 0.5511168980055665, 3),\n",
       "   'params_ftest': (0.4546319685967702, 0.7193032097678596, 11.0, 3.0)},\n",
       "  [<statsmodels.regression.linear_model.RegressionResultsWrapper at 0x259aca4ff90>,\n",
       "   <statsmodels.regression.linear_model.RegressionResultsWrapper at 0x259ac25cad0>,\n",
       "   array([[0., 0., 0., 1., 0., 0., 0.],\n",
       "          [0., 0., 0., 0., 1., 0., 0.],\n",
       "          [0., 0., 0., 0., 0., 1., 0.]])]),\n",
       " 4: ({'ssr_ftest': (0.6411111017711458, 0.6481174442790489, 8.0, 4),\n",
       "   'ssr_chi2test': (5.449444365054739, 0.24420923141225226, 4),\n",
       "   'lrtest': (4.726892838972503, 0.31648474072565286, 4),\n",
       "   'params_ftest': (0.6411111017711785, 0.648117444279029, 8.0, 4.0)},\n",
       "  [<statsmodels.regression.linear_model.RegressionResultsWrapper at 0x259aca51c10>,\n",
       "   <statsmodels.regression.linear_model.RegressionResultsWrapper at 0x259aca510d0>,\n",
       "   array([[0., 0., 0., 0., 1., 0., 0., 0., 0.],\n",
       "          [0., 0., 0., 0., 0., 1., 0., 0., 0.],\n",
       "          [0., 0., 0., 0., 0., 0., 1., 0., 0.],\n",
       "          [0., 0., 0., 0., 0., 0., 0., 1., 0.]])]),\n",
       " 5: ({'ssr_ftest': (0.6974624934319734, 0.6488943525314776, 5.0, 5),\n",
       "   'ssr_chi2test': (11.159399894911575, 0.04830956146755248, 5),\n",
       "   'lrtest': (8.466151760425987, 0.13234764248047026, 5),\n",
       "   'params_ftest': (0.6974624934319522, 0.6488943525314899, 5.0, 5.0)},\n",
       "  [<statsmodels.regression.linear_model.RegressionResultsWrapper at 0x259aca50ad0>,\n",
       "   <statsmodels.regression.linear_model.RegressionResultsWrapper at 0x259aca50650>,\n",
       "   array([[0., 0., 0., 0., 0., 1., 0., 0., 0., 0., 0.],\n",
       "          [0., 0., 0., 0., 0., 0., 1., 0., 0., 0., 0.],\n",
       "          [0., 0., 0., 0., 0., 0., 0., 1., 0., 0., 0.],\n",
       "          [0., 0., 0., 0., 0., 0., 0., 0., 1., 0., 0.],\n",
       "          [0., 0., 0., 0., 0., 0., 0., 0., 0., 1., 0.]])])}"
      ]
     },
     "execution_count": 28,
     "metadata": {},
     "output_type": "execute_result"
    }
   ],
   "source": [
    "grangercausalitytests(model_data[['GDP','Investments']], maxlag=5)"
   ]
  },
  {
   "cell_type": "markdown",
   "id": "4934f32c",
   "metadata": {},
   "source": [
    "P-value більше за 0,5 приймаємо нульову гіпотезу що ВВП при інших рівних умовах значення ВВП не можуть бути краще передбачені з використанням минулих значень Інвестицій"
   ]
  },
  {
   "cell_type": "markdown",
   "id": "4c3df75b",
   "metadata": {},
   "source": [
    "Null Hypothesis (H0) : GDP do not granger cause Investments.\n",
    "\n",
    "Alternative Hypothesis (HA) : GDP granger cause Investments."
   ]
  },
  {
   "cell_type": "code",
   "execution_count": 29,
   "id": "cbccad93",
   "metadata": {},
   "outputs": [
    {
     "name": "stdout",
     "output_type": "stream",
     "text": [
      "\n",
      "Granger Causality\n",
      "number of lags (no zero) 1\n",
      "ssr based F test:         F=3.5783  , p=0.0757  , df_denom=17, df_num=1\n",
      "ssr based chi2 test:   chi2=4.2097  , p=0.0402  , df=1\n",
      "likelihood ratio test: chi2=3.8204  , p=0.0506  , df=1\n",
      "parameter F test:         F=3.5783  , p=0.0757  , df_denom=17, df_num=1\n",
      "\n",
      "Granger Causality\n",
      "number of lags (no zero) 2\n",
      "ssr based F test:         F=24.4832 , p=0.0000  , df_denom=14, df_num=2\n",
      "ssr based chi2 test:   chi2=66.4544 , p=0.0000  , df=2\n",
      "likelihood ratio test: chi2=28.5673 , p=0.0000  , df=2\n",
      "parameter F test:         F=24.4832 , p=0.0000  , df_denom=14, df_num=2\n",
      "\n",
      "Granger Causality\n",
      "number of lags (no zero) 3\n",
      "ssr based F test:         F=2.0703  , p=0.1624  , df_denom=11, df_num=3\n",
      "ssr based chi2 test:   chi2=10.1631 , p=0.0172  , df=3\n",
      "likelihood ratio test: chi2=8.0576  , p=0.0448  , df=3\n",
      "parameter F test:         F=2.0703  , p=0.1624  , df_denom=11, df_num=3\n",
      "\n",
      "Granger Causality\n",
      "number of lags (no zero) 4\n",
      "ssr based F test:         F=1.1539  , p=0.3984  , df_denom=8, df_num=4\n",
      "ssr based chi2 test:   chi2=9.8080  , p=0.0438  , df=4\n",
      "likelihood ratio test: chi2=7.7433  , p=0.1014  , df=4\n",
      "parameter F test:         F=1.1539  , p=0.3984  , df_denom=8, df_num=4\n",
      "\n",
      "Granger Causality\n",
      "number of lags (no zero) 5\n",
      "ssr based F test:         F=1.9040  , p=0.2484  , df_denom=5, df_num=5\n",
      "ssr based chi2 test:   chi2=30.4640 , p=0.0000  , df=5\n",
      "likelihood ratio test: chi2=17.0574 , p=0.0044  , df=5\n",
      "parameter F test:         F=1.9040  , p=0.2484  , df_denom=5, df_num=5\n"
     ]
    },
    {
     "data": {
      "text/plain": [
       "{1: ({'ssr_ftest': (3.5782626985398216, 0.075702896091839, 17.0, 1),\n",
       "   'ssr_chi2test': (4.209720821811556, 0.040192951600395266, 1),\n",
       "   'lrtest': (3.820439316115994, 0.050630961387362124, 1),\n",
       "   'params_ftest': (3.578262698539819, 0.075702896091839, 17.0, 1.0)},\n",
       "  [<statsmodels.regression.linear_model.RegressionResultsWrapper at 0x259ac8ec650>,\n",
       "   <statsmodels.regression.linear_model.RegressionResultsWrapper at 0x259aca26090>,\n",
       "   array([[0., 1., 0.]])]),\n",
       " 2: ({'ssr_ftest': (24.483206340527442, 2.6861705903772565e-05, 14.0, 2),\n",
       "   'ssr_chi2test': (66.45441721000306, 3.711988771162057e-15, 2),\n",
       "   'lrtest': (28.56733832871805, 6.261542037205645e-07, 2),\n",
       "   'params_ftest': (24.48320634052743, 2.6861705903772636e-05, 14.0, 2.0)},\n",
       "  [<statsmodels.regression.linear_model.RegressionResultsWrapper at 0x259aca58f10>,\n",
       "   <statsmodels.regression.linear_model.RegressionResultsWrapper at 0x259aca58ed0>,\n",
       "   array([[0., 0., 1., 0., 0.],\n",
       "          [0., 0., 0., 1., 0.]])]),\n",
       " 3: ({'ssr_ftest': (2.0702688689988173, 0.16241791860968804, 11.0, 3),\n",
       "   'ssr_chi2test': (10.163138084176012, 0.01722910928499539, 3),\n",
       "   'lrtest': (8.057559686998673, 0.04483697884022373, 3),\n",
       "   'params_ftest': (2.0702688689988253, 0.1624179186096868, 11.0, 3.0)},\n",
       "  [<statsmodels.regression.linear_model.RegressionResultsWrapper at 0x259aca59210>,\n",
       "   <statsmodels.regression.linear_model.RegressionResultsWrapper at 0x259aca597d0>,\n",
       "   array([[0., 0., 0., 1., 0., 0., 0.],\n",
       "          [0., 0., 0., 0., 1., 0., 0.],\n",
       "          [0., 0., 0., 0., 0., 1., 0.]])]),\n",
       " 4: ({'ssr_ftest': (1.153887228876766, 0.39836271318887817, 8.0, 4),\n",
       "   'ssr_chi2test': (9.808041445452512, 0.04378836546722702, 4),\n",
       "   'lrtest': (7.74330539059963, 0.10144693213945837, 4),\n",
       "   'params_ftest': (1.1538872288767732, 0.39836271318887573, 8.0, 4.0)},\n",
       "  [<statsmodels.regression.linear_model.RegressionResultsWrapper at 0x259aca5a0d0>,\n",
       "   <statsmodels.regression.linear_model.RegressionResultsWrapper at 0x259aca5a410>,\n",
       "   array([[0., 0., 0., 0., 1., 0., 0., 0., 0.],\n",
       "          [0., 0., 0., 0., 0., 1., 0., 0., 0.],\n",
       "          [0., 0., 0., 0., 0., 0., 1., 0., 0.],\n",
       "          [0., 0., 0., 0., 0., 0., 0., 1., 0.]])]),\n",
       " 5: ({'ssr_ftest': (1.9039987992490828, 0.24837947756917111, 5.0, 5),\n",
       "   'ssr_chi2test': (30.463980787985324, 1.1949734231159067e-05, 5),\n",
       "   'lrtest': (17.057418935691885, 0.004392177944010956, 5),\n",
       "   'params_ftest': (1.9039987992491505, 0.24837947756915948, 5.0, 5.0)},\n",
       "  [<statsmodels.regression.linear_model.RegressionResultsWrapper at 0x259aca5af50>,\n",
       "   <statsmodels.regression.linear_model.RegressionResultsWrapper at 0x259aca5b290>,\n",
       "   array([[0., 0., 0., 0., 0., 1., 0., 0., 0., 0., 0.],\n",
       "          [0., 0., 0., 0., 0., 0., 1., 0., 0., 0., 0.],\n",
       "          [0., 0., 0., 0., 0., 0., 0., 1., 0., 0., 0.],\n",
       "          [0., 0., 0., 0., 0., 0., 0., 0., 1., 0., 0.],\n",
       "          [0., 0., 0., 0., 0., 0., 0., 0., 0., 1., 0.]])])}"
      ]
     },
     "execution_count": 29,
     "metadata": {},
     "output_type": "execute_result"
    }
   ],
   "source": [
    "grangercausalitytests(model_data[['Investments','GDP']], maxlag=5)"
   ]
  },
  {
   "cell_type": "markdown",
   "id": "6b05faf5",
   "metadata": {},
   "source": [
    "P-value менше за 0,5 відхиляємо нульову гіпотезу що при інших рівних умовах значення Інвестиції можуть бути краще передбачені з використанням минулих значень ВВП за лагом 2."
   ]
  },
  {
   "cell_type": "markdown",
   "id": "722e1e4f",
   "metadata": {},
   "source": [
    "Null Hypothesis (H0) : GDP do not granger cause KPR.\n",
    "\n",
    "Alternative Hypothesis (HA) : GDP granger cause KPR."
   ]
  },
  {
   "cell_type": "code",
   "execution_count": 30,
   "id": "69deaee0",
   "metadata": {},
   "outputs": [
    {
     "name": "stdout",
     "output_type": "stream",
     "text": [
      "\n",
      "Granger Causality\n",
      "number of lags (no zero) 1\n",
      "ssr based F test:         F=1.4697  , p=0.2420  , df_denom=17, df_num=1\n",
      "ssr based chi2 test:   chi2=1.7290  , p=0.1885  , df=1\n",
      "likelihood ratio test: chi2=1.6583  , p=0.1978  , df=1\n",
      "parameter F test:         F=1.4697  , p=0.2420  , df_denom=17, df_num=1\n",
      "\n",
      "Granger Causality\n",
      "number of lags (no zero) 2\n",
      "ssr based F test:         F=0.4284  , p=0.6598  , df_denom=14, df_num=2\n",
      "ssr based chi2 test:   chi2=1.1629  , p=0.5591  , df=2\n",
      "likelihood ratio test: chi2=1.1287  , p=0.5687  , df=2\n",
      "parameter F test:         F=0.4284  , p=0.6598  , df_denom=14, df_num=2\n",
      "\n",
      "Granger Causality\n",
      "number of lags (no zero) 3\n",
      "ssr based F test:         F=0.2303  , p=0.8734  , df_denom=11, df_num=3\n",
      "ssr based chi2 test:   chi2=1.1305  , p=0.7697  , df=3\n",
      "likelihood ratio test: chi2=1.0964  , p=0.7779  , df=3\n",
      "parameter F test:         F=0.2303  , p=0.8734  , df_denom=11, df_num=3\n",
      "\n",
      "Granger Causality\n",
      "number of lags (no zero) 4\n",
      "ssr based F test:         F=0.5123  , p=0.7292  , df_denom=8, df_num=4\n",
      "ssr based chi2 test:   chi2=4.3549  , p=0.3601  , df=4\n",
      "likelihood ratio test: chi2=3.8771  , p=0.4229  , df=4\n",
      "parameter F test:         F=0.5123  , p=0.7292  , df_denom=8, df_num=4\n",
      "\n",
      "Granger Causality\n",
      "number of lags (no zero) 5\n",
      "ssr based F test:         F=5.5988  , p=0.0409  , df_denom=5, df_num=5\n",
      "ssr based chi2 test:   chi2=89.5802 , p=0.0000  , df=5\n",
      "likelihood ratio test: chi2=30.1901 , p=0.0000  , df=5\n",
      "parameter F test:         F=5.5988  , p=0.0409  , df_denom=5, df_num=5\n"
     ]
    },
    {
     "data": {
      "text/plain": [
       "{1: ({'ssr_ftest': (1.469673793316704, 0.24197692929210654, 17.0, 1),\n",
       "   'ssr_chi2test': (1.7290279921372986, 0.18853507954663, 1),\n",
       "   'lrtest': (1.6583357713022622, 0.19782817454573834, 1),\n",
       "   'params_ftest': (1.4696737933166963, 0.24197692929210754, 17.0, 1.0)},\n",
       "  [<statsmodels.regression.linear_model.RegressionResultsWrapper at 0x259aca5a890>,\n",
       "   <statsmodels.regression.linear_model.RegressionResultsWrapper at 0x259aca5bfd0>,\n",
       "   array([[0., 1., 0.]])]),\n",
       " 2: ({'ssr_ftest': (0.42841904802212066, 0.6597987910684044, 14.0, 2),\n",
       "   'ssr_chi2test': (1.1628517017743274, 0.5591006038631992, 2),\n",
       "   'lrtest': (1.1286552423889873, 0.5687424285788097, 2),\n",
       "   'params_ftest': (0.42841904800099995, 0.6597987910815358, 14.0, 2.0)},\n",
       "  [<statsmodels.regression.linear_model.RegressionResultsWrapper at 0x259aca7c390>,\n",
       "   <statsmodels.regression.linear_model.RegressionResultsWrapper at 0x259aca7c9d0>,\n",
       "   array([[0., 0., 1., 0., 0.],\n",
       "          [0., 0., 0., 1., 0.]])]),\n",
       " 3: ({'ssr_ftest': (0.230281367023415, 0.8733881954598778, 11.0, 3),\n",
       "   'ssr_chi2test': (1.130472165387674, 0.7697235369330228, 3),\n",
       "   'lrtest': (1.0963927293280733, 0.7779449637603643, 3),\n",
       "   'params_ftest': (0.23028136702092736, 0.8733881954616011, 11.0, 3.0)},\n",
       "  [<statsmodels.regression.linear_model.RegressionResultsWrapper at 0x259aca7d290>,\n",
       "   <statsmodels.regression.linear_model.RegressionResultsWrapper at 0x259aca7d490>,\n",
       "   array([[0., 0., 0., 1., 0., 0., 0.],\n",
       "          [0., 0., 0., 0., 1., 0., 0.],\n",
       "          [0., 0., 0., 0., 0., 1., 0.]])]),\n",
       " 4: ({'ssr_ftest': (0.5123370260029773, 0.7292153350110122, 8.0, 4),\n",
       "   'ssr_chi2test': (4.354864721025306, 0.3601052519727233, 4),\n",
       "   'lrtest': (3.877125832632302, 0.4228903901551426, 4),\n",
       "   'params_ftest': (0.5123370260291563, 0.7292153349939439, 8.0, 4.0)},\n",
       "  [<statsmodels.regression.linear_model.RegressionResultsWrapper at 0x259aca7dd50>,\n",
       "   <statsmodels.regression.linear_model.RegressionResultsWrapper at 0x259aca7e090>,\n",
       "   array([[0., 0., 0., 0., 1., 0., 0., 0., 0.],\n",
       "          [0., 0., 0., 0., 0., 1., 0., 0., 0.],\n",
       "          [0., 0., 0., 0., 0., 0., 1., 0., 0.],\n",
       "          [0., 0., 0., 0., 0., 0., 0., 1., 0.]])]),\n",
       " 5: ({'ssr_ftest': (5.598764081694606, 0.04091878556453292, 5.0, 5),\n",
       "   'ssr_chi2test': (89.5802253071137, 8.231893059513476e-18, 5),\n",
       "   'lrtest': (30.190117938362718, 1.3530637564265272e-05, 5),\n",
       "   'params_ftest': (5.5987640816654185, 0.040918785564952605, 5.0, 5.0)},\n",
       "  [<statsmodels.regression.linear_model.RegressionResultsWrapper at 0x259aca7dd10>,\n",
       "   <statsmodels.regression.linear_model.RegressionResultsWrapper at 0x259aca7ec90>,\n",
       "   array([[0., 0., 0., 0., 0., 1., 0., 0., 0., 0., 0.],\n",
       "          [0., 0., 0., 0., 0., 0., 1., 0., 0., 0., 0.],\n",
       "          [0., 0., 0., 0., 0., 0., 0., 1., 0., 0., 0.],\n",
       "          [0., 0., 0., 0., 0., 0., 0., 0., 1., 0., 0.],\n",
       "          [0., 0., 0., 0., 0., 0., 0., 0., 0., 1., 0.]])])}"
      ]
     },
     "execution_count": 30,
     "metadata": {},
     "output_type": "execute_result"
    }
   ],
   "source": [
    "grangercausalitytests(model_data[['KPR','GDP']], maxlag=5)"
   ]
  },
  {
   "cell_type": "markdown",
   "id": "357aba54",
   "metadata": {},
   "source": [
    "P-value менше за 0,5 відхиляємо нульову гіпотезу що при інших рівних умовах значення Облікової ставки можуть бути краще передбачені з використанням минулих значень ВВП за лагом 5."
   ]
  },
  {
   "cell_type": "markdown",
   "id": "3fc5c294",
   "metadata": {},
   "source": [
    "Null Hypothesis (H0) : KPR do not granger cause GDP.\n",
    "\n",
    "Alternative Hypothesis (HA) : KPR granger cause GDP."
   ]
  },
  {
   "cell_type": "code",
   "execution_count": 31,
   "id": "2a984bca",
   "metadata": {},
   "outputs": [
    {
     "name": "stdout",
     "output_type": "stream",
     "text": [
      "\n",
      "Granger Causality\n",
      "number of lags (no zero) 1\n",
      "ssr based F test:         F=0.5493  , p=0.4687  , df_denom=17, df_num=1\n",
      "ssr based chi2 test:   chi2=0.6462  , p=0.4215  , df=1\n",
      "likelihood ratio test: chi2=0.6360  , p=0.4252  , df=1\n",
      "parameter F test:         F=0.5493  , p=0.4687  , df_denom=17, df_num=1\n",
      "\n",
      "Granger Causality\n",
      "number of lags (no zero) 2\n",
      "ssr based F test:         F=0.8993  , p=0.4291  , df_denom=14, df_num=2\n",
      "ssr based chi2 test:   chi2=2.4409  , p=0.2951  , df=2\n",
      "likelihood ratio test: chi2=2.2963  , p=0.3172  , df=2\n",
      "parameter F test:         F=0.8993  , p=0.4291  , df_denom=14, df_num=2\n",
      "\n",
      "Granger Causality\n",
      "number of lags (no zero) 3\n",
      "ssr based F test:         F=0.7262  , p=0.5573  , df_denom=11, df_num=3\n",
      "ssr based chi2 test:   chi2=3.5648  , p=0.3125  , df=3\n",
      "likelihood ratio test: chi2=3.2524  , p=0.3543  , df=3\n",
      "parameter F test:         F=0.7262  , p=0.5573  , df_denom=11, df_num=3\n",
      "\n",
      "Granger Causality\n",
      "number of lags (no zero) 4\n",
      "ssr based F test:         F=0.9071  , p=0.5036  , df_denom=8, df_num=4\n",
      "ssr based chi2 test:   chi2=7.7107  , p=0.1028  , df=4\n",
      "likelihood ratio test: chi2=6.3584  , p=0.1739  , df=4\n",
      "parameter F test:         F=0.9071  , p=0.5036  , df_denom=8, df_num=4\n",
      "\n",
      "Granger Causality\n",
      "number of lags (no zero) 5\n",
      "ssr based F test:         F=0.4748  , p=0.7835  , df_denom=5, df_num=5\n",
      "ssr based chi2 test:   chi2=7.5973  , p=0.1799  , df=5\n",
      "likelihood ratio test: chi2=6.2167  , p=0.2857  , df=5\n",
      "parameter F test:         F=0.4748  , p=0.7835  , df_denom=5, df_num=5\n"
     ]
    },
    {
     "data": {
      "text/plain": [
       "{1: ({'ssr_ftest': (0.5492965794844785, 0.4687203381902828, 17.0, 1),\n",
       "   'ssr_chi2test': (0.6462312699817395, 0.4214633302349967, 1),\n",
       "   'lrtest': (0.6360104822268227, 0.42515916241994955, 1),\n",
       "   'params_ftest': (0.5492965794844782, 0.46872033819028447, 17.0, 1.0)},\n",
       "  [<statsmodels.regression.linear_model.RegressionResultsWrapper at 0x259aca7f890>,\n",
       "   <statsmodels.regression.linear_model.RegressionResultsWrapper at 0x259aca7fad0>,\n",
       "   array([[0., 1., 0.]])]),\n",
       " 2: ({'ssr_ftest': (0.8992610277980576, 0.4291222409078513, 14.0, 2),\n",
       "   'ssr_chi2test': (2.4408513611661564, 0.2951045199190582, 2),\n",
       "   'lrtest': (2.2963222398905145, 0.3172195620975905, 2),\n",
       "   'params_ftest': (0.8992610277980612, 0.42912224090785017, 14.0, 2.0)},\n",
       "  [<statsmodels.regression.linear_model.RegressionResultsWrapper at 0x259aca84a90>,\n",
       "   <statsmodels.regression.linear_model.RegressionResultsWrapper at 0x259aca84250>,\n",
       "   array([[0., 0., 1., 0., 0.],\n",
       "          [0., 0., 0., 1., 0.]])]),\n",
       " 3: ({'ssr_ftest': (0.7261609384237675, 0.5573308937650541, 11.0, 3),\n",
       "   'ssr_chi2test': (3.5647900613530403, 0.31245577570360755, 3),\n",
       "   'lrtest': (3.2524224659981087, 0.3543196350504939, 3),\n",
       "   'params_ftest': (0.7261609384237676, 0.5573308937650541, 11.0, 3.0)},\n",
       "  [<statsmodels.regression.linear_model.RegressionResultsWrapper at 0x259aca84810>,\n",
       "   <statsmodels.regression.linear_model.RegressionResultsWrapper at 0x259aca84f90>,\n",
       "   array([[0., 0., 0., 1., 0., 0., 0.],\n",
       "          [0., 0., 0., 0., 1., 0., 0.],\n",
       "          [0., 0., 0., 0., 0., 1., 0.]])]),\n",
       " 4: ({'ssr_ftest': (0.9071389630752721, 0.5035965986452042, 8.0, 4),\n",
       "   'ssr_chi2test': (7.710681186139813, 0.10277004692586467, 4),\n",
       "   'lrtest': (6.358378127425567, 0.17393530836691234, 4),\n",
       "   'params_ftest': (0.9071389630752716, 0.5035965986452042, 8.0, 4.0)},\n",
       "  [<statsmodels.regression.linear_model.RegressionResultsWrapper at 0x259aca84910>,\n",
       "   <statsmodels.regression.linear_model.RegressionResultsWrapper at 0x259aca85b90>,\n",
       "   array([[0., 0., 0., 0., 1., 0., 0., 0., 0.],\n",
       "          [0., 0., 0., 0., 0., 1., 0., 0., 0.],\n",
       "          [0., 0., 0., 0., 0., 0., 1., 0., 0.],\n",
       "          [0., 0., 0., 0., 0., 0., 0., 1., 0.]])]),\n",
       " 5: ({'ssr_ftest': (0.4748323630438802, 0.78346302860752, 5.0, 5),\n",
       "   'ssr_chi2test': (7.597317808702083, 0.17986918516470557, 5),\n",
       "   'lrtest': (6.216709298547869, 0.2856996816837033, 5),\n",
       "   'params_ftest': (0.4748323630438806, 0.7834630286075198, 5.0, 5.0)},\n",
       "  [<statsmodels.regression.linear_model.RegressionResultsWrapper at 0x259aca86290>,\n",
       "   <statsmodels.regression.linear_model.RegressionResultsWrapper at 0x259aca867d0>,\n",
       "   array([[0., 0., 0., 0., 0., 1., 0., 0., 0., 0., 0.],\n",
       "          [0., 0., 0., 0., 0., 0., 1., 0., 0., 0., 0.],\n",
       "          [0., 0., 0., 0., 0., 0., 0., 1., 0., 0., 0.],\n",
       "          [0., 0., 0., 0., 0., 0., 0., 0., 1., 0., 0.],\n",
       "          [0., 0., 0., 0., 0., 0., 0., 0., 0., 1., 0.]])])}"
      ]
     },
     "execution_count": 31,
     "metadata": {},
     "output_type": "execute_result"
    }
   ],
   "source": [
    "grangercausalitytests(model_data[['GDP','KPR']], maxlag=5)"
   ]
  },
  {
   "cell_type": "markdown",
   "id": "1d3e44c9",
   "metadata": {},
   "source": [
    "P-value більше за 0,5 приймаємо нульову гіпотезу про те що при інших рівних умовах значення ВВП не можуть бути краще передбачені з використанням минулих значень Облікової ставки."
   ]
  },
  {
   "cell_type": "markdown",
   "id": "135383ca",
   "metadata": {},
   "source": [
    "Null Hypothesis (H0) : KPR do not granger cause Investments.\n",
    "\n",
    "Alternative Hypothesis (HA) : KPR granger cause Investments."
   ]
  },
  {
   "cell_type": "code",
   "execution_count": 32,
   "id": "afa535c4",
   "metadata": {},
   "outputs": [
    {
     "name": "stdout",
     "output_type": "stream",
     "text": [
      "\n",
      "Granger Causality\n",
      "number of lags (no zero) 1\n",
      "ssr based F test:         F=0.2553  , p=0.6198  , df_denom=17, df_num=1\n",
      "ssr based chi2 test:   chi2=0.3004  , p=0.5836  , df=1\n",
      "likelihood ratio test: chi2=0.2982  , p=0.5850  , df=1\n",
      "parameter F test:         F=0.2553  , p=0.6198  , df_denom=17, df_num=1\n",
      "\n",
      "Granger Causality\n",
      "number of lags (no zero) 2\n",
      "ssr based F test:         F=0.3924  , p=0.6826  , df_denom=14, df_num=2\n",
      "ssr based chi2 test:   chi2=1.0652  , p=0.5871  , df=2\n",
      "likelihood ratio test: chi2=1.0364  , p=0.5956  , df=2\n",
      "parameter F test:         F=0.3924  , p=0.6826  , df_denom=14, df_num=2\n",
      "\n",
      "Granger Causality\n",
      "number of lags (no zero) 3\n",
      "ssr based F test:         F=0.2491  , p=0.8603  , df_denom=11, df_num=3\n",
      "ssr based chi2 test:   chi2=1.2227  , p=0.7476  , df=3\n",
      "likelihood ratio test: chi2=1.1829  , p=0.7571  , df=3\n",
      "parameter F test:         F=0.2491  , p=0.8603  , df_denom=11, df_num=3\n",
      "\n",
      "Granger Causality\n",
      "number of lags (no zero) 4\n",
      "ssr based F test:         F=0.3834  , p=0.8149  , df_denom=8, df_num=4\n",
      "ssr based chi2 test:   chi2=3.2587  , p=0.5155  , df=4\n",
      "likelihood ratio test: chi2=2.9813  , p=0.5610  , df=4\n",
      "parameter F test:         F=0.3834  , p=0.8149  , df_denom=8, df_num=4\n",
      "\n",
      "Granger Causality\n",
      "number of lags (no zero) 5\n",
      "ssr based F test:         F=0.3815  , p=0.8431  , df_denom=5, df_num=5\n",
      "ssr based chi2 test:   chi2=6.1044  , p=0.2962  , df=5\n",
      "likelihood ratio test: chi2=5.1710  , p=0.3954  , df=5\n",
      "parameter F test:         F=0.3815  , p=0.8431  , df_denom=5, df_num=5\n"
     ]
    },
    {
     "data": {
      "text/plain": [
       "{1: ({'ssr_ftest': (0.25534828840022405, 0.6198225070823858, 17.0, 1),\n",
       "   'ssr_chi2test': (0.30040975105908707, 0.5836256576465964, 1),\n",
       "   'lrtest': (0.29817594142548387, 0.5850282077057698, 1),\n",
       "   'params_ftest': (0.2553482884002211, 0.6198225070823885, 17.0, 1.0)},\n",
       "  [<statsmodels.regression.linear_model.RegressionResultsWrapper at 0x259aca84490>,\n",
       "   <statsmodels.regression.linear_model.RegressionResultsWrapper at 0x259aca87690>,\n",
       "   array([[0., 1., 0.]])]),\n",
       " 2: ({'ssr_ftest': (0.39243310019948646, 0.6826128499095153, 14.0, 2),\n",
       "   'ssr_chi2test': (1.0651755576843205, 0.5870837593183345, 2),\n",
       "   'lrtest': (1.0363887052907899, 0.5955950121846999, 2),\n",
       "   'params_ftest': (0.39243310019948513, 0.6826128499095164, 14.0, 2.0)},\n",
       "  [<statsmodels.regression.linear_model.RegressionResultsWrapper at 0x259aca87e10>,\n",
       "   <statsmodels.regression.linear_model.RegressionResultsWrapper at 0x259aca87f10>,\n",
       "   array([[0., 0., 1., 0., 0.],\n",
       "          [0., 0., 0., 1., 0.]])]),\n",
       " 3: ({'ssr_ftest': (0.2490625969395129, 0.8603410655447365, 11.0, 3),\n",
       "   'ssr_chi2test': (1.2226709304303363, 0.7475721789187519, 3),\n",
       "   'lrtest': (1.1829348395013994, 0.7571000843254968, 3),\n",
       "   'params_ftest': (0.2490625969395134, 0.8603410655447362, 11.0, 3.0)},\n",
       "  [<statsmodels.regression.linear_model.RegressionResultsWrapper at 0x259aca90490>,\n",
       "   <statsmodels.regression.linear_model.RegressionResultsWrapper at 0x259aca90950>,\n",
       "   array([[0., 0., 0., 1., 0., 0., 0.],\n",
       "          [0., 0., 0., 0., 1., 0., 0.],\n",
       "          [0., 0., 0., 0., 0., 1., 0.]])]),\n",
       " 4: ({'ssr_ftest': (0.3833797492337866, 0.8148845856176385, 8.0, 4),\n",
       "   'ssr_chi2test': (3.258727868487186, 0.5154979421916468, 4),\n",
       "   'lrtest': (2.9813301623505595, 0.5609545989679987, 4),\n",
       "   'params_ftest': (0.38337974923378515, 0.8148845856176398, 8.0, 4.0)},\n",
       "  [<statsmodels.regression.linear_model.RegressionResultsWrapper at 0x259aca90ad0>,\n",
       "   <statsmodels.regression.linear_model.RegressionResultsWrapper at 0x259aca91350>,\n",
       "   array([[0., 0., 0., 0., 1., 0., 0., 0., 0.],\n",
       "          [0., 0., 0., 0., 0., 1., 0., 0., 0.],\n",
       "          [0., 0., 0., 0., 0., 0., 1., 0., 0.],\n",
       "          [0., 0., 0., 0., 0., 0., 0., 1., 0.]])]),\n",
       " 5: ({'ssr_ftest': (0.38152205003136436, 0.8430960418746112, 5.0, 5),\n",
       "   'ssr_chi2test': (6.10435280050183, 0.2961969890358578, 5),\n",
       "   'lrtest': (5.170973219019402, 0.39537291751137077, 5),\n",
       "   'params_ftest': (0.38152205003136475, 0.843096041874611, 5.0, 5.0)},\n",
       "  [<statsmodels.regression.linear_model.RegressionResultsWrapper at 0x259aca91b10>,\n",
       "   <statsmodels.regression.linear_model.RegressionResultsWrapper at 0x259aca91f10>,\n",
       "   array([[0., 0., 0., 0., 0., 1., 0., 0., 0., 0., 0.],\n",
       "          [0., 0., 0., 0., 0., 0., 1., 0., 0., 0., 0.],\n",
       "          [0., 0., 0., 0., 0., 0., 0., 1., 0., 0., 0.],\n",
       "          [0., 0., 0., 0., 0., 0., 0., 0., 1., 0., 0.],\n",
       "          [0., 0., 0., 0., 0., 0., 0., 0., 0., 1., 0.]])])}"
      ]
     },
     "execution_count": 32,
     "metadata": {},
     "output_type": "execute_result"
    }
   ],
   "source": [
    "grangercausalitytests(model_data[['Investments','KPR']], maxlag=5)"
   ]
  },
  {
   "cell_type": "markdown",
   "id": "5fc4849e",
   "metadata": {},
   "source": [
    "P-value більше за 0,5 приймаємо нульову гіпотезу про те що при інших рівних умовах значення Інвестицій не можуть бути краще передбачені з використанням минулих значень Облікової ставки."
   ]
  },
  {
   "cell_type": "markdown",
   "id": "2d116172",
   "metadata": {},
   "source": [
    "Null Hypothesis (H0) : Investments do not granger cause KPR.\n",
    "\n",
    "Alternative Hypothesis (HA) : Investments granger cause KPR."
   ]
  },
  {
   "cell_type": "code",
   "execution_count": 33,
   "id": "524b77ec",
   "metadata": {},
   "outputs": [
    {
     "name": "stdout",
     "output_type": "stream",
     "text": [
      "\n",
      "Granger Causality\n",
      "number of lags (no zero) 1\n",
      "ssr based F test:         F=0.5463  , p=0.4699  , df_denom=17, df_num=1\n",
      "ssr based chi2 test:   chi2=0.6427  , p=0.4227  , df=1\n",
      "likelihood ratio test: chi2=0.6326  , p=0.4264  , df=1\n",
      "parameter F test:         F=0.5463  , p=0.4699  , df_denom=17, df_num=1\n",
      "\n",
      "Granger Causality\n",
      "number of lags (no zero) 2\n",
      "ssr based F test:         F=0.5282  , p=0.6010  , df_denom=14, df_num=2\n",
      "ssr based chi2 test:   chi2=1.4337  , p=0.4883  , df=2\n",
      "likelihood ratio test: chi2=1.3822  , p=0.5010  , df=2\n",
      "parameter F test:         F=0.5282  , p=0.6010  , df_denom=14, df_num=2\n",
      "\n",
      "Granger Causality\n",
      "number of lags (no zero) 3\n",
      "ssr based F test:         F=0.7281  , p=0.5563  , df_denom=11, df_num=3\n",
      "ssr based chi2 test:   chi2=3.5742  , p=0.3113  , df=3\n",
      "likelihood ratio test: chi2=3.2603  , p=0.3532  , df=3\n",
      "parameter F test:         F=0.7281  , p=0.5563  , df_denom=11, df_num=3\n",
      "\n",
      "Granger Causality\n",
      "number of lags (no zero) 4\n",
      "ssr based F test:         F=0.8493  , p=0.5322  , df_denom=8, df_num=4\n",
      "ssr based chi2 test:   chi2=7.2189  , p=0.1248  , df=4\n",
      "likelihood ratio test: chi2=6.0166  , p=0.1979  , df=4\n",
      "parameter F test:         F=0.8493  , p=0.5322  , df_denom=8, df_num=4\n",
      "\n",
      "Granger Causality\n",
      "number of lags (no zero) 5\n",
      "ssr based F test:         F=0.6900  , p=0.6531  , df_denom=5, df_num=5\n",
      "ssr based chi2 test:   chi2=11.0398 , p=0.0506  , df=5\n",
      "likelihood ratio test: chi2=8.3955  , p=0.1357  , df=5\n",
      "parameter F test:         F=0.6900  , p=0.6531  , df_denom=5, df_num=5\n"
     ]
    },
    {
     "data": {
      "text/plain": [
       "{1: ({'ssr_ftest': (0.5462906399559303, 0.4699204923951851, 17.0, 1),\n",
       "   'ssr_chi2test': (0.6426948705363885, 0.4227366269681513, 1),\n",
       "   'lrtest': (0.632584479388214, 0.4264088917417177, 1),\n",
       "   'params_ftest': (0.5462906399559293, 0.4699204923951851, 17.0, 1.0)},\n",
       "  [<statsmodels.regression.linear_model.RegressionResultsWrapper at 0x259aca92310>,\n",
       "   <statsmodels.regression.linear_model.RegressionResultsWrapper at 0x259aca92c90>,\n",
       "   array([[0., 1., 0.]])]),\n",
       " 2: ({'ssr_ftest': (0.528205552031458, 0.6009605994130093, 14.0, 2),\n",
       "   'ssr_chi2test': (1.433700784085386, 0.4882877515738355, 2),\n",
       "   'lrtest': (1.382184599223251, 0.5010284968315268, 2),\n",
       "   'params_ftest': (0.5282055520330419, 0.6009605994121238, 14.0, 2.0)},\n",
       "  [<statsmodels.regression.linear_model.RegressionResultsWrapper at 0x259aca93710>,\n",
       "   <statsmodels.regression.linear_model.RegressionResultsWrapper at 0x259aca93950>,\n",
       "   array([[0., 0., 1., 0., 0.],\n",
       "          [0., 0., 0., 1., 0.]])]),\n",
       " 3: ({'ssr_ftest': (0.7280833554062113, 0.556309482363501, 11.0, 3),\n",
       "   'ssr_chi2test': (3.574227381085037, 0.3112619136908894, 3),\n",
       "   'lrtest': (3.2602980166228406, 0.35320675679971464, 3),\n",
       "   'params_ftest': (0.7280833553735334, 0.5563094823808479, 11.0, 3.0)},\n",
       "  [<statsmodels.regression.linear_model.RegressionResultsWrapper at 0x259aca93b50>,\n",
       "   <statsmodels.regression.linear_model.RegressionResultsWrapper at 0x259aca9c6d0>,\n",
       "   array([[0., 0., 0., 1., 0., 0., 0.],\n",
       "          [0., 0., 0., 0., 1., 0., 0.],\n",
       "          [0., 0., 0., 0., 0., 1., 0.]])]),\n",
       " 4: ({'ssr_ftest': (0.8492840580594828, 0.5321970269620349, 8.0, 4),\n",
       "   'ssr_chi2test': (7.218914493505603, 0.12476202819913532, 4),\n",
       "   'lrtest': (6.016649765892211, 0.19790830456175415, 4),\n",
       "   'params_ftest': (0.8492840581278598, 0.5321970269273053, 8.0, 4.0)},\n",
       "  [<statsmodels.regression.linear_model.RegressionResultsWrapper at 0x259aca9ce10>,\n",
       "   <statsmodels.regression.linear_model.RegressionResultsWrapper at 0x259aca9cf90>,\n",
       "   array([[0., 0., 0., 0., 1., 0., 0., 0., 0.],\n",
       "          [0., 0., 0., 0., 0., 1., 0., 0., 0.],\n",
       "          [0., 0., 0., 0., 0., 0., 1., 0., 0.],\n",
       "          [0., 0., 0., 0., 0., 0., 0., 1., 0.]])]),\n",
       " 5: ({'ssr_ftest': (0.6899862977755298, 0.6531034160361247, 5.0, 5),\n",
       "   'ssr_chi2test': (11.039780764408475, 0.050596928075799, 5),\n",
       "   'lrtest': (8.395526737231734, 0.13574254730992175, 5),\n",
       "   'params_ftest': (0.6899862977553676, 0.6531034160475094, 5.0, 5.0)},\n",
       "  [<statsmodels.regression.linear_model.RegressionResultsWrapper at 0x259aca9d450>,\n",
       "   <statsmodels.regression.linear_model.RegressionResultsWrapper at 0x259aca9d990>,\n",
       "   array([[0., 0., 0., 0., 0., 1., 0., 0., 0., 0., 0.],\n",
       "          [0., 0., 0., 0., 0., 0., 1., 0., 0., 0., 0.],\n",
       "          [0., 0., 0., 0., 0., 0., 0., 1., 0., 0., 0.],\n",
       "          [0., 0., 0., 0., 0., 0., 0., 0., 1., 0., 0.],\n",
       "          [0., 0., 0., 0., 0., 0., 0., 0., 0., 1., 0.]])])}"
      ]
     },
     "execution_count": 33,
     "metadata": {},
     "output_type": "execute_result"
    }
   ],
   "source": [
    "grangercausalitytests(model_data[['KPR','Investments']], maxlag=5)"
   ]
  },
  {
   "cell_type": "markdown",
   "id": "3ff175e2",
   "metadata": {},
   "source": [
    "P-value більше за 0,5 приймаємо нульову гіпотезу про те що при інших рівних умовах значення Облікової ставки не можуть бути краще передбачені з використанням минулих значень Інвестицій."
   ]
  },
  {
   "cell_type": "code",
   "execution_count": 34,
   "id": "5e70dfd6",
   "metadata": {},
   "outputs": [
    {
     "name": "stderr",
     "output_type": "stream",
     "text": [
      "C:\\Users\\alona\\anaconda3\\Lib\\site-packages\\statsmodels\\tsa\\stattools.py:1488: FutureWarning: verbose is deprecated since functions should not print results\n",
      "  warnings.warn(\n",
      "C:\\Users\\alona\\anaconda3\\Lib\\site-packages\\statsmodels\\tsa\\stattools.py:1488: FutureWarning: verbose is deprecated since functions should not print results\n",
      "  warnings.warn(\n",
      "C:\\Users\\alona\\anaconda3\\Lib\\site-packages\\statsmodels\\tsa\\stattools.py:1488: FutureWarning: verbose is deprecated since functions should not print results\n",
      "  warnings.warn(\n",
      "C:\\Users\\alona\\anaconda3\\Lib\\site-packages\\statsmodels\\tsa\\stattools.py:1488: FutureWarning: verbose is deprecated since functions should not print results\n",
      "  warnings.warn(\n",
      "C:\\Users\\alona\\anaconda3\\Lib\\site-packages\\statsmodels\\tsa\\stattools.py:1488: FutureWarning: verbose is deprecated since functions should not print results\n",
      "  warnings.warn(\n",
      "C:\\Users\\alona\\anaconda3\\Lib\\site-packages\\statsmodels\\tsa\\stattools.py:1488: FutureWarning: verbose is deprecated since functions should not print results\n",
      "  warnings.warn(\n",
      "C:\\Users\\alona\\anaconda3\\Lib\\site-packages\\statsmodels\\tsa\\stattools.py:1488: FutureWarning: verbose is deprecated since functions should not print results\n",
      "  warnings.warn(\n",
      "C:\\Users\\alona\\anaconda3\\Lib\\site-packages\\statsmodels\\tsa\\stattools.py:1488: FutureWarning: verbose is deprecated since functions should not print results\n",
      "  warnings.warn(\n",
      "C:\\Users\\alona\\anaconda3\\Lib\\site-packages\\statsmodels\\tsa\\stattools.py:1488: FutureWarning: verbose is deprecated since functions should not print results\n",
      "  warnings.warn(\n"
     ]
    },
    {
     "data": {
      "text/html": [
       "<div>\n",
       "<style scoped>\n",
       "    .dataframe tbody tr th:only-of-type {\n",
       "        vertical-align: middle;\n",
       "    }\n",
       "\n",
       "    .dataframe tbody tr th {\n",
       "        vertical-align: top;\n",
       "    }\n",
       "\n",
       "    .dataframe thead th {\n",
       "        text-align: right;\n",
       "    }\n",
       "</style>\n",
       "<table border=\"1\" class=\"dataframe\">\n",
       "  <thead>\n",
       "    <tr style=\"text-align: right;\">\n",
       "      <th></th>\n",
       "      <th>GDP_x</th>\n",
       "      <th>Investments_x</th>\n",
       "      <th>KPR_x</th>\n",
       "    </tr>\n",
       "  </thead>\n",
       "  <tbody>\n",
       "    <tr>\n",
       "      <th>GDP_y</th>\n",
       "      <td>1.0</td>\n",
       "      <td>0.0483</td>\n",
       "      <td>0.1028</td>\n",
       "    </tr>\n",
       "    <tr>\n",
       "      <th>Investments_y</th>\n",
       "      <td>0.0</td>\n",
       "      <td>1.0000</td>\n",
       "      <td>0.2962</td>\n",
       "    </tr>\n",
       "    <tr>\n",
       "      <th>KPR_y</th>\n",
       "      <td>0.0</td>\n",
       "      <td>0.0506</td>\n",
       "      <td>1.0000</td>\n",
       "    </tr>\n",
       "  </tbody>\n",
       "</table>\n",
       "</div>"
      ],
      "text/plain": [
       "               GDP_x  Investments_x   KPR_x\n",
       "GDP_y            1.0         0.0483  0.1028\n",
       "Investments_y    0.0         1.0000  0.2962\n",
       "KPR_y            0.0         0.0506  1.0000"
      ]
     },
     "execution_count": 34,
     "metadata": {},
     "output_type": "execute_result"
    }
   ],
   "source": [
    "maxlag = 5\n",
    "test = 'ssr_chi2test'\n",
    "def grangers_causation_matrix(model_data, variables, test='ssr_chi2test', verbose=False):    \n",
    "    df = pd.DataFrame(np.zeros((len(variables), len(variables))), columns=variables, index=variables)\n",
    "    for c in df.columns:\n",
    "        for r in df.index:\n",
    "            test_result = grangercausalitytests(model_data[[r, c]], maxlag=maxlag, verbose=False)\n",
    "            p_values = [round(test_result[i+1][0][test][1],4) for i in range(maxlag)]\n",
    "            if verbose: print(f'Y = {r}, X = {c}, P Values = {p_values}')\n",
    "            min_p_value = np.min(p_values)\n",
    "            df.loc[r, c] = min_p_value\n",
    "    df.columns = [var + '_x' for var in variables]\n",
    "    df.index = [var + '_y' for var in variables]\n",
    "    return df\n",
    "\n",
    "grangers_causation_matrix(model_data, variables = model_data.columns)"
   ]
  },
  {
   "cell_type": "markdown",
   "id": "eca4b2c1",
   "metadata": {},
   "source": [
    "Looking at the P-Values in the above table, you can pretty much observe that most of the variables (time series) in the system are interchangeably causing each other."
   ]
  },
  {
   "cell_type": "markdown",
   "id": "147747de",
   "metadata": {},
   "source": [
    "All of the series in the VAR model should have the same number of observations. Тому нам треба обрати який порядок різниць ми використаємо для моделі. Для двох з трьох моделей для досягнення стаціонарності необхідно було побудувати ряд других різниць, тому ми оберемо його."
   ]
  },
  {
   "cell_type": "markdown",
   "id": "977b4f42",
   "metadata": {},
   "source": [
    "*записуємо новий датасет для моделі:*"
   ]
  },
  {
   "cell_type": "code",
   "execution_count": 110,
   "id": "765e3430",
   "metadata": {
    "scrolled": true
   },
   "outputs": [
    {
     "data": {
      "text/html": [
       "<div>\n",
       "<style scoped>\n",
       "    .dataframe tbody tr th:only-of-type {\n",
       "        vertical-align: middle;\n",
       "    }\n",
       "\n",
       "    .dataframe tbody tr th {\n",
       "        vertical-align: top;\n",
       "    }\n",
       "\n",
       "    .dataframe thead th {\n",
       "        text-align: right;\n",
       "    }\n",
       "</style>\n",
       "<table border=\"1\" class=\"dataframe\">\n",
       "  <thead>\n",
       "    <tr style=\"text-align: right;\">\n",
       "      <th></th>\n",
       "      <th>GDP</th>\n",
       "      <th>Investments</th>\n",
       "      <th>KPR</th>\n",
       "    </tr>\n",
       "  </thead>\n",
       "  <tbody>\n",
       "    <tr>\n",
       "      <th>0</th>\n",
       "      <td>20871</td>\n",
       "      <td>1744</td>\n",
       "      <td>35.0</td>\n",
       "    </tr>\n",
       "    <tr>\n",
       "      <th>1</th>\n",
       "      <td>23367</td>\n",
       "      <td>2675</td>\n",
       "      <td>41.0</td>\n",
       "    </tr>\n",
       "    <tr>\n",
       "      <th>2</th>\n",
       "      <td>28908</td>\n",
       "      <td>2877</td>\n",
       "      <td>51.0</td>\n",
       "    </tr>\n",
       "    <tr>\n",
       "      <th>3</th>\n",
       "      <td>29447</td>\n",
       "      <td>6662</td>\n",
       "      <td>82.0</td>\n",
       "    </tr>\n",
       "    <tr>\n",
       "      <th>4</th>\n",
       "      <td>24980</td>\n",
       "      <td>1861</td>\n",
       "      <td>60.0</td>\n",
       "    </tr>\n",
       "  </tbody>\n",
       "</table>\n",
       "</div>"
      ],
      "text/plain": [
       "     GDP  Investments   KPR\n",
       "0  20871         1744  35.0\n",
       "1  23367         2675  41.0\n",
       "2  28908         2877  51.0\n",
       "3  29447         6662  82.0\n",
       "4  24980         1861  60.0"
      ]
     },
     "execution_count": 110,
     "metadata": {},
     "output_type": "execute_result"
    }
   ],
   "source": [
    "df_data = pd.DataFrame()\n",
    "df_data['GDP'] = series['GDP'] \n",
    "df_data['Investments'] = series['Investment'] \n",
    "df_data['KPR'] = series['Key policy rate']#.apply(lambda x: math.log10(x))\n",
    "df_data.dropna(inplace=True)\n",
    "\n",
    "df_data.head()"
   ]
  },
  {
   "cell_type": "code",
   "execution_count": 111,
   "id": "aee90a1e",
   "metadata": {},
   "outputs": [
    {
     "name": "stdout",
     "output_type": "stream",
     "text": [
      "<class 'pandas.core.frame.DataFrame'>\n",
      "RangeIndex: 20 entries, 0 to 19\n",
      "Data columns (total 3 columns):\n",
      " #   Column       Non-Null Count  Dtype  \n",
      "---  ------       --------------  -----  \n",
      " 0   GDP          20 non-null     int64  \n",
      " 1   Investments  20 non-null     int64  \n",
      " 2   KPR          20 non-null     float64\n",
      "dtypes: float64(1), int64(2)\n",
      "memory usage: 612.0 bytes\n",
      "<class 'pandas.core.frame.DataFrame'>\n",
      "RangeIndex: 3 entries, 20 to 22\n",
      "Data columns (total 3 columns):\n",
      " #   Column       Non-Null Count  Dtype  \n",
      "---  ------       --------------  -----  \n",
      " 0   GDP          3 non-null      int64  \n",
      " 1   Investments  3 non-null      int64  \n",
      " 2   KPR          3 non-null      float64\n",
      "dtypes: float64(1), int64(2)\n",
      "memory usage: 204.0 bytes\n"
     ]
    }
   ],
   "source": [
    "train, test = df_data.iloc[0:20], df_data.iloc[20:]\n",
    "train.info()\n",
    "test.info()"
   ]
  },
  {
   "cell_type": "code",
   "execution_count": 114,
   "id": "26fbb5ca",
   "metadata": {},
   "outputs": [
    {
     "data": {
      "text/html": [
       "<div>\n",
       "<style scoped>\n",
       "    .dataframe tbody tr th:only-of-type {\n",
       "        vertical-align: middle;\n",
       "    }\n",
       "\n",
       "    .dataframe tbody tr th {\n",
       "        vertical-align: top;\n",
       "    }\n",
       "\n",
       "    .dataframe thead th {\n",
       "        text-align: right;\n",
       "    }\n",
       "</style>\n",
       "<table border=\"1\" class=\"dataframe\">\n",
       "  <thead>\n",
       "    <tr style=\"text-align: right;\">\n",
       "      <th></th>\n",
       "      <th>GDP</th>\n",
       "      <th>Investments</th>\n",
       "      <th>KPR</th>\n",
       "    </tr>\n",
       "  </thead>\n",
       "  <tbody>\n",
       "    <tr>\n",
       "      <th>3</th>\n",
       "      <td>-8047.0</td>\n",
       "      <td>4312.0</td>\n",
       "      <td>17.0</td>\n",
       "    </tr>\n",
       "    <tr>\n",
       "      <th>4</th>\n",
       "      <td>-4.0</td>\n",
       "      <td>-12169.0</td>\n",
       "      <td>-74.0</td>\n",
       "    </tr>\n",
       "    <tr>\n",
       "      <th>5</th>\n",
       "      <td>13689.0</td>\n",
       "      <td>14532.0</td>\n",
       "      <td>75.0</td>\n",
       "    </tr>\n",
       "    <tr>\n",
       "      <th>6</th>\n",
       "      <td>-4462.0</td>\n",
       "      <td>-6074.0</td>\n",
       "      <td>-37.0</td>\n",
       "    </tr>\n",
       "    <tr>\n",
       "      <th>7</th>\n",
       "      <td>-14974.0</td>\n",
       "      <td>3750.0</td>\n",
       "      <td>30.0</td>\n",
       "    </tr>\n",
       "  </tbody>\n",
       "</table>\n",
       "</div>"
      ],
      "text/plain": [
       "       GDP  Investments   KPR\n",
       "3  -8047.0       4312.0  17.0\n",
       "4     -4.0     -12169.0 -74.0\n",
       "5  13689.0      14532.0  75.0\n",
       "6  -4462.0      -6074.0 -37.0\n",
       "7 -14974.0       3750.0  30.0"
      ]
     },
     "execution_count": 114,
     "metadata": {},
     "output_type": "execute_result"
    }
   ],
   "source": [
    "df_differenced = train.diff().dropna()\n",
    "df_differenced = df_differenced.diff().dropna()\n",
    "df_differenced = df_differenced.diff().dropna()\n",
    "\n",
    "df_differenced.head()"
   ]
  },
  {
   "cell_type": "code",
   "execution_count": 113,
   "id": "f9b0f4e2",
   "metadata": {},
   "outputs": [
    {
     "data": {
      "text/plain": [
       "<Axes: >"
      ]
     },
     "execution_count": 113,
     "metadata": {},
     "output_type": "execute_result"
    },
    {
     "data": {
      "image/png": "[encoded data removed]",
      "text/plain": [
       "<Figure size 640x480 with 1 Axes>"
      ]
     },
     "metadata": {},
     "output_type": "display_data"
    }
   ],
   "source": [
    "df_differenced.plot()"
   ]
  },
  {
   "cell_type": "code",
   "execution_count": 87,
   "id": "50955b37",
   "metadata": {},
   "outputs": [
    {
     "data": {
      "text/plain": [
       "0.019355817469672805"
      ]
     },
     "execution_count": 87,
     "metadata": {},
     "output_type": "execute_result"
    }
   ],
   "source": [
    "pvalue = adfuller(df_differenced['GDP'])[1]\n",
    "pvalue"
   ]
  },
  {
   "cell_type": "code",
   "execution_count": 88,
   "id": "49505f23",
   "metadata": {},
   "outputs": [
    {
     "data": {
      "text/plain": [
       "1.568512293670552e-05"
      ]
     },
     "execution_count": 88,
     "metadata": {},
     "output_type": "execute_result"
    }
   ],
   "source": [
    "pvalue = adfuller(df_differenced['Investments'])[1]\n",
    "pvalue"
   ]
  },
  {
   "cell_type": "code",
   "execution_count": 89,
   "id": "34ada7c2",
   "metadata": {},
   "outputs": [
    {
     "data": {
      "text/plain": [
       "9.394798168615331e-09"
      ]
     },
     "execution_count": 89,
     "metadata": {},
     "output_type": "execute_result"
    }
   ],
   "source": [
    "pvalue = adfuller(df_differenced['KPR'])[1]\n",
    "pvalue"
   ]
  },
  {
   "cell_type": "markdown",
   "id": "83f0c77c",
   "metadata": {},
   "source": [
    "    Беремо часовий ряд третього порядку"
   ]
  },
  {
   "cell_type": "markdown",
   "id": "c6aa5ab6",
   "metadata": {},
   "source": [
    "Ряди є стаціонарними підготуємо навчальну та тестову віибірки:"
   ]
  },
  {
   "cell_type": "markdown",
   "id": "c6729c5d",
   "metadata": {},
   "source": [
    "To select the right order of the VAR model, we iteratively fit increasing orders of VAR model and pick the order that gives a model with least AIC.\n",
    "\n",
    "Though the usual practice is to look at the AIC, you can also check other best fit comparison estimates of BIC, FPE and HQIC."
   ]
  },
  {
   "cell_type": "code",
   "execution_count": 92,
   "id": "40a43e41",
   "metadata": {
    "scrolled": true
   },
   "outputs": [
    {
     "name": "stdout",
     "output_type": "stream",
     "text": [
      "Lag Order = 1\n",
      "AIC :  43.367020927053005\n",
      "BIC :  43.94646246873284\n",
      "FPE :  7.049566492148392e+18\n",
      "HQIC:  43.39669308786034 \n",
      "\n",
      "Lag Order = 2\n",
      "AIC :  40.752849087531835\n",
      "BIC :  41.74411936907493\n",
      "FPE :  6.319911732397924e+17\n",
      "HQIC:  40.74228998779574 \n",
      "\n",
      "Lag Order = 3\n",
      "AIC :  34.31972288136036\n",
      "BIC :  35.68913144482163\n",
      "FPE :  2388129941514630.0\n",
      "HQIC:  34.19295908683478 \n",
      "\n",
      "Lag Order = 4\n",
      "AIC :  -inf\n",
      "BIC :  -inf\n",
      "FPE :  inf\n",
      "HQIC:  -inf \n",
      "\n",
      "Lag Order = 5\n",
      "AIC :  -143.21460155103614\n",
      "BIC :  -141.27497495188413\n",
      "FPE :  -7.305115438511088e-64\n",
      "HQIC:  -143.93272080411353 \n",
      "\n",
      "Lag Order = 6\n",
      "AIC :  -150.30384168666612\n",
      "BIC :  -148.24202072762003\n",
      "FPE :  -8.812409391180044e-69\n",
      "HQIC:  -151.60353099091154 \n",
      "\n",
      "Lag Order = 7\n",
      "AIC :  -151.63814581528274\n",
      "BIC :  -149.64108420152203\n",
      "FPE :  -4.893381346032824e-71\n",
      "HQIC:  -153.8289175380097 \n",
      "\n",
      "Lag Order = 8\n",
      "AIC :  -149.5602096522791\n",
      "BIC :  -147.9166715078106\n",
      "FPE :  -6.175351375157655e-72\n",
      "HQIC:  -153.1069595160017 \n",
      "\n",
      "Lag Order = 9\n",
      "AIC :  -144.65945877188744\n",
      "BIC :  -143.82532258424916\n",
      "FPE :  -6.619553485740523e-72\n",
      "HQIC:  -150.28537204207208 \n",
      "\n"
     ]
    },
    {
     "name": "stderr",
     "output_type": "stream",
     "text": [
      "C:\\Users\\alona\\anaconda3\\Lib\\site-packages\\statsmodels\\tsa\\base\\tsa_model.py:473: ValueWarning: An unsupported index was provided and will be ignored when e.g. forecasting.\n",
      "  self._init_dates(dates, freq)\n"
     ]
    }
   ],
   "source": [
    "model = VAR(df_differenced)\n",
    "for i in [1,2,3,4,5,6,7,8,9]:\n",
    "    result = model.fit(i)\n",
    "    print('Lag Order =', i)\n",
    "    print('AIC : ', result.aic)\n",
    "    print('BIC : ', result.bic)\n",
    "    print('FPE : ', result.fpe)\n",
    "    print('HQIC: ', result.hqic, '\\n')"
   ]
  },
  {
   "cell_type": "markdown",
   "id": "79555724",
   "metadata": {},
   "source": [
    "альтернатива побудови:"
   ]
  },
  {
   "cell_type": "code",
   "execution_count": 98,
   "id": "3a5ad1dd",
   "metadata": {},
   "outputs": [
    {
     "data": {
      "text/html": [
       "<table class=\"simpletable\">\n",
       "<caption>VAR Order Selection (* highlights the minimums)</caption>\n",
       "<tr>\n",
       "  <td></td>      <th>AIC</th>         <th>BIC</th>         <th>FPE</th>        <th>HQIC</th>    \n",
       "</tr>\n",
       "<tr>\n",
       "  <th>0</th> <td>     44.07</td>  <td>     44.21</td>  <td> 1.383e+19</td>  <td>     44.06</td> \n",
       "</tr>\n",
       "<tr>\n",
       "  <th>1</th> <td>     41.04</td>  <td>     41.59</td>  <td> 7.002e+17</td>  <td>     40.99</td> \n",
       "</tr>\n",
       "<tr>\n",
       "  <th>2</th> <td>     39.82</td>  <td>     40.77</td>  <td> 2.632e+17</td>  <td>     39.73</td> \n",
       "</tr>\n",
       "<tr>\n",
       "  <th>3</th> <td>     34.32*</td> <td>     35.69*</td> <td> 2.388e+15*</td> <td>     34.19*</td>\n",
       "</tr>\n",
       "</table>"
      ],
      "text/latex": [
       "\\begin{center}\n",
       "\\begin{tabular}{lcccc}\n",
       "\\toprule\n",
       "           & \\textbf{AIC} & \\textbf{BIC} & \\textbf{FPE} & \\textbf{HQIC}  \\\\\n",
       "\\midrule\n",
       "\\textbf{0} &       44.07  &       44.21  &   1.383e+19  &        44.06   \\\\\n",
       "\\textbf{1} &       41.04  &       41.59  &   7.002e+17  &        40.99   \\\\\n",
       "\\textbf{2} &       39.82  &       40.77  &   2.632e+17  &        39.73   \\\\\n",
       "\\textbf{3} &      34.32*  &      35.69*  &  2.388e+15*  &       34.19*   \\\\\n",
       "\\bottomrule\n",
       "\\end{tabular}\n",
       "%\\caption{VAR Order Selection (* highlights the minimums)}\n",
       "\\end{center}"
      ],
      "text/plain": [
       "<class 'statsmodels.iolib.table.SimpleTable'>"
      ]
     },
     "execution_count": 98,
     "metadata": {},
     "output_type": "execute_result"
    }
   ],
   "source": [
    "x = model.select_order()\n",
    "x.summary()"
   ]
  },
  {
   "cell_type": "markdown",
   "id": "6f1abc01",
   "metadata": {},
   "source": [
    "Обираємо рекомендований 3 лаг."
   ]
  },
  {
   "cell_type": "code",
   "execution_count": 100,
   "id": "45abd75c",
   "metadata": {},
   "outputs": [
    {
     "data": {
      "text/plain": [
       "  Summary of Regression Results   \n",
       "==================================\n",
       "Model:                         VAR\n",
       "Method:                        OLS\n",
       "Date:           Mon, 04, Dec, 2023\n",
       "Time:                     23:38:17\n",
       "--------------------------------------------------------------------\n",
       "No. of Equations:         3.00000    BIC:                    35.6891\n",
       "Nobs:                     14.0000    HQIC:                   34.1930\n",
       "Log likelihood:          -269.833    FPE:                2.38813e+15\n",
       "AIC:                      34.3197    Det(Omega_mle):     4.74033e+14\n",
       "--------------------------------------------------------------------\n",
       "Results for equation GDP\n",
       "=================================================================================\n",
       "                    coefficient       std. error           t-stat            prob\n",
       "---------------------------------------------------------------------------------\n",
       "const               -565.470370       871.986272           -0.648           0.517\n",
       "L1.GDP                -0.886384         0.099815           -8.880           0.000\n",
       "L1.Investments        -0.259508         0.223133           -1.163           0.245\n",
       "L1.KPR               130.521956       148.596246            0.878           0.380\n",
       "L2.GDP                -1.054749         0.121504           -8.681           0.000\n",
       "L2.Investments        -0.129188         0.451760           -0.286           0.775\n",
       "L2.KPR               130.412793       150.375610            0.867           0.386\n",
       "L3.GDP                -1.096742         0.233376           -4.699           0.000\n",
       "L3.Investments        -0.281604         0.318416           -0.884           0.376\n",
       "L3.KPR               178.666482        64.915827            2.752           0.006\n",
       "=================================================================================\n",
       "\n",
       "Results for equation Investments\n",
       "=================================================================================\n",
       "                    coefficient       std. error           t-stat            prob\n",
       "---------------------------------------------------------------------------------\n",
       "const                178.179841      1114.295538            0.160           0.873\n",
       "L1.GDP                 0.214835         0.127552            1.684           0.092\n",
       "L1.Investments        -1.778467         0.285137           -6.237           0.000\n",
       "L1.KPR               127.275409       189.888465            0.670           0.503\n",
       "L2.GDP                 0.385663         0.155268            2.484           0.013\n",
       "L2.Investments        -1.828866         0.577296           -3.168           0.002\n",
       "L2.KPR               110.727000       192.162281            0.576           0.564\n",
       "L3.GDP                 0.231798         0.298227            0.777           0.437\n",
       "L3.Investments        -0.993103         0.406898           -2.441           0.015\n",
       "L3.KPR               -14.303553        82.954764           -0.172           0.863\n",
       "=================================================================================\n",
       "\n",
       "Results for equation KPR\n",
       "=================================================================================\n",
       "                    coefficient       std. error           t-stat            prob\n",
       "---------------------------------------------------------------------------------\n",
       "const                  0.291577         1.339994            0.218           0.828\n",
       "L1.GDP                -0.000060         0.000153           -0.392           0.695\n",
       "L1.Investments        -0.000129         0.000343           -0.377           0.706\n",
       "L1.KPR                -0.540122         0.228350           -2.365           0.018\n",
       "L2.GDP                 0.000183         0.000187            0.980           0.327\n",
       "L2.Investments        -0.000606         0.000694           -0.873           0.383\n",
       "L2.KPR                -0.042189         0.231084           -0.183           0.855\n",
       "L3.GDP                 0.000051         0.000359            0.143           0.886\n",
       "L3.Investments        -0.000294         0.000489           -0.602           0.547\n",
       "L3.KPR                -0.184524         0.099757           -1.850           0.064\n",
       "=================================================================================\n",
       "\n",
       "Correlation matrix of residuals\n",
       "                    GDP  Investments       KPR\n",
       "GDP            1.000000    -0.686679  0.618638\n",
       "Investments   -0.686679     1.000000 -0.680474\n",
       "KPR            0.618638    -0.680474  1.000000\n",
       "\n"
      ]
     },
     "execution_count": 100,
     "metadata": {},
     "output_type": "execute_result"
    }
   ],
   "source": [
    "#навчання моделі\n",
    "model_fitted = model.fit(3)\n",
    "model_fitted.summary()"
   ]
  },
  {
   "cell_type": "markdown",
   "id": "a8d6a530",
   "metadata": {},
   "source": [
    "#### Check for Serial Correlation of Residuals (Errors) using Durbin Watson Statistic"
   ]
  },
  {
   "cell_type": "markdown",
   "id": "87209ac2",
   "metadata": {},
   "source": [
    "Serial correlation of residuals is used to check if there is any leftover pattern in the residuals (errors).\n",
    "\n",
    "What does this mean to us?\n",
    "\n",
    "If there is any correlation left in the residuals, then, there is some pattern in the time series that is still left to be explained by the model. In that case, the typical course of action is to either increase the order of the model or induce more predictors into the system or look for a different algorithm to model the time series. \n"
   ]
  },
  {
   "cell_type": "code",
   "execution_count": 103,
   "id": "c2020b9c",
   "metadata": {},
   "outputs": [
    {
     "name": "stdout",
     "output_type": "stream",
     "text": [
      "GDP : 2.53\n",
      "Investments : 1.53\n",
      "KPR : 1.98\n"
     ]
    }
   ],
   "source": [
    "from statsmodels.stats.stattools import durbin_watson\n",
    "out = durbin_watson(model_fitted.resid)\n",
    "\n",
    "for col, val in zip(df_differenced.columns, out):\n",
    "    print(col, ':', round(val, 2))"
   ]
  },
  {
   "cell_type": "markdown",
   "id": "56f3d877",
   "metadata": {},
   "source": [
    "The value of this statistic can vary between 0 and 4. The closer it is to the value 2, then there is no significant serial correlation. The closer to 0, there is a positive serial correlation, and the closer it is to 4 implies negative serial correlation.\n",
    "The serial correlation seems quite alright. Let’s proceed with the forecast."
   ]
  },
  {
   "cell_type": "markdown",
   "id": "adfdc849",
   "metadata": {},
   "source": [
    "## Forecast"
   ]
  },
  {
   "cell_type": "code",
   "execution_count": 105,
   "id": "4d17077c",
   "metadata": {},
   "outputs": [
    {
     "name": "stdout",
     "output_type": "stream",
     "text": [
      "3\n"
     ]
    },
    {
     "data": {
      "text/plain": [
       "array([[ 3.8324e+04,  1.3092e+04, -2.0000e+00],\n",
       "       [-1.4010e+04, -8.8670e+03,  0.0000e+00],\n",
       "       [-2.3004e+04,  1.1040e+04,  1.5000e+00]])"
      ]
     },
     "execution_count": 105,
     "metadata": {},
     "output_type": "execute_result"
    }
   ],
   "source": [
    "# Get the lag order\n",
    "lag_order = model_fitted.k_ar\n",
    "print(lag_order)  #> 4\n",
    "\n",
    "# Input data for forecasting\n",
    "forecast_input = df_differenced.values[-lag_order:]\n",
    "forecast_input"
   ]
  },
  {
   "cell_type": "code",
   "execution_count": 115,
   "id": "0834350e",
   "metadata": {},
   "outputs": [
    {
     "data": {
      "text/html": [
       "<div>\n",
       "<style scoped>\n",
       "    .dataframe tbody tr th:only-of-type {\n",
       "        vertical-align: middle;\n",
       "    }\n",
       "\n",
       "    .dataframe tbody tr th {\n",
       "        vertical-align: top;\n",
       "    }\n",
       "\n",
       "    .dataframe thead th {\n",
       "        text-align: right;\n",
       "    }\n",
       "</style>\n",
       "<table border=\"1\" class=\"dataframe\">\n",
       "  <thead>\n",
       "    <tr style=\"text-align: right;\">\n",
       "      <th></th>\n",
       "      <th>GDP_3d</th>\n",
       "      <th>Investments_3d</th>\n",
       "      <th>KPR_3d</th>\n",
       "    </tr>\n",
       "  </thead>\n",
       "  <tbody>\n",
       "    <tr>\n",
       "      <th>20</th>\n",
       "      <td>-12997.355429</td>\n",
       "      <td>-17483.486173</td>\n",
       "      <td>0.731741</td>\n",
       "    </tr>\n",
       "    <tr>\n",
       "      <th>21</th>\n",
       "      <td>56482.955439</td>\n",
       "      <td>5234.795568</td>\n",
       "      <td>-6.135535</td>\n",
       "    </tr>\n",
       "    <tr>\n",
       "      <th>22</th>\n",
       "      <td>-14338.801446</td>\n",
       "      <td>12947.656804</td>\n",
       "      <td>3.005251</td>\n",
       "    </tr>\n",
       "  </tbody>\n",
       "</table>\n",
       "</div>"
      ],
      "text/plain": [
       "          GDP_3d  Investments_3d    KPR_3d\n",
       "20 -12997.355429   -17483.486173  0.731741\n",
       "21  56482.955439     5234.795568 -6.135535\n",
       "22 -14338.801446    12947.656804  3.005251"
      ]
     },
     "execution_count": 115,
     "metadata": {},
     "output_type": "execute_result"
    }
   ],
   "source": [
    "# Forecast\n",
    "fc = model_fitted.forecast(y=forecast_input, steps=3)\n",
    "df_forecast = pd.DataFrame(fc, index=df_data.index[-3:], columns=df_data.columns + '_3d')\n",
    "df_forecast"
   ]
  },
  {
   "cell_type": "code",
   "execution_count": null,
   "metadata": {},
   "outputs": [],
   "source": []
  },
  {
   "cell_type": "markdown",
   "id": "a66e8b42",
   "metadata": {},
   "source": [
    "##### Invert the transformation to get the real forecast"
   ]
  },
  {
   "cell_type": "code",
   "execution_count": 116,
   "id": "10568826",
   "metadata": {},
   "outputs": [],
   "source": [
    "def invert_transformation(train, df_forecast, second_diff=False, third_diff=False):\n",
    "    df_fc = df_forecast.copy()\n",
    "    columns = train.columns\n",
    "    for col in columns:\n",
    "        # Roll back 3rd Diff\n",
    "        if third_diff:\n",
    "            df_fc[str(col)+'_2d'] = (train[col].iloc[-1] - 2 * train[col].iloc[-2] + train[col].iloc[-3]) + df_fc[str(col)+'_3d'].cumsum()\n",
    "        \n",
    "        # Roll back 2nd Diff\n",
    "        if second_diff:\n",
    "            df_fc[str(col)+'_1d'] = (train[col].iloc[-1] - train[col].iloc[-2]) + df_fc[str(col)+'_2d'].cumsum()\n",
    "        \n",
    "        # Roll back 1st Diff\n",
    "        df_fc[str(col)+'_forecast'] = train[col].iloc[-1] + df_fc[str(col)+'_1d'].cumsum()\n",
    "        \n",
    "    return df_fc"
   ]
  },
  {
   "cell_type": "code",
   "execution_count": 122,
   "id": "1ee22ba6",
   "metadata": {},
   "outputs": [
    {
     "data": {
      "text/html": [
       "<div>\n",
       "<style scoped>\n",
       "    .dataframe tbody tr th:only-of-type {\n",
       "        vertical-align: middle;\n",
       "    }\n",
       "\n",
       "    .dataframe tbody tr th {\n",
       "        vertical-align: top;\n",
       "    }\n",
       "\n",
       "    .dataframe thead th {\n",
       "        text-align: right;\n",
       "    }\n",
       "</style>\n",
       "<table border=\"1\" class=\"dataframe\">\n",
       "  <thead>\n",
       "    <tr style=\"text-align: right;\">\n",
       "      <th></th>\n",
       "      <th>GDP_forecast</th>\n",
       "      <th>Investments_forecast</th>\n",
       "      <th>KPR_forecast</th>\n",
       "    </tr>\n",
       "  </thead>\n",
       "  <tbody>\n",
       "    <tr>\n",
       "      <th>20</th>\n",
       "      <td>34429.644571</td>\n",
       "      <td>18503.513827</td>\n",
       "      <td>7.731741</td>\n",
       "    </tr>\n",
       "    <tr>\n",
       "      <th>21</th>\n",
       "      <td>34075.889152</td>\n",
       "      <td>16494.337049</td>\n",
       "      <td>4.059688</td>\n",
       "    </tr>\n",
       "    <tr>\n",
       "      <th>22</th>\n",
       "      <td>47858.932298</td>\n",
       "      <td>24259.126470</td>\n",
       "      <td>-1.010909</td>\n",
       "    </tr>\n",
       "  </tbody>\n",
       "</table>\n",
       "</div>"
      ],
      "text/plain": [
       "    GDP_forecast  Investments_forecast  KPR_forecast\n",
       "20  34429.644571          18503.513827      7.731741\n",
       "21  34075.889152          16494.337049      4.059688\n",
       "22  47858.932298          24259.126470     -1.010909"
      ]
     },
     "execution_count": 122,
     "metadata": {},
     "output_type": "execute_result"
    }
   ],
   "source": [
    "df_results = invert_transformation(train, df_forecast, second_diff=True, third_diff=True)        \n",
    "df_results.loc[:, ['GDP_forecast', 'Investments_forecast', 'KPR_forecast']]\n",
    "    \n"
   ]
  },
  {
   "cell_type": "markdown",
   "id": "09cca347",
   "metadata": {},
   "source": [
    "# Plot"
   ]
  },
  {
   "cell_type": "code",
   "execution_count": 126,
   "id": "9cdaab9a",
   "metadata": {},
   "outputs": [
    {
     "data": {
      "image/png": "[encoded data removed]",
      "text/plain": [
       "<Figure size 1500x1500 with 3 Axes>"
      ]
     },
     "metadata": {},
     "output_type": "display_data"
    }
   ],
   "source": [
    "fig, axes = plt.subplots(nrows=int(len(df_data.columns)/2), ncols=3, dpi=150, figsize=(10,10))\n",
    "for i, (col,ax) in enumerate(zip(df_data.columns, axes.flatten())):\n",
    "    df_results[col+'_forecast'].plot(legend=True, ax=ax).autoscale(axis='x',tight=True)\n",
    "    test[col][-3:].plot(legend=True, ax=ax);\n",
    "    ax.set_title(col + \": Forecast vs Actuals\")\n",
    "    ax.xaxis.set_ticks_position('none')\n",
    "    ax.yaxis.set_ticks_position('none')\n",
    "    ax.spines[\"top\"].set_alpha(0)\n",
    "    ax.tick_params(labelsize=6)\n",
    "\n",
    "plt.tight_layout();"
   ]
  },
  {
   "cell_type": "markdown",
   "id": "9a6d730a",
   "metadata": {},
   "source": [
    "## Evaluate the Forecasts"
   ]
  },
  {
   "cell_type": "code",
   "execution_count": 132,
   "id": "cd67e052",
   "metadata": {},
   "outputs": [
    {
     "name": "stdout",
     "output_type": "stream",
     "text": [
      "Forecast Accuracy of: GDP\n",
      "mape :  0.3425\n",
      "me :  -20063.8447\n",
      "mae :  20063.8447\n",
      "mpe :  -0.3425\n",
      "rmse :  20480.7914\n",
      "corr :  0.7791\n",
      "minmax :  0.3425\n",
      "\n",
      "Forecast Accuracy of: Investments\n",
      "mape :  1.2724\n",
      "me :  10614.6591\n",
      "mae :  10614.6591\n",
      "mpe :  1.2724\n",
      "rmse :  10986.5842\n",
      "corr :  0.5286\n",
      "minmax :  0.5333\n",
      "\n",
      "Forecast Accuracy of: KPR\n",
      "mape :  0.5563\n",
      "me :  -3.4065\n",
      "mae :  3.8943\n",
      "mpe :  -0.4866\n",
      "rmse :  4.9449\n",
      "corr :  nan\n",
      "minmax :  0.553\n"
     ]
    },
    {
     "name": "stderr",
     "output_type": "stream",
     "text": [
      "C:\\Users\\alona\\anaconda3\\Lib\\site-packages\\numpy\\lib\\function_base.py:2854: RuntimeWarning: invalid value encountered in divide\n",
      "  c /= stddev[:, None]\n",
      "C:\\Users\\alona\\anaconda3\\Lib\\site-packages\\numpy\\lib\\function_base.py:2855: RuntimeWarning: invalid value encountered in divide\n",
      "  c /= stddev[None, :]\n"
     ]
    }
   ],
   "source": [
    "from statsmodels.tsa.stattools import acf\n",
    "def forecast_accuracy(forecast, actual):\n",
    "    mape = np.mean(np.abs(forecast - actual)/np.abs(actual))  # MAPE\n",
    "    me = np.mean(forecast - actual)             # ME\n",
    "    mae = np.mean(np.abs(forecast - actual))    # MAE\n",
    "    mpe = np.mean((forecast - actual)/actual)   # MPE\n",
    "    rmse = np.mean((forecast - actual)**2)**.5  # RMSE\n",
    "    corr = np.corrcoef(forecast, actual)[0,1]   # corr\n",
    "    mins = np.amin(np.hstack([forecast[:,None], \n",
    "                              actual[:,None]]), axis=1)\n",
    "    maxs = np.amax(np.hstack([forecast[:,None], \n",
    "                              actual[:,None]]), axis=1)\n",
    "    minmax = 1 - np.mean(mins/maxs)             # minmax\n",
    "    return({'mape':mape, 'me':me, 'mae': mae, \n",
    "            'mpe': mpe, 'rmse':rmse, 'corr':corr, 'minmax':minmax})\n",
    "\n",
    "print('Forecast Accuracy of: GDP')\n",
    "accuracy_prod = forecast_accuracy(df_results['GDP_forecast'].to_numpy(), test['GDP'].to_numpy())\n",
    "for k, v in accuracy_prod.items():\n",
    "    print(k, ': ', round(v,4))\n",
    "\n",
    "print('\\nForecast Accuracy of: Investments')\n",
    "accuracy_prod = forecast_accuracy(df_results['Investments_forecast'].to_numpy(), test['Investments'].to_numpy())\n",
    "for k, v in accuracy_prod.items():\n",
    "    print(k, ': ', round(v,4))\n",
    "\n",
    "print('\\nForecast Accuracy of: KPR')\n",
    "accuracy_prod = forecast_accuracy(df_results['KPR_forecast'].to_numpy(), test['KPR'].to_numpy())\n",
    "for k, v in accuracy_prod.items():\n",
    "    print(k, ': ', round(v,4))\n"
   ]
  },
  {
   "cell_type": "code",
   "execution_count": null,
   "id": "55814229",
   "metadata": {},
   "outputs": [],
   "source": []
  },
  {
   "cell_type": "code",
   "execution_count": null,
   "id": "2fa34164",
   "metadata": {},
   "outputs": [],
   "source": []
  },
  {
   "cell_type": "code",
   "execution_count": null,
   "id": "850c3569",
   "metadata": {},
   "outputs": [],
   "source": []
  }
 ],
 "metadata": {
  "kernelspec": {
   "display_name": "Python 3 (ipykernel)",
   "language": "python",
   "name": "python3"
  },
  "language_info": {
   "codemirror_mode": {
    "name": "ipython",
    "version": 3
   },
   "file_extension": ".py",
   "mimetype": "text/x-python",
   "name": "python",
   "nbconvert_exporter": "python",
   "pygments_lexer": "ipython3",
   "version": "3.11.4"
  }
 },
 "nbformat": 4,
 "nbformat_minor": 5
}
