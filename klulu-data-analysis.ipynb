{
 "cells": [
  {
   "cell_type": "code",
   "execution_count": 1,
   "metadata": {},
   "outputs": [],
   "source": [
    "%load_ext autoreload"
   ]
  },
  {
   "cell_type": "code",
   "execution_count": 2,
   "metadata": {},
   "outputs": [],
   "source": [
    "%autoreload 1"
   ]
  },
  {
   "cell_type": "code",
   "execution_count": 3,
   "metadata": {},
   "outputs": [],
   "source": [
    "import os\n",
    "import sys"
   ]
  },
  {
   "cell_type": "code",
   "execution_count": 5,
   "metadata": {},
   "outputs": [],
   "source": [
    "library_path = os.environ.get(\"NLP_PATENT_PATH\")\n",
    "if library_path not in sys.path:\n",
    "    sys.path.append(library_path)"
   ]
  },
  {
   "cell_type": "code",
   "execution_count": 11,
   "metadata": {},
   "outputs": [],
   "source": [
    "%aimport settings"
   ]
  },
  {
   "cell_type": "code",
   "execution_count": 57,
   "metadata": {},
   "outputs": [],
   "source": [
    "import json\n",
    "\n",
    "from docx import Document\n",
    "import re\n",
    "import xml.dom.minidom\n",
    "import zipfile\n",
    "from pathlib import Path"
   ]
  },
  {
   "cell_type": "code",
   "execution_count": 16,
   "metadata": {},
   "outputs": [],
   "source": [
    "from settings import DATA_DIR"
   ]
  },
  {
   "cell_type": "code",
   "execution_count": 93,
   "metadata": {},
   "outputs": [],
   "source": [
    "def get_text(filename_or_doc):\n",
    "    doc = filename_or_doc\n",
    "    if isinstance(doc, (str, Path)):\n",
    "        doc = Document(filename_or_doc)\n",
    "    full_text = []\n",
    "    for p in doc.paragraphs:\n",
    "        full_text.append(p.text)\n",
    "    return '\\n'.join(full_text)\n",
    "\n",
    "def print_json(data):\n",
    "    print(json.dumps(data, indent=4))"
   ]
  },
  {
   "cell_type": "markdown",
   "metadata": {},
   "source": [
    "### Read the data"
   ]
  },
  {
   "cell_type": "code",
   "execution_count": 91,
   "metadata": {},
   "outputs": [
    {
     "name": "stdout",
     "output_type": "stream",
     "text": [
      "dict_keys(['context', 'before_analyze', 'context_request', 'after_analyze'])\n"
     ]
    }
   ],
   "source": [
    "json_files = list(path.glob(\"*json\"))\n",
    "data = {}\n",
    "for file in json_files:\n",
    "    key = file.name.split(\".\")[1].strip().lower()\n",
    "    with file.open() as f:\n",
    "        data[key] = json.load(f)\n",
    "\n",
    "print(data.keys())"
   ]
  },
  {
   "cell_type": "code",
   "execution_count": 59,
   "metadata": {},
   "outputs": [],
   "source": [
    "path = DATA_DIR / \"pipeline_sample\"\n",
    "fname = list(path.glob(\"*docx\"))[0]\n",
    "text = get_text(fname)"
   ]
  },
  {
   "cell_type": "code",
   "execution_count": 120,
   "metadata": {},
   "outputs": [
    {
     "name": "stdout",
     "output_type": "stream",
     "text": [
      "WHAT IS CLAIMED IS:\n",
      "A method of wireless communication performed by a user equipment (UE), comprising:\n",
      "receiving, when operating in a network that provides synchronization signals at a plurality of locations in a channel bandwidth, a common search space (CSS) indicator for a synchronization signal, wherein the CSS indicator indicates that the synchronization signal is not associated with a CSS for a downlink control channel; and\n",
      "determining a location of the CSS for the downlink control channel based at least in part on the CSS indicator.\n",
      "\n",
      "The method of claim 1, wherein the CSS indicator is receiving in a physical broadcast channel (PBCH).\n",
      "\n",
      "The method of claim 2, wherein the location of the CSS is determined based at least in part on the physical broadcast channel.\n",
      "\n",
      "The method of claim 1, wherein the CSS indicator includes information identifying a location of another synchronization signal that is associated with the CSS; and\n",
      "wherein the location of the CSS is determined based at least in part on the other synchronization signal.\n",
      "\n",
      "The method of claim 4, wherein the other synchronization signal is in the channel bandwidth.\n",
      "\n",
      "The method of claim 1, wherein the CSS indicator includes a one-bit flag that indicates that the synchronization signal is not associated with a CSS for the downlink control channel.\n",
      "\n",
      "The method of claim 1, wherein the channel bandwidth includes a plurality of synchronization signals and a plurality of CSSs,\n",
      "wherein a quantity of synchronization signals, included in the plurality of synchronization signals, is greater than a quantity of CSSs included in the plurality of CSSs, and\n",
      "wherein the plurality of synchronization signals includes the synchronization signal and the plurality of CSSs includes the CSS.\n",
      "\n",
      "The method of claim 1, wherein the UE is configured to access the CSS based at least in part on determining the location of the CSS, wherein the CSS includes information associated with accessing the network.\n",
      "\n",
      "A user equipment (UE) for wireless communication, comprising:\n",
      "memory; and\n",
      "one or more processors coupled to the memory, the memory and the one or more processors configured to:\n",
      "receive, when operating in a network that provides synchronization signals at a plurality of locations in a channel bandwidth, a common search space (CSS) indicator for a synchronization signal, wherein the CSS indicator indicates that the synchronization signal is not associated with a CSS for a downlink c\n"
     ]
    }
   ],
   "source": [
    "PATT = \"WHAT IS CLAIMED IS:\"\n",
    "start = text.find(PATT)\n",
    "total_length = len(text) - start\n",
    "proportion = 0.2\n",
    "end = start + int(proportion * total_length)\n",
    "print(text[start:end])"
   ]
  },
  {
   "cell_type": "code",
   "execution_count": 119,
   "metadata": {},
   "outputs": [
    {
     "name": "stdout",
     "output_type": "stream",
     "text": [
      "[\n",
      "    {\n",
      "        \"Preamble\": \"A method of wireless communication performed by a user equipment (UE), comprising:\",\n",
      "        \"ClaimNumber\": 1,\n",
      "        \"Limitations\": [\n",
      "            {\n",
      "                \"LimitationText\": \"receiving, when operating in a network that provides synchronization signals at a plurality of locations in a channel bandwidth, a common search space (CSS) indicator for a synchronization signal, wherein the CSS indicator indicates that the synchronization signal is not associated with a CSS for a downlink control channel; and\",\n",
      "                \"Limitations\": []\n",
      "            },\n",
      "            {\n",
      "                \"LimitationText\": \"determining a location of the CSS for the downlink control channel based at least in part on the CSS indicator.\",\n",
      "                \"Limitations\": []\n",
      "            }\n",
      "        ],\n",
      "        \"ClaimType\": 0,\n",
      "        \"ParentClaimNumbers\": [],\n",
      "        \"DeviceName\": \"\"\n",
      "    },\n",
      "    {\n",
      "        \"Preamble\": \"The method of claim 1, wherein the CSS indicator is receiving in a physical broadcast channel (PBCH).\",\n",
      "        \"ClaimNumber\": 2,\n",
      "        \"Limitations\": [],\n",
      "        \"ClaimType\": 0,\n",
      "        \"ParentClaimNumbers\": [],\n",
      "        \"DeviceName\": \"\"\n",
      "    },\n",
      "    {\n",
      "        \"Preamble\": \"The method of claim 2, wherein the location of the CSS is determined based at least in part on the physical broadcast channel.\",\n",
      "        \"ClaimNumber\": 3,\n",
      "        \"Limitations\": [],\n",
      "        \"ClaimType\": 0,\n",
      "        \"ParentClaimNumbers\": [],\n",
      "        \"DeviceName\": \"\"\n",
      "    },\n",
      "    {\n",
      "        \"Preamble\": \"The method of claim 1, wherein the CSS indicator includes information identifying a location of another synchronization signal that is associated with the CSS; and\",\n",
      "        \"ClaimNumber\": 4,\n",
      "        \"Limitations\": [\n",
      "            {\n",
      "                \"LimitationText\": \"wherein the location of the CSS is determined based at least in part on the other synchronization signal.\",\n",
      "                \"Limitations\": []\n",
      "            }\n",
      "        ],\n",
      "        \"ClaimType\": 0,\n",
      "        \"ParentClaimNumbers\": [],\n",
      "        \"DeviceName\": \"\"\n",
      "    },\n",
      "    {\n",
      "        \"Preamble\": \"The method of claim 4, wherein the other synchronization signal is in the channel bandwidth.\",\n",
      "        \"ClaimNumber\": 5,\n",
      "        \"Limitations\": [],\n",
      "        \"ClaimType\": 0,\n",
      "        \"ParentClaimNumbers\": [],\n",
      "        \"DeviceName\": \"\"\n",
      "    }\n",
      "]\n"
     ]
    }
   ],
   "source": [
    "print_json(data[\"before_analyze\"][\"Claims\"][:5])"
   ]
  },
  {
   "cell_type": "markdown",
   "metadata": {},
   "source": [
    "### Analyze what has changed"
   ]
  },
  {
   "cell_type": "code",
   "execution_count": 154,
   "metadata": {},
   "outputs": [
    {
     "name": "stdout",
     "output_type": "stream",
     "text": [
      "Claim: 0, Key: 'ClaimType', Before: 0,  After: 1\n",
      "Claim: 0, Key: 'DeviceName', Before: '',  After: 'user equipment (UE)'\n",
      "Claim: 1, Key: 'ClaimType', Before: 0,  After: 1\n",
      "Claim: 1, Key: 'ParentClaimNumbers', Before: [],  After: [1]\n",
      "Claim: 1, Key: 'DeviceName', Before: '',  After: 'method of claim 1'\n",
      "Claim: 2, Key: 'ClaimType', Before: 0,  After: 1\n",
      "Claim: 2, Key: 'ParentClaimNumbers', Before: [],  After: [2]\n",
      "Claim: 2, Key: 'DeviceName', Before: '',  After: 'method of claim 2'\n",
      "Claim: 3, Key: 'ClaimType', Before: 0,  After: 1\n",
      "Claim: 3, Key: 'ParentClaimNumbers', Before: [],  After: [1]\n",
      "Claim: 3, Key: 'DeviceName', Before: '',  After: 'method of claim 1'\n",
      "Claim: 4, Key: 'ClaimType', Before: 0,  After: 1\n",
      "Claim: 4, Key: 'ParentClaimNumbers', Before: [],  After: [4]\n",
      "Claim: 4, Key: 'DeviceName', Before: '',  After: 'method of claim 4'\n",
      "Claim: 5, Key: 'ClaimType', Before: 0,  After: 1\n",
      "Claim: 5, Key: 'ParentClaimNumbers', Before: [],  After: [1]\n",
      "Claim: 5, Key: 'DeviceName', Before: '',  After: 'method of claim 1'\n",
      "Claim: 6, Key: 'ClaimType', Before: 0,  After: 1\n",
      "Claim: 6, Key: 'ParentClaimNumbers', Before: [],  After: [1]\n",
      "Claim: 6, Key: 'DeviceName', Before: '',  After: 'method of claim 1'\n",
      "Claim: 7, Key: 'ClaimType', Before: 0,  After: 1\n",
      "Claim: 7, Key: 'ParentClaimNumbers', Before: [],  After: [1]\n",
      "Claim: 7, Key: 'DeviceName', Before: '',  After: 'method of claim 1'\n",
      "Claim: 8, Key: 'ClaimType', Before: 0,  After: 2\n",
      "Claim: 8, Key: 'DeviceName', Before: '',  After: 'user equipment (UE'\n",
      "Claim: 9, Key: 'ParentClaimNumbers', Before: [],  After: [9]\n",
      "Claim: 9, Key: 'DeviceName', Before: '',  After: 'UE of claim 9'\n",
      "Claim: 10, Key: 'ParentClaimNumbers', Before: [],  After: [10]\n",
      "Claim: 10, Key: 'DeviceName', Before: '',  After: 'UE of claim 10'\n",
      "Claim: 11, Key: 'ParentClaimNumbers', Before: [],  After: [9]\n",
      "Claim: 11, Key: 'DeviceName', Before: '',  After: 'UE of claim 9'\n",
      "Claim: 12, Key: 'ParentClaimNumbers', Before: [],  After: [12]\n",
      "Claim: 12, Key: 'DeviceName', Before: '',  After: 'UE of claim 12'\n",
      "Claim: 13, Key: 'ParentClaimNumbers', Before: [],  After: [9]\n",
      "Claim: 13, Key: 'DeviceName', Before: '',  After: 'UE of claim 9'\n",
      "Claim: 14, Key: 'ParentClaimNumbers', Before: [],  After: [9]\n",
      "Claim: 14, Key: 'DeviceName', Before: '',  After: 'UE of claim 9'\n",
      "Claim: 15, Key: 'ParentClaimNumbers', Before: [],  After: [9]\n",
      "Claim: 15, Key: 'DeviceName', Before: '',  After: 'UE of claim 9'\n",
      "Claim: 16, Key: 'ClaimType', Before: 0,  After: 2\n",
      "Claim: 16, Key: 'DeviceName', Before: '',  After: 'non-transitory computer-readable medium storing one or more instructions for wireless communication'\n",
      "Claim: 17, Key: 'ParentClaimNumbers', Before: [],  After: [17]\n",
      "Claim: 17, Key: 'DeviceName', Before: '',  After: 'non-transitory computer-readable medium of claim 17'\n",
      "Claim: 18, Key: 'ParentClaimNumbers', Before: [],  After: [18]\n",
      "Claim: 18, Key: 'DeviceName', Before: '',  After: 'non-transitory computer-readable medium of claim 18'\n",
      "Claim: 19, Key: 'ParentClaimNumbers', Before: [],  After: [17]\n",
      "Claim: 19, Key: 'DeviceName', Before: '',  After: 'non-transitory computer-readable medium of claim 17'\n",
      "Claim: 20, Key: 'ParentClaimNumbers', Before: [],  After: [17]\n",
      "Claim: 20, Key: 'DeviceName', Before: '',  After: 'non-transitory computer-readable medium of claim 17'\n",
      "Claim: 21, Key: 'ParentClaimNumbers', Before: [],  After: [17]\n",
      "Claim: 21, Key: 'DeviceName', Before: '',  After: 'non-transitory computer-readable medium of claim 17'\n",
      "Claim: 22, Key: 'ParentClaimNumbers', Before: [],  After: [17]\n",
      "Claim: 22, Key: 'DeviceName', Before: '',  After: 'non-transitory computer-readable medium of claim 17'\n",
      "Claim: 23, Key: 'ClaimType', Before: 0,  After: 2\n",
      "Claim: 23, Key: 'DeviceName', Before: '',  After: 'apparatus for wireless communication'\n",
      "Claim: 24, Key: 'ParentClaimNumbers', Before: [],  After: [24]\n",
      "Claim: 24, Key: 'DeviceName', Before: '',  After: 'apparatus of claim 24'\n",
      "Claim: 25, Key: 'ParentClaimNumbers', Before: [],  After: [25]\n",
      "Claim: 25, Key: 'DeviceName', Before: '',  After: 'apparatus of claim 25'\n",
      "Claim: 26, Key: 'ParentClaimNumbers', Before: [],  After: [24]\n",
      "Claim: 26, Key: 'DeviceName', Before: '',  After: 'apparatus of claim 24'\n",
      "Claim: 27, Key: 'ParentClaimNumbers', Before: [],  After: [24]\n",
      "Claim: 27, Key: 'DeviceName', Before: '',  After: 'apparatus of claim 24'\n",
      "Claim: 28, Key: 'ParentClaimNumbers', Before: [],  After: [24]\n",
      "Claim: 28, Key: 'DeviceName', Before: '',  After: 'apparatus of claim 24'\n",
      "Claim: 29, Key: 'ParentClaimNumbers', Before: [],  After: [24]\n",
      "Claim: 29, Key: 'DeviceName', Before: '',  After: 'apparatus of claim 24'\n",
      "Claim: 30, Key: 'ClaimType', Before: 0,  After: 2\n",
      "Claim: 30, Key: 'DeviceName', Before: '',  After: '111 for wireless communication'\n",
      "Claim: 31, Key: 'ParentClaimNumbers', Before: [],  After: [31]\n",
      "Claim: 31, Key: 'DeviceName', Before: '',  After: '111 of claim 31'\n",
      "Claim: 32, Key: 'ParentClaimNumbers', Before: [],  After: [32]\n",
      "Claim: 32, Key: 'DeviceName', Before: '',  After: '111 of claim 32'\n",
      "Claim: 33, Key: 'ParentClaimNumbers', Before: [],  After: [31]\n",
      "Claim: 33, Key: 'DeviceName', Before: '',  After: '111 of claim 31'\n",
      "Claim: 34, Key: 'ParentClaimNumbers', Before: [],  After: [34]\n",
      "Claim: 34, Key: 'DeviceName', Before: '',  After: '111 of claim 34'\n",
      "Claim: 35, Key: 'ParentClaimNumbers', Before: [],  After: [31]\n",
      "Claim: 35, Key: 'DeviceName', Before: '',  After: '111 of claim 31'\n",
      "Claim: 36, Key: 'ParentClaimNumbers', Before: [],  After: [31]\n",
      "Claim: 36, Key: 'DeviceName', Before: '',  After: '111 of claim 31'\n",
      "Claim: 37, Key: 'ParentClaimNumbers', Before: [],  After: [31]\n",
      "Claim: 37, Key: 'DeviceName', Before: '',  After: '111 of claim 31'\n",
      "Claim: 38, Key: 'ClaimType', Before: 0,  After: 2\n",
      "Claim: 38, Key: 'DeviceName', Before: '',  After: 'user equipment (UE)'\n",
      "Claim: 39, Key: 'ParentClaimNumbers', Before: [],  After: [39]\n",
      "Claim: 39, Key: 'DeviceName', Before: '',  After: 'device of claim 39'\n",
      "Claim: 40, Key: 'ParentClaimNumbers', Before: [],  After: [40]\n",
      "Claim: 40, Key: 'DeviceName', Before: '',  After: 'device of claim 40'\n",
      "Claim: 41, Key: 'ParentClaimNumbers', Before: [],  After: [39]\n",
      "Claim: 41, Key: 'DeviceName', Before: '',  After: 'device of claim 39'\n",
      "Claim: 42, Key: 'ParentClaimNumbers', Before: [],  After: [42]\n",
      "Claim: 42, Key: 'DeviceName', Before: '',  After: 'device of claim 42'\n",
      "Claim: 43, Key: 'ParentClaimNumbers', Before: [],  After: [39]\n",
      "Claim: 43, Key: 'DeviceName', Before: '',  After: 'device of claim 39'\n",
      "Claim: 44, Key: 'ParentClaimNumbers', Before: [],  After: [39]\n",
      "Claim: 44, Key: 'DeviceName', Before: '',  After: 'device of claim 39'\n",
      "Claim: 45, Key: 'ParentClaimNumbers', Before: [],  After: [39]\n",
      "Claim: 45, Key: 'DeviceName', Before: '',  After: 'device of claim 39'\n"
     ]
    }
   ],
   "source": [
    "changed_keys = set()\n",
    "for i, (x, y) in enumerate(zip(data[\"before_analyze\"][\"Claims\"], \n",
    "                               data[\"after_analyze\"][\"Claims\"])):    \n",
    "    # check keys\n",
    "    diff = x.keys() ^ y.keys()\n",
    "    assert len(diff) == 0\n",
    "    # check values\n",
    "    for key in x.keys():\n",
    "        k += 1\n",
    "        before = x[key]\n",
    "        after = y[key]\n",
    "        if before != after:\n",
    "            changed_keys.add(key)\n",
    "            print(f\"Claim: {repr(i)}, Key: {repr(key)}, \"\n",
    "                  f\"Before: {repr(before)}, \",\n",
    "                  f\"After: {repr(after)}\")"
   ]
  },
  {
   "cell_type": "code",
   "execution_count": 149,
   "metadata": {},
   "outputs": [
    {
     "name": "stdout",
     "output_type": "stream",
     "text": [
      "Changed keys: ['ParentClaimNumbers', 'ClaimType', 'DeviceName']\n"
     ]
    }
   ],
   "source": [
    "print(f\"Changed keys: {list(changed_keys)}\")"
   ]
  }
 ],
 "metadata": {
  "kernelspec": {
   "display_name": "Python 3",
   "language": "python",
   "name": "python3"
  },
  "language_info": {
   "codemirror_mode": {
    "name": "ipython",
    "version": 3
   },
   "file_extension": ".py",
   "mimetype": "text/x-python",
   "name": "python",
   "nbconvert_exporter": "python",
   "pygments_lexer": "ipython3",
   "version": "3.7.4"
  }
 },
 "nbformat": 4,
 "nbformat_minor": 4
}
