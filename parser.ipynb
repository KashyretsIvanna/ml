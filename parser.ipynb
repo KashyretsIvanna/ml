{
 "cells": [
  {
   "cell_type": "code",
   "execution_count": 1,
   "id": "ef0cd3df-51db-4a54-962a-4f3cabe6c32e",
   "metadata": {},
   "outputs": [],
   "source": [
    "import requests\n",
    "import os, json\n",
    "from IPython.display import JSON\n",
    "import base64\n",
    "from datetime import datetime"
   ]
  },
  {
   "cell_type": "code",
   "execution_count": 2,
   "id": "58fcd06c-fe02-46a1-9296-79066a49135b",
   "metadata": {},
   "outputs": [],
   "source": [
    "api = \"http://localhost:5000/api/v1\"\n",
    "#api = \"https://staging.harritydev.com/api/nlp/api/v1\"\n",
    "rout = \"parser/analyze\"\n",
    "\n",
    "url = f\"{api}/{rout}\"\n",
    "\n",
    "staging_bearer_token = \"eyJhbGciOiJIUzI1NiIsInR5cCI6IkpXVCJ9.eyJlbWFpbCI6ImFiYWxhYmFuQGhhcnJpdHlkZXYub25taWNyb3NvZnQuY29tIiwiZmlyc3ROYW1lIjoiQW5kcmlpIiwibGFzdE5hbWUiOiJCYWxhYmFuIE9mZmljZSAzNjUiLCJwZXJtaXNzaW9ucyI6WyJwb3J0Zm9saW8iLCJ1c2VycyIsIm9yZ2FuaXphdGlvbnMiLCJzcGVjaWZpY2F0aW9ucyIsImZvcm1zIiwidGVtcGxhdGVzIiwiYXBwbGljYXRpb25zIiwidXNwdG8iLCJtZXNzYWdlcyIsIndvcmtmbG93cyIsImFkbWluaXN0cmF0aW9uIiwiZG9ja2V0aW5nX3Rhc2tzIiwiYWRtaW5pc3RyYXRpb25fdGFza3MiLCJib3Rfc2NyaXB0cyJdLCJ0ZWFtcyI6WyJEcmFmdGluZyBUZWFtIl0sIm1zU2VjdXJpdHlHcm91cHMiOlt7ImlkIjoiODY3NmJjY2MtZjMzYi00YTUyLTg2NGYtZjA0ZDM1NjI5Zjc1Iiwic2VjdXJpdHlJZGVudGlmaWVyIjoiUy0xLTEyLTEtMjI1NTkyODUyNC0xMjQ2OTUwMjAzLTEzMDc1OTQ2MzAtMTk3MzM3OTYzNyIsImRpc3BsYXlOYW1lIjoiU29tZU90aGVyR3JvdXAiLCJvblByZW1pc2VzTmFtZSI6bnVsbH0seyJpZCI6ImNiYTA4ODdkLWQzYTMtNGY4ZS04YWI3LWM1NWQ3YWRkMmZiZSIsInNlY3VyaXR5SWRlbnRpZmllciI6IlMtMS0xMi0xLTM0MTYyOTU1NDktMTMzNDc2MDM1NS0xNTczMjM4NjY2LTMxOTA4MDc5MzAiLCJkaXNwbGF5TmFtZSI6IkFub3RoZXJHcm91cCIsIm9uUHJlbWlzZXNOYW1lIjpudWxsfV0sImlhdCI6MTY4NDkzODk1NiwiZXhwIjoxNjg3NTMwOTU2LCJzdWIiOiI2MmQ5ODA0Y2U5MjMyN2FiZjljN2QxMTYifQ.qI5Pfh_rwwFJszRBAahYucbN3C3g-1ABQBe27gzyWPo\"\n",
    "dev_bearer_token = \"eyJhbGciOiJIUzI1NiIsInR5cCI6IkpXVCJ9.eyJlbWFpbCI6ImFiYWxhYmFuQGhhcnJpdHlkZXYub25taWNyb3NvZnQuY29tIiwiZmlyc3ROYW1lIjoiQW5kcmlpIiwibGFzdE5hbWUiOiJCYWxhYmFuIE9mZmljZSAzNjUiLCJwZXJtaXNzaW9ucyI6WyJwb3J0Zm9saW8iLCJ1c2VycyIsIm9yZ2FuaXphdGlvbnMiLCJzcGVjaWZpY2F0aW9ucyIsImZvcm1zIiwidGVtcGxhdGVzIiwiYXBwbGljYXRpb25zIiwidXNwdG8iLCJtZXNzYWdlcyIsIndvcmtmbG93cyIsImFkbWluaXN0cmF0aW9uIiwiZG9ja2V0aW5nX3Rhc2tzIiwiYWRtaW5pc3RyYXRpb25fdGFza3MiLCJib3Rfc2NyaXB0cyJdLCJ0ZWFtcyI6WyJEcmFmdGluZyBUZWFtIl0sIm1zU2VjdXJpdHlHcm91cHMiOlt7ImlkIjoiODY3NmJjY2MtZjMzYi00YTUyLTg2NGYtZjA0ZDM1NjI5Zjc1Iiwic2VjdXJpdHlJZGVudGlmaWVyIjoiUy0xLTEyLTEtMjI1NTkyODUyNC0xMjQ2OTUwMjAzLTEzMDc1OTQ2MzAtMTk3MzM3OTYzNyIsImRpc3BsYXlOYW1lIjoiU29tZU90aGVyR3JvdXAiLCJvblByZW1pc2VzTmFtZSI6bnVsbH0seyJpZCI6ImNiYTA4ODdkLWQzYTMtNGY4ZS04YWI3LWM1NWQ3YWRkMmZiZSIsInNlY3VyaXR5SWRlbnRpZmllciI6IlMtMS0xMi0xLTM0MTYyOTU1NDktMTMzNDc2MDM1NS0xNTczMjM4NjY2LTMxOTA4MDc5MzAiLCJkaXNwbGF5TmFtZSI6IkFub3RoZXJHcm91cCIsIm9uUHJlbWlzZXNOYW1lIjpudWxsfV0sImlhdCI6MTY4NDkzODk1NiwiZXhwIjoxNjg3NTMwOTU2LCJzdWIiOiI2MmQ5ODA0Y2U5MjMyN2FiZjljN2QxMTYifQ.qI5Pfh_rwwFJszRBAahYucbN3C3g-1ABQBe27gzyWPo\"\n",
    "\n",
    "# Create the headers dictionary with the authorization header\n",
    "headers = {\n",
    "    \"Authorization\": f\"Bearer {staging_bearer_token}\"\n",
    "}\n"
   ]
  },
  {
   "cell_type": "code",
   "execution_count": 3,
   "id": "298f0d49-c231-4305-8c10-c21958846df4",
   "metadata": {},
   "outputs": [],
   "source": [
    "filePah = \"./data/oa_samples/205923 Response After Final  25 April 2023.docx\"\n",
    "fileBase64 = base64.b64encode(open(filePah, 'rb').read()).decode(\"utf-8\")"
   ]
  },
  {
   "cell_type": "code",
   "execution_count": 4,
   "id": "aef38d6c-2bc4-49e6-b094-cde6d053ad5e",
   "metadata": {},
   "outputs": [],
   "source": [
    "\n",
    "payload = {\n",
    "    \"document\": fileBase64,\n",
    "    \"sections\": [\"claims\"]\n",
    "}\n",
    "\n",
    "\n",
    "try:\n",
    "    response = requests.post(url, json=payload, headers=headers)\n",
    "    response.raise_for_status()\n",
    "    context = response.json()\n",
    "\n",
    "except requests.exceptions.HTTPError as e:\n",
    "    print(f\"An HTTP error occurred: {e}\")"
   ]
  },
  {
   "cell_type": "code",
   "execution_count": 5,
   "id": "9d899068-c757-4a09-818a-336beda99240",
   "metadata": {},
   "outputs": [
    {
     "data": {
      "application/json": {
       "claims": {
        "claims": [
         {
          "claimNumber": 1,
          "claimType": 0,
          "deviceName": {},
          "independentClaim": true,
          "limitations": [
           {
            "documentOrigin": {
             "end": 13,
             "paragraphHash": "4a6caf7b8262f73f7fbedd5955e8aa83",
             "paragraphId": "68C1FCB5",
             "paragraphIndex": 15,
             "start": 0
            },
            "indentation": 0,
            "limitations": [],
            "origin": {
             "order": 0,
             "paragraphIndex": 1,
             "place": "limitationParagraph",
             "startsNewParagraph": true
            },
            "status": 0,
            "statusText": "Success",
            "text": "a memory; and"
           },
           {
            "documentOrigin": {
             "end": 61,
             "paragraphHash": "8f67938a3ecb0274c5fe211660d2ed18",
             "paragraphId": "75089E17",
             "paragraphIndex": 16,
             "start": 0
            },
            "indentation": 0,
            "limitations": [
             {
              "documentOrigin": {
               "end": 425,
               "paragraphHash": "91e64dba70da9f4991c0a92438264393",
               "paragraphId": "66A5DF99",
               "paragraphIndex": 17,
               "start": 0
              },
              "indentation": 1,
              "limitations": [],
              "origin": {
               "order": 0,
               "paragraphIndex": 3,
               "place": "limitationParagraph",
               "startsNewParagraph": true
              },
              "processStep": {
               "directObject": "a sidelink control information (SCI) message that dynamically allocates a resource pool configured for polled control information, the resource pool being configured for one or more user equipment (UEs) to transmit control information to the wireless communication device when polled to transmit the control information; and",
               "verbPhrase": {
                "gerund": "transmitting",
                "infinitive": "transmit",
                "original": "transmit",
                "past": "transmitted"
               }
              },
              "status": 0,
              "statusText": "Success",
              "text": "transmit a sidelink control information (SCI) message that dynamically allocates a resource pool configured for polled control information, the resource pool being configured for one or more user equipment (UEs) to transmit control information to the wireless communication device when polled to transmit the control information; and"
             },
             {
              "documentOrigin": {
               "end": 127,
               "paragraphHash": "05744ae579b307d17bf5142f6a9dc5ca",
               "paragraphId": "047FEB8B",
               "paragraphIndex": 18,
               "start": 0
              },
              "indentation": 1,
              "limitations": [],
              "origin": {
               "order": 0,
               "paragraphIndex": 4,
               "place": "limitationParagraph",
               "startsNewParagraph": true
              },
              "processStep": {
               "directObject": "the control information, via the resource pool and based at least in part on the SCI message, from the one or more UEs.",
               "verbPhrase": {
                "gerund": "receiving",
                "infinitive": "receive",
                "original": "receive",
                "past": "received"
               }
              },
              "status": 0,
              "statusText": "Success",
              "text": "receive the control information, via the resource pool and based at least in part on the SCI message, from the one or more UEs."
             }
            ],
            "origin": {
             "order": 0,
             "paragraphIndex": 2,
             "place": "limitationParagraph",
             "startsNewParagraph": true
            },
            "status": 0,
            "statusText": "Success",
            "text": "one or more processors, coupled to the memory, configured to:"
           }
          ],
          "parentClaimNumbers": [],
          "preamble": {
           "documentOrigin": {
            "end": 95,
            "paragraphHash": "fc25688f6d5539222dffb93ced886620",
            "paragraphId": "40005B79",
            "paragraphIndex": 14,
            "start": 4
           },
           "origin": {
            "order": 0,
            "paragraphIndex": 0,
            "place": "preambleParagraph",
            "startsNewParagraph": true
           },
           "text": "(Currently Amended) A wireless communication device for wireless communication, comprising:"
          },
          "status": 0,
          "statusIndicator": 0,
          "statusText": "Success"
         },
         {
          "claimNumber": 2,
          "claimType": 2,
          "deviceName": {},
          "independentClaim": false,
          "limitations": [
           {
            "documentOrigin": {
             "end": 216,
             "paragraphHash": "f4d38c5268a8bf17ef510e424d7ab299",
             "paragraphId": "3EC30B58",
             "paragraphIndex": 19,
             "start": 60
            },
            "indentation": 0,
            "limitations": [
             {
              "documentOrigin": {
               "end": 144,
               "paragraphHash": "9ad5dedc427c9d7e6c7d0b320547f4bf",
               "paragraphId": "5B970955",
               "paragraphIndex": 20,
               "start": 0
              },
              "indentation": 1,
              "limitations": [
               {
                "documentOrigin": {
                 "end": 96,
                 "paragraphHash": "9a2cbe6a4028aaf7e475624d071d6ef8",
                 "paragraphId": "4C4DDDF7",
                 "paragraphIndex": 21,
                 "start": 0
                },
                "indentation": 2,
                "limitations": [],
                "origin": {
                 "order": 0,
                 "paragraphIndex": 2,
                 "place": "limitationParagraph",
                 "startsNewParagraph": true
                },
                "status": 0,
                "statusText": "Success",
                "text": "wherein the resource pool is orthogonal to a physical sidelink feedback channel (PSFCH) pool, or",
                "whereinClause": {
                 "addingProcessStep": false,
                 "isComplete": false,
                 "modifyingProcessStep": false,
                 "unparsedPhrase": "the resource pool is orthogonal to a physical sidelink feedback channel (PSFCH) pool, or",
                 "whereinIndicator": "wherein"
                }
               },
               {
                "documentOrigin": {
                 "end": 25,
                 "paragraphHash": "0b626da7545d4d9420b3350303c335bf",
                 "paragraphId": "62492FA2",
                 "paragraphIndex": 22,
                 "start": 0
                },
                "indentation": 2,
                "limitations": [],
                "origin": {
                 "order": 0,
                 "paragraphIndex": 3,
                 "place": "limitationParagraph",
                 "startsNewParagraph": true
                },
                "status": 0,
                "statusText": "Success",
                "text": "some combination thereof."
               }
              ],
              "origin": {
               "order": 0,
               "paragraphIndex": 1,
               "place": "limitationParagraph",
               "startsNewParagraph": true
              },
              "status": 0,
              "statusText": "Success",
              "text": "wherein the resource pool is configured with multiple single-resource-block-per-symbol portions to carry the sequence-based control information,",
              "whereinClause": {
               "addingProcessStep": false,
               "isComplete": false,
               "modifyingProcessStep": false,
               "unparsedPhrase": "the resource pool is configured with multiple single-resource-block-per-symbol portions to carry the sequence-based control information,",
               "whereinIndicator": "wherein"
              }
             }
            ],
            "origin": {
             "order": 1,
             "paragraphIndex": 0,
             "place": "preambleParagraph",
             "startsNewParagraph": false
            },
            "status": 0,
            "statusText": "Success",
            "text": "wherein the resource pool comprises orthogonal resource units configured to be shared by the one or more UEs to transmit sequence-based control information,",
            "whereinClause": {
             "addedLimitationPhrase": "orthogonal resource units configured to be shared by the one or more UEs to transmit sequence-based control information,",
             "addingProcessStep": false,
             "isComplete": false,
             "modifyingProcessStep": false,
             "referencedTerm": "the resource pool",
             "transitionalPhrase": "comprises",
             "whereinIndicator": "wherein"
            }
           }
          ],
          "parentClaimNumbers": [
           1
          ],
          "preamble": {
           "documentOrigin": {
            "end": 59,
            "paragraphHash": "f4d38c5268a8bf17ef510e424d7ab299",
            "paragraphId": "3EC30B58",
            "paragraphIndex": 19,
            "start": 14
           },
           "origin": {
            "order": 0,
            "paragraphIndex": 0,
            "place": "preambleParagraph",
            "startsNewParagraph": true
           },
           "text": "The wireless communication device of claim 1,"
          },
          "status": 0,
          "statusIndicator": 5,
          "statusText": "Success"
         },
         {
          "claimNumber": 3,
          "claimType": 2,
          "deviceName": {},
          "independentClaim": false,
          "limitations": [
           {
            "documentOrigin": {
             "end": 171,
             "paragraphHash": "a9d3694041904d13b3b4a7eb8394edfe",
             "paragraphId": "42F3AC47",
             "paragraphIndex": 23,
             "start": 72
            },
            "indentation": 0,
            "limitations": [
             {
              "documentOrigin": {
               "end": 112,
               "paragraphHash": "e5e9f09dbcd121e392acf4d60673649f",
               "paragraphId": "1924F4FD",
               "paragraphIndex": 24,
               "start": 0
              },
              "indentation": 1,
              "limitations": [],
              "origin": {
               "order": 0,
               "paragraphIndex": 1,
               "place": "limitationParagraph",
               "startsNewParagraph": true
              },
              "status": 0,
              "statusText": "Success",
              "text": "an allocation of the resource pool to one or more symbols that are earlier within a slot than the PSFCH pool, or"
             },
             {
              "documentOrigin": {
               "end": 95,
               "paragraphHash": "91b70a61f59d183aaa8ec61b4eee1b65",
               "paragraphId": "39D7558B",
               "paragraphIndex": 25,
               "start": 0
              },
              "indentation": 1,
              "limitations": [],
              "origin": {
               "order": 0,
               "paragraphIndex": 2,
               "place": "limitationParagraph",
               "startsNewParagraph": true
              },
              "status": 0,
              "statusText": "Success",
              "text": "an allocation of the resource pool in place of the PSFCH pool in a slot without the PSFCH pool."
             }
            ],
            "origin": {
             "order": 1,
             "paragraphIndex": 0,
             "place": "preambleParagraph",
             "startsNewParagraph": false
            },
            "status": 0,
            "statusText": "Success",
            "text": "wherein the resource pool is orthogonal to the PSFCH pool based at least in part on one or more of:",
            "whereinClause": {
             "addingProcessStep": false,
             "isComplete": false,
             "modifyingProcessStep": false,
             "unparsedPhrase": "the resource pool is orthogonal to the PSFCH pool based at least in part on one or more of:",
             "whereinIndicator": "wherein"
            }
           }
          ],
          "parentClaimNumbers": [
           2
          ],
          "preamble": {
           "documentOrigin": {
            "end": 71,
            "paragraphHash": "a9d3694041904d13b3b4a7eb8394edfe",
            "paragraphId": "42F3AC47",
            "paragraphIndex": 23,
            "start": 26
           },
           "origin": {
            "order": 0,
            "paragraphIndex": 0,
            "place": "preambleParagraph",
            "startsNewParagraph": true
           },
           "text": "The wireless communication device of claim 2,"
          },
          "status": 0,
          "statusIndicator": 4,
          "statusText": "Success"
         },
         {
          "claimNumber": 4,
          "claimType": 2,
          "deviceName": {},
          "independentClaim": false,
          "limitations": [
           {
            "documentOrigin": {
             "end": 152,
             "paragraphHash": "b73326c19d12cf49250a9ab06cad67bd",
             "paragraphId": "42F73F31",
             "paragraphIndex": 26,
             "start": 69
            },
            "indentation": 0,
            "limitations": [
             {
              "documentOrigin": {
               "end": 81,
               "paragraphHash": "5bd112e8834607dc796b1ba6cca38ba3",
               "paragraphId": "22402114",
               "paragraphIndex": 27,
               "start": 0
              },
              "indentation": 1,
              "limitations": [],
              "origin": {
               "order": 0,
               "paragraphIndex": 1,
               "place": "limitationParagraph",
               "startsNewParagraph": true
              },
              "processStep": {
               "directObject": ", to a set of UEs that includes the one or more UEs, a stage one SCI, and",
               "verbPhrase": {
                "gerund": "transmitting",
                "infinitive": "transmit",
                "original": "transmit",
                "past": "transmitted"
               }
              },
              "status": 0,
              "statusText": "Success",
              "text": "transmit, to a set of UEs that includes the one or more UEs, a stage one SCI, and"
             },
             {
              "documentOrigin": {
               "end": 137,
               "paragraphHash": "c3f63068cfe37e19f9488c4329056973",
               "paragraphId": "1141D3C9",
               "paragraphIndex": 28,
               "start": 0
              },
              "indentation": 1,
              "limitations": [],
              "origin": {
               "order": 0,
               "paragraphIndex": 2,
               "place": "limitationParagraph",
               "startsNewParagraph": true
              },
              "processStep": {
               "directObject": ", to the one or more UEs, a stage two SCI that includes [[the]] information for polling for transmitting the control information.",
               "verbPhrase": {
                "gerund": "transmitting",
                "infinitive": "transmit",
                "original": "transmit",
                "past": "transmitted"
               }
              },
              "status": 0,
              "statusText": "Success",
              "text": "transmit, to the one or more UEs, a stage two SCI that includes [[the]] information for polling for transmitting the control information."
             }
            ],
            "origin": {
             "order": 1,
             "paragraphIndex": 0,
             "place": "preambleParagraph",
             "startsNewParagraph": false
            },
            "status": 0,
            "statusText": "Success",
            "text": "wherein the one or more processors, to transmit the SCI message, are configured to:",
            "whereinClause": {
             "actorName": "one or more processors",
             "addedLimitationPhrase": null,
             "addingProcessStep": true,
             "isComplete": false,
             "modifyingProcessStep": true,
             "referencedTerm": "transmit the SCI message",
             "transitionalPhrase": "are configured to",
             "whereinIndicator": "wherein"
            }
           }
          ],
          "parentClaimNumbers": [
           1
          ],
          "preamble": {
           "documentOrigin": {
            "end": 68,
            "paragraphHash": "b73326c19d12cf49250a9ab06cad67bd",
            "paragraphId": "42F73F31",
            "paragraphIndex": 26,
            "start": 23
           },
           "origin": {
            "order": 0,
            "paragraphIndex": 0,
            "place": "preambleParagraph",
            "startsNewParagraph": true
           },
           "text": "The wireless communication device of claim 1,"
          },
          "status": 0,
          "statusIndicator": 1,
          "statusText": "Success"
         },
         {
          "claimNumber": 5,
          "claimType": 2,
          "deviceName": {},
          "independentClaim": false,
          "limitations": [
           {
            "documentOrigin": {
             "end": 310,
             "paragraphHash": "01667a326ec956eb60bd54483b715168",
             "paragraphId": "6835C476",
             "paragraphIndex": 29,
             "start": 69
            },
            "indentation": 0,
            "limitations": [],
            "origin": {
             "order": 1,
             "paragraphIndex": 0,
             "place": "preambleParagraph",
             "startsNewParagraph": false
            },
            "status": 0,
            "statusText": "Success",
            "text": "wherein a stage one SCI of the SCI message includes an indication, to a set of UEs that includes the one or more UEs, that a second portion of the SCI message includes [[the]] information for polling for transmitting the control information.",
            "whereinClause": {
             "addedLimitationPhrase": "an indication, to a set of UEs that includes the one or more UEs, that a second portion of the SCI message includes [[the]] information for polling for transmitting the control information.",
             "addingProcessStep": false,
             "isComplete": true,
             "modifyingProcessStep": false,
             "referencedTerm": "a stage one SCI of the SCI message",
             "transitionalPhrase": "includes",
             "whereinIndicator": "wherein"
            }
           }
          ],
          "parentClaimNumbers": [
           1
          ],
          "preamble": {
           "documentOrigin": {
            "end": 68,
            "paragraphHash": "01667a326ec956eb60bd54483b715168",
            "paragraphId": "6835C476",
            "paragraphIndex": 29,
            "start": 23
           },
           "origin": {
            "order": 0,
            "paragraphIndex": 0,
            "place": "preambleParagraph",
            "startsNewParagraph": true
           },
           "text": "The wireless communication device of claim 1,"
          },
          "status": 0,
          "statusIndicator": 1,
          "statusText": "Success"
         },
         {
          "claimNumber": 6,
          "claimType": 2,
          "deviceName": {},
          "independentClaim": false,
          "limitations": [
           {
            "documentOrigin": {
             "end": 143,
             "paragraphHash": "55953c83e9bd89fd53655b470c4aaa61",
             "paragraphId": "3F9EE34D",
             "paragraphIndex": 30,
             "start": 60
            },
            "indentation": 0,
            "limitations": [
             {
              "documentOrigin": {
               "end": 78,
               "paragraphHash": "9ccadffedbff1335b13dece7c266e15c",
               "paragraphId": "4D82E5E7",
               "paragraphIndex": 31,
               "start": 0
              },
              "indentation": 1,
              "limitations": [],
              "origin": {
               "order": 0,
               "paragraphIndex": 1,
               "place": "limitationParagraph",
               "startsNewParagraph": true
              },
              "processStep": {
               "directObject": "the SCI message within a physical sidelink shared channel (PSSCH), or",
               "verbPhrase": {
                "gerund": "transmitting",
                "infinitive": "transmit",
                "original": "transmit",
                "past": "transmitted"
               }
              },
              "status": 0,
              "statusText": "Success",
              "text": "transmit the SCI message within a physical sidelink shared channel (PSSCH), or"
             },
             {
              "documentOrigin": {
               "end": 157,
               "paragraphHash": "060bc1c5bc18963818157366c0972bb0",
               "paragraphId": "31BA9C18",
               "paragraphIndex": 32,
               "start": 0
              },
              "indentation": 1,
              "limitations": [],
              "origin": {
               "order": 0,
               "paragraphIndex": 2,
               "place": "limitationParagraph",
               "startsNewParagraph": true
              },
              "processStep": {
               "directObject": "the SCI message with a first stage two SCI that is associated with a PSSCH transmission and a second stage two SCI that allocates the resource pool.",
               "verbPhrase": {
                "gerund": "transmitting",
                "infinitive": "transmit",
                "original": "transmit",
                "past": "transmitted"
               }
              },
              "status": 0,
              "statusText": "Success",
              "text": "transmit the SCI message with a first stage two SCI that is associated with a PSSCH transmission and a second stage two SCI that allocates the resource pool."
             }
            ],
            "origin": {
             "order": 1,
             "paragraphIndex": 0,
             "place": "preambleParagraph",
             "startsNewParagraph": false
            },
            "status": 0,
            "statusText": "Success",
            "text": "wherein the one or more processors, to transmit the SCI message, are configured to:",
            "whereinClause": {
             "actorName": "one or more processors",
             "addedLimitationPhrase": null,
             "addingProcessStep": true,
             "isComplete": false,
             "modifyingProcessStep": true,
             "referencedTerm": "transmit the SCI message",
             "transitionalPhrase": "are configured to",
             "whereinIndicator": "wherein"
            }
           }
          ],
          "parentClaimNumbers": [
           1
          ],
          "preamble": {
           "documentOrigin": {
            "end": 59,
            "paragraphHash": "55953c83e9bd89fd53655b470c4aaa61",
            "paragraphId": "3F9EE34D",
            "paragraphIndex": 30,
            "start": 14
           },
           "origin": {
            "order": 0,
            "paragraphIndex": 0,
            "place": "preambleParagraph",
            "startsNewParagraph": true
           },
           "text": "The wireless communication device of claim 1,"
          },
          "status": 0,
          "statusIndicator": 5,
          "statusText": "Success"
         },
         {
          "claimNumber": 7,
          "claimType": 2,
          "deviceName": {},
          "independentClaim": false,
          "limitations": [
           {
            "documentOrigin": {
             "end": 109,
             "paragraphHash": "99bbc1f5043974979ce994b166683892",
             "paragraphId": "163C5FAD",
             "paragraphIndex": 33,
             "start": 60
            },
            "indentation": 0,
            "limitations": [
             {
              "documentOrigin": {
               "end": 76,
               "paragraphHash": "e2fdfa44abb3213e234ae5271163547b",
               "paragraphId": "252F2520",
               "paragraphIndex": 34,
               "start": 0
              },
              "indentation": 1,
              "limitations": [],
              "origin": {
               "order": 0,
               "paragraphIndex": 1,
               "place": "limitationParagraph",
               "startsNewParagraph": true
              },
              "status": 0,
              "statusText": "Success",
              "text": "an allocation of the resource pool within a same slot as the SCI message, or"
             },
             {
              "documentOrigin": {
               "end": 60,
               "paragraphHash": "753c210ac60aa6adfb254a3649ccacbc",
               "paragraphId": "1CAFF5B9",
               "paragraphIndex": 35,
               "start": 0
              },
              "indentation": 1,
              "limitations": [],
              "origin": {
               "order": 0,
               "paragraphIndex": 2,
               "place": "limitationParagraph",
               "startsNewParagraph": true
              },
              "status": 0,
              "statusText": "Success",
              "text": "an allocation of the resource pool within a subsequent slot."
             }
            ],
            "origin": {
             "order": 1,
             "paragraphIndex": 0,
             "place": "preambleParagraph",
             "startsNewParagraph": false
            },
            "status": 0,
            "statusText": "Success",
            "text": "wherein the SCI message comprises one or more of:",
            "whereinClause": {
             "addedLimitationPhrase": null,
             "addingProcessStep": false,
             "isComplete": false,
             "modifyingProcessStep": false,
             "referencedTerm": "the SCI message",
             "transitionalPhrase": "comprises one or more of",
             "whereinIndicator": "wherein"
            }
           }
          ],
          "parentClaimNumbers": [
           1
          ],
          "preamble": {
           "documentOrigin": {
            "end": 59,
            "paragraphHash": "99bbc1f5043974979ce994b166683892",
            "paragraphId": "163C5FAD",
            "paragraphIndex": 33,
            "start": 14
           },
           "origin": {
            "order": 0,
            "paragraphIndex": 0,
            "place": "preambleParagraph",
            "startsNewParagraph": true
           },
           "text": "The wireless communication device of claim 1,"
          },
          "status": 0,
          "statusIndicator": 5,
          "statusText": "Success"
         },
         {
          "claimNumber": 8,
          "claimType": 2,
          "deviceName": {},
          "independentClaim": false,
          "limitations": [
           {
            "documentOrigin": {
             "end": 96,
             "paragraphHash": "cdac531e09adf81a846a597a7167e593",
             "paragraphId": "34424917",
             "paragraphIndex": 36,
             "start": 60
            },
            "indentation": 0,
            "limitations": [
             {
              "documentOrigin": {
               "end": 115,
               "paragraphHash": "2ba369c2cbc58c1692c6c72dfb0ae4cb",
               "paragraphId": "6DFABB50",
               "paragraphIndex": 37,
               "start": 0
              },
              "indentation": 1,
              "limitations": [],
              "origin": {
               "order": 0,
               "paragraphIndex": 1,
               "place": "limitationParagraph",
               "startsNewParagraph": true
              },
              "status": 0,
              "statusText": "Success",
              "text": "one or more resources that have been assigned, to the one or more UEs, previous to transmission of the SCI message."
             }
            ],
            "origin": {
             "order": 1,
             "paragraphIndex": 0,
             "place": "preambleParagraph",
             "startsNewParagraph": false
            },
            "status": 0,
            "statusText": "Success",
            "text": "wherein the resource pool comprises:",
            "whereinClause": {
             "addedLimitationPhrase": null,
             "addingProcessStep": false,
             "isComplete": false,
             "modifyingProcessStep": false,
             "referencedTerm": "the resource pool",
             "transitionalPhrase": "comprises",
             "whereinIndicator": "wherein"
            }
           }
          ],
          "parentClaimNumbers": [
           1
          ],
          "preamble": {
           "documentOrigin": {
            "end": 59,
            "paragraphHash": "cdac531e09adf81a846a597a7167e593",
            "paragraphId": "34424917",
            "paragraphIndex": 36,
            "start": 14
           },
           "origin": {
            "order": 0,
            "paragraphIndex": 0,
            "place": "preambleParagraph",
            "startsNewParagraph": true
           },
           "text": "The wireless communication device of claim 1,"
          },
          "status": 0,
          "statusIndicator": 5,
          "statusText": "Success"
         },
         {
          "claimNumber": 9,
          "claimType": 2,
          "deviceName": {},
          "independentClaim": false,
          "limitations": [
           {
            "documentOrigin": {
             "end": 113,
             "paragraphHash": "913f2d9f0d669694cc1e853da87ad1e3",
             "paragraphId": "2231EF36",
             "paragraphIndex": 38,
             "start": 60
            },
            "indentation": 0,
            "limitations": [
             {
              "documentOrigin": {
               "end": 180,
               "paragraphHash": "6956adc1dbfbabe71008c15b881c825f",
               "paragraphId": "70B2A61C",
               "paragraphIndex": 39,
               "start": 0
              },
              "indentation": 1,
              "limitations": [
               {
                "documentOrigin": {
                 "end": 173,
                 "paragraphHash": "2270add13219fb762ed1be9ec38466e0",
                 "paragraphId": "109B628E",
                 "paragraphIndex": 40,
                 "start": 0
                },
                "indentation": 2,
                "limitations": [
                 {
                  "documentOrigin": {
                   "end": 132,
                   "paragraphHash": "48c5ac3eab359bd5cc22a14be227c862",
                   "paragraphId": "3420A818",
                   "paragraphIndex": 41,
                   "start": 0
                  },
                  "indentation": 3,
                  "limitations": [],
                  "origin": {
                   "order": 0,
                   "paragraphIndex": 3,
                   "place": "limitationParagraph",
                   "startsNewParagraph": true
                  },
                  "status": 0,
                  "statusText": "Success",
                  "text": "wherein the SCI message indicates sequences for respective UEs of the one or more UEs to use to transmit the control information, or",
                  "whereinClause": {
                   "addingProcessStep": false,
                   "isComplete": false,
                   "modifyingProcessStep": false,
                   "unparsedPhrase": "the SCI message indicates sequences for respective UEs of the one or more UEs to use to transmit the control information, or",
                   "whereinIndicator": "wherein"
                  }
                 },
                 {
                  "documentOrigin": {
                   "end": 25,
                   "paragraphHash": "e1708215da4e221897e81bc258d3b1e2",
                   "paragraphId": "63DD77A2",
                   "paragraphIndex": 42,
                   "start": 0
                  },
                  "indentation": 3,
                  "limitations": [],
                  "origin": {
                   "order": 0,
                   "paragraphIndex": 4,
                   "place": "limitationParagraph",
                   "startsNewParagraph": true
                  },
                  "status": 0,
                  "statusText": "Success",
                  "text": "some combination thereof."
                 }
                ],
                "origin": {
                 "order": 0,
                 "paragraphIndex": 2,
                 "place": "limitationParagraph",
                 "startsNewParagraph": true
                },
                "status": 0,
                "statusText": "Success",
                "text": "wherein the SCI message indicates an allocation of resources, within the resource pool, for respective UEs of the one or more UEs to use to transmit the control information,",
                "whereinClause": {
                 "addingProcessStep": false,
                 "isComplete": false,
                 "modifyingProcessStep": false,
                 "unparsedPhrase": "the SCI message indicates an allocation of resources, within the resource pool, for respective UEs of the one or more UEs to use to transmit the control information,",
                 "whereinIndicator": "wherein"
                }
               }
              ],
              "origin": {
               "order": 0,
               "paragraphIndex": 1,
               "place": "limitationParagraph",
               "startsNewParagraph": true
              },
              "status": 0,
              "statusText": "Success",
              "text": "wherein the SCI message indicates, to a set of UEs that includes the one or more UEs, that the one or more UEs are polled to transmit the control information via the resource pool,",
              "whereinClause": {
               "addedLimitationPhrase": "the one or more UEs, that the one or more UEs are polled to transmit the control information via the resource pool,",
               "addingProcessStep": false,
               "isComplete": false,
               "modifyingProcessStep": false,
               "referencedTerm": "the SCI message indicates, to a set of UEs that",
               "transitionalPhrase": "includes",
               "whereinIndicator": "wherein"
              }
             }
            ],
            "origin": {
             "order": 1,
             "paragraphIndex": 0,
             "place": "preambleParagraph",
             "startsNewParagraph": false
            },
            "status": 0,
            "statusText": "Success",
            "text": "wherein the resource pool is a dynamic resource pool,",
            "whereinClause": {
             "addingProcessStep": false,
             "isComplete": false,
             "modifyingProcessStep": false,
             "unparsedPhrase": "the resource pool is a dynamic resource pool,",
             "whereinIndicator": "wherein"
            }
           }
          ],
          "parentClaimNumbers": [
           1
          ],
          "preamble": {
           "documentOrigin": {
            "end": 59,
            "paragraphHash": "913f2d9f0d669694cc1e853da87ad1e3",
            "paragraphId": "2231EF36",
            "paragraphIndex": 38,
            "start": 14
           },
           "origin": {
            "order": 0,
            "paragraphIndex": 0,
            "place": "preambleParagraph",
            "startsNewParagraph": true
           },
           "text": "The wireless communication device of claim 1,"
          },
          "status": 0,
          "statusIndicator": 5,
          "statusText": "Success"
         },
         {
          "claimNumber": 10,
          "claimType": 2,
          "deviceName": {},
          "independentClaim": false,
          "limitations": [
           {
            "documentOrigin": {
             "end": 263,
             "paragraphHash": "95285e536e1d87f539c73313eb65cc63",
             "paragraphId": "312C386B",
             "paragraphIndex": 43,
             "start": 61
            },
            "indentation": 0,
            "limitations": [
             {
              "documentOrigin": {
               "end": 118,
               "paragraphHash": "7f9ed708064d4821bfb6d4de3c1aea4f",
               "paragraphId": "087D207D",
               "paragraphIndex": 44,
               "start": 0
              },
              "indentation": 1,
              "limitations": [],
              "origin": {
               "order": 0,
               "paragraphIndex": 1,
               "place": "limitationParagraph",
               "startsNewParagraph": true
              },
              "status": 0,
              "statusText": "Success",
              "text": "wherein the indication of the assignment comprises a bitmap having a bit mapped to each UE of the one or more UEs, and",
              "whereinClause": {
               "addedLimitationPhrase": "a bitmap having a bit mapped to each UE of the one or more UEs, and",
               "addingProcessStep": false,
               "isComplete": false,
               "modifyingProcessStep": false,
               "referencedTerm": "the indication of the assignment",
               "transitionalPhrase": "comprises",
               "whereinIndicator": "wherein"
              }
             },
             {
              "documentOrigin": {
               "end": 123,
               "paragraphHash": "e35f477890cc9414d7975dac259a8c5a",
               "paragraphId": "4354170E",
               "paragraphIndex": 45,
               "start": 0
              },
              "indentation": 1,
              "limitations": [],
              "origin": {
               "order": 0,
               "paragraphIndex": 2,
               "place": "limitationParagraph",
               "startsNewParagraph": true
              },
              "status": 0,
              "statusText": "Success",
              "text": "wherein the bitmap indicates that the at least one UE of the one or more UEs is polled to transmit the control information.",
              "whereinClause": {
               "addingProcessStep": false,
               "isComplete": true,
               "modifyingProcessStep": false,
               "unparsedPhrase": "the bitmap indicates that the at least one UE of the one or more UEs is polled to transmit the control information.",
               "whereinIndicator": "wherein"
              }
             }
            ],
            "origin": {
             "order": 1,
             "paragraphIndex": 0,
             "place": "preambleParagraph",
             "startsNewParagraph": false
            },
            "status": 0,
            "statusText": "Success",
            "text": "wherein the SCI message includes an indication of an assignment, for at least one UE of the one or more UEs, of one or more resources within the resource pool to use to transmit the control information,",
            "whereinClause": {
             "addedLimitationPhrase": "an indication of an assignment, for at least one UE of the one or more UEs, of one or more resources within the resource pool to use to transmit the control information,",
             "addingProcessStep": false,
             "isComplete": false,
             "modifyingProcessStep": false,
             "referencedTerm": "the SCI message",
             "transitionalPhrase": "includes",
             "whereinIndicator": "wherein"
            }
           }
          ],
          "parentClaimNumbers": [
           1
          ],
          "preamble": {
           "documentOrigin": {
            "end": 60,
            "paragraphHash": "95285e536e1d87f539c73313eb65cc63",
            "paragraphId": "312C386B",
            "paragraphIndex": 43,
            "start": 15
           },
           "origin": {
            "order": 0,
            "paragraphIndex": 0,
            "place": "preambleParagraph",
            "startsNewParagraph": true
           },
           "text": "The wireless communication device of claim 1,"
          },
          "status": 0,
          "statusIndicator": 5,
          "statusText": "Success"
         },
         {
          "claimNumber": 11,
          "claimType": 2,
          "deviceName": {},
          "independentClaim": false,
          "limitations": [
           {
            "documentOrigin": {
             "end": 236,
             "paragraphHash": "8a580a1311a4b19137f554317046a203",
             "paragraphId": "4029EA30",
             "paragraphIndex": 46,
             "start": 61
            },
            "indentation": 0,
            "limitations": [
             {
              "documentOrigin": {
               "end": 83,
               "paragraphHash": "92a46d16d42a12abbe52daf5f53a0a57",
               "paragraphId": "230A0423",
               "paragraphIndex": 47,
               "start": 0
              },
              "indentation": 1,
              "limitations": [
               {
                "documentOrigin": {
                 "end": 102,
                 "paragraphHash": "c637ed80f8e0e4a585a5f09e539db3bf",
                 "paragraphId": "524D7E3E",
                 "paragraphIndex": 48,
                 "start": 0
                },
                "indentation": 2,
                "limitations": [],
                "origin": {
                 "order": 0,
                 "paragraphIndex": 2,
                 "place": "limitationParagraph",
                 "startsNewParagraph": true
                },
                "status": 0,
                "statusText": "Success",
                "text": "a first resource pool including only resources that are previously assigned to the one or more UEs, or"
               },
               {
                "documentOrigin": {
                 "end": 63,
                 "paragraphHash": "b39566aabcb3fcd5997e1e9a9af7daa7",
                 "paragraphId": "01F0EDF7",
                 "paragraphIndex": 49,
                 "start": 0
                },
                "indentation": 2,
                "limitations": [],
                "origin": {
                 "order": 0,
                 "paragraphIndex": 3,
                 "place": "limitationParagraph",
                 "startsNewParagraph": true
                },
                "status": 0,
                "statusText": "Success",
                "text": "a second resource pool including resources that are unassigned."
               }
              ],
              "origin": {
               "order": 0,
               "paragraphIndex": 1,
               "place": "limitationParagraph",
               "startsNewParagraph": true
              },
              "status": 0,
              "statusText": "Success",
              "text": "wherein the resource pool and the additional resource pool comprise one or more of:",
              "whereinClause": {
               "addedLimitationPhrase": null,
               "addingProcessStep": false,
               "isComplete": false,
               "modifyingProcessStep": false,
               "referencedTerm": "the resource pool and the additional resource pool",
               "transitionalPhrase": "comprise one or more of",
               "whereinIndicator": "wherein"
              }
             }
            ],
            "origin": {
             "order": 1,
             "paragraphIndex": 0,
             "place": "preambleParagraph",
             "startsNewParagraph": false
            },
            "status": 0,
            "statusText": "Success",
            "text": "wherein the SCI message dynamically allocates an additional resource pool for the one or more UEs to transmit the control information to the wireless communication device, and",
            "whereinClause": {
             "addingProcessStep": false,
             "isComplete": false,
             "modifyingProcessStep": false,
             "unparsedPhrase": "the SCI message dynamically allocates an additional resource pool for the one or more UEs to transmit the control information to the wireless communication device, and",
             "whereinIndicator": "wherein"
            }
           }
          ],
          "parentClaimNumbers": [
           1
          ],
          "preamble": {
           "documentOrigin": {
            "end": 60,
            "paragraphHash": "8a580a1311a4b19137f554317046a203",
            "paragraphId": "4029EA30",
            "paragraphIndex": 46,
            "start": 15
           },
           "origin": {
            "order": 0,
            "paragraphIndex": 0,
            "place": "preambleParagraph",
            "startsNewParagraph": true
           },
           "text": "The wireless communication device of claim 1,"
          },
          "status": 0,
          "statusIndicator": 5,
          "statusText": "Success"
         },
         {
          "claimNumber": 12,
          "claimType": 2,
          "deviceName": {},
          "independentClaim": false,
          "limitations": [
           {
            "documentOrigin": {
             "end": 128,
             "paragraphHash": "2e65a4af0d330766756f01598e5ac3d1",
             "paragraphId": "129A13A7",
             "paragraphIndex": 50,
             "start": 61
            },
            "indentation": 0,
            "limitations": [
             {
              "documentOrigin": {
               "end": 118,
               "paragraphHash": "27fc45b6324648106ed1a779819ad236",
               "paragraphId": "3BF09827",
               "paragraphIndex": 51,
               "start": 0
              },
              "indentation": 1,
              "limitations": [
               {
                "documentOrigin": {
                 "end": 108,
                 "paragraphHash": "34915c81a3dc8a09a117a86d17a06a85",
                 "paragraphId": "1809E9A3",
                 "paragraphIndex": 52,
                 "start": 0
                },
                "indentation": 2,
                "limitations": [],
                "origin": {
                 "order": 0,
                 "paragraphIndex": 2,
                 "place": "limitationParagraph",
                 "startsNewParagraph": true
                },
                "status": 0,
                "statusText": "Success",
                "text": "wherein the SCI message assigns one or more resources of the subset of the set of pre-assigned resources, or",
                "whereinClause": {
                 "addingProcessStep": false,
                 "isComplete": false,
                 "modifyingProcessStep": false,
                 "unparsedPhrase": "the SCI message assigns one or more resources of the subset of the set of pre-assigned resources, or",
                 "whereinIndicator": "wherein"
                }
               },
               {
                "documentOrigin": {
                 "end": 25,
                 "paragraphHash": "0b626da7545d4d9420b3350303c335bf",
                 "paragraphId": "4F54C10B",
                 "paragraphIndex": 53,
                 "start": 0
                },
                "indentation": 2,
                "limitations": [],
                "origin": {
                 "order": 0,
                 "paragraphIndex": 3,
                 "place": "limitationParagraph",
                 "startsNewParagraph": true
                },
                "status": 0,
                "statusText": "Success",
                "text": "some combination thereof."
               }
              ],
              "origin": {
               "order": 0,
               "paragraphIndex": 1,
               "place": "limitationParagraph",
               "startsNewParagraph": true
              },
              "status": 0,
              "statusText": "Success",
              "text": "wherein the SCI message cancels one or more assignments associated with a subset of the set of pre-assigned resources,",
              "whereinClause": {
               "addingProcessStep": false,
               "isComplete": false,
               "modifyingProcessStep": false,
               "unparsedPhrase": "the SCI message cancels one or more assignments associated with a subset of the set of pre-assigned resources,",
               "whereinIndicator": "wherein"
              }
             }
            ],
            "origin": {
             "order": 1,
             "paragraphIndex": 0,
             "place": "preambleParagraph",
             "startsNewParagraph": false
            },
            "status": 0,
            "statusText": "Success",
            "text": "wherein the resource pool includes a set of pre-assigned resources,",
            "whereinClause": {
             "addedLimitationPhrase": "a set of pre-assigned resources,",
             "addingProcessStep": false,
             "isComplete": false,
             "modifyingProcessStep": false,
             "referencedTerm": "the resource pool",
             "transitionalPhrase": "includes",
             "whereinIndicator": "wherein"
            }
           }
          ],
          "parentClaimNumbers": [
           1
          ],
          "preamble": {
           "documentOrigin": {
            "end": 60,
            "paragraphHash": "2e65a4af0d330766756f01598e5ac3d1",
            "paragraphId": "129A13A7",
            "paragraphIndex": 50,
            "start": 15
           },
           "origin": {
            "order": 0,
            "paragraphIndex": 0,
            "place": "preambleParagraph",
            "startsNewParagraph": true
           },
           "text": "The wireless communication device of claim 1,"
          },
          "status": 0,
          "statusIndicator": 5,
          "statusText": "Success"
         },
         {
          "claimNumber": 13,
          "claimType": 2,
          "deviceName": {},
          "independentClaim": false,
          "limitations": [
           {
            "documentOrigin": {
             "end": 118,
             "paragraphHash": "dce5e51ae894ee006ed26293f1b053cc",
             "paragraphId": "7458CC9F",
             "paragraphIndex": 54,
             "start": 61
            },
            "indentation": 0,
            "limitations": [
             {
              "documentOrigin": {
               "end": 56,
               "paragraphHash": "ffe1251a68a248acf81711eb95fd957e",
               "paragraphId": "0DAEF37D",
               "paragraphIndex": 55,
               "start": 0
              },
              "indentation": 1,
              "limitations": [],
              "origin": {
               "order": 0,
               "paragraphIndex": 1,
               "place": "limitationParagraph",
               "startsNewParagraph": true
              },
              "status": 0,
              "statusText": "Success",
              "text": "one or more scheduling requests for the one or more UEs,"
             },
             {
              "documentOrigin": {
               "end": 58,
               "paragraphHash": "e7f11e7bcd802ef5223ff50ecc88bc13",
               "paragraphId": "0BBFCDDE",
               "paragraphIndex": 56,
               "start": 0
              },
              "indentation": 1,
              "limitations": [],
              "origin": {
               "order": 0,
               "paragraphIndex": 2,
               "place": "limitationParagraph",
               "startsNewParagraph": true
              },
              "status": 0,
              "statusText": "Success",
              "text": "one or more buffer status reports for the one or more UEs,"
             },
             {
              "documentOrigin": {
               "end": 79,
               "paragraphHash": "4dd5ea3ff3db7256603741330280f75c",
               "paragraphId": "58496DC0",
               "paragraphIndex": 57,
               "start": 0
              },
              "indentation": 1,
              "limitations": [],
              "origin": {
               "order": 0,
               "paragraphIndex": 3,
               "place": "limitationParagraph",
               "startsNewParagraph": true
              },
              "status": 0,
              "statusText": "Success",
              "text": "one or more indications to maintain a configured grant for the one or more UEs,"
             },
             {
              "documentOrigin": {
               "end": 107,
               "paragraphHash": "0848ab6867cc36ec673822ebd3dc4917",
               "paragraphId": "1404501F",
               "paragraphIndex": 58,
               "start": 0
              },
              "indentation": 1,
              "limitations": [],
              "origin": {
               "order": 0,
               "paragraphIndex": 4,
               "place": "limitationParagraph",
               "startsNewParagraph": true
              },
              "status": 0,
              "statusText": "Success",
              "text": "information associated with a forward link signal-to-interference-plus-noise ratio for the one or more UEs,"
             },
             {
              "documentOrigin": {
               "end": 67,
               "paragraphHash": "66e32618ac87ad75503bb94d8a368851",
               "paragraphId": "048261EC",
               "paragraphIndex": 59,
               "start": 0
              },
              "indentation": 1,
              "limitations": [],
              "origin": {
               "order": 0,
               "paragraphIndex": 5,
               "place": "limitationParagraph",
               "startsNewParagraph": true
              },
              "status": 0,
              "statusText": "Success",
              "text": "one or more indications of channel busy ratio (CBR) overloading, or"
             },
             {
              "documentOrigin": {
               "end": 25,
               "paragraphHash": "1997d42dbbf7f485254445ca7896e902",
               "paragraphId": "18F3581A",
               "paragraphIndex": 60,
               "start": 0
              },
              "indentation": 1,
              "limitations": [],
              "origin": {
               "order": 0,
               "paragraphIndex": 6,
               "place": "limitationParagraph",
               "startsNewParagraph": true
              },
              "status": 0,
              "statusText": "Success",
              "text": "some combination thereof."
             }
            ],
            "origin": {
             "order": 1,
             "paragraphIndex": 0,
             "place": "preambleParagraph",
             "startsNewParagraph": false
            },
            "status": 0,
            "statusText": "Success",
            "text": "wherein the control information comprises one or more of:",
            "whereinClause": {
             "addedLimitationPhrase": null,
             "addingProcessStep": false,
             "isComplete": false,
             "modifyingProcessStep": false,
             "referencedTerm": "the control information",
             "transitionalPhrase": "comprises one or more of",
             "whereinIndicator": "wherein"
            }
           }
          ],
          "parentClaimNumbers": [
           1
          ],
          "preamble": {
           "documentOrigin": {
            "end": 60,
            "paragraphHash": "dce5e51ae894ee006ed26293f1b053cc",
            "paragraphId": "7458CC9F",
            "paragraphIndex": 54,
            "start": 15
           },
           "origin": {
            "order": 0,
            "paragraphIndex": 0,
            "place": "preambleParagraph",
            "startsNewParagraph": true
           },
           "text": "The wireless communication device of claim 1,"
          },
          "status": 0,
          "statusIndicator": 5,
          "statusText": "Success"
         },
         {
          "claimNumber": 14,
          "claimType": 1,
          "deviceName": {
           "acronym": "",
           "length": 29,
           "location": "preamble",
           "offset": 50,
           "text": "wireless communication device"
          },
          "independentClaim": true,
          "limitations": [
           {
            "documentOrigin": {
             "end": 429,
             "paragraphHash": "12b16e73d81f7c129c89b482a0025ae5",
             "paragraphId": "19E34D6C",
             "paragraphIndex": 62,
             "start": 0
            },
            "indentation": 0,
            "limitations": [],
            "origin": {
             "order": 0,
             "paragraphIndex": 1,
             "place": "limitationParagraph",
             "startsNewParagraph": true
            },
            "processStep": {
             "directObject": "a sidelink control information (SCI) message that dynamically allocates a resource pool configured for polled control information, the resource pool being configured for one or more user equipment (UEs) to transmit control information to the wireless communication device when polled to transmit the control information; and",
             "verbPhrase": {
              "gerund": "transmitting",
              "infinitive": "transmit",
              "original": "transmitting",
              "past": "transmitted"
             }
            },
            "status": 0,
            "statusText": "Success",
            "text": "transmitting a sidelink control information (SCI) message that dynamically allocates a resource pool configured for polled control information, the resource pool being configured for one or more user equipment (UEs) to transmit control information to the wireless communication device when polled to transmit the control information; and"
           },
           {
            "documentOrigin": {
             "end": 129,
             "paragraphHash": "f242025dc9382a2dcd9c2ac785351575",
             "paragraphId": "401DEF7E",
             "paragraphIndex": 63,
             "start": 0
            },
            "indentation": 0,
            "limitations": [],
            "origin": {
             "order": 0,
             "paragraphIndex": 2,
             "place": "limitationParagraph",
             "startsNewParagraph": true
            },
            "processStep": {
             "directObject": "the control information, via the resource pool and based at least in part on the SCI message, from the one or more UEs.",
             "verbPhrase": {
              "gerund": "receiving",
              "infinitive": "receive",
              "original": "receiving",
              "past": "received"
             }
            },
            "status": 0,
            "statusText": "Success",
            "text": "receiving the control information, via the resource pool and based at least in part on the SCI message, from the one or more UEs."
           }
          ],
          "parentClaimNumbers": [],
          "preamble": {
           "documentOrigin": {
            "end": 116,
            "paragraphHash": "3e4a391f3fa3b3c7b55ecff7981d9818",
            "paragraphId": "52336CD7",
            "paragraphIndex": 61,
            "start": 24
           },
           "origin": {
            "order": 0,
            "paragraphIndex": 0,
            "place": "preambleParagraph",
            "startsNewParagraph": true
           },
           "text": "A method of wireless communication performed by a wireless communication device, comprising:"
          },
          "status": 0,
          "statusIndicator": 1,
          "statusText": "Success"
         },
         {
          "claimNumber": 15,
          "claimType": 1,
          "deviceName": {},
          "independentClaim": false,
          "limitations": [
           {
            "documentOrigin": {
             "end": 195,
             "paragraphHash": "c2963bc383e39a1084c587771f943d22",
             "paragraphId": "6BE29FE8",
             "paragraphIndex": 64,
             "start": 39
            },
            "indentation": 0,
            "limitations": [
             {
              "documentOrigin": {
               "end": 144,
               "paragraphHash": "9ad5dedc427c9d7e6c7d0b320547f4bf",
               "paragraphId": "701D6BAF",
               "paragraphIndex": 65,
               "start": 0
              },
              "indentation": 1,
              "limitations": [
               {
                "documentOrigin": {
                 "end": 96,
                 "paragraphHash": "db064e0bc42fb227d587ac93bb10e1ac",
                 "paragraphId": "33B901B3",
                 "paragraphIndex": 66,
                 "start": 0
                },
                "indentation": 2,
                "limitations": [],
                "origin": {
                 "order": 0,
                 "paragraphIndex": 2,
                 "place": "limitationParagraph",
                 "startsNewParagraph": true
                },
                "status": 0,
                "statusText": "Success",
                "text": "wherein the resource pool is orthogonal to a physical sidelink feedback channel (PSFCH) pool, or",
                "whereinClause": {
                 "addingProcessStep": false,
                 "isComplete": false,
                 "modifyingProcessStep": false,
                 "unparsedPhrase": "the resource pool is orthogonal to a physical sidelink feedback channel (PSFCH) pool, or",
                 "whereinIndicator": "wherein"
                }
               },
               {
                "documentOrigin": {
                 "end": 25,
                 "paragraphHash": "1997d42dbbf7f485254445ca7896e902",
                 "paragraphId": "5B8303DF",
                 "paragraphIndex": 67,
                 "start": 0
                },
                "indentation": 2,
                "limitations": [],
                "origin": {
                 "order": 0,
                 "paragraphIndex": 3,
                 "place": "limitationParagraph",
                 "startsNewParagraph": true
                },
                "status": 0,
                "statusText": "Success",
                "text": "some combination thereof."
               }
              ],
              "origin": {
               "order": 0,
               "paragraphIndex": 1,
               "place": "limitationParagraph",
               "startsNewParagraph": true
              },
              "status": 0,
              "statusText": "Success",
              "text": "wherein the resource pool is configured with multiple single-resource-block-per-symbol portions to carry the sequence-based control information,",
              "whereinClause": {
               "addingProcessStep": false,
               "isComplete": false,
               "modifyingProcessStep": false,
               "unparsedPhrase": "the resource pool is configured with multiple single-resource-block-per-symbol portions to carry the sequence-based control information,",
               "whereinIndicator": "wherein"
              }
             }
            ],
            "origin": {
             "order": 1,
             "paragraphIndex": 0,
             "place": "preambleParagraph",
             "startsNewParagraph": false
            },
            "status": 0,
            "statusText": "Success",
            "text": "wherein the resource pool comprises orthogonal resource units configured to be shared by the one or more UEs to transmit sequence-based control information,",
            "whereinClause": {
             "addedLimitationPhrase": "orthogonal resource units configured to be shared by the one or more UEs to transmit sequence-based control information,",
             "addingProcessStep": false,
             "isComplete": false,
             "modifyingProcessStep": false,
             "referencedTerm": "the resource pool",
             "transitionalPhrase": "comprises",
             "whereinIndicator": "wherein"
            }
           }
          ],
          "parentClaimNumbers": [
           14
          ],
          "preamble": {
           "documentOrigin": {
            "end": 38,
            "paragraphHash": "c2963bc383e39a1084c587771f943d22",
            "paragraphId": "6BE29FE8",
            "paragraphIndex": 64,
            "start": 15
           },
           "origin": {
            "order": 0,
            "paragraphIndex": 0,
            "place": "preambleParagraph",
            "startsNewParagraph": true
           },
           "text": "The method of claim 14,"
          },
          "status": 0,
          "statusIndicator": 5,
          "statusText": "Success"
         },
         {
          "claimNumber": 16,
          "claimType": 1,
          "deviceName": {},
          "independentClaim": false,
          "limitations": [
           {
            "documentOrigin": {
             "end": 150,
             "paragraphHash": "fd0386ada07187b1c39a1423ccb8143e",
             "paragraphId": "2AA11AED",
             "paragraphIndex": 68,
             "start": 51
            },
            "indentation": 0,
            "limitations": [
             {
              "documentOrigin": {
               "end": 112,
               "paragraphHash": "e5e9f09dbcd121e392acf4d60673649f",
               "paragraphId": "0192CCB8",
               "paragraphIndex": 69,
               "start": 0
              },
              "indentation": 1,
              "limitations": [],
              "origin": {
               "order": 0,
               "paragraphIndex": 1,
               "place": "limitationParagraph",
               "startsNewParagraph": true
              },
              "status": 0,
              "statusText": "Success",
              "text": "an allocation of the resource pool to one or more symbols that are earlier within a slot than the PSFCH pool, or"
             },
             {
              "documentOrigin": {
               "end": 95,
               "paragraphHash": "91b70a61f59d183aaa8ec61b4eee1b65",
               "paragraphId": "77C4616B",
               "paragraphIndex": 70,
               "start": 0
              },
              "indentation": 1,
              "limitations": [],
              "origin": {
               "order": 0,
               "paragraphIndex": 2,
               "place": "limitationParagraph",
               "startsNewParagraph": true
              },
              "status": 0,
              "statusText": "Success",
              "text": "an allocation of the resource pool in place of the PSFCH pool in a slot without the PSFCH pool."
             }
            ],
            "origin": {
             "order": 1,
             "paragraphIndex": 0,
             "place": "preambleParagraph",
             "startsNewParagraph": false
            },
            "status": 0,
            "statusText": "Success",
            "text": "wherein the resource pool is orthogonal to the PSFCH pool based at least in part on one or more of:",
            "whereinClause": {
             "addingProcessStep": false,
             "isComplete": false,
             "modifyingProcessStep": false,
             "unparsedPhrase": "the resource pool is orthogonal to the PSFCH pool based at least in part on one or more of:",
             "whereinIndicator": "wherein"
            }
           }
          ],
          "parentClaimNumbers": [
           15
          ],
          "preamble": {
           "documentOrigin": {
            "end": 50,
            "paragraphHash": "fd0386ada07187b1c39a1423ccb8143e",
            "paragraphId": "2AA11AED",
            "paragraphIndex": 68,
            "start": 27
           },
           "origin": {
            "order": 0,
            "paragraphIndex": 0,
            "place": "preambleParagraph",
            "startsNewParagraph": true
           },
           "text": "The method of claim 15,"
          },
          "status": 0,
          "statusIndicator": 4,
          "statusText": "Success"
         },
         {
          "claimNumber": 17,
          "claimType": 1,
          "deviceName": {},
          "independentClaim": false,
          "limitations": [
           {
            "documentOrigin": {
             "end": 95,
             "paragraphHash": "771814e5ccda801b8d96216ef3d7f364",
             "paragraphId": "257D5E1C",
             "paragraphIndex": 71,
             "start": 48
            },
            "indentation": 0,
            "limitations": [
             {
              "documentOrigin": {
               "end": 85,
               "paragraphHash": "fb7a45a4d025d8fe53f594ae9dd1722a",
               "paragraphId": "559020DA",
               "paragraphIndex": 72,
               "start": 0
              },
              "indentation": 1,
              "limitations": [],
              "origin": {
               "order": 0,
               "paragraphIndex": 1,
               "place": "limitationParagraph",
               "startsNewParagraph": true
              },
              "processStep": {
               "directObject": ", to a set of UEs that includes the one or more UEs, a stage one SCI, and",
               "verbPhrase": {
                "gerund": "transmitting",
                "infinitive": "transmit",
                "original": "transmitting",
                "past": "transmitted"
               }
              },
              "status": 0,
              "statusText": "Success",
              "text": "transmitting, to a set of UEs that includes the one or more UEs, a stage one SCI, and"
             },
             {
              "documentOrigin": {
               "end": 141,
               "paragraphHash": "c6a0dfc7f83dbfeb9417e5124fdba9d4",
               "paragraphId": "15492C61",
               "paragraphIndex": 73,
               "start": 0
              },
              "indentation": 1,
              "limitations": [],
              "origin": {
               "order": 0,
               "paragraphIndex": 2,
               "place": "limitationParagraph",
               "startsNewParagraph": true
              },
              "processStep": {
               "directObject": ", to the one or more UEs, a stage two SCI that includes [[the]] information for polling for transmitting the control information.",
               "verbPhrase": {
                "gerund": "transmitting",
                "infinitive": "transmit",
                "original": "transmitting",
                "past": "transmitted"
               }
              },
              "status": 0,
              "statusText": "Success",
              "text": "transmitting, to the one or more UEs, a stage two SCI that includes [[the]] information for polling for transmitting the control information."
             }
            ],
            "origin": {
             "order": 1,
             "paragraphIndex": 0,
             "place": "preambleParagraph",
             "startsNewParagraph": false
            },
            "status": 0,
            "statusText": "Success",
            "text": "wherein transmitting the SCI message comprises:",
            "whereinClause": {
             "addedLimitationPhrase": null,
             "addingProcessStep": true,
             "isComplete": false,
             "modifyingProcessStep": true,
             "referencedTerm": "transmitting the SCI message",
             "transitionalPhrase": "comprises",
             "whereinIndicator": "wherein"
            }
           }
          ],
          "parentClaimNumbers": [
           14
          ],
          "preamble": {
           "documentOrigin": {
            "end": 47,
            "paragraphHash": "771814e5ccda801b8d96216ef3d7f364",
            "paragraphId": "257D5E1C",
            "paragraphIndex": 71,
            "start": 24
           },
           "origin": {
            "order": 0,
            "paragraphIndex": 0,
            "place": "preambleParagraph",
            "startsNewParagraph": true
           },
           "text": "The method of claim 14,"
          },
          "status": 0,
          "statusIndicator": 1,
          "statusText": "Success"
         },
         {
          "claimNumber": 18,
          "claimType": 1,
          "deviceName": {},
          "independentClaim": false,
          "limitations": [
           {
            "documentOrigin": {
             "end": 289,
             "paragraphHash": "3caac687d8de438ebe7d31985c039ad9",
             "paragraphId": "1245CF3A",
             "paragraphIndex": 74,
             "start": 48
            },
            "indentation": 0,
            "limitations": [],
            "origin": {
             "order": 1,
             "paragraphIndex": 0,
             "place": "preambleParagraph",
             "startsNewParagraph": false
            },
            "status": 0,
            "statusText": "Success",
            "text": "wherein a stage one SCI of the SCI message includes an indication, to a set of UEs that includes the one or more UEs, that a second portion of the SCI message includes [[the]] information for polling for transmitting the control information.",
            "whereinClause": {
             "addedLimitationPhrase": "an indication, to a set of UEs that includes the one or more UEs, that a second portion of the SCI message includes [[the]] information for polling for transmitting the control information.",
             "addingProcessStep": false,
             "isComplete": true,
             "modifyingProcessStep": false,
             "referencedTerm": "a stage one SCI of the SCI message",
             "transitionalPhrase": "includes",
             "whereinIndicator": "wherein"
            }
           }
          ],
          "parentClaimNumbers": [
           14
          ],
          "preamble": {
           "documentOrigin": {
            "end": 47,
            "paragraphHash": "3caac687d8de438ebe7d31985c039ad9",
            "paragraphId": "1245CF3A",
            "paragraphIndex": 74,
            "start": 24
           },
           "origin": {
            "order": 0,
            "paragraphIndex": 0,
            "place": "preambleParagraph",
            "startsNewParagraph": true
           },
           "text": "The method of claim 14,"
          },
          "status": 0,
          "statusIndicator": 1,
          "statusText": "Success"
         },
         {
          "claimNumber": 19,
          "claimType": 1,
          "deviceName": {},
          "independentClaim": false,
          "limitations": [
           {
            "documentOrigin": {
             "end": 86,
             "paragraphHash": "55eab374e77d02a4ca37f75529f1118a",
             "paragraphId": "76249C34",
             "paragraphIndex": 75,
             "start": 39
            },
            "indentation": 0,
            "limitations": [
             {
              "documentOrigin": {
               "end": 82,
               "paragraphHash": "f9d4ee8dfdd3c124c8f071508a0b4fe5",
               "paragraphId": "7589772A",
               "paragraphIndex": 76,
               "start": 0
              },
              "indentation": 1,
              "limitations": [],
              "origin": {
               "order": 0,
               "paragraphIndex": 1,
               "place": "limitationParagraph",
               "startsNewParagraph": true
              },
              "processStep": {
               "directObject": "the SCI message within a physical sidelink shared channel (PSSCH), or",
               "verbPhrase": {
                "gerund": "transmitting",
                "infinitive": "transmit",
                "original": "transmitting",
                "past": "transmitted"
               }
              },
              "status": 0,
              "statusText": "Success",
              "text": "transmitting the SCI message within a physical sidelink shared channel (PSSCH), or"
             },
             {
              "documentOrigin": {
               "end": 161,
               "paragraphHash": "91d7d1080918820b9e9124021b853edc",
               "paragraphId": "35AD8543",
               "paragraphIndex": 77,
               "start": 0
              },
              "indentation": 1,
              "limitations": [],
              "origin": {
               "order": 0,
               "paragraphIndex": 2,
               "place": "limitationParagraph",
               "startsNewParagraph": true
              },
              "processStep": {
               "directObject": "the SCI message with a first stage two SCI that is associated with a PSSCH transmission and a second stage two SCI that allocates the resource pool.",
               "verbPhrase": {
                "gerund": "transmitting",
                "infinitive": "transmit",
                "original": "transmitting",
                "past": "transmitted"
               }
              },
              "status": 0,
              "statusText": "Success",
              "text": "transmitting the SCI message with a first stage two SCI that is associated with a PSSCH transmission and a second stage two SCI that allocates the resource pool."
             }
            ],
            "origin": {
             "order": 1,
             "paragraphIndex": 0,
             "place": "preambleParagraph",
             "startsNewParagraph": false
            },
            "status": 0,
            "statusText": "Success",
            "text": "wherein transmitting the SCI message comprises:",
            "whereinClause": {
             "addedLimitationPhrase": null,
             "addingProcessStep": true,
             "isComplete": false,
             "modifyingProcessStep": true,
             "referencedTerm": "transmitting the SCI message",
             "transitionalPhrase": "comprises",
             "whereinIndicator": "wherein"
            }
           }
          ],
          "parentClaimNumbers": [
           14
          ],
          "preamble": {
           "documentOrigin": {
            "end": 38,
            "paragraphHash": "55eab374e77d02a4ca37f75529f1118a",
            "paragraphId": "76249C34",
            "paragraphIndex": 75,
            "start": 15
           },
           "origin": {
            "order": 0,
            "paragraphIndex": 0,
            "place": "preambleParagraph",
            "startsNewParagraph": true
           },
           "text": "The method of claim 14,"
          },
          "status": 0,
          "statusIndicator": 5,
          "statusText": "Success"
         },
         {
          "claimNumber": 20,
          "claimType": 1,
          "deviceName": {},
          "independentClaim": false,
          "limitations": [
           {
            "documentOrigin": {
             "end": 88,
             "paragraphHash": "67ed92c395ad4b485a4bc14695041fdd",
             "paragraphId": "52FE7F24",
             "paragraphIndex": 78,
             "start": 39
            },
            "indentation": 0,
            "limitations": [
             {
              "documentOrigin": {
               "end": 76,
               "paragraphHash": "e2fdfa44abb3213e234ae5271163547b",
               "paragraphId": "0860728E",
               "paragraphIndex": 79,
               "start": 0
              },
              "indentation": 1,
              "limitations": [],
              "origin": {
               "order": 0,
               "paragraphIndex": 1,
               "place": "limitationParagraph",
               "startsNewParagraph": true
              },
              "status": 0,
              "statusText": "Success",
              "text": "an allocation of the resource pool within a same slot as the SCI message, or"
             },
             {
              "documentOrigin": {
               "end": 60,
               "paragraphHash": "753c210ac60aa6adfb254a3649ccacbc",
               "paragraphId": "77176954",
               "paragraphIndex": 80,
               "start": 0
              },
              "indentation": 1,
              "limitations": [],
              "origin": {
               "order": 0,
               "paragraphIndex": 2,
               "place": "limitationParagraph",
               "startsNewParagraph": true
              },
              "status": 0,
              "statusText": "Success",
              "text": "an allocation of the resource pool within a subsequent slot."
             }
            ],
            "origin": {
             "order": 1,
             "paragraphIndex": 0,
             "place": "preambleParagraph",
             "startsNewParagraph": false
            },
            "status": 0,
            "statusText": "Success",
            "text": "wherein the SCI message comprises one or more of:",
            "whereinClause": {
             "addedLimitationPhrase": null,
             "addingProcessStep": false,
             "isComplete": false,
             "modifyingProcessStep": false,
             "referencedTerm": "the SCI message",
             "transitionalPhrase": "comprises one or more of",
             "whereinIndicator": "wherein"
            }
           }
          ],
          "parentClaimNumbers": [
           14
          ],
          "preamble": {
           "documentOrigin": {
            "end": 38,
            "paragraphHash": "67ed92c395ad4b485a4bc14695041fdd",
            "paragraphId": "52FE7F24",
            "paragraphIndex": 78,
            "start": 15
           },
           "origin": {
            "order": 0,
            "paragraphIndex": 0,
            "place": "preambleParagraph",
            "startsNewParagraph": true
           },
           "text": "The method of claim 14,"
          },
          "status": 0,
          "statusIndicator": 5,
          "statusText": "Success"
         },
         {
          "claimNumber": 21,
          "claimType": 1,
          "deviceName": {},
          "independentClaim": false,
          "limitations": [
           {
            "documentOrigin": {
             "end": 75,
             "paragraphHash": "9fa87e26937cc76ed0a0b0bffc1db2d8",
             "paragraphId": "616D4A47",
             "paragraphIndex": 81,
             "start": 39
            },
            "indentation": 0,
            "limitations": [
             {
              "documentOrigin": {
               "end": 115,
               "paragraphHash": "2ba369c2cbc58c1692c6c72dfb0ae4cb",
               "paragraphId": "38C77057",
               "paragraphIndex": 82,
               "start": 0
              },
              "indentation": 1,
              "limitations": [],
              "origin": {
               "order": 0,
               "paragraphIndex": 1,
               "place": "limitationParagraph",
               "startsNewParagraph": true
              },
              "status": 0,
              "statusText": "Success",
              "text": "one or more resources that have been assigned, to the one or more UEs, previous to transmission of the SCI message."
             }
            ],
            "origin": {
             "order": 1,
             "paragraphIndex": 0,
             "place": "preambleParagraph",
             "startsNewParagraph": false
            },
            "status": 0,
            "statusText": "Success",
            "text": "wherein the resource pool comprises:",
            "whereinClause": {
             "addedLimitationPhrase": null,
             "addingProcessStep": false,
             "isComplete": false,
             "modifyingProcessStep": false,
             "referencedTerm": "the resource pool",
             "transitionalPhrase": "comprises",
             "whereinIndicator": "wherein"
            }
           }
          ],
          "parentClaimNumbers": [
           14
          ],
          "preamble": {
           "documentOrigin": {
            "end": 38,
            "paragraphHash": "9fa87e26937cc76ed0a0b0bffc1db2d8",
            "paragraphId": "616D4A47",
            "paragraphIndex": 81,
            "start": 15
           },
           "origin": {
            "order": 0,
            "paragraphIndex": 0,
            "place": "preambleParagraph",
            "startsNewParagraph": true
           },
           "text": "The method of claim 14,"
          },
          "status": 0,
          "statusIndicator": 5,
          "statusText": "Success"
         },
         {
          "claimNumber": 22,
          "claimType": 1,
          "deviceName": {},
          "independentClaim": false,
          "limitations": [
           {
            "documentOrigin": {
             "end": 92,
             "paragraphHash": "3b4f944b5f1360863c997a4d7fb71d2d",
             "paragraphId": "2F2D7AB0",
             "paragraphIndex": 83,
             "start": 39
            },
            "indentation": 0,
            "limitations": [
             {
              "documentOrigin": {
               "end": 180,
               "paragraphHash": "6956adc1dbfbabe71008c15b881c825f",
               "paragraphId": "7EC886FA",
               "paragraphIndex": 84,
               "start": 0
              },
              "indentation": 1,
              "limitations": [
               {
                "documentOrigin": {
                 "end": 173,
                 "paragraphHash": "95430d5b34face7f59295d0d36fa8ee0",
                 "paragraphId": "6DEF2B3D",
                 "paragraphIndex": 85,
                 "start": 0
                },
                "indentation": 2,
                "limitations": [
                 {
                  "documentOrigin": {
                   "end": 132,
                   "paragraphHash": "aa2c3f401229a030e1e70980bd45f755",
                   "paragraphId": "0B5ABE45",
                   "paragraphIndex": 86,
                   "start": 0
                  },
                  "indentation": 3,
                  "limitations": [],
                  "origin": {
                   "order": 0,
                   "paragraphIndex": 3,
                   "place": "limitationParagraph",
                   "startsNewParagraph": true
                  },
                  "status": 0,
                  "statusText": "Success",
                  "text": "wherein the SCI message indicates sequences for respective UEs of the one or more UEs to use to transmit the control information, or",
                  "whereinClause": {
                   "addingProcessStep": false,
                   "isComplete": false,
                   "modifyingProcessStep": false,
                   "unparsedPhrase": "the SCI message indicates sequences for respective UEs of the one or more UEs to use to transmit the control information, or",
                   "whereinIndicator": "wherein"
                  }
                 },
                 {
                  "documentOrigin": {
                   "end": 25,
                   "paragraphHash": "1997d42dbbf7f485254445ca7896e902",
                   "paragraphId": "33422154",
                   "paragraphIndex": 87,
                   "start": 0
                  },
                  "indentation": 3,
                  "limitations": [],
                  "origin": {
                   "order": 0,
                   "paragraphIndex": 4,
                   "place": "limitationParagraph",
                   "startsNewParagraph": true
                  },
                  "status": 0,
                  "statusText": "Success",
                  "text": "some combination thereof."
                 }
                ],
                "origin": {
                 "order": 0,
                 "paragraphIndex": 2,
                 "place": "limitationParagraph",
                 "startsNewParagraph": true
                },
                "status": 0,
                "statusText": "Success",
                "text": "wherein the SCI message indicates an allocation of resources, within the resource pool, for respective UEs of the one or more UEs to use to transmit the control information,",
                "whereinClause": {
                 "addingProcessStep": false,
                 "isComplete": false,
                 "modifyingProcessStep": false,
                 "unparsedPhrase": "the SCI message indicates an allocation of resources, within the resource pool, for respective UEs of the one or more UEs to use to transmit the control information,",
                 "whereinIndicator": "wherein"
                }
               }
              ],
              "origin": {
               "order": 0,
               "paragraphIndex": 1,
               "place": "limitationParagraph",
               "startsNewParagraph": true
              },
              "status": 0,
              "statusText": "Success",
              "text": "wherein the SCI message indicates, to a set of UEs that includes the one or more UEs, that the one or more UEs are polled to transmit the control information via the resource pool,",
              "whereinClause": {
               "addedLimitationPhrase": "the one or more UEs, that the one or more UEs are polled to transmit the control information via the resource pool,",
               "addingProcessStep": false,
               "isComplete": false,
               "modifyingProcessStep": false,
               "referencedTerm": "the SCI message indicates, to a set of UEs that",
               "transitionalPhrase": "includes",
               "whereinIndicator": "wherein"
              }
             }
            ],
            "origin": {
             "order": 1,
             "paragraphIndex": 0,
             "place": "preambleParagraph",
             "startsNewParagraph": false
            },
            "status": 0,
            "statusText": "Success",
            "text": "wherein the resource pool is a dynamic resource pool,",
            "whereinClause": {
             "addingProcessStep": false,
             "isComplete": false,
             "modifyingProcessStep": false,
             "unparsedPhrase": "the resource pool is a dynamic resource pool,",
             "whereinIndicator": "wherein"
            }
           }
          ],
          "parentClaimNumbers": [
           14
          ],
          "preamble": {
           "documentOrigin": {
            "end": 38,
            "paragraphHash": "3b4f944b5f1360863c997a4d7fb71d2d",
            "paragraphId": "2F2D7AB0",
            "paragraphIndex": 83,
            "start": 15
           },
           "origin": {
            "order": 0,
            "paragraphIndex": 0,
            "place": "preambleParagraph",
            "startsNewParagraph": true
           },
           "text": "The method of claim 14,"
          },
          "status": 0,
          "statusIndicator": 5,
          "statusText": "Success"
         },
         {
          "claimNumber": 23,
          "claimType": 1,
          "deviceName": {},
          "independentClaim": false,
          "limitations": [
           {
            "documentOrigin": {
             "end": 241,
             "paragraphHash": "69be7269eb776dba010a130b60e62abf",
             "paragraphId": "673BD084",
             "paragraphIndex": 88,
             "start": 39
            },
            "indentation": 0,
            "limitations": [
             {
              "documentOrigin": {
               "end": 118,
               "paragraphHash": "7f9ed708064d4821bfb6d4de3c1aea4f",
               "paragraphId": "7CBB53BB",
               "paragraphIndex": 89,
               "start": 0
              },
              "indentation": 1,
              "limitations": [],
              "origin": {
               "order": 0,
               "paragraphIndex": 1,
               "place": "limitationParagraph",
               "startsNewParagraph": true
              },
              "status": 0,
              "statusText": "Success",
              "text": "wherein the indication of the assignment comprises a bitmap having a bit mapped to each UE of the one or more UEs, and",
              "whereinClause": {
               "addedLimitationPhrase": "a bitmap having a bit mapped to each UE of the one or more UEs, and",
               "addingProcessStep": false,
               "isComplete": false,
               "modifyingProcessStep": false,
               "referencedTerm": "the indication of the assignment",
               "transitionalPhrase": "comprises",
               "whereinIndicator": "wherein"
              }
             },
             {
              "documentOrigin": {
               "end": 123,
               "paragraphHash": "e35f477890cc9414d7975dac259a8c5a",
               "paragraphId": "39882FD6",
               "paragraphIndex": 90,
               "start": 0
              },
              "indentation": 1,
              "limitations": [],
              "origin": {
               "order": 0,
               "paragraphIndex": 2,
               "place": "limitationParagraph",
               "startsNewParagraph": true
              },
              "status": 0,
              "statusText": "Success",
              "text": "wherein the bitmap indicates that the at least one UE of the one or more UEs is polled to transmit the control information.",
              "whereinClause": {
               "addingProcessStep": false,
               "isComplete": true,
               "modifyingProcessStep": false,
               "unparsedPhrase": "the bitmap indicates that the at least one UE of the one or more UEs is polled to transmit the control information.",
               "whereinIndicator": "wherein"
              }
             }
            ],
            "origin": {
             "order": 1,
             "paragraphIndex": 0,
             "place": "preambleParagraph",
             "startsNewParagraph": false
            },
            "status": 0,
            "statusText": "Success",
            "text": "wherein the SCI message includes an indication of an assignment, for at least one UE of the one or more UEs, of one or more resources within the resource pool to use to transmit the control information,",
            "whereinClause": {
             "addedLimitationPhrase": "an indication of an assignment, for at least one UE of the one or more UEs, of one or more resources within the resource pool to use to transmit the control information,",
             "addingProcessStep": false,
             "isComplete": false,
             "modifyingProcessStep": false,
             "referencedTerm": "the SCI message",
             "transitionalPhrase": "includes",
             "whereinIndicator": "wherein"
            }
           }
          ],
          "parentClaimNumbers": [
           14
          ],
          "preamble": {
           "documentOrigin": {
            "end": 38,
            "paragraphHash": "69be7269eb776dba010a130b60e62abf",
            "paragraphId": "673BD084",
            "paragraphIndex": 88,
            "start": 15
           },
           "origin": {
            "order": 0,
            "paragraphIndex": 0,
            "place": "preambleParagraph",
            "startsNewParagraph": true
           },
           "text": "The method of claim 14,"
          },
          "status": 0,
          "statusIndicator": 5,
          "statusText": "Success"
         },
         {
          "claimNumber": 24,
          "claimType": 1,
          "deviceName": {},
          "independentClaim": false,
          "limitations": [
           {
            "documentOrigin": {
             "end": 214,
             "paragraphHash": "3ad1109715e667d49591a51b95db2fa3",
             "paragraphId": "69199849",
             "paragraphIndex": 91,
             "start": 39
            },
            "indentation": 0,
            "limitations": [
             {
              "documentOrigin": {
               "end": 83,
               "paragraphHash": "92a46d16d42a12abbe52daf5f53a0a57",
               "paragraphId": "15F4267A",
               "paragraphIndex": 92,
               "start": 0
              },
              "indentation": 1,
              "limitations": [
               {
                "documentOrigin": {
                 "end": 102,
                 "paragraphHash": "c637ed80f8e0e4a585a5f09e539db3bf",
                 "paragraphId": "5274D6C2",
                 "paragraphIndex": 93,
                 "start": 0
                },
                "indentation": 2,
                "limitations": [],
                "origin": {
                 "order": 0,
                 "paragraphIndex": 2,
                 "place": "limitationParagraph",
                 "startsNewParagraph": true
                },
                "status": 0,
                "statusText": "Success",
                "text": "a first resource pool including only resources that are previously assigned to the one or more UEs, or"
               },
               {
                "documentOrigin": {
                 "end": 63,
                 "paragraphHash": "b39566aabcb3fcd5997e1e9a9af7daa7",
                 "paragraphId": "675FB268",
                 "paragraphIndex": 94,
                 "start": 0
                },
                "indentation": 2,
                "limitations": [],
                "origin": {
                 "order": 0,
                 "paragraphIndex": 3,
                 "place": "limitationParagraph",
                 "startsNewParagraph": true
                },
                "status": 0,
                "statusText": "Success",
                "text": "a second resource pool including resources that are unassigned."
               }
              ],
              "origin": {
               "order": 0,
               "paragraphIndex": 1,
               "place": "limitationParagraph",
               "startsNewParagraph": true
              },
              "status": 0,
              "statusText": "Success",
              "text": "wherein the resource pool and the additional resource pool comprise one or more of:",
              "whereinClause": {
               "addedLimitationPhrase": null,
               "addingProcessStep": false,
               "isComplete": false,
               "modifyingProcessStep": false,
               "referencedTerm": "the resource pool and the additional resource pool",
               "transitionalPhrase": "comprise one or more of",
               "whereinIndicator": "wherein"
              }
             }
            ],
            "origin": {
             "order": 1,
             "paragraphIndex": 0,
             "place": "preambleParagraph",
             "startsNewParagraph": false
            },
            "status": 0,
            "statusText": "Success",
            "text": "wherein the SCI message dynamically allocates an additional resource pool for the one or more UEs to transmit the control information to the wireless communication device, and",
            "whereinClause": {
             "addingProcessStep": false,
             "isComplete": false,
             "modifyingProcessStep": false,
             "unparsedPhrase": "the SCI message dynamically allocates an additional resource pool for the one or more UEs to transmit the control information to the wireless communication device, and",
             "whereinIndicator": "wherein"
            }
           }
          ],
          "parentClaimNumbers": [
           14
          ],
          "preamble": {
           "documentOrigin": {
            "end": 38,
            "paragraphHash": "3ad1109715e667d49591a51b95db2fa3",
            "paragraphId": "69199849",
            "paragraphIndex": 91,
            "start": 15
           },
           "origin": {
            "order": 0,
            "paragraphIndex": 0,
            "place": "preambleParagraph",
            "startsNewParagraph": true
           },
           "text": "The method of claim 14,"
          },
          "status": 0,
          "statusIndicator": 5,
          "statusText": "Success"
         },
         {
          "claimNumber": 25,
          "claimType": 1,
          "deviceName": {},
          "independentClaim": false,
          "limitations": [
           {
            "documentOrigin": {
             "end": 106,
             "paragraphHash": "0ff25dd06406bdba94774bcd37c4190a",
             "paragraphId": "4DD2BFAA",
             "paragraphIndex": 95,
             "start": 39
            },
            "indentation": 0,
            "limitations": [
             {
              "documentOrigin": {
               "end": 118,
               "paragraphHash": "defe8eeb3c6bf8d450a344c7d5702850",
               "paragraphId": "290FAD15",
               "paragraphIndex": 96,
               "start": 0
              },
              "indentation": 1,
              "limitations": [
               {
                "documentOrigin": {
                 "end": 108,
                 "paragraphHash": "7edb1079a3339703c4aff14497c7bbbf",
                 "paragraphId": "596FCDAD",
                 "paragraphIndex": 97,
                 "start": 0
                },
                "indentation": 2,
                "limitations": [],
                "origin": {
                 "order": 0,
                 "paragraphIndex": 2,
                 "place": "limitationParagraph",
                 "startsNewParagraph": true
                },
                "status": 0,
                "statusText": "Success",
                "text": "wherein the SCI message assigns one or more resources of the subset of the set of pre-assigned resources, or",
                "whereinClause": {
                 "addingProcessStep": false,
                 "isComplete": false,
                 "modifyingProcessStep": false,
                 "unparsedPhrase": "the SCI message assigns one or more resources of the subset of the set of pre-assigned resources, or",
                 "whereinIndicator": "wherein"
                }
               },
               {
                "documentOrigin": {
                 "end": 25,
                 "paragraphHash": "1997d42dbbf7f485254445ca7896e902",
                 "paragraphId": "313257E4",
                 "paragraphIndex": 98,
                 "start": 0
                },
                "indentation": 2,
                "limitations": [],
                "origin": {
                 "order": 0,
                 "paragraphIndex": 3,
                 "place": "limitationParagraph",
                 "startsNewParagraph": true
                },
                "status": 0,
                "statusText": "Success",
                "text": "some combination thereof."
               }
              ],
              "origin": {
               "order": 0,
               "paragraphIndex": 1,
               "place": "limitationParagraph",
               "startsNewParagraph": true
              },
              "status": 0,
              "statusText": "Success",
              "text": "wherein the SCI message cancels one or more assignments associated with a subset of the set of pre-assigned resources,",
              "whereinClause": {
               "addingProcessStep": false,
               "isComplete": false,
               "modifyingProcessStep": false,
               "unparsedPhrase": "the SCI message cancels one or more assignments associated with a subset of the set of pre-assigned resources,",
               "whereinIndicator": "wherein"
              }
             }
            ],
            "origin": {
             "order": 1,
             "paragraphIndex": 0,
             "place": "preambleParagraph",
             "startsNewParagraph": false
            },
            "status": 0,
            "statusText": "Success",
            "text": "wherein the resource pool includes a set of pre-assigned resources,",
            "whereinClause": {
             "addedLimitationPhrase": "a set of pre-assigned resources,",
             "addingProcessStep": false,
             "isComplete": false,
             "modifyingProcessStep": false,
             "referencedTerm": "the resource pool",
             "transitionalPhrase": "includes",
             "whereinIndicator": "wherein"
            }
           }
          ],
          "parentClaimNumbers": [
           14
          ],
          "preamble": {
           "documentOrigin": {
            "end": 38,
            "paragraphHash": "0ff25dd06406bdba94774bcd37c4190a",
            "paragraphId": "4DD2BFAA",
            "paragraphIndex": 95,
            "start": 15
           },
           "origin": {
            "order": 0,
            "paragraphIndex": 0,
            "place": "preambleParagraph",
            "startsNewParagraph": true
           },
           "text": "The method of claim 14,"
          },
          "status": 0,
          "statusIndicator": 5,
          "statusText": "Success"
         },
         {
          "claimNumber": 26,
          "claimType": 1,
          "deviceName": {},
          "independentClaim": false,
          "limitations": [
           {
            "documentOrigin": {
             "end": 96,
             "paragraphHash": "af2ee586dd762eb298cc13417ad5ee56",
             "paragraphId": "267518BF",
             "paragraphIndex": 99,
             "start": 39
            },
            "indentation": 0,
            "limitations": [
             {
              "documentOrigin": {
               "end": 56,
               "paragraphHash": "ffe1251a68a248acf81711eb95fd957e",
               "paragraphId": "75432B87",
               "paragraphIndex": 100,
               "start": 0
              },
              "indentation": 1,
              "limitations": [],
              "origin": {
               "order": 0,
               "paragraphIndex": 1,
               "place": "limitationParagraph",
               "startsNewParagraph": true
              },
              "status": 0,
              "statusText": "Success",
              "text": "one or more scheduling requests for the one or more UEs,"
             },
             {
              "documentOrigin": {
               "end": 58,
               "paragraphHash": "e7f11e7bcd802ef5223ff50ecc88bc13",
               "paragraphId": "2CE9D993",
               "paragraphIndex": 101,
               "start": 0
              },
              "indentation": 1,
              "limitations": [],
              "origin": {
               "order": 0,
               "paragraphIndex": 2,
               "place": "limitationParagraph",
               "startsNewParagraph": true
              },
              "status": 0,
              "statusText": "Success",
              "text": "one or more buffer status reports for the one or more UEs,"
             },
             {
              "documentOrigin": {
               "end": 79,
               "paragraphHash": "4dd5ea3ff3db7256603741330280f75c",
               "paragraphId": "224C95E0",
               "paragraphIndex": 102,
               "start": 0
              },
              "indentation": 1,
              "limitations": [],
              "origin": {
               "order": 0,
               "paragraphIndex": 3,
               "place": "limitationParagraph",
               "startsNewParagraph": true
              },
              "status": 0,
              "statusText": "Success",
              "text": "one or more indications to maintain a configured grant for the one or more UEs,"
             },
             {
              "documentOrigin": {
               "end": 107,
               "paragraphHash": "0848ab6867cc36ec673822ebd3dc4917",
               "paragraphId": "6F1E7210",
               "paragraphIndex": 103,
               "start": 0
              },
              "indentation": 1,
              "limitations": [],
              "origin": {
               "order": 0,
               "paragraphIndex": 4,
               "place": "limitationParagraph",
               "startsNewParagraph": true
              },
              "status": 0,
              "statusText": "Success",
              "text": "information associated with a forward link signal-to-interference-plus-noise ratio for the one or more UEs,"
             },
             {
              "documentOrigin": {
               "end": 67,
               "paragraphHash": "66e32618ac87ad75503bb94d8a368851",
               "paragraphId": "7E0AB8C9",
               "paragraphIndex": 104,
               "start": 0
              },
              "indentation": 1,
              "limitations": [],
              "origin": {
               "order": 0,
               "paragraphIndex": 5,
               "place": "limitationParagraph",
               "startsNewParagraph": true
              },
              "status": 0,
              "statusText": "Success",
              "text": "one or more indications of channel busy ratio (CBR) overloading, or"
             },
             {
              "documentOrigin": {
               "end": 25,
               "paragraphHash": "0b117bab83e5e1b4a664cd502b7c77a9",
               "paragraphId": "7C5FE34A",
               "paragraphIndex": 105,
               "start": 0
              },
              "indentation": 1,
              "limitations": [],
              "origin": {
               "order": 0,
               "paragraphIndex": 6,
               "place": "limitationParagraph",
               "startsNewParagraph": true
              },
              "status": 0,
              "statusText": "Success",
              "text": "some combination thereof."
             }
            ],
            "origin": {
             "order": 1,
             "paragraphIndex": 0,
             "place": "preambleParagraph",
             "startsNewParagraph": false
            },
            "status": 0,
            "statusText": "Success",
            "text": "wherein the control information comprises one or more of:",
            "whereinClause": {
             "addedLimitationPhrase": null,
             "addingProcessStep": false,
             "isComplete": false,
             "modifyingProcessStep": false,
             "referencedTerm": "the control information",
             "transitionalPhrase": "comprises one or more of",
             "whereinIndicator": "wherein"
            }
           }
          ],
          "parentClaimNumbers": [
           14
          ],
          "preamble": {
           "documentOrigin": {
            "end": 38,
            "paragraphHash": "af2ee586dd762eb298cc13417ad5ee56",
            "paragraphId": "267518BF",
            "paragraphIndex": 99,
            "start": 15
           },
           "origin": {
            "order": 0,
            "paragraphIndex": 0,
            "place": "preambleParagraph",
            "startsNewParagraph": true
           },
           "text": "The method of claim 14,"
          },
          "status": 0,
          "statusIndicator": 5,
          "statusText": "Success"
         },
         {
          "claimNumber": 27,
          "claimType": 3,
          "deviceName": {},
          "independentClaim": true,
          "limitations": [
           {
            "documentOrigin": {
             "end": 150,
             "paragraphHash": "bccae4f5bcc323555b9061b1eaa1cca5",
             "paragraphId": "2E2A8B8A",
             "paragraphIndex": 107,
             "start": 0
            },
            "indentation": 0,
            "limitations": [
             {
              "documentOrigin": {
               "end": 425,
               "paragraphHash": "91e64dba70da9f4991c0a92438264393",
               "paragraphId": "3138052D",
               "paragraphIndex": 108,
               "start": 0
              },
              "indentation": 1,
              "limitations": [],
              "origin": {
               "order": 0,
               "paragraphIndex": 2,
               "place": "limitationParagraph",
               "startsNewParagraph": true
              },
              "processStep": {
               "directObject": "a sidelink control information (SCI) message that dynamically allocates a resource pool configured for polled control information, the resource pool being configured for one or more user equipment (UEs) to transmit control information to the wireless communication device when polled to transmit the control information; and",
               "verbPhrase": {
                "gerund": "transmitting",
                "infinitive": "transmit",
                "original": "transmit",
                "past": "transmitted"
               }
              },
              "status": 0,
              "statusText": "Success",
              "text": "transmit a sidelink control information (SCI) message that dynamically allocates a resource pool configured for polled control information, the resource pool being configured for one or more user equipment (UEs) to transmit control information to the wireless communication device when polled to transmit the control information; and"
             },
             {
              "documentOrigin": {
               "end": 127,
               "paragraphHash": "05744ae579b307d17bf5142f6a9dc5ca",
               "paragraphId": "4D2B533B",
               "paragraphIndex": 109,
               "start": 0
              },
              "indentation": 1,
              "limitations": [],
              "origin": {
               "order": 0,
               "paragraphIndex": 3,
               "place": "limitationParagraph",
               "startsNewParagraph": true
              },
              "processStep": {
               "directObject": "the control information, via the resource pool and based at least in part on the SCI message, from the one or more UEs.",
               "verbPhrase": {
                "gerund": "receiving",
                "infinitive": "receive",
                "original": "receive",
                "past": "received"
               }
              },
              "status": 0,
              "statusText": "Success",
              "text": "receive the control information, via the resource pool and based at least in part on the SCI message, from the one or more UEs."
             }
            ],
            "origin": {
             "order": 0,
             "paragraphIndex": 1,
             "place": "limitationParagraph",
             "startsNewParagraph": true
            },
            "status": 0,
            "statusText": "Success",
            "text": "one or more instructions that, when executed by one or more processors of a wireless communication device, cause the wireless communication device to:"
           }
          ],
          "parentClaimNumbers": [],
          "preamble": {
           "documentOrigin": {
            "end": 159,
            "paragraphHash": "3f3dec5a1c44407109194de42171c845",
            "paragraphId": "521296A8",
            "paragraphIndex": 106,
            "start": 24
           },
           "origin": {
            "order": 0,
            "paragraphIndex": 0,
            "place": "preambleParagraph",
            "startsNewParagraph": true
           },
           "text": "A non-transitory computer-readable medium storing a set of instructions for wireless communication, the set of instructions comprising:"
          },
          "status": 0,
          "statusIndicator": 1,
          "statusText": "Success"
         },
         {
          "claimNumber": 28,
          "claimType": 3,
          "deviceName": {},
          "independentClaim": false,
          "limitations": [
           {
            "documentOrigin": {
             "end": 228,
             "paragraphHash": "885fb31182cc9298513e24020377a3b1",
             "paragraphId": "2DCB6199",
             "paragraphIndex": 110,
             "start": 72
            },
            "indentation": 0,
            "limitations": [
             {
              "documentOrigin": {
               "end": 144,
               "paragraphHash": "9ad5dedc427c9d7e6c7d0b320547f4bf",
               "paragraphId": "6E6BFE20",
               "paragraphIndex": 111,
               "start": 0
              },
              "indentation": 1,
              "limitations": [
               {
                "documentOrigin": {
                 "end": 96,
                 "paragraphHash": "9a2cbe6a4028aaf7e475624d071d6ef8",
                 "paragraphId": "4000FFC5",
                 "paragraphIndex": 112,
                 "start": 0
                },
                "indentation": 2,
                "limitations": [],
                "origin": {
                 "order": 0,
                 "paragraphIndex": 2,
                 "place": "limitationParagraph",
                 "startsNewParagraph": true
                },
                "status": 0,
                "statusText": "Success",
                "text": "wherein the resource pool is orthogonal to a physical sidelink feedback channel (PSFCH) pool, or",
                "whereinClause": {
                 "addingProcessStep": false,
                 "isComplete": false,
                 "modifyingProcessStep": false,
                 "unparsedPhrase": "the resource pool is orthogonal to a physical sidelink feedback channel (PSFCH) pool, or",
                 "whereinIndicator": "wherein"
                }
               },
               {
                "documentOrigin": {
                 "end": 25,
                 "paragraphHash": "0b626da7545d4d9420b3350303c335bf",
                 "paragraphId": "01610302",
                 "paragraphIndex": 113,
                 "start": 0
                },
                "indentation": 2,
                "limitations": [],
                "origin": {
                 "order": 0,
                 "paragraphIndex": 3,
                 "place": "limitationParagraph",
                 "startsNewParagraph": true
                },
                "status": 0,
                "statusText": "Success",
                "text": "some combination thereof."
               }
              ],
              "origin": {
               "order": 0,
               "paragraphIndex": 1,
               "place": "limitationParagraph",
               "startsNewParagraph": true
              },
              "status": 0,
              "statusText": "Success",
              "text": "wherein the resource pool is configured with multiple single-resource-block-per-symbol portions to carry the sequence-based control information,",
              "whereinClause": {
               "addingProcessStep": false,
               "isComplete": false,
               "modifyingProcessStep": false,
               "unparsedPhrase": "the resource pool is configured with multiple single-resource-block-per-symbol portions to carry the sequence-based control information,",
               "whereinIndicator": "wherein"
              }
             }
            ],
            "origin": {
             "order": 1,
             "paragraphIndex": 0,
             "place": "preambleParagraph",
             "startsNewParagraph": false
            },
            "status": 0,
            "statusText": "Success",
            "text": "wherein the resource pool comprises orthogonal resource units configured to be shared by the one or more UEs to transmit sequence-based control information,",
            "whereinClause": {
             "addedLimitationPhrase": "orthogonal resource units configured to be shared by the one or more UEs to transmit sequence-based control information,",
             "addingProcessStep": false,
             "isComplete": false,
             "modifyingProcessStep": false,
             "referencedTerm": "the resource pool",
             "transitionalPhrase": "comprises",
             "whereinIndicator": "wherein"
            }
           }
          ],
          "parentClaimNumbers": [
           27
          ],
          "preamble": {
           "documentOrigin": {
            "end": 71,
            "paragraphHash": "885fb31182cc9298513e24020377a3b1",
            "paragraphId": "2DCB6199",
            "paragraphIndex": 110,
            "start": 15
           },
           "origin": {
            "order": 0,
            "paragraphIndex": 0,
            "place": "preambleParagraph",
            "startsNewParagraph": true
           },
           "text": "The non-transitory computer-readable medium of claim 27,"
          },
          "status": 0,
          "statusIndicator": 5,
          "statusText": "Success"
         },
         {
          "claimNumber": 29,
          "claimType": 5,
          "deviceName": {},
          "independentClaim": true,
          "limitations": [
           {
            "documentOrigin": {
             "end": 419,
             "paragraphHash": "9942594c8c6c0bf7a93181f8942c6b60",
             "paragraphId": "1D0E14C1",
             "paragraphIndex": 115,
             "start": 0
            },
            "indentation": 0,
            "limitations": [],
            "origin": {
             "order": 0,
             "paragraphIndex": 1,
             "place": "limitationParagraph",
             "startsNewParagraph": true
            },
            "processStep": {
             "directObject": "a sidelink control information (SCI) message that dynamically allocates a resource pool configured for polled control information, the resource pool being configured for one or more user equipment (UEs) to transmit control information to the apparatus when polled to transmit the control information; and",
             "verbPhrase": {
              "gerund": "transmitting",
              "infinitive": "transmit",
              "original": "transmitting",
              "past": "transmitted"
             }
            },
            "status": 0,
            "statusText": "Success",
            "text": "means for transmitting a sidelink control information (SCI) message that dynamically allocates a resource pool configured for polled control information, the resource pool being configured for one or more user equipment (UEs) to transmit control information to the apparatus when polled to transmit the control information; and"
           },
           {
            "documentOrigin": {
             "end": 139,
             "paragraphHash": "360c8e665b0cdb61ff6b51691a207957",
             "paragraphId": "403EFDBD",
             "paragraphIndex": 116,
             "start": 0
            },
            "indentation": 0,
            "limitations": [],
            "origin": {
             "order": 0,
             "paragraphIndex": 2,
             "place": "limitationParagraph",
             "startsNewParagraph": true
            },
            "processStep": {
             "directObject": "the control information, via the resource pool and based at least in part on the SCI message, from the one or more UEs.",
             "verbPhrase": {
              "gerund": "receiving",
              "infinitive": "receive",
              "original": "receiving",
              "past": "received"
             }
            },
            "status": 0,
            "statusText": "Success",
            "text": "means for receiving the control information, via the resource pool and based at least in part on the SCI message, from the one or more UEs."
           }
          ],
          "parentClaimNumbers": [],
          "preamble": {
           "documentOrigin": {
            "end": 76,
            "paragraphHash": "a5dc401df7f663b60862807541b9bc3f",
            "paragraphId": "4F9187A8",
            "paragraphIndex": 114,
            "start": 24
           },
           "origin": {
            "order": 0,
            "paragraphIndex": 0,
            "place": "preambleParagraph",
            "startsNewParagraph": true
           },
           "text": "An apparatus for wireless communication, comprising:"
          },
          "status": 0,
          "statusIndicator": 1,
          "statusText": "Success"
         },
         {
          "claimNumber": 30,
          "claimType": 5,
          "deviceName": {},
          "independentClaim": false,
          "limitations": [
           {
            "documentOrigin": {
             "end": 198,
             "paragraphHash": "83b455f2a532c01555a71ae064868eca",
             "paragraphId": "4BE31546",
             "paragraphIndex": 117,
             "start": 42
            },
            "indentation": 0,
            "limitations": [
             {
              "documentOrigin": {
               "end": 144,
               "paragraphHash": "9ad5dedc427c9d7e6c7d0b320547f4bf",
               "paragraphId": "61B3FC50",
               "paragraphIndex": 118,
               "start": 0
              },
              "indentation": 1,
              "limitations": [
               {
                "documentOrigin": {
                 "end": 96,
                 "paragraphHash": "9a2cbe6a4028aaf7e475624d071d6ef8",
                 "paragraphId": "50E379C1",
                 "paragraphIndex": 119,
                 "start": 0
                },
                "indentation": 2,
                "limitations": [],
                "origin": {
                 "order": 0,
                 "paragraphIndex": 2,
                 "place": "limitationParagraph",
                 "startsNewParagraph": true
                },
                "status": 0,
                "statusText": "Success",
                "text": "wherein the resource pool is orthogonal to a physical sidelink feedback channel (PSFCH) pool, or",
                "whereinClause": {
                 "addingProcessStep": false,
                 "isComplete": false,
                 "modifyingProcessStep": false,
                 "unparsedPhrase": "the resource pool is orthogonal to a physical sidelink feedback channel (PSFCH) pool, or",
                 "whereinIndicator": "wherein"
                }
               },
               {
                "documentOrigin": {
                 "end": 25,
                 "paragraphHash": "0b626da7545d4d9420b3350303c335bf",
                 "paragraphId": "41C2C225",
                 "paragraphIndex": 120,
                 "start": 0
                },
                "indentation": 2,
                "limitations": [],
                "origin": {
                 "order": 0,
                 "paragraphIndex": 3,
                 "place": "limitationParagraph",
                 "startsNewParagraph": true
                },
                "status": 0,
                "statusText": "Success",
                "text": "some combination thereof."
               }
              ],
              "origin": {
               "order": 0,
               "paragraphIndex": 1,
               "place": "limitationParagraph",
               "startsNewParagraph": true
              },
              "status": 0,
              "statusText": "Success",
              "text": "wherein the resource pool is configured with multiple single-resource-block-per-symbol portions to carry the sequence-based control information,",
              "whereinClause": {
               "addingProcessStep": false,
               "isComplete": false,
               "modifyingProcessStep": false,
               "unparsedPhrase": "the resource pool is configured with multiple single-resource-block-per-symbol portions to carry the sequence-based control information,",
               "whereinIndicator": "wherein"
              }
             }
            ],
            "origin": {
             "order": 1,
             "paragraphIndex": 0,
             "place": "preambleParagraph",
             "startsNewParagraph": false
            },
            "status": 0,
            "statusText": "Success",
            "text": "wherein the resource pool comprises orthogonal resource units configured to be shared by the one or more UEs to transmit sequence-based control information,",
            "whereinClause": {
             "addedLimitationPhrase": "orthogonal resource units configured to be shared by the one or more UEs to transmit sequence-based control information,",
             "addingProcessStep": false,
             "isComplete": false,
             "modifyingProcessStep": false,
             "referencedTerm": "the resource pool",
             "transitionalPhrase": "comprises",
             "whereinIndicator": "wherein"
            }
           }
          ],
          "parentClaimNumbers": [
           29
          ],
          "preamble": {
           "documentOrigin": {
            "end": 41,
            "paragraphHash": "83b455f2a532c01555a71ae064868eca",
            "paragraphId": "4BE31546",
            "paragraphIndex": 117,
            "start": 15
           },
           "origin": {
            "order": 0,
            "paragraphIndex": 0,
            "place": "preambleParagraph",
            "startsNewParagraph": true
           },
           "text": "The apparatus of claim 29,"
          },
          "status": 0,
          "statusIndicator": 5,
          "statusText": "Success"
         }
        ],
        "heading": {
         "length": 1,
         "paragraph": {
          "deletions": [],
          "documentOrigin": {
           "end": 18,
           "paragraphHash": "e3355aa54a35648e04ad7e7181ea52b7",
           "paragraphId": "01167D0A",
           "paragraphIndex": 13,
           "start": 0
          },
          "text": "Listing of Claims:"
         },
         "wordsCount": 3
        },
        "name": "claims",
        "sectionOrigin": {
         "end": 120,
         "start": 13
        }
       },
       "specification": {
        "sections": [
         {
          "body": {
           "length": 8,
           "paragraphs": [
            {
             "deletions": [],
             "documentOrigin": {
              "end": 22,
              "paragraphHash": "43b0dfb82a7e191d14256c2a20c020ae",
              "paragraphId": "7A6E8AAA",
              "paragraphIndex": 3,
              "start": 0
             },
             "text": "First Named Inventor: "
            },
            {
             "deletions": [],
             "documentOrigin": {
              "end": 11,
              "paragraphHash": "bb35f2b5314b958492224717cc04ec64",
              "paragraphId": "712F7F8E",
              "paragraphIndex": 4,
              "start": 0
             },
             "text": "Yisheng XUE"
            },
            {
             "deletions": [],
             "documentOrigin": {
              "end": 28,
              "paragraphHash": "93443f7d252c656f1a5339ffe3489843",
              "paragraphId": "53111442",
              "paragraphIndex": 5,
              "start": 0
             },
             "text": "Application No.:  17/302,289"
            },
            {
             "deletions": [],
             "documentOrigin": {
              "end": 22,
              "paragraphHash": "a4edfd06f6b711b010f5cdaebe65f41f",
              "paragraphId": "71F20B14",
              "paragraphIndex": 6,
              "start": 0
             },
             "text": "Filed:  April 29, 2021"
            },
            {
             "deletions": [],
             "documentOrigin": {
              "end": 23,
              "paragraphHash": "502e7ebd8d37a99d7b15da6520423860",
              "paragraphId": "2EF4C7B4",
              "paragraphIndex": 7,
              "start": 0
             },
             "text": "Confirmation No.:  1373"
            },
            {
             "deletions": [],
             "documentOrigin": {
              "end": 67,
              "paragraphHash": "43dba123e7b534f2301a4e3e22fd737d",
              "paragraphId": "40DB4D48",
              "paragraphIndex": 8,
              "start": 0
             },
             "text": "For:  CONTROL INFORMATION TRANSMISSIONS FOR SIDE-LINK COMMUNICATION"
            },
            {
             "deletions": [],
             "documentOrigin": {
              "end": 8,
              "paragraphHash": "c156d737a55c0ef4cdb816ba76a037bd",
              "paragraphId": "64351CAE",
              "paragraphIndex": 9,
              "start": 0
             },
             "text": "RESPONSE"
            },
            {
             "deletions": [],
             "documentOrigin": {
              "end": 165,
              "paragraphHash": "f89a390cc5267874c3d067736c77e200",
              "paragraphId": "5991F53C",
              "paragraphIndex": 10,
              "start": 0
             },
             "text": "In response to the final Office Action, dated March 7, 2023, Applicant timely submits this response.  Early and favorable reconsideration are respectfully requested."
            }
           ],
           "sectionOrigin": {
            "end": 10,
            "start": 3
           },
           "wordsCount": 47
          },
          "heading": {
           "length": 1,
           "paragraph": {
            "deletions": [],
            "documentOrigin": {
             "end": 48,
             "paragraphHash": "f816d971eab3df7451d736e45cb53d5d",
             "paragraphId": "56DED9C5",
             "paragraphIndex": 2,
             "start": 0
            },
            "text": "IN THE UNITED STATES PATENT AND TRADEMARK OFFICE"
           },
           "wordsCount": 8
          },
          "name": "CoverPage",
          "sectionOrigin": {
           "end": 10,
           "start": 2
          },
          "subsections": [
           {
            "body": {
             "length": 1,
             "paragraphs": [
              {
               "deletions": [],
               "documentOrigin": {
                "end": 165,
                "paragraphHash": "f89a390cc5267874c3d067736c77e200",
                "paragraphId": "5991F53C",
                "paragraphIndex": 10,
                "start": 0
               },
               "text": "In response to the final Office Action, dated March 7, 2023, Applicant timely submits this response.  Early and favorable reconsideration are respectfully requested."
              }
             ],
             "sectionOrigin": {
              "end": 10,
              "start": 10
             },
             "wordsCount": 23
            },
            "heading": {
             "length": 1,
             "paragraph": {
              "deletions": [],
              "documentOrigin": {
               "end": 8,
               "paragraphHash": "c156d737a55c0ef4cdb816ba76a037bd",
               "paragraphId": "64351CAE",
               "paragraphIndex": 9,
               "start": 0
              },
              "text": "RESPONSE"
             },
             "wordsCount": 1
            },
            "name": "Title",
            "sectionOrigin": {
             "end": 10,
             "start": 9
            },
            "type": 8
           }
          ],
          "type": 10
         },
         {
          "body": {
           "length": 109,
           "paragraphs": [
            {
             "deletions": [],
             "documentOrigin": {
              "end": 100,
              "paragraphHash": "28576c2a724391dfd3441b3d9ad4d0f9",
              "paragraphId": "2BCA0B0B",
              "paragraphIndex": 12,
              "start": 0
             },
             "text": "\tThis listing of claims will replace all prior versions, and listings, of claims in the application:"
            },
            {
             "deletions": [],
             "documentOrigin": {
              "end": 18,
              "paragraphHash": "e3355aa54a35648e04ad7e7181ea52b7",
              "paragraphId": "01167D0A",
              "paragraphIndex": 13,
              "start": 0
             },
             "text": "Listing of Claims:"
            },
            {
             "deletions": [],
             "documentOrigin": {
              "end": 95,
              "paragraphHash": "fc25688f6d5539222dffb93ced886620",
              "paragraphId": "40005B79",
              "paragraphIndex": 14,
              "start": 0
             },
             "text": " 1.\t(Currently Amended) A wireless communication device for wireless communication, comprising:"
            },
            {
             "deletions": [],
             "documentOrigin": {
              "end": 13,
              "paragraphHash": "4a6caf7b8262f73f7fbedd5955e8aa83",
              "paragraphId": "68C1FCB5",
              "paragraphIndex": 15,
              "start": 0
             },
             "text": "a memory; and"
            },
            {
             "deletions": [],
             "documentOrigin": {
              "end": 61,
              "paragraphHash": "8f67938a3ecb0274c5fe211660d2ed18",
              "paragraphId": "75089E17",
              "paragraphIndex": 16,
              "start": 0
             },
             "text": "one or more processors, coupled to the memory, configured to:"
            },
            {
             "deletions": [
              {
               "length": 92,
               "start": 328
              }
             ],
             "documentOrigin": {
              "end": 425,
              "paragraphHash": "91e64dba70da9f4991c0a92438264393",
              "paragraphId": "66A5DF99",
              "paragraphIndex": 17,
              "start": 0
             },
             "text": "transmit a sidelink control information (SCI) message that dynamically allocates a resource pool configured for polled control information, the resource pool being configured for one or more user equipment (UEs) to transmit control information to the wireless communication device when polled to transmit the control information; and"
            },
            {
             "deletions": [],
             "documentOrigin": {
              "end": 127,
              "paragraphHash": "05744ae579b307d17bf5142f6a9dc5ca",
              "paragraphId": "047FEB8B",
              "paragraphIndex": 18,
              "start": 0
             },
             "text": "receive the control information, via the resource pool and based at least in part on the SCI message, from the one or more UEs."
            },
            {
             "deletions": [
              {
               "length": 11,
               "start": 3
              }
             ],
             "documentOrigin": {
              "end": 216,
              "paragraphHash": "f4d38c5268a8bf17ef510e424d7ab299",
              "paragraphId": "3EC30B58",
              "paragraphIndex": 19,
              "start": 0
             },
             "text": "2.\tThe wireless communication device of claim 1, wherein the resource pool comprises orthogonal resource units configured to be shared by the one or more UEs to transmit sequence-based control information,"
            },
            {
             "deletions": [],
             "documentOrigin": {
              "end": 144,
              "paragraphHash": "9ad5dedc427c9d7e6c7d0b320547f4bf",
              "paragraphId": "5B970955",
              "paragraphIndex": 20,
              "start": 0
             },
             "text": "wherein the resource pool is configured with multiple single-resource-block-per-symbol portions to carry the sequence-based control information,"
            },
            {
             "deletions": [],
             "documentOrigin": {
              "end": 96,
              "paragraphHash": "9a2cbe6a4028aaf7e475624d071d6ef8",
              "paragraphId": "4C4DDDF7",
              "paragraphIndex": 21,
              "start": 0
             },
             "text": "wherein the resource pool is orthogonal to a physical sidelink feedback channel (PSFCH) pool, or"
            },
            {
             "deletions": [],
             "documentOrigin": {
              "end": 25,
              "paragraphHash": "0b626da7545d4d9420b3350303c335bf",
              "paragraphId": "62492FA2",
              "paragraphIndex": 22,
              "start": 0
             },
             "text": "some combination thereof."
            },
            {
             "deletions": [
              {
               "length": 23,
               "start": 3
              }
             ],
             "documentOrigin": {
              "end": 171,
              "paragraphHash": "a9d3694041904d13b3b4a7eb8394edfe",
              "paragraphId": "42F3AC47",
              "paragraphIndex": 23,
              "start": 0
             },
             "text": "3.\tThe wireless communication device of claim 2, wherein the resource pool is orthogonal to the PSFCH pool based at least in part on one or more of:"
            },
            {
             "deletions": [],
             "documentOrigin": {
              "end": 112,
              "paragraphHash": "e5e9f09dbcd121e392acf4d60673649f",
              "paragraphId": "1924F4FD",
              "paragraphIndex": 24,
              "start": 0
             },
             "text": "an allocation of the resource pool to one or more symbols that are earlier within a slot than the PSFCH pool, or"
            },
            {
             "deletions": [],
             "documentOrigin": {
              "end": 95,
              "paragraphHash": "91b70a61f59d183aaa8ec61b4eee1b65",
              "paragraphId": "39D7558B",
              "paragraphIndex": 25,
              "start": 0
             },
             "text": "an allocation of the resource pool in place of the PSFCH pool in a slot without the PSFCH pool."
            },
            {
             "deletions": [
              {
               "length": 20,
               "start": 3
              }
             ],
             "documentOrigin": {
              "end": 152,
              "paragraphHash": "b73326c19d12cf49250a9ab06cad67bd",
              "paragraphId": "42F73F31",
              "paragraphIndex": 26,
              "start": 0
             },
             "text": "4.\tThe wireless communication device of claim 1, wherein the one or more processors, to transmit the SCI message, are configured to:"
            },
            {
             "deletions": [],
             "documentOrigin": {
              "end": 81,
              "paragraphHash": "5bd112e8834607dc796b1ba6cca38ba3",
              "paragraphId": "22402114",
              "paragraphIndex": 27,
              "start": 0
             },
             "text": "transmit, to a set of UEs that includes the one or more UEs, a stage one SCI, and"
            },
            {
             "deletions": [],
             "documentOrigin": {
              "end": 137,
              "paragraphHash": "c3f63068cfe37e19f9488c4329056973",
              "paragraphId": "1141D3C9",
              "paragraphIndex": 28,
              "start": 0
             },
             "text": "transmit, to the one or more UEs, a stage two SCI that includes [[the]] information for polling for transmitting the control information."
            },
            {
             "deletions": [
              {
               "length": 20,
               "start": 3
              }
             ],
             "documentOrigin": {
              "end": 310,
              "paragraphHash": "01667a326ec956eb60bd54483b715168",
              "paragraphId": "6835C476",
              "paragraphIndex": 29,
              "start": 0
             },
             "text": "5.\tThe wireless communication device of claim 1, wherein a stage one SCI of the SCI message includes an indication, to a set of UEs that includes the one or more UEs, that a second portion of the SCI message includes [[the]] information for polling for transmitting the control information."
            },
            {
             "deletions": [
              {
               "length": 11,
               "start": 3
              }
             ],
             "documentOrigin": {
              "end": 143,
              "paragraphHash": "55953c83e9bd89fd53655b470c4aaa61",
              "paragraphId": "3F9EE34D",
              "paragraphIndex": 30,
              "start": 0
             },
             "text": "6.\tThe wireless communication device of claim 1, wherein the one or more processors, to transmit the SCI message, are configured to:"
            },
            {
             "deletions": [],
             "documentOrigin": {
              "end": 78,
              "paragraphHash": "9ccadffedbff1335b13dece7c266e15c",
              "paragraphId": "4D82E5E7",
              "paragraphIndex": 31,
              "start": 0
             },
             "text": "transmit the SCI message within a physical sidelink shared channel (PSSCH), or"
            },
            {
             "deletions": [],
             "documentOrigin": {
              "end": 157,
              "paragraphHash": "060bc1c5bc18963818157366c0972bb0",
              "paragraphId": "31BA9C18",
              "paragraphIndex": 32,
              "start": 0
             },
             "text": "transmit the SCI message with a first stage two SCI that is associated with a PSSCH transmission and a second stage two SCI that allocates the resource pool."
            },
            {
             "deletions": [
              {
               "length": 11,
               "start": 3
              }
             ],
             "documentOrigin": {
              "end": 109,
              "paragraphHash": "99bbc1f5043974979ce994b166683892",
              "paragraphId": "163C5FAD",
              "paragraphIndex": 33,
              "start": 0
             },
             "text": "7.\tThe wireless communication device of claim 1, wherein the SCI message comprises one or more of:"
            },
            {
             "deletions": [],
             "documentOrigin": {
              "end": 76,
              "paragraphHash": "e2fdfa44abb3213e234ae5271163547b",
              "paragraphId": "252F2520",
              "paragraphIndex": 34,
              "start": 0
             },
             "text": "an allocation of the resource pool within a same slot as the SCI message, or"
            },
            {
             "deletions": [],
             "documentOrigin": {
              "end": 60,
              "paragraphHash": "753c210ac60aa6adfb254a3649ccacbc",
              "paragraphId": "1CAFF5B9",
              "paragraphIndex": 35,
              "start": 0
             },
             "text": "an allocation of the resource pool within a subsequent slot."
            },
            {
             "deletions": [
              {
               "length": 11,
               "start": 3
              }
             ],
             "documentOrigin": {
              "end": 96,
              "paragraphHash": "cdac531e09adf81a846a597a7167e593",
              "paragraphId": "34424917",
              "paragraphIndex": 36,
              "start": 0
             },
             "text": "8.\tThe wireless communication device of claim 1, wherein the resource pool comprises:"
            },
            {
             "deletions": [],
             "documentOrigin": {
              "end": 115,
              "paragraphHash": "2ba369c2cbc58c1692c6c72dfb0ae4cb",
              "paragraphId": "6DFABB50",
              "paragraphIndex": 37,
              "start": 0
             },
             "text": "one or more resources that have been assigned, to the one or more UEs, previous to transmission of the SCI message."
            },
            {
             "deletions": [
              {
               "length": 11,
               "start": 3
              }
             ],
             "documentOrigin": {
              "end": 113,
              "paragraphHash": "913f2d9f0d669694cc1e853da87ad1e3",
              "paragraphId": "2231EF36",
              "paragraphIndex": 38,
              "start": 0
             },
             "text": "9.\tThe wireless communication device of claim 1, wherein the resource pool is a dynamic resource pool,"
            },
            {
             "deletions": [],
             "documentOrigin": {
              "end": 180,
              "paragraphHash": "6956adc1dbfbabe71008c15b881c825f",
              "paragraphId": "70B2A61C",
              "paragraphIndex": 39,
              "start": 0
             },
             "text": "wherein the SCI message indicates, to a set of UEs that includes the one or more UEs, that the one or more UEs are polled to transmit the control information via the resource pool,"
            },
            {
             "deletions": [],
             "documentOrigin": {
              "end": 173,
              "paragraphHash": "2270add13219fb762ed1be9ec38466e0",
              "paragraphId": "109B628E",
              "paragraphIndex": 40,
              "start": 0
             },
             "text": "wherein the SCI message indicates an allocation of resources, within the resource pool, for respective UEs of the one or more UEs to use to transmit the control information,"
            },
            {
             "deletions": [],
             "documentOrigin": {
              "end": 132,
              "paragraphHash": "48c5ac3eab359bd5cc22a14be227c862",
              "paragraphId": "3420A818",
              "paragraphIndex": 41,
              "start": 0
             },
             "text": "wherein the SCI message indicates sequences for respective UEs of the one or more UEs to use to transmit the control information, or"
            },
            {
             "deletions": [],
             "documentOrigin": {
              "end": 25,
              "paragraphHash": "e1708215da4e221897e81bc258d3b1e2",
              "paragraphId": "63DD77A2",
              "paragraphIndex": 42,
              "start": 0
             },
             "text": "some combination thereof."
            },
            {
             "deletions": [
              {
               "length": 11,
               "start": 4
              }
             ],
             "documentOrigin": {
              "end": 263,
              "paragraphHash": "95285e536e1d87f539c73313eb65cc63",
              "paragraphId": "312C386B",
              "paragraphIndex": 43,
              "start": 0
             },
             "text": "10.\tThe wireless communication device of claim 1, wherein the SCI message includes an indication of an assignment, for at least one UE of the one or more UEs, of one or more resources within the resource pool to use to transmit the control information,"
            },
            {
             "deletions": [],
             "documentOrigin": {
              "end": 118,
              "paragraphHash": "7f9ed708064d4821bfb6d4de3c1aea4f",
              "paragraphId": "087D207D",
              "paragraphIndex": 44,
              "start": 0
             },
             "text": "wherein the indication of the assignment comprises a bitmap having a bit mapped to each UE of the one or more UEs, and"
            },
            {
             "deletions": [],
             "documentOrigin": {
              "end": 123,
              "paragraphHash": "e35f477890cc9414d7975dac259a8c5a",
              "paragraphId": "4354170E",
              "paragraphIndex": 45,
              "start": 0
             },
             "text": "wherein the bitmap indicates that the at least one UE of the one or more UEs is polled to transmit the control information."
            },
            {
             "deletions": [
              {
               "length": 11,
               "start": 4
              }
             ],
             "documentOrigin": {
              "end": 236,
              "paragraphHash": "8a580a1311a4b19137f554317046a203",
              "paragraphId": "4029EA30",
              "paragraphIndex": 46,
              "start": 0
             },
             "text": "11.\tThe wireless communication device of claim 1, wherein the SCI message dynamically allocates an additional resource pool for the one or more UEs to transmit the control information to the wireless communication device, and"
            },
            {
             "deletions": [],
             "documentOrigin": {
              "end": 83,
              "paragraphHash": "92a46d16d42a12abbe52daf5f53a0a57",
              "paragraphId": "230A0423",
              "paragraphIndex": 47,
              "start": 0
             },
             "text": "wherein the resource pool and the additional resource pool comprise one or more of:"
            },
            {
             "deletions": [],
             "documentOrigin": {
              "end": 102,
              "paragraphHash": "c637ed80f8e0e4a585a5f09e539db3bf",
              "paragraphId": "524D7E3E",
              "paragraphIndex": 48,
              "start": 0
             },
             "text": "a first resource pool including only resources that are previously assigned to the one or more UEs, or"
            },
            {
             "deletions": [],
             "documentOrigin": {
              "end": 63,
              "paragraphHash": "b39566aabcb3fcd5997e1e9a9af7daa7",
              "paragraphId": "01F0EDF7",
              "paragraphIndex": 49,
              "start": 0
             },
             "text": "a second resource pool including resources that are unassigned."
            },
            {
             "deletions": [
              {
               "length": 11,
               "start": 4
              }
             ],
             "documentOrigin": {
              "end": 128,
              "paragraphHash": "2e65a4af0d330766756f01598e5ac3d1",
              "paragraphId": "129A13A7",
              "paragraphIndex": 50,
              "start": 0
             },
             "text": "12.\tThe wireless communication device of claim 1, wherein the resource pool includes a set of pre-assigned resources,"
            },
            {
             "deletions": [],
             "documentOrigin": {
              "end": 118,
              "paragraphHash": "27fc45b6324648106ed1a779819ad236",
              "paragraphId": "3BF09827",
              "paragraphIndex": 51,
              "start": 0
             },
             "text": "wherein the SCI message cancels one or more assignments associated with a subset of the set of pre-assigned resources,"
            },
            {
             "deletions": [],
             "documentOrigin": {
              "end": 108,
              "paragraphHash": "34915c81a3dc8a09a117a86d17a06a85",
              "paragraphId": "1809E9A3",
              "paragraphIndex": 52,
              "start": 0
             },
             "text": "wherein the SCI message assigns one or more resources of the subset of the set of pre-assigned resources, or"
            },
            {
             "deletions": [],
             "documentOrigin": {
              "end": 25,
              "paragraphHash": "0b626da7545d4d9420b3350303c335bf",
              "paragraphId": "4F54C10B",
              "paragraphIndex": 53,
              "start": 0
             },
             "text": "some combination thereof."
            },
            {
             "deletions": [
              {
               "length": 11,
               "start": 4
              }
             ],
             "documentOrigin": {
              "end": 118,
              "paragraphHash": "dce5e51ae894ee006ed26293f1b053cc",
              "paragraphId": "7458CC9F",
              "paragraphIndex": 54,
              "start": 0
             },
             "text": "13.\tThe wireless communication device of claim 1, wherein the control information comprises one or more of:"
            },
            {
             "deletions": [],
             "documentOrigin": {
              "end": 56,
              "paragraphHash": "ffe1251a68a248acf81711eb95fd957e",
              "paragraphId": "0DAEF37D",
              "paragraphIndex": 55,
              "start": 0
             },
             "text": "one or more scheduling requests for the one or more UEs,"
            },
            {
             "deletions": [],
             "documentOrigin": {
              "end": 58,
              "paragraphHash": "e7f11e7bcd802ef5223ff50ecc88bc13",
              "paragraphId": "0BBFCDDE",
              "paragraphIndex": 56,
              "start": 0
             },
             "text": "one or more buffer status reports for the one or more UEs,"
            },
            {
             "deletions": [],
             "documentOrigin": {
              "end": 79,
              "paragraphHash": "4dd5ea3ff3db7256603741330280f75c",
              "paragraphId": "58496DC0",
              "paragraphIndex": 57,
              "start": 0
             },
             "text": "one or more indications to maintain a configured grant for the one or more UEs,"
            },
            {
             "deletions": [],
             "documentOrigin": {
              "end": 107,
              "paragraphHash": "0848ab6867cc36ec673822ebd3dc4917",
              "paragraphId": "1404501F",
              "paragraphIndex": 58,
              "start": 0
             },
             "text": "information associated with a forward link signal-to-interference-plus-noise ratio for the one or more UEs,"
            },
            {
             "deletions": [],
             "documentOrigin": {
              "end": 67,
              "paragraphHash": "66e32618ac87ad75503bb94d8a368851",
              "paragraphId": "048261EC",
              "paragraphIndex": 59,
              "start": 0
             },
             "text": "one or more indications of channel busy ratio (CBR) overloading, or"
            },
            {
             "deletions": [],
             "documentOrigin": {
              "end": 25,
              "paragraphHash": "1997d42dbbf7f485254445ca7896e902",
              "paragraphId": "18F3581A",
              "paragraphIndex": 60,
              "start": 0
             },
             "text": "some combination thereof."
            },
            {
             "deletions": [
              {
               "length": 20,
               "start": 4
              }
             ],
             "documentOrigin": {
              "end": 116,
              "paragraphHash": "3e4a391f3fa3b3c7b55ecff7981d9818",
              "paragraphId": "52336CD7",
              "paragraphIndex": 61,
              "start": 0
             },
             "text": "14.\tA method of wireless communication performed by a wireless communication device, comprising:"
            },
            {
             "deletions": [
              {
               "length": 92,
               "start": 332
              }
             ],
             "documentOrigin": {
              "end": 429,
              "paragraphHash": "12b16e73d81f7c129c89b482a0025ae5",
              "paragraphId": "19E34D6C",
              "paragraphIndex": 62,
              "start": 0
             },
             "text": "transmitting a sidelink control information (SCI) message that dynamically allocates a resource pool configured for polled control information, the resource pool being configured for one or more user equipment (UEs) to transmit control information to the wireless communication device when polled to transmit the control information; and"
            },
            {
             "deletions": [],
             "documentOrigin": {
              "end": 129,
              "paragraphHash": "f242025dc9382a2dcd9c2ac785351575",
              "paragraphId": "401DEF7E",
              "paragraphIndex": 63,
              "start": 0
             },
             "text": "receiving the control information, via the resource pool and based at least in part on the SCI message, from the one or more UEs."
            },
            {
             "deletions": [
              {
               "length": 11,
               "start": 4
              }
             ],
             "documentOrigin": {
              "end": 195,
              "paragraphHash": "c2963bc383e39a1084c587771f943d22",
              "paragraphId": "6BE29FE8",
              "paragraphIndex": 64,
              "start": 0
             },
             "text": "15.\tThe method of claim 14, wherein the resource pool comprises orthogonal resource units configured to be shared by the one or more UEs to transmit sequence-based control information,"
            },
            {
             "deletions": [],
             "documentOrigin": {
              "end": 144,
              "paragraphHash": "9ad5dedc427c9d7e6c7d0b320547f4bf",
              "paragraphId": "701D6BAF",
              "paragraphIndex": 65,
              "start": 0
             },
             "text": "wherein the resource pool is configured with multiple single-resource-block-per-symbol portions to carry the sequence-based control information,"
            },
            {
             "deletions": [],
             "documentOrigin": {
              "end": 96,
              "paragraphHash": "db064e0bc42fb227d587ac93bb10e1ac",
              "paragraphId": "33B901B3",
              "paragraphIndex": 66,
              "start": 0
             },
             "text": "wherein the resource pool is orthogonal to a physical sidelink feedback channel (PSFCH) pool, or"
            },
            {
             "deletions": [],
             "documentOrigin": {
              "end": 25,
              "paragraphHash": "1997d42dbbf7f485254445ca7896e902",
              "paragraphId": "5B8303DF",
              "paragraphIndex": 67,
              "start": 0
             },
             "text": "some combination thereof."
            },
            {
             "deletions": [
              {
               "length": 23,
               "start": 4
              }
             ],
             "documentOrigin": {
              "end": 151,
              "paragraphHash": "fd0386ada07187b1c39a1423ccb8143e",
              "paragraphId": "2AA11AED",
              "paragraphIndex": 68,
              "start": 0
             },
             "text": "16.\tThe method of claim 15, wherein the resource pool is orthogonal to the PSFCH pool based at least in part on one or more of: "
            },
            {
             "deletions": [],
             "documentOrigin": {
              "end": 112,
              "paragraphHash": "e5e9f09dbcd121e392acf4d60673649f",
              "paragraphId": "0192CCB8",
              "paragraphIndex": 69,
              "start": 0
             },
             "text": "an allocation of the resource pool to one or more symbols that are earlier within a slot than the PSFCH pool, or"
            },
            {
             "deletions": [],
             "documentOrigin": {
              "end": 95,
              "paragraphHash": "91b70a61f59d183aaa8ec61b4eee1b65",
              "paragraphId": "77C4616B",
              "paragraphIndex": 70,
              "start": 0
             },
             "text": "an allocation of the resource pool in place of the PSFCH pool in a slot without the PSFCH pool."
            },
            {
             "deletions": [
              {
               "length": 20,
               "start": 4
              }
             ],
             "documentOrigin": {
              "end": 95,
              "paragraphHash": "771814e5ccda801b8d96216ef3d7f364",
              "paragraphId": "257D5E1C",
              "paragraphIndex": 71,
              "start": 0
             },
             "text": "17.\tThe method of claim 14, wherein transmitting the SCI message comprises:"
            },
            {
             "deletions": [],
             "documentOrigin": {
              "end": 85,
              "paragraphHash": "fb7a45a4d025d8fe53f594ae9dd1722a",
              "paragraphId": "559020DA",
              "paragraphIndex": 72,
              "start": 0
             },
             "text": "transmitting, to a set of UEs that includes the one or more UEs, a stage one SCI, and"
            },
            {
             "deletions": [],
             "documentOrigin": {
              "end": 141,
              "paragraphHash": "c6a0dfc7f83dbfeb9417e5124fdba9d4",
              "paragraphId": "15492C61",
              "paragraphIndex": 73,
              "start": 0
             },
             "text": "transmitting, to the one or more UEs, a stage two SCI that includes [[the]] information for polling for transmitting the control information."
            },
            {
             "deletions": [
              {
               "length": 20,
               "start": 4
              }
             ],
             "documentOrigin": {
              "end": 289,
              "paragraphHash": "3caac687d8de438ebe7d31985c039ad9",
              "paragraphId": "1245CF3A",
              "paragraphIndex": 74,
              "start": 0
             },
             "text": "18.\tThe method of claim 14, wherein a stage one SCI of the SCI message includes an indication, to a set of UEs that includes the one or more UEs, that a second portion of the SCI message includes [[the]] information for polling for transmitting the control information."
            },
            {
             "deletions": [
              {
               "length": 11,
               "start": 4
              }
             ],
             "documentOrigin": {
              "end": 86,
              "paragraphHash": "55eab374e77d02a4ca37f75529f1118a",
              "paragraphId": "76249C34",
              "paragraphIndex": 75,
              "start": 0
             },
             "text": "19.\tThe method of claim 14, wherein transmitting the SCI message comprises:"
            },
            {
             "deletions": [],
             "documentOrigin": {
              "end": 82,
              "paragraphHash": "f9d4ee8dfdd3c124c8f071508a0b4fe5",
              "paragraphId": "7589772A",
              "paragraphIndex": 76,
              "start": 0
             },
             "text": "transmitting the SCI message within a physical sidelink shared channel (PSSCH), or"
            },
            {
             "deletions": [],
             "documentOrigin": {
              "end": 161,
              "paragraphHash": "91d7d1080918820b9e9124021b853edc",
              "paragraphId": "35AD8543",
              "paragraphIndex": 77,
              "start": 0
             },
             "text": "transmitting the SCI message with a first stage two SCI that is associated with a PSSCH transmission and a second stage two SCI that allocates the resource pool."
            },
            {
             "deletions": [
              {
               "length": 11,
               "start": 4
              }
             ],
             "documentOrigin": {
              "end": 88,
              "paragraphHash": "67ed92c395ad4b485a4bc14695041fdd",
              "paragraphId": "52FE7F24",
              "paragraphIndex": 78,
              "start": 0
             },
             "text": "20.\tThe method of claim 14, wherein the SCI message comprises one or more of:"
            },
            {
             "deletions": [],
             "documentOrigin": {
              "end": 76,
              "paragraphHash": "e2fdfa44abb3213e234ae5271163547b",
              "paragraphId": "0860728E",
              "paragraphIndex": 79,
              "start": 0
             },
             "text": "an allocation of the resource pool within a same slot as the SCI message, or"
            },
            {
             "deletions": [],
             "documentOrigin": {
              "end": 60,
              "paragraphHash": "753c210ac60aa6adfb254a3649ccacbc",
              "paragraphId": "77176954",
              "paragraphIndex": 80,
              "start": 0
             },
             "text": "an allocation of the resource pool within a subsequent slot."
            },
            {
             "deletions": [
              {
               "length": 11,
               "start": 4
              }
             ],
             "documentOrigin": {
              "end": 75,
              "paragraphHash": "9fa87e26937cc76ed0a0b0bffc1db2d8",
              "paragraphId": "616D4A47",
              "paragraphIndex": 81,
              "start": 0
             },
             "text": "21.\tThe method of claim 14, wherein the resource pool comprises:"
            },
            {
             "deletions": [],
             "documentOrigin": {
              "end": 115,
              "paragraphHash": "2ba369c2cbc58c1692c6c72dfb0ae4cb",
              "paragraphId": "38C77057",
              "paragraphIndex": 82,
              "start": 0
             },
             "text": "one or more resources that have been assigned, to the one or more UEs, previous to transmission of the SCI message."
            },
            {
             "deletions": [
              {
               "length": 11,
               "start": 4
              }
             ],
             "documentOrigin": {
              "end": 92,
              "paragraphHash": "3b4f944b5f1360863c997a4d7fb71d2d",
              "paragraphId": "2F2D7AB0",
              "paragraphIndex": 83,
              "start": 0
             },
             "text": "22.\tThe method of claim 14, wherein the resource pool is a dynamic resource pool,"
            },
            {
             "deletions": [],
             "documentOrigin": {
              "end": 180,
              "paragraphHash": "6956adc1dbfbabe71008c15b881c825f",
              "paragraphId": "7EC886FA",
              "paragraphIndex": 84,
              "start": 0
             },
             "text": "wherein the SCI message indicates, to a set of UEs that includes the one or more UEs, that the one or more UEs are polled to transmit the control information via the resource pool,"
            },
            {
             "deletions": [],
             "documentOrigin": {
              "end": 173,
              "paragraphHash": "95430d5b34face7f59295d0d36fa8ee0",
              "paragraphId": "6DEF2B3D",
              "paragraphIndex": 85,
              "start": 0
             },
             "text": "wherein the SCI message indicates an allocation of resources, within the resource pool, for respective UEs of the one or more UEs to use to transmit the control information,"
            },
            {
             "deletions": [],
             "documentOrigin": {
              "end": 132,
              "paragraphHash": "aa2c3f401229a030e1e70980bd45f755",
              "paragraphId": "0B5ABE45",
              "paragraphIndex": 86,
              "start": 0
             },
             "text": "wherein the SCI message indicates sequences for respective UEs of the one or more UEs to use to transmit the control information, or"
            },
            {
             "deletions": [],
             "documentOrigin": {
              "end": 25,
              "paragraphHash": "1997d42dbbf7f485254445ca7896e902",
              "paragraphId": "33422154",
              "paragraphIndex": 87,
              "start": 0
             },
             "text": "some combination thereof."
            },
            {
             "deletions": [
              {
               "length": 11,
               "start": 4
              }
             ],
             "documentOrigin": {
              "end": 241,
              "paragraphHash": "69be7269eb776dba010a130b60e62abf",
              "paragraphId": "673BD084",
              "paragraphIndex": 88,
              "start": 0
             },
             "text": "23.\tThe method of claim 14, wherein the SCI message includes an indication of an assignment, for at least one UE of the one or more UEs, of one or more resources within the resource pool to use to transmit the control information,"
            },
            {
             "deletions": [],
             "documentOrigin": {
              "end": 118,
              "paragraphHash": "7f9ed708064d4821bfb6d4de3c1aea4f",
              "paragraphId": "7CBB53BB",
              "paragraphIndex": 89,
              "start": 0
             },
             "text": "wherein the indication of the assignment comprises a bitmap having a bit mapped to each UE of the one or more UEs, and"
            },
            {
             "deletions": [],
             "documentOrigin": {
              "end": 123,
              "paragraphHash": "e35f477890cc9414d7975dac259a8c5a",
              "paragraphId": "39882FD6",
              "paragraphIndex": 90,
              "start": 0
             },
             "text": "wherein the bitmap indicates that the at least one UE of the one or more UEs is polled to transmit the control information."
            },
            {
             "deletions": [
              {
               "length": 11,
               "start": 4
              }
             ],
             "documentOrigin": {
              "end": 215,
              "paragraphHash": "3ad1109715e667d49591a51b95db2fa3",
              "paragraphId": "69199849",
              "paragraphIndex": 91,
              "start": 0
             },
             "text": "24.\tThe method of claim 14, wherein the SCI message dynamically allocates an additional resource pool for the one or more UEs to transmit the control information to the wireless communication device, and "
            },
            {
             "deletions": [],
             "documentOrigin": {
              "end": 83,
              "paragraphHash": "92a46d16d42a12abbe52daf5f53a0a57",
              "paragraphId": "15F4267A",
              "paragraphIndex": 92,
              "start": 0
             },
             "text": "wherein the resource pool and the additional resource pool comprise one or more of:"
            },
            {
             "deletions": [],
             "documentOrigin": {
              "end": 102,
              "paragraphHash": "c637ed80f8e0e4a585a5f09e539db3bf",
              "paragraphId": "5274D6C2",
              "paragraphIndex": 93,
              "start": 0
             },
             "text": "a first resource pool including only resources that are previously assigned to the one or more UEs, or"
            },
            {
             "deletions": [],
             "documentOrigin": {
              "end": 63,
              "paragraphHash": "b39566aabcb3fcd5997e1e9a9af7daa7",
              "paragraphId": "675FB268",
              "paragraphIndex": 94,
              "start": 0
             },
             "text": "a second resource pool including resources that are unassigned."
            },
            {
             "deletions": [
              {
               "length": 11,
               "start": 4
              }
             ],
             "documentOrigin": {
              "end": 106,
              "paragraphHash": "0ff25dd06406bdba94774bcd37c4190a",
              "paragraphId": "4DD2BFAA",
              "paragraphIndex": 95,
              "start": 0
             },
             "text": "25.\tThe method of claim 14, wherein the resource pool includes a set of pre-assigned resources,"
            },
            {
             "deletions": [],
             "documentOrigin": {
              "end": 119,
              "paragraphHash": "defe8eeb3c6bf8d450a344c7d5702850",
              "paragraphId": "290FAD15",
              "paragraphIndex": 96,
              "start": 0
             },
             "text": "wherein the SCI message cancels one or more assignments associated with a subset of the set of pre-assigned resources, "
            },
            {
             "deletions": [],
             "documentOrigin": {
              "end": 108,
              "paragraphHash": "7edb1079a3339703c4aff14497c7bbbf",
              "paragraphId": "596FCDAD",
              "paragraphIndex": 97,
              "start": 0
             },
             "text": "wherein the SCI message assigns one or more resources of the subset of the set of pre-assigned resources, or"
            },
            {
             "deletions": [],
             "documentOrigin": {
              "end": 25,
              "paragraphHash": "1997d42dbbf7f485254445ca7896e902",
              "paragraphId": "313257E4",
              "paragraphIndex": 98,
              "start": 0
             },
             "text": "some combination thereof."
            },
            {
             "deletions": [
              {
               "length": 11,
               "start": 4
              }
             ],
             "documentOrigin": {
              "end": 96,
              "paragraphHash": "af2ee586dd762eb298cc13417ad5ee56",
              "paragraphId": "267518BF",
              "paragraphIndex": 99,
              "start": 0
             },
             "text": "26.\tThe method of claim 14, wherein the control information comprises one or more of:"
            },
            {
             "deletions": [],
             "documentOrigin": {
              "end": 56,
              "paragraphHash": "ffe1251a68a248acf81711eb95fd957e",
              "paragraphId": "75432B87",
              "paragraphIndex": 100,
              "start": 0
             },
             "text": "one or more scheduling requests for the one or more UEs,"
            },
            {
             "deletions": [],
             "documentOrigin": {
              "end": 58,
              "paragraphHash": "e7f11e7bcd802ef5223ff50ecc88bc13",
              "paragraphId": "2CE9D993",
              "paragraphIndex": 101,
              "start": 0
             },
             "text": "one or more buffer status reports for the one or more UEs,"
            },
            {
             "deletions": [],
             "documentOrigin": {
              "end": 79,
              "paragraphHash": "4dd5ea3ff3db7256603741330280f75c",
              "paragraphId": "224C95E0",
              "paragraphIndex": 102,
              "start": 0
             },
             "text": "one or more indications to maintain a configured grant for the one or more UEs,"
            },
            {
             "deletions": [],
             "documentOrigin": {
              "end": 107,
              "paragraphHash": "0848ab6867cc36ec673822ebd3dc4917",
              "paragraphId": "6F1E7210",
              "paragraphIndex": 103,
              "start": 0
             },
             "text": "information associated with a forward link signal-to-interference-plus-noise ratio for the one or more UEs,"
            },
            {
             "deletions": [],
             "documentOrigin": {
              "end": 67,
              "paragraphHash": "66e32618ac87ad75503bb94d8a368851",
              "paragraphId": "7E0AB8C9",
              "paragraphIndex": 104,
              "start": 0
             },
             "text": "one or more indications of channel busy ratio (CBR) overloading, or"
            },
            {
             "deletions": [],
             "documentOrigin": {
              "end": 26,
              "paragraphHash": "0b117bab83e5e1b4a664cd502b7c77a9",
              "paragraphId": "7C5FE34A",
              "paragraphIndex": 105,
              "start": 0
             },
             "text": "some combination thereof. "
            },
            {
             "deletions": [
              {
               "length": 20,
               "start": 4
              }
             ],
             "documentOrigin": {
              "end": 159,
              "paragraphHash": "3f3dec5a1c44407109194de42171c845",
              "paragraphId": "521296A8",
              "paragraphIndex": 106,
              "start": 0
             },
             "text": "27.\tA non-transitory computer-readable medium storing a set of instructions for wireless communication, the set of instructions comprising:"
            },
            {
             "deletions": [],
             "documentOrigin": {
              "end": 150,
              "paragraphHash": "bccae4f5bcc323555b9061b1eaa1cca5",
              "paragraphId": "2E2A8B8A",
              "paragraphIndex": 107,
              "start": 0
             },
             "text": "one or more instructions that, when executed by one or more processors of a wireless communication device, cause the wireless communication device to:"
            },
            {
             "deletions": [
              {
               "length": 92,
               "start": 328
              }
             ],
             "documentOrigin": {
              "end": 425,
              "paragraphHash": "91e64dba70da9f4991c0a92438264393",
              "paragraphId": "3138052D",
              "paragraphIndex": 108,
              "start": 0
             },
             "text": "transmit a sidelink control information (SCI) message that dynamically allocates a resource pool configured for polled control information, the resource pool being configured for one or more user equipment (UEs) to transmit control information to the wireless communication device when polled to transmit the control information; and"
            },
            {
             "deletions": [],
             "documentOrigin": {
              "end": 127,
              "paragraphHash": "05744ae579b307d17bf5142f6a9dc5ca",
              "paragraphId": "4D2B533B",
              "paragraphIndex": 109,
              "start": 0
             },
             "text": "receive the control information, via the resource pool and based at least in part on the SCI message, from the one or more UEs."
            },
            {
             "deletions": [
              {
               "length": 11,
               "start": 4
              }
             ],
             "documentOrigin": {
              "end": 228,
              "paragraphHash": "885fb31182cc9298513e24020377a3b1",
              "paragraphId": "2DCB6199",
              "paragraphIndex": 110,
              "start": 0
             },
             "text": "28.\tThe non-transitory computer-readable medium of claim 27, wherein the resource pool comprises orthogonal resource units configured to be shared by the one or more UEs to transmit sequence-based control information,"
            },
            {
             "deletions": [],
             "documentOrigin": {
              "end": 144,
              "paragraphHash": "9ad5dedc427c9d7e6c7d0b320547f4bf",
              "paragraphId": "6E6BFE20",
              "paragraphIndex": 111,
              "start": 0
             },
             "text": "wherein the resource pool is configured with multiple single-resource-block-per-symbol portions to carry the sequence-based control information,"
            },
            {
             "deletions": [],
             "documentOrigin": {
              "end": 96,
              "paragraphHash": "9a2cbe6a4028aaf7e475624d071d6ef8",
              "paragraphId": "4000FFC5",
              "paragraphIndex": 112,
              "start": 0
             },
             "text": "wherein the resource pool is orthogonal to a physical sidelink feedback channel (PSFCH) pool, or"
            },
            {
             "deletions": [],
             "documentOrigin": {
              "end": 25,
              "paragraphHash": "0b626da7545d4d9420b3350303c335bf",
              "paragraphId": "01610302",
              "paragraphIndex": 113,
              "start": 0
             },
             "text": "some combination thereof."
            },
            {
             "deletions": [
              {
               "length": 20,
               "start": 4
              }
             ],
             "documentOrigin": {
              "end": 76,
              "paragraphHash": "a5dc401df7f663b60862807541b9bc3f",
              "paragraphId": "4F9187A8",
              "paragraphIndex": 114,
              "start": 0
             },
             "text": "29.\tAn apparatus for wireless communication, comprising:"
            },
            {
             "deletions": [
              {
               "length": 92,
               "start": 322
              }
             ],
             "documentOrigin": {
              "end": 419,
              "paragraphHash": "9942594c8c6c0bf7a93181f8942c6b60",
              "paragraphId": "1D0E14C1",
              "paragraphIndex": 115,
              "start": 0
             },
             "text": "means for transmitting a sidelink control information (SCI) message that dynamically allocates a resource pool configured for polled control information, the resource pool being configured for one or more user equipment (UEs) to transmit control information to the apparatus when polled to transmit the control information; and"
            },
            {
             "deletions": [],
             "documentOrigin": {
              "end": 139,
              "paragraphHash": "360c8e665b0cdb61ff6b51691a207957",
              "paragraphId": "403EFDBD",
              "paragraphIndex": 116,
              "start": 0
             },
             "text": "means for receiving the control information, via the resource pool and based at least in part on the SCI message, from the one or more UEs."
            },
            {
             "deletions": [
              {
               "length": 11,
               "start": 4
              }
             ],
             "documentOrigin": {
              "end": 198,
              "paragraphHash": "83b455f2a532c01555a71ae064868eca",
              "paragraphId": "4BE31546",
              "paragraphIndex": 117,
              "start": 0
             },
             "text": "30.\tThe apparatus of claim 29, wherein the resource pool comprises orthogonal resource units configured to be shared by the one or more UEs to transmit sequence-based control information,"
            },
            {
             "deletions": [],
             "documentOrigin": {
              "end": 144,
              "paragraphHash": "9ad5dedc427c9d7e6c7d0b320547f4bf",
              "paragraphId": "61B3FC50",
              "paragraphIndex": 118,
              "start": 0
             },
             "text": "wherein the resource pool is configured with multiple single-resource-block-per-symbol portions to carry the sequence-based control information,"
            },
            {
             "deletions": [],
             "documentOrigin": {
              "end": 96,
              "paragraphHash": "9a2cbe6a4028aaf7e475624d071d6ef8",
              "paragraphId": "50E379C1",
              "paragraphIndex": 119,
              "start": 0
             },
             "text": "wherein the resource pool is orthogonal to a physical sidelink feedback channel (PSFCH) pool, or"
            },
            {
             "deletions": [],
             "documentOrigin": {
              "end": 25,
              "paragraphHash": "0b626da7545d4d9420b3350303c335bf",
              "paragraphId": "41C2C225",
              "paragraphIndex": 120,
              "start": 0
             },
             "text": "some combination thereof."
            }
           ],
           "sectionOrigin": {
            "end": 120,
            "start": 12
           },
           "wordsCount": 2076
          },
          "heading": {
           "length": 1,
           "paragraph": {
            "deletions": [],
            "documentOrigin": {
             "end": 26,
             "paragraphHash": "47b04791c0bde80fc7241e7f2c4744d8",
             "paragraphId": "7D01092D",
             "paragraphIndex": 11,
             "start": 0
            },
            "text": "\nAmendments to the Claims:"
           },
           "wordsCount": 4
          },
          "name": "AmendmentsClaims",
          "sectionOrigin": {
           "end": 120,
           "start": 11
          },
          "subsections": [
           {
            "body": {
             "length": 107,
             "paragraphs": [
              {
               "deletions": [],
               "documentOrigin": {
                "end": 95,
                "paragraphHash": "fc25688f6d5539222dffb93ced886620",
                "paragraphId": "40005B79",
                "paragraphIndex": 14,
                "start": 0
               },
               "text": " 1.\t(Currently Amended) A wireless communication device for wireless communication, comprising:"
              },
              {
               "deletions": [],
               "documentOrigin": {
                "end": 13,
                "paragraphHash": "4a6caf7b8262f73f7fbedd5955e8aa83",
                "paragraphId": "68C1FCB5",
                "paragraphIndex": 15,
                "start": 0
               },
               "text": "a memory; and"
              },
              {
               "deletions": [],
               "documentOrigin": {
                "end": 61,
                "paragraphHash": "8f67938a3ecb0274c5fe211660d2ed18",
                "paragraphId": "75089E17",
                "paragraphIndex": 16,
                "start": 0
               },
               "text": "one or more processors, coupled to the memory, configured to:"
              },
              {
               "deletions": [
                {
                 "length": 92,
                 "start": 328
                }
               ],
               "documentOrigin": {
                "end": 425,
                "paragraphHash": "91e64dba70da9f4991c0a92438264393",
                "paragraphId": "66A5DF99",
                "paragraphIndex": 17,
                "start": 0
               },
               "text": "transmit a sidelink control information (SCI) message that dynamically allocates a resource pool configured for polled control information, the resource pool being configured for one or more user equipment (UEs) to transmit control information to the wireless communication device when polled to transmit the control information; and"
              },
              {
               "deletions": [],
               "documentOrigin": {
                "end": 127,
                "paragraphHash": "05744ae579b307d17bf5142f6a9dc5ca",
                "paragraphId": "047FEB8B",
                "paragraphIndex": 18,
                "start": 0
               },
               "text": "receive the control information, via the resource pool and based at least in part on the SCI message, from the one or more UEs."
              },
              {
               "deletions": [
                {
                 "length": 11,
                 "start": 3
                }
               ],
               "documentOrigin": {
                "end": 216,
                "paragraphHash": "f4d38c5268a8bf17ef510e424d7ab299",
                "paragraphId": "3EC30B58",
                "paragraphIndex": 19,
                "start": 0
               },
               "text": "2.\tThe wireless communication device of claim 1, wherein the resource pool comprises orthogonal resource units configured to be shared by the one or more UEs to transmit sequence-based control information,"
              },
              {
               "deletions": [],
               "documentOrigin": {
                "end": 144,
                "paragraphHash": "9ad5dedc427c9d7e6c7d0b320547f4bf",
                "paragraphId": "5B970955",
                "paragraphIndex": 20,
                "start": 0
               },
               "text": "wherein the resource pool is configured with multiple single-resource-block-per-symbol portions to carry the sequence-based control information,"
              },
              {
               "deletions": [],
               "documentOrigin": {
                "end": 96,
                "paragraphHash": "9a2cbe6a4028aaf7e475624d071d6ef8",
                "paragraphId": "4C4DDDF7",
                "paragraphIndex": 21,
                "start": 0
               },
               "text": "wherein the resource pool is orthogonal to a physical sidelink feedback channel (PSFCH) pool, or"
              },
              {
               "deletions": [],
               "documentOrigin": {
                "end": 25,
                "paragraphHash": "0b626da7545d4d9420b3350303c335bf",
                "paragraphId": "62492FA2",
                "paragraphIndex": 22,
                "start": 0
               },
               "text": "some combination thereof."
              },
              {
               "deletions": [
                {
                 "length": 23,
                 "start": 3
                }
               ],
               "documentOrigin": {
                "end": 171,
                "paragraphHash": "a9d3694041904d13b3b4a7eb8394edfe",
                "paragraphId": "42F3AC47",
                "paragraphIndex": 23,
                "start": 0
               },
               "text": "3.\tThe wireless communication device of claim 2, wherein the resource pool is orthogonal to the PSFCH pool based at least in part on one or more of:"
              },
              {
               "deletions": [],
               "documentOrigin": {
                "end": 112,
                "paragraphHash": "e5e9f09dbcd121e392acf4d60673649f",
                "paragraphId": "1924F4FD",
                "paragraphIndex": 24,
                "start": 0
               },
               "text": "an allocation of the resource pool to one or more symbols that are earlier within a slot than the PSFCH pool, or"
              },
              {
               "deletions": [],
               "documentOrigin": {
                "end": 95,
                "paragraphHash": "91b70a61f59d183aaa8ec61b4eee1b65",
                "paragraphId": "39D7558B",
                "paragraphIndex": 25,
                "start": 0
               },
               "text": "an allocation of the resource pool in place of the PSFCH pool in a slot without the PSFCH pool."
              },
              {
               "deletions": [
                {
                 "length": 20,
                 "start": 3
                }
               ],
               "documentOrigin": {
                "end": 152,
                "paragraphHash": "b73326c19d12cf49250a9ab06cad67bd",
                "paragraphId": "42F73F31",
                "paragraphIndex": 26,
                "start": 0
               },
               "text": "4.\tThe wireless communication device of claim 1, wherein the one or more processors, to transmit the SCI message, are configured to:"
              },
              {
               "deletions": [],
               "documentOrigin": {
                "end": 81,
                "paragraphHash": "5bd112e8834607dc796b1ba6cca38ba3",
                "paragraphId": "22402114",
                "paragraphIndex": 27,
                "start": 0
               },
               "text": "transmit, to a set of UEs that includes the one or more UEs, a stage one SCI, and"
              },
              {
               "deletions": [],
               "documentOrigin": {
                "end": 137,
                "paragraphHash": "c3f63068cfe37e19f9488c4329056973",
                "paragraphId": "1141D3C9",
                "paragraphIndex": 28,
                "start": 0
               },
               "text": "transmit, to the one or more UEs, a stage two SCI that includes [[the]] information for polling for transmitting the control information."
              },
              {
               "deletions": [
                {
                 "length": 20,
                 "start": 3
                }
               ],
               "documentOrigin": {
                "end": 310,
                "paragraphHash": "01667a326ec956eb60bd54483b715168",
                "paragraphId": "6835C476",
                "paragraphIndex": 29,
                "start": 0
               },
               "text": "5.\tThe wireless communication device of claim 1, wherein a stage one SCI of the SCI message includes an indication, to a set of UEs that includes the one or more UEs, that a second portion of the SCI message includes [[the]] information for polling for transmitting the control information."
              },
              {
               "deletions": [
                {
                 "length": 11,
                 "start": 3
                }
               ],
               "documentOrigin": {
                "end": 143,
                "paragraphHash": "55953c83e9bd89fd53655b470c4aaa61",
                "paragraphId": "3F9EE34D",
                "paragraphIndex": 30,
                "start": 0
               },
               "text": "6.\tThe wireless communication device of claim 1, wherein the one or more processors, to transmit the SCI message, are configured to:"
              },
              {
               "deletions": [],
               "documentOrigin": {
                "end": 78,
                "paragraphHash": "9ccadffedbff1335b13dece7c266e15c",
                "paragraphId": "4D82E5E7",
                "paragraphIndex": 31,
                "start": 0
               },
               "text": "transmit the SCI message within a physical sidelink shared channel (PSSCH), or"
              },
              {
               "deletions": [],
               "documentOrigin": {
                "end": 157,
                "paragraphHash": "060bc1c5bc18963818157366c0972bb0",
                "paragraphId": "31BA9C18",
                "paragraphIndex": 32,
                "start": 0
               },
               "text": "transmit the SCI message with a first stage two SCI that is associated with a PSSCH transmission and a second stage two SCI that allocates the resource pool."
              },
              {
               "deletions": [
                {
                 "length": 11,
                 "start": 3
                }
               ],
               "documentOrigin": {
                "end": 109,
                "paragraphHash": "99bbc1f5043974979ce994b166683892",
                "paragraphId": "163C5FAD",
                "paragraphIndex": 33,
                "start": 0
               },
               "text": "7.\tThe wireless communication device of claim 1, wherein the SCI message comprises one or more of:"
              },
              {
               "deletions": [],
               "documentOrigin": {
                "end": 76,
                "paragraphHash": "e2fdfa44abb3213e234ae5271163547b",
                "paragraphId": "252F2520",
                "paragraphIndex": 34,
                "start": 0
               },
               "text": "an allocation of the resource pool within a same slot as the SCI message, or"
              },
              {
               "deletions": [],
               "documentOrigin": {
                "end": 60,
                "paragraphHash": "753c210ac60aa6adfb254a3649ccacbc",
                "paragraphId": "1CAFF5B9",
                "paragraphIndex": 35,
                "start": 0
               },
               "text": "an allocation of the resource pool within a subsequent slot."
              },
              {
               "deletions": [
                {
                 "length": 11,
                 "start": 3
                }
               ],
               "documentOrigin": {
                "end": 96,
                "paragraphHash": "cdac531e09adf81a846a597a7167e593",
                "paragraphId": "34424917",
                "paragraphIndex": 36,
                "start": 0
               },
               "text": "8.\tThe wireless communication device of claim 1, wherein the resource pool comprises:"
              },
              {
               "deletions": [],
               "documentOrigin": {
                "end": 115,
                "paragraphHash": "2ba369c2cbc58c1692c6c72dfb0ae4cb",
                "paragraphId": "6DFABB50",
                "paragraphIndex": 37,
                "start": 0
               },
               "text": "one or more resources that have been assigned, to the one or more UEs, previous to transmission of the SCI message."
              },
              {
               "deletions": [
                {
                 "length": 11,
                 "start": 3
                }
               ],
               "documentOrigin": {
                "end": 113,
                "paragraphHash": "913f2d9f0d669694cc1e853da87ad1e3",
                "paragraphId": "2231EF36",
                "paragraphIndex": 38,
                "start": 0
               },
               "text": "9.\tThe wireless communication device of claim 1, wherein the resource pool is a dynamic resource pool,"
              },
              {
               "deletions": [],
               "documentOrigin": {
                "end": 180,
                "paragraphHash": "6956adc1dbfbabe71008c15b881c825f",
                "paragraphId": "70B2A61C",
                "paragraphIndex": 39,
                "start": 0
               },
               "text": "wherein the SCI message indicates, to a set of UEs that includes the one or more UEs, that the one or more UEs are polled to transmit the control information via the resource pool,"
              },
              {
               "deletions": [],
               "documentOrigin": {
                "end": 173,
                "paragraphHash": "2270add13219fb762ed1be9ec38466e0",
                "paragraphId": "109B628E",
                "paragraphIndex": 40,
                "start": 0
               },
               "text": "wherein the SCI message indicates an allocation of resources, within the resource pool, for respective UEs of the one or more UEs to use to transmit the control information,"
              },
              {
               "deletions": [],
               "documentOrigin": {
                "end": 132,
                "paragraphHash": "48c5ac3eab359bd5cc22a14be227c862",
                "paragraphId": "3420A818",
                "paragraphIndex": 41,
                "start": 0
               },
               "text": "wherein the SCI message indicates sequences for respective UEs of the one or more UEs to use to transmit the control information, or"
              },
              {
               "deletions": [],
               "documentOrigin": {
                "end": 25,
                "paragraphHash": "e1708215da4e221897e81bc258d3b1e2",
                "paragraphId": "63DD77A2",
                "paragraphIndex": 42,
                "start": 0
               },
               "text": "some combination thereof."
              },
              {
               "deletions": [
                {
                 "length": 11,
                 "start": 4
                }
               ],
               "documentOrigin": {
                "end": 263,
                "paragraphHash": "95285e536e1d87f539c73313eb65cc63",
                "paragraphId": "312C386B",
                "paragraphIndex": 43,
                "start": 0
               },
               "text": "10.\tThe wireless communication device of claim 1, wherein the SCI message includes an indication of an assignment, for at least one UE of the one or more UEs, of one or more resources within the resource pool to use to transmit the control information,"
              },
              {
               "deletions": [],
               "documentOrigin": {
                "end": 118,
                "paragraphHash": "7f9ed708064d4821bfb6d4de3c1aea4f",
                "paragraphId": "087D207D",
                "paragraphIndex": 44,
                "start": 0
               },
               "text": "wherein the indication of the assignment comprises a bitmap having a bit mapped to each UE of the one or more UEs, and"
              },
              {
               "deletions": [],
               "documentOrigin": {
                "end": 123,
                "paragraphHash": "e35f477890cc9414d7975dac259a8c5a",
                "paragraphId": "4354170E",
                "paragraphIndex": 45,
                "start": 0
               },
               "text": "wherein the bitmap indicates that the at least one UE of the one or more UEs is polled to transmit the control information."
              },
              {
               "deletions": [
                {
                 "length": 11,
                 "start": 4
                }
               ],
               "documentOrigin": {
                "end": 236,
                "paragraphHash": "8a580a1311a4b19137f554317046a203",
                "paragraphId": "4029EA30",
                "paragraphIndex": 46,
                "start": 0
               },
               "text": "11.\tThe wireless communication device of claim 1, wherein the SCI message dynamically allocates an additional resource pool for the one or more UEs to transmit the control information to the wireless communication device, and"
              },
              {
               "deletions": [],
               "documentOrigin": {
                "end": 83,
                "paragraphHash": "92a46d16d42a12abbe52daf5f53a0a57",
                "paragraphId": "230A0423",
                "paragraphIndex": 47,
                "start": 0
               },
               "text": "wherein the resource pool and the additional resource pool comprise one or more of:"
              },
              {
               "deletions": [],
               "documentOrigin": {
                "end": 102,
                "paragraphHash": "c637ed80f8e0e4a585a5f09e539db3bf",
                "paragraphId": "524D7E3E",
                "paragraphIndex": 48,
                "start": 0
               },
               "text": "a first resource pool including only resources that are previously assigned to the one or more UEs, or"
              },
              {
               "deletions": [],
               "documentOrigin": {
                "end": 63,
                "paragraphHash": "b39566aabcb3fcd5997e1e9a9af7daa7",
                "paragraphId": "01F0EDF7",
                "paragraphIndex": 49,
                "start": 0
               },
               "text": "a second resource pool including resources that are unassigned."
              },
              {
               "deletions": [
                {
                 "length": 11,
                 "start": 4
                }
               ],
               "documentOrigin": {
                "end": 128,
                "paragraphHash": "2e65a4af0d330766756f01598e5ac3d1",
                "paragraphId": "129A13A7",
                "paragraphIndex": 50,
                "start": 0
               },
               "text": "12.\tThe wireless communication device of claim 1, wherein the resource pool includes a set of pre-assigned resources,"
              },
              {
               "deletions": [],
               "documentOrigin": {
                "end": 118,
                "paragraphHash": "27fc45b6324648106ed1a779819ad236",
                "paragraphId": "3BF09827",
                "paragraphIndex": 51,
                "start": 0
               },
               "text": "wherein the SCI message cancels one or more assignments associated with a subset of the set of pre-assigned resources,"
              },
              {
               "deletions": [],
               "documentOrigin": {
                "end": 108,
                "paragraphHash": "34915c81a3dc8a09a117a86d17a06a85",
                "paragraphId": "1809E9A3",
                "paragraphIndex": 52,
                "start": 0
               },
               "text": "wherein the SCI message assigns one or more resources of the subset of the set of pre-assigned resources, or"
              },
              {
               "deletions": [],
               "documentOrigin": {
                "end": 25,
                "paragraphHash": "0b626da7545d4d9420b3350303c335bf",
                "paragraphId": "4F54C10B",
                "paragraphIndex": 53,
                "start": 0
               },
               "text": "some combination thereof."
              },
              {
               "deletions": [
                {
                 "length": 11,
                 "start": 4
                }
               ],
               "documentOrigin": {
                "end": 118,
                "paragraphHash": "dce5e51ae894ee006ed26293f1b053cc",
                "paragraphId": "7458CC9F",
                "paragraphIndex": 54,
                "start": 0
               },
               "text": "13.\tThe wireless communication device of claim 1, wherein the control information comprises one or more of:"
              },
              {
               "deletions": [],
               "documentOrigin": {
                "end": 56,
                "paragraphHash": "ffe1251a68a248acf81711eb95fd957e",
                "paragraphId": "0DAEF37D",
                "paragraphIndex": 55,
                "start": 0
               },
               "text": "one or more scheduling requests for the one or more UEs,"
              },
              {
               "deletions": [],
               "documentOrigin": {
                "end": 58,
                "paragraphHash": "e7f11e7bcd802ef5223ff50ecc88bc13",
                "paragraphId": "0BBFCDDE",
                "paragraphIndex": 56,
                "start": 0
               },
               "text": "one or more buffer status reports for the one or more UEs,"
              },
              {
               "deletions": [],
               "documentOrigin": {
                "end": 79,
                "paragraphHash": "4dd5ea3ff3db7256603741330280f75c",
                "paragraphId": "58496DC0",
                "paragraphIndex": 57,
                "start": 0
               },
               "text": "one or more indications to maintain a configured grant for the one or more UEs,"
              },
              {
               "deletions": [],
               "documentOrigin": {
                "end": 107,
                "paragraphHash": "0848ab6867cc36ec673822ebd3dc4917",
                "paragraphId": "1404501F",
                "paragraphIndex": 58,
                "start": 0
               },
               "text": "information associated with a forward link signal-to-interference-plus-noise ratio for the one or more UEs,"
              },
              {
               "deletions": [],
               "documentOrigin": {
                "end": 67,
                "paragraphHash": "66e32618ac87ad75503bb94d8a368851",
                "paragraphId": "048261EC",
                "paragraphIndex": 59,
                "start": 0
               },
               "text": "one or more indications of channel busy ratio (CBR) overloading, or"
              },
              {
               "deletions": [],
               "documentOrigin": {
                "end": 25,
                "paragraphHash": "1997d42dbbf7f485254445ca7896e902",
                "paragraphId": "18F3581A",
                "paragraphIndex": 60,
                "start": 0
               },
               "text": "some combination thereof."
              },
              {
               "deletions": [
                {
                 "length": 20,
                 "start": 4
                }
               ],
               "documentOrigin": {
                "end": 116,
                "paragraphHash": "3e4a391f3fa3b3c7b55ecff7981d9818",
                "paragraphId": "52336CD7",
                "paragraphIndex": 61,
                "start": 0
               },
               "text": "14.\tA method of wireless communication performed by a wireless communication device, comprising:"
              },
              {
               "deletions": [
                {
                 "length": 92,
                 "start": 332
                }
               ],
               "documentOrigin": {
                "end": 429,
                "paragraphHash": "12b16e73d81f7c129c89b482a0025ae5",
                "paragraphId": "19E34D6C",
                "paragraphIndex": 62,
                "start": 0
               },
               "text": "transmitting a sidelink control information (SCI) message that dynamically allocates a resource pool configured for polled control information, the resource pool being configured for one or more user equipment (UEs) to transmit control information to the wireless communication device when polled to transmit the control information; and"
              },
              {
               "deletions": [],
               "documentOrigin": {
                "end": 129,
                "paragraphHash": "f242025dc9382a2dcd9c2ac785351575",
                "paragraphId": "401DEF7E",
                "paragraphIndex": 63,
                "start": 0
               },
               "text": "receiving the control information, via the resource pool and based at least in part on the SCI message, from the one or more UEs."
              },
              {
               "deletions": [
                {
                 "length": 11,
                 "start": 4
                }
               ],
               "documentOrigin": {
                "end": 195,
                "paragraphHash": "c2963bc383e39a1084c587771f943d22",
                "paragraphId": "6BE29FE8",
                "paragraphIndex": 64,
                "start": 0
               },
               "text": "15.\tThe method of claim 14, wherein the resource pool comprises orthogonal resource units configured to be shared by the one or more UEs to transmit sequence-based control information,"
              },
              {
               "deletions": [],
               "documentOrigin": {
                "end": 144,
                "paragraphHash": "9ad5dedc427c9d7e6c7d0b320547f4bf",
                "paragraphId": "701D6BAF",
                "paragraphIndex": 65,
                "start": 0
               },
               "text": "wherein the resource pool is configured with multiple single-resource-block-per-symbol portions to carry the sequence-based control information,"
              },
              {
               "deletions": [],
               "documentOrigin": {
                "end": 96,
                "paragraphHash": "db064e0bc42fb227d587ac93bb10e1ac",
                "paragraphId": "33B901B3",
                "paragraphIndex": 66,
                "start": 0
               },
               "text": "wherein the resource pool is orthogonal to a physical sidelink feedback channel (PSFCH) pool, or"
              },
              {
               "deletions": [],
               "documentOrigin": {
                "end": 25,
                "paragraphHash": "1997d42dbbf7f485254445ca7896e902",
                "paragraphId": "5B8303DF",
                "paragraphIndex": 67,
                "start": 0
               },
               "text": "some combination thereof."
              },
              {
               "deletions": [
                {
                 "length": 23,
                 "start": 4
                }
               ],
               "documentOrigin": {
                "end": 151,
                "paragraphHash": "fd0386ada07187b1c39a1423ccb8143e",
                "paragraphId": "2AA11AED",
                "paragraphIndex": 68,
                "start": 0
               },
               "text": "16.\tThe method of claim 15, wherein the resource pool is orthogonal to the PSFCH pool based at least in part on one or more of: "
              },
              {
               "deletions": [],
               "documentOrigin": {
                "end": 112,
                "paragraphHash": "e5e9f09dbcd121e392acf4d60673649f",
                "paragraphId": "0192CCB8",
                "paragraphIndex": 69,
                "start": 0
               },
               "text": "an allocation of the resource pool to one or more symbols that are earlier within a slot than the PSFCH pool, or"
              },
              {
               "deletions": [],
               "documentOrigin": {
                "end": 95,
                "paragraphHash": "91b70a61f59d183aaa8ec61b4eee1b65",
                "paragraphId": "77C4616B",
                "paragraphIndex": 70,
                "start": 0
               },
               "text": "an allocation of the resource pool in place of the PSFCH pool in a slot without the PSFCH pool."
              },
              {
               "deletions": [
                {
                 "length": 20,
                 "start": 4
                }
               ],
               "documentOrigin": {
                "end": 95,
                "paragraphHash": "771814e5ccda801b8d96216ef3d7f364",
                "paragraphId": "257D5E1C",
                "paragraphIndex": 71,
                "start": 0
               },
               "text": "17.\tThe method of claim 14, wherein transmitting the SCI message comprises:"
              },
              {
               "deletions": [],
               "documentOrigin": {
                "end": 85,
                "paragraphHash": "fb7a45a4d025d8fe53f594ae9dd1722a",
                "paragraphId": "559020DA",
                "paragraphIndex": 72,
                "start": 0
               },
               "text": "transmitting, to a set of UEs that includes the one or more UEs, a stage one SCI, and"
              },
              {
               "deletions": [],
               "documentOrigin": {
                "end": 141,
                "paragraphHash": "c6a0dfc7f83dbfeb9417e5124fdba9d4",
                "paragraphId": "15492C61",
                "paragraphIndex": 73,
                "start": 0
               },
               "text": "transmitting, to the one or more UEs, a stage two SCI that includes [[the]] information for polling for transmitting the control information."
              },
              {
               "deletions": [
                {
                 "length": 20,
                 "start": 4
                }
               ],
               "documentOrigin": {
                "end": 289,
                "paragraphHash": "3caac687d8de438ebe7d31985c039ad9",
                "paragraphId": "1245CF3A",
                "paragraphIndex": 74,
                "start": 0
               },
               "text": "18.\tThe method of claim 14, wherein a stage one SCI of the SCI message includes an indication, to a set of UEs that includes the one or more UEs, that a second portion of the SCI message includes [[the]] information for polling for transmitting the control information."
              },
              {
               "deletions": [
                {
                 "length": 11,
                 "start": 4
                }
               ],
               "documentOrigin": {
                "end": 86,
                "paragraphHash": "55eab374e77d02a4ca37f75529f1118a",
                "paragraphId": "76249C34",
                "paragraphIndex": 75,
                "start": 0
               },
               "text": "19.\tThe method of claim 14, wherein transmitting the SCI message comprises:"
              },
              {
               "deletions": [],
               "documentOrigin": {
                "end": 82,
                "paragraphHash": "f9d4ee8dfdd3c124c8f071508a0b4fe5",
                "paragraphId": "7589772A",
                "paragraphIndex": 76,
                "start": 0
               },
               "text": "transmitting the SCI message within a physical sidelink shared channel (PSSCH), or"
              },
              {
               "deletions": [],
               "documentOrigin": {
                "end": 161,
                "paragraphHash": "91d7d1080918820b9e9124021b853edc",
                "paragraphId": "35AD8543",
                "paragraphIndex": 77,
                "start": 0
               },
               "text": "transmitting the SCI message with a first stage two SCI that is associated with a PSSCH transmission and a second stage two SCI that allocates the resource pool."
              },
              {
               "deletions": [
                {
                 "length": 11,
                 "start": 4
                }
               ],
               "documentOrigin": {
                "end": 88,
                "paragraphHash": "67ed92c395ad4b485a4bc14695041fdd",
                "paragraphId": "52FE7F24",
                "paragraphIndex": 78,
                "start": 0
               },
               "text": "20.\tThe method of claim 14, wherein the SCI message comprises one or more of:"
              },
              {
               "deletions": [],
               "documentOrigin": {
                "end": 76,
                "paragraphHash": "e2fdfa44abb3213e234ae5271163547b",
                "paragraphId": "0860728E",
                "paragraphIndex": 79,
                "start": 0
               },
               "text": "an allocation of the resource pool within a same slot as the SCI message, or"
              },
              {
               "deletions": [],
               "documentOrigin": {
                "end": 60,
                "paragraphHash": "753c210ac60aa6adfb254a3649ccacbc",
                "paragraphId": "77176954",
                "paragraphIndex": 80,
                "start": 0
               },
               "text": "an allocation of the resource pool within a subsequent slot."
              },
              {
               "deletions": [
                {
                 "length": 11,
                 "start": 4
                }
               ],
               "documentOrigin": {
                "end": 75,
                "paragraphHash": "9fa87e26937cc76ed0a0b0bffc1db2d8",
                "paragraphId": "616D4A47",
                "paragraphIndex": 81,
                "start": 0
               },
               "text": "21.\tThe method of claim 14, wherein the resource pool comprises:"
              },
              {
               "deletions": [],
               "documentOrigin": {
                "end": 115,
                "paragraphHash": "2ba369c2cbc58c1692c6c72dfb0ae4cb",
                "paragraphId": "38C77057",
                "paragraphIndex": 82,
                "start": 0
               },
               "text": "one or more resources that have been assigned, to the one or more UEs, previous to transmission of the SCI message."
              },
              {
               "deletions": [
                {
                 "length": 11,
                 "start": 4
                }
               ],
               "documentOrigin": {
                "end": 92,
                "paragraphHash": "3b4f944b5f1360863c997a4d7fb71d2d",
                "paragraphId": "2F2D7AB0",
                "paragraphIndex": 83,
                "start": 0
               },
               "text": "22.\tThe method of claim 14, wherein the resource pool is a dynamic resource pool,"
              },
              {
               "deletions": [],
               "documentOrigin": {
                "end": 180,
                "paragraphHash": "6956adc1dbfbabe71008c15b881c825f",
                "paragraphId": "7EC886FA",
                "paragraphIndex": 84,
                "start": 0
               },
               "text": "wherein the SCI message indicates, to a set of UEs that includes the one or more UEs, that the one or more UEs are polled to transmit the control information via the resource pool,"
              },
              {
               "deletions": [],
               "documentOrigin": {
                "end": 173,
                "paragraphHash": "95430d5b34face7f59295d0d36fa8ee0",
                "paragraphId": "6DEF2B3D",
                "paragraphIndex": 85,
                "start": 0
               },
               "text": "wherein the SCI message indicates an allocation of resources, within the resource pool, for respective UEs of the one or more UEs to use to transmit the control information,"
              },
              {
               "deletions": [],
               "documentOrigin": {
                "end": 132,
                "paragraphHash": "aa2c3f401229a030e1e70980bd45f755",
                "paragraphId": "0B5ABE45",
                "paragraphIndex": 86,
                "start": 0
               },
               "text": "wherein the SCI message indicates sequences for respective UEs of the one or more UEs to use to transmit the control information, or"
              },
              {
               "deletions": [],
               "documentOrigin": {
                "end": 25,
                "paragraphHash": "1997d42dbbf7f485254445ca7896e902",
                "paragraphId": "33422154",
                "paragraphIndex": 87,
                "start": 0
               },
               "text": "some combination thereof."
              },
              {
               "deletions": [
                {
                 "length": 11,
                 "start": 4
                }
               ],
               "documentOrigin": {
                "end": 241,
                "paragraphHash": "69be7269eb776dba010a130b60e62abf",
                "paragraphId": "673BD084",
                "paragraphIndex": 88,
                "start": 0
               },
               "text": "23.\tThe method of claim 14, wherein the SCI message includes an indication of an assignment, for at least one UE of the one or more UEs, of one or more resources within the resource pool to use to transmit the control information,"
              },
              {
               "deletions": [],
               "documentOrigin": {
                "end": 118,
                "paragraphHash": "7f9ed708064d4821bfb6d4de3c1aea4f",
                "paragraphId": "7CBB53BB",
                "paragraphIndex": 89,
                "start": 0
               },
               "text": "wherein the indication of the assignment comprises a bitmap having a bit mapped to each UE of the one or more UEs, and"
              },
              {
               "deletions": [],
               "documentOrigin": {
                "end": 123,
                "paragraphHash": "e35f477890cc9414d7975dac259a8c5a",
                "paragraphId": "39882FD6",
                "paragraphIndex": 90,
                "start": 0
               },
               "text": "wherein the bitmap indicates that the at least one UE of the one or more UEs is polled to transmit the control information."
              },
              {
               "deletions": [
                {
                 "length": 11,
                 "start": 4
                }
               ],
               "documentOrigin": {
                "end": 215,
                "paragraphHash": "3ad1109715e667d49591a51b95db2fa3",
                "paragraphId": "69199849",
                "paragraphIndex": 91,
                "start": 0
               },
               "text": "24.\tThe method of claim 14, wherein the SCI message dynamically allocates an additional resource pool for the one or more UEs to transmit the control information to the wireless communication device, and "
              },
              {
               "deletions": [],
               "documentOrigin": {
                "end": 83,
                "paragraphHash": "92a46d16d42a12abbe52daf5f53a0a57",
                "paragraphId": "15F4267A",
                "paragraphIndex": 92,
                "start": 0
               },
               "text": "wherein the resource pool and the additional resource pool comprise one or more of:"
              },
              {
               "deletions": [],
               "documentOrigin": {
                "end": 102,
                "paragraphHash": "c637ed80f8e0e4a585a5f09e539db3bf",
                "paragraphId": "5274D6C2",
                "paragraphIndex": 93,
                "start": 0
               },
               "text": "a first resource pool including only resources that are previously assigned to the one or more UEs, or"
              },
              {
               "deletions": [],
               "documentOrigin": {
                "end": 63,
                "paragraphHash": "b39566aabcb3fcd5997e1e9a9af7daa7",
                "paragraphId": "675FB268",
                "paragraphIndex": 94,
                "start": 0
               },
               "text": "a second resource pool including resources that are unassigned."
              },
              {
               "deletions": [
                {
                 "length": 11,
                 "start": 4
                }
               ],
               "documentOrigin": {
                "end": 106,
                "paragraphHash": "0ff25dd06406bdba94774bcd37c4190a",
                "paragraphId": "4DD2BFAA",
                "paragraphIndex": 95,
                "start": 0
               },
               "text": "25.\tThe method of claim 14, wherein the resource pool includes a set of pre-assigned resources,"
              },
              {
               "deletions": [],
               "documentOrigin": {
                "end": 119,
                "paragraphHash": "defe8eeb3c6bf8d450a344c7d5702850",
                "paragraphId": "290FAD15",
                "paragraphIndex": 96,
                "start": 0
               },
               "text": "wherein the SCI message cancels one or more assignments associated with a subset of the set of pre-assigned resources, "
              },
              {
               "deletions": [],
               "documentOrigin": {
                "end": 108,
                "paragraphHash": "7edb1079a3339703c4aff14497c7bbbf",
                "paragraphId": "596FCDAD",
                "paragraphIndex": 97,
                "start": 0
               },
               "text": "wherein the SCI message assigns one or more resources of the subset of the set of pre-assigned resources, or"
              },
              {
               "deletions": [],
               "documentOrigin": {
                "end": 25,
                "paragraphHash": "1997d42dbbf7f485254445ca7896e902",
                "paragraphId": "313257E4",
                "paragraphIndex": 98,
                "start": 0
               },
               "text": "some combination thereof."
              },
              {
               "deletions": [
                {
                 "length": 11,
                 "start": 4
                }
               ],
               "documentOrigin": {
                "end": 96,
                "paragraphHash": "af2ee586dd762eb298cc13417ad5ee56",
                "paragraphId": "267518BF",
                "paragraphIndex": 99,
                "start": 0
               },
               "text": "26.\tThe method of claim 14, wherein the control information comprises one or more of:"
              },
              {
               "deletions": [],
               "documentOrigin": {
                "end": 56,
                "paragraphHash": "ffe1251a68a248acf81711eb95fd957e",
                "paragraphId": "75432B87",
                "paragraphIndex": 100,
                "start": 0
               },
               "text": "one or more scheduling requests for the one or more UEs,"
              },
              {
               "deletions": [],
               "documentOrigin": {
                "end": 58,
                "paragraphHash": "e7f11e7bcd802ef5223ff50ecc88bc13",
                "paragraphId": "2CE9D993",
                "paragraphIndex": 101,
                "start": 0
               },
               "text": "one or more buffer status reports for the one or more UEs,"
              },
              {
               "deletions": [],
               "documentOrigin": {
                "end": 79,
                "paragraphHash": "4dd5ea3ff3db7256603741330280f75c",
                "paragraphId": "224C95E0",
                "paragraphIndex": 102,
                "start": 0
               },
               "text": "one or more indications to maintain a configured grant for the one or more UEs,"
              },
              {
               "deletions": [],
               "documentOrigin": {
                "end": 107,
                "paragraphHash": "0848ab6867cc36ec673822ebd3dc4917",
                "paragraphId": "6F1E7210",
                "paragraphIndex": 103,
                "start": 0
               },
               "text": "information associated with a forward link signal-to-interference-plus-noise ratio for the one or more UEs,"
              },
              {
               "deletions": [],
               "documentOrigin": {
                "end": 67,
                "paragraphHash": "66e32618ac87ad75503bb94d8a368851",
                "paragraphId": "7E0AB8C9",
                "paragraphIndex": 104,
                "start": 0
               },
               "text": "one or more indications of channel busy ratio (CBR) overloading, or"
              },
              {
               "deletions": [],
               "documentOrigin": {
                "end": 26,
                "paragraphHash": "0b117bab83e5e1b4a664cd502b7c77a9",
                "paragraphId": "7C5FE34A",
                "paragraphIndex": 105,
                "start": 0
               },
               "text": "some combination thereof. "
              },
              {
               "deletions": [
                {
                 "length": 20,
                 "start": 4
                }
               ],
               "documentOrigin": {
                "end": 159,
                "paragraphHash": "3f3dec5a1c44407109194de42171c845",
                "paragraphId": "521296A8",
                "paragraphIndex": 106,
                "start": 0
               },
               "text": "27.\tA non-transitory computer-readable medium storing a set of instructions for wireless communication, the set of instructions comprising:"
              },
              {
               "deletions": [],
               "documentOrigin": {
                "end": 150,
                "paragraphHash": "bccae4f5bcc323555b9061b1eaa1cca5",
                "paragraphId": "2E2A8B8A",
                "paragraphIndex": 107,
                "start": 0
               },
               "text": "one or more instructions that, when executed by one or more processors of a wireless communication device, cause the wireless communication device to:"
              },
              {
               "deletions": [
                {
                 "length": 92,
                 "start": 328
                }
               ],
               "documentOrigin": {
                "end": 425,
                "paragraphHash": "91e64dba70da9f4991c0a92438264393",
                "paragraphId": "3138052D",
                "paragraphIndex": 108,
                "start": 0
               },
               "text": "transmit a sidelink control information (SCI) message that dynamically allocates a resource pool configured for polled control information, the resource pool being configured for one or more user equipment (UEs) to transmit control information to the wireless communication device when polled to transmit the control information; and"
              },
              {
               "deletions": [],
               "documentOrigin": {
                "end": 127,
                "paragraphHash": "05744ae579b307d17bf5142f6a9dc5ca",
                "paragraphId": "4D2B533B",
                "paragraphIndex": 109,
                "start": 0
               },
               "text": "receive the control information, via the resource pool and based at least in part on the SCI message, from the one or more UEs."
              },
              {
               "deletions": [
                {
                 "length": 11,
                 "start": 4
                }
               ],
               "documentOrigin": {
                "end": 228,
                "paragraphHash": "885fb31182cc9298513e24020377a3b1",
                "paragraphId": "2DCB6199",
                "paragraphIndex": 110,
                "start": 0
               },
               "text": "28.\tThe non-transitory computer-readable medium of claim 27, wherein the resource pool comprises orthogonal resource units configured to be shared by the one or more UEs to transmit sequence-based control information,"
              },
              {
               "deletions": [],
               "documentOrigin": {
                "end": 144,
                "paragraphHash": "9ad5dedc427c9d7e6c7d0b320547f4bf",
                "paragraphId": "6E6BFE20",
                "paragraphIndex": 111,
                "start": 0
               },
               "text": "wherein the resource pool is configured with multiple single-resource-block-per-symbol portions to carry the sequence-based control information,"
              },
              {
               "deletions": [],
               "documentOrigin": {
                "end": 96,
                "paragraphHash": "9a2cbe6a4028aaf7e475624d071d6ef8",
                "paragraphId": "4000FFC5",
                "paragraphIndex": 112,
                "start": 0
               },
               "text": "wherein the resource pool is orthogonal to a physical sidelink feedback channel (PSFCH) pool, or"
              },
              {
               "deletions": [],
               "documentOrigin": {
                "end": 25,
                "paragraphHash": "0b626da7545d4d9420b3350303c335bf",
                "paragraphId": "01610302",
                "paragraphIndex": 113,
                "start": 0
               },
               "text": "some combination thereof."
              },
              {
               "deletions": [
                {
                 "length": 20,
                 "start": 4
                }
               ],
               "documentOrigin": {
                "end": 76,
                "paragraphHash": "a5dc401df7f663b60862807541b9bc3f",
                "paragraphId": "4F9187A8",
                "paragraphIndex": 114,
                "start": 0
               },
               "text": "29.\tAn apparatus for wireless communication, comprising:"
              },
              {
               "deletions": [
                {
                 "length": 92,
                 "start": 322
                }
               ],
               "documentOrigin": {
                "end": 419,
                "paragraphHash": "9942594c8c6c0bf7a93181f8942c6b60",
                "paragraphId": "1D0E14C1",
                "paragraphIndex": 115,
                "start": 0
               },
               "text": "means for transmitting a sidelink control information (SCI) message that dynamically allocates a resource pool configured for polled control information, the resource pool being configured for one or more user equipment (UEs) to transmit control information to the apparatus when polled to transmit the control information; and"
              },
              {
               "deletions": [],
               "documentOrigin": {
                "end": 139,
                "paragraphHash": "360c8e665b0cdb61ff6b51691a207957",
                "paragraphId": "403EFDBD",
                "paragraphIndex": 116,
                "start": 0
               },
               "text": "means for receiving the control information, via the resource pool and based at least in part on the SCI message, from the one or more UEs."
              },
              {
               "deletions": [
                {
                 "length": 11,
                 "start": 4
                }
               ],
               "documentOrigin": {
                "end": 198,
                "paragraphHash": "83b455f2a532c01555a71ae064868eca",
                "paragraphId": "4BE31546",
                "paragraphIndex": 117,
                "start": 0
               },
               "text": "30.\tThe apparatus of claim 29, wherein the resource pool comprises orthogonal resource units configured to be shared by the one or more UEs to transmit sequence-based control information,"
              },
              {
               "deletions": [],
               "documentOrigin": {
                "end": 144,
                "paragraphHash": "9ad5dedc427c9d7e6c7d0b320547f4bf",
                "paragraphId": "61B3FC50",
                "paragraphIndex": 118,
                "start": 0
               },
               "text": "wherein the resource pool is configured with multiple single-resource-block-per-symbol portions to carry the sequence-based control information,"
              },
              {
               "deletions": [],
               "documentOrigin": {
                "end": 96,
                "paragraphHash": "9a2cbe6a4028aaf7e475624d071d6ef8",
                "paragraphId": "50E379C1",
                "paragraphIndex": 119,
                "start": 0
               },
               "text": "wherein the resource pool is orthogonal to a physical sidelink feedback channel (PSFCH) pool, or"
              },
              {
               "deletions": [],
               "documentOrigin": {
                "end": 25,
                "paragraphHash": "0b626da7545d4d9420b3350303c335bf",
                "paragraphId": "41C2C225",
                "paragraphIndex": 120,
                "start": 0
               },
               "text": "some combination thereof."
              }
             ],
             "sectionOrigin": {
              "end": 120,
              "start": 14
             },
             "wordsCount": 2057
            },
            "heading": {
             "length": 1,
             "paragraph": {
              "deletions": [],
              "documentOrigin": {
               "end": 18,
               "paragraphHash": "e3355aa54a35648e04ad7e7181ea52b7",
               "paragraphId": "01167D0A",
               "paragraphIndex": 13,
               "start": 0
              },
              "text": "Listing of Claims:"
             },
             "wordsCount": 3
            },
            "name": "Claims",
            "sectionOrigin": {
             "end": 120,
             "start": 13
            },
            "type": 6
           }
          ],
          "type": 12
         },
         {
          "body": {
           "length": 33,
           "paragraphs": [
            {
             "deletions": [],
             "documentOrigin": {
              "end": 162,
              "paragraphHash": "86318cb520584ca39523058ef93d8df2",
              "paragraphId": "08869CCF",
              "paragraphIndex": 122,
              "start": 0
             },
             "text": "\tApplicant addresses below the issues raised by the Office Action.  Applicant thanks the Examiner with appreciation for the careful consideration and examination."
            },
            {
             "deletions": [],
             "documentOrigin": {
              "end": 521,
              "paragraphHash": "fc6b7aff5be9510fddf0a168701562d5",
              "paragraphId": "2F3A565D",
              "paragraphIndex": 123,
              "start": 0
             },
             "text": "\tApplicant files this response solely to facilitate prosecution.  As such, Applicant reserves the right to pursue claims of broader or similar scope as originally filed in this application, a continuation application, or other application.  Applicant does not concede that the current or past rejections are correct and reserves the right to challenge such rejections later in prosecution or on appeal.  Any amendment, argument, or claim cancellation is not to be construed as abandonment or disclaimer of subject matter."
            },
            {
             "deletions": [],
             "documentOrigin": {
              "end": 187,
              "paragraphHash": "d802d999a7b1121c685649540266e48d",
              "paragraphId": "7F952042",
              "paragraphIndex": 124,
              "start": 0
             },
             "text": "\tIt is believed that the initially filed claims are patentable and these modifications are believed to also be patentable.  Here are several reasons why the pending claims are patentable."
            },
            {
             "deletions": [],
             "documentOrigin": {
              "end": 15,
              "paragraphHash": "536642bdc7a3aade48dc2ca635be971c",
              "paragraphId": "22929E99",
              "paragraphIndex": 125,
              "start": 0
             },
             "text": "Example Support"
            },
            {
             "deletions": [],
             "documentOrigin": {
              "end": 108,
              "paragraphHash": "e681b07a44cf1cbc078dc8cf7976113a",
              "paragraphId": "6DDB233A",
              "paragraphIndex": 126,
              "start": 0
             },
             "text": "\tExample support for the amended claims may be found in, for example, paragraphs 87-94 of the specification."
            },
            {
             "deletions": [],
             "documentOrigin": {
              "end": 42,
              "paragraphHash": "215833d393a9f1790c62c96b10e11d3a",
              "paragraphId": "778A3197",
              "paragraphIndex": 127,
              "start": 0
             },
             "text": "Statement Regarding Substance of Interview"
            },
            {
             "deletions": [],
             "documentOrigin": {
              "end": 540,
              "paragraphHash": "fd848230e89021afe3e33208ce6e4864",
              "paragraphId": "0B9D5A81",
              "paragraphIndex": 128,
              "start": 0
             },
             "text": "Applicant submits that an interview occurred on April 11, 2023, with Applicant’s representative, Spencer Peterson, and Examiner Jain.  Applicant appreciates the courtesies extended during the interview.  During the interview, Applicant’s representative discussed the claims, the rejection, the applied references, and proposed claim amendments.  No agreement was reached.  The Examiner also agreed to call Applicant’s representative to resolve any remaining issues if the Examiner believes the application is not in condition for allowance."
            },
            {
             "deletions": [],
             "documentOrigin": {
              "end": 24,
              "paragraphHash": "b8db7debcafb3a2c3ca5e1c2a3c19fde",
              "paragraphId": "26647D00",
              "paragraphIndex": 129,
              "start": 0
             },
             "text": "Allowable Subject Matter"
            },
            {
             "deletions": [],
             "documentOrigin": {
              "end": 137,
              "paragraphHash": "ab1ef0c6097008cc9b2ae8994be3374a",
              "paragraphId": "0A743010",
              "paragraphIndex": 130,
              "start": 0
             },
             "text": "Applicant notes, with appreciation, the Examiner’s indication that claims 4, 5, 9-12, 17, 18, and 22-25 contain allowable subject matter."
            },
            {
             "deletions": [],
             "documentOrigin": {
              "end": 63,
              "paragraphHash": "37dff1c07e4fec862bf4eb946544a842",
              "paragraphId": "5AB3B036",
              "paragraphIndex": 131,
              "start": 0
             },
             "text": "Rejection under 35 U.S.C. § 103 based on LI, ADJAKPLE, and YOON"
            },
            {
             "deletions": [],
             "documentOrigin": {
              "end": 186,
              "paragraphHash": "0ccd0fbdce48304b5f0c1f1f2c5fc86f",
              "paragraphId": "3A7BFC95",
              "paragraphIndex": 132,
              "start": 0
             },
             "text": "Claims 1-3, 6-8, 13-16, 19-21 and 26-30 stand rejected under 35 U.S.C. § 103 as allegedly being unpatentable over LI, ADJAKPLE, and YOON.  Applicant respectfully traverses the rejection."
            },
            {
             "deletions": [],
             "documentOrigin": {
              "end": 188,
              "paragraphHash": "e8fad4ee4496449f3be433d4f31e0258",
              "paragraphId": "50FD73FB",
              "paragraphIndex": 133,
              "start": 0
             },
             "text": "Applicant respectfully submits that LI, ADJAKPLE, and YOON do not disclose each and every feature recited in amended claim 1.  For example, LI and YOON do not disclose or suggest at least:"
            },
            {
             "deletions": [],
             "documentOrigin": {
              "end": 336,
              "paragraphHash": "e52b04081dc2bcede5210dd4c66d9766",
              "paragraphId": "572057D6",
              "paragraphIndex": 134,
              "start": 0
             },
             "text": "transmit[ting] a sidelink control information (SCI) message that dynamically allocates a resource pool configured for polled control information, the resource pool being configured for one or more user equipment (UEs) to transmit control information to the wireless communication device when polled to transmit the control information, "
            },
            {
             "deletions": [],
             "documentOrigin": {
              "end": 32,
              "paragraphHash": "aa0e227e9deef7cc4ce14282845d5531",
              "paragraphId": "56F5D3CD",
              "paragraphIndex": 135,
              "start": 0
             },
             "text": "as recited in amended claim 1.  "
            },
            {
             "deletions": [],
             "documentOrigin": {
              "end": 616,
              "paragraphHash": "b1a337d0df6f2e21e99670ceee3c083d",
              "paragraphId": "1F0B22FA",
              "paragraphIndex": 136,
              "start": 0
             },
             "text": "The Office Action concedes that LI does not disclose “the SCI message including information for polling for transmitting the control information,” as recited in previously presented claim 1.  See Final Office Action, page 3.  At least by extension, LI also fails to disclose or suggest at least “dynamically allocat[ing] a resource pool configured for polled control information,” and “the resource pool being configured for one or more user equipment (UEs) to transmit control information to the wireless communication device when polled to transmit the control information,” as recited in claim 1 (emphasis added)."
            },
            {
             "deletions": [],
             "documentOrigin": {
              "end": 499,
              "paragraphHash": "3d6835127d989e62ac4025c68fab6380",
              "paragraphId": "14D6D44F",
              "paragraphIndex": 137,
              "start": 0
             },
             "text": "The Office Action relies on ADJAKPLE to allegedly teach “the SCI message including information for polling for transmitting the control information,” as recited in previously presented claim 1.  See Final Office Action, page 3.  However, ADJAKPLE does not disclose or suggest at least the cited features of amended claim 1.  For example, in the portion cited by the Office Action, ADJAKPLE describes polling UEs, where a “poll message may be carried in a new SCI format.”  ADJAKPLE, paragraph 276.  "
            },
            {
             "deletions": [],
             "documentOrigin": {
              "end": 621,
              "paragraphHash": "cfc83982ad054288998759028f68aa07",
              "paragraphId": "7814D8DF",
              "paragraphIndex": 138,
              "start": 0
             },
             "text": "Thus, ADJAKPLE describes polling UEs using a new SCI format.  However, ADJAKPLE only generally mentions resource pools, and does not describe any particular configurations of resource pools, much less “dynamically allocat[ing] a resource pool configured for polled control information,” or “the resource pool being configured for one or more user equipment (UEs) to transmit control information to the wireless communication device when polled to transmit the control information,” as recited in claim 1 (emphasis added).  Therefore, ADJAKPLE cannot be relied on to disclose or suggest at least these features of claim 1."
            },
            {
             "deletions": [],
             "documentOrigin": {
              "end": 180,
              "paragraphHash": "15f8f82068cfb11dc02b11cf6f273064",
              "paragraphId": "3C14744A",
              "paragraphIndex": 139,
              "start": 0
             },
             "text": "The Office Action does not rely upon YOON to cure the deficiencies of LI and ADJAKPLE discussed above, and YOON does not cure the deficiencies of LI and ADJAKPLE discussed above.  "
            },
            {
             "deletions": [],
             "documentOrigin": {
              "end": 119,
              "paragraphHash": "f474208ede74ce3b6511bbff7844dfff",
              "paragraphId": "77BDFDCA",
              "paragraphIndex": 140,
              "start": 0
             },
             "text": "For at least the foregoing reasons, Applicant submits that amended claim 1 is patentable over LI, ADJAKPLE, and YOON.  "
            },
            {
             "deletions": [],
             "documentOrigin": {
              "end": 234,
              "paragraphHash": "980031286016a5ac2c87ca42ff05edec",
              "paragraphId": "4EBE3674",
              "paragraphIndex": 141,
              "start": 0
             },
             "text": "Independent claims 14, 27, and 29, amended as proposed, recite similar features.  Therefore, independent claims 1, 14, 27, and 29, and the claims that depend thereon, are patentable over the cited sections of LI, ADJAKPLE, and YOON.  "
            },
            {
             "deletions": [],
             "documentOrigin": {
              "end": 146,
              "paragraphHash": "563ab0c27bfccb1cfe32248f3b0d7ad2",
              "paragraphId": "723BD495",
              "paragraphIndex": 142,
              "start": 0
             },
             "text": "Accordingly, Applicant respectfully requests that the Examiner reconsider and withdraw the rejection of claims 1-3, 6-8, 13-16, 19-21 and 26-30.  "
            },
            {
             "deletions": [],
             "documentOrigin": {
              "end": 19,
              "paragraphHash": "16dae243294bf2c1c04b7fa09c745512",
              "paragraphId": "46B42B9B",
              "paragraphIndex": 143,
              "start": 0
             },
             "text": "Compact Prosecution"
            },
            {
             "deletions": [],
             "documentOrigin": {
              "end": 642,
              "paragraphHash": "7b4d784c6f34a66d6b305146d0483442",
              "paragraphId": "08F9A8D0",
              "paragraphIndex": 144,
              "start": 0
             },
             "text": "The Office Action provides a Notice of References Cited.  Under the policy of “compact” prosecution, Applicant submits that the Notice of References Cited serves as an acknowledgement that the Office conducted a full search and examination regarding the application and claims, and that no further search or examination of the claims is required in this application.  See MPEP § 904.03 (instructing Examiners to search “all subject matter which the examiner reasonably anticipates might be incorporated into applicant’s amendment”) and MPEP § 2103 (instructing Examiners to review Applicant’s “complete specification” for searching purposes)."
            },
            {
             "deletions": [],
             "documentOrigin": {
              "end": 10,
              "paragraphHash": "df374f80602006325597c06ed186a5be",
              "paragraphId": "417D3041",
              "paragraphIndex": 145,
              "start": 0
             },
             "text": "Conclusion"
            },
            {
             "deletions": [],
             "documentOrigin": {
              "end": 111,
              "paragraphHash": "a96014881202667e74e80f840f4f950d",
              "paragraphId": "7A160E4D",
              "paragraphIndex": 146,
              "start": 0
             },
             "text": "In view of the foregoing remarks, Applicant respectfully requests the timely allowance of the pending claims.  "
            },
            {
             "deletions": [],
             "documentOrigin": {
              "end": 473,
              "paragraphHash": "943122b4a861b91b8c2fc266dc04dfe1",
              "paragraphId": "303658D8",
              "paragraphIndex": 147,
              "start": 0
             },
             "text": "Applicant’s silence as to assertions in the Office Action or certain requirements that may be applicable to such assertions (e.g., whether a reference constitutes prior art, reasons to modify a reference and/or combine references, assertions as to dependent claims, and/or the like) is not a concession by Applicant that such assertions are accurate or such requirements have been met, and Applicant reserves the right to dispute such assertions/requirements in the future."
            },
            {
             "deletions": [],
             "documentOrigin": {
              "end": 309,
              "paragraphHash": "b206602057f6b3283f3bdfe583a23f62",
              "paragraphId": "21A8EA98",
              "paragraphIndex": 148,
              "start": 0
             },
             "text": "To the extent necessary, a petition for an extension of time under 37 C.F.R. § 1.136 is hereby made.  Please charge any shortage in fees due in connection with the filing of this paper, including extension of time fees, to Deposit Account No. 50-1070 and please credit any excess fees to such deposit account."
            },
            {
             "deletions": [],
             "documentOrigin": {
              "end": 29,
              "paragraphHash": "56f9a4579d53b0c9c989778af2168a33",
              "paragraphId": "683C8648",
              "paragraphIndex": 149,
              "start": 0
             },
             "text": "\t\t\t\t\t\tRespectfully submitted,"
            },
            {
             "deletions": [],
             "documentOrigin": {
              "end": 28,
              "paragraphHash": "8feb07e2fce46918726df38bc39016ee",
              "paragraphId": "7B64D0A2",
              "paragraphIndex": 150,
              "start": 0
             },
             "text": "\t\t\t\t\t\tHarrity & Harrity, LLP"
            },
            {
             "deletions": [],
             "documentOrigin": {
              "end": 10,
              "paragraphHash": "45929f8ed7a9df7675e857631b0251da",
              "paragraphId": "7F904931",
              "paragraphIndex": 151,
              "start": 0
             },
             "text": "\t\t\t\t\t\tBy: "
            },
            {
             "deletions": [],
             "documentOrigin": {
              "end": 39,
              "paragraphHash": "39ec4aa6e0d85d72465c9e079d36d607",
              "paragraphId": "5D54DB94",
              "paragraphIndex": 152,
              "start": 0
             },
             "text": "\t\t\t\t\t\tSpencer Peterson, Reg. No. 80,868"
            },
            {
             "deletions": [],
             "documentOrigin": {
              "end": 20,
              "paragraphHash": "d6d241e7ccabb9cb6332fc7cc4875079",
              "paragraphId": "14C6EFAA",
              "paragraphIndex": 153,
              "start": 0
             },
             "text": "Direct: 208-202-5499"
            },
            {
             "deletions": [],
             "documentOrigin": {
              "end": 18,
              "paragraphHash": "06cc1b7cf8fc576a395a3b4279a1d5fd",
              "paragraphId": "1B78A37F",
              "paragraphIndex": 154,
              "start": 0
             },
             "text": "Main: 571-432-0800"
            }
           ],
           "sectionOrigin": {
            "end": 154,
            "start": 122
           },
           "wordsCount": 1009
          },
          "heading": {
           "length": 1,
           "paragraph": {
            "deletions": [],
            "documentOrigin": {
             "end": 8,
             "paragraphHash": "cf03b7e65df280e4f9ebefb98b141b3f",
             "paragraphId": "69EB3675",
             "paragraphIndex": 121,
             "start": 0
            },
            "text": "\nREMARKS"
           },
           "wordsCount": 1
          },
          "name": "Remarks",
          "sectionOrigin": {
           "end": 154,
           "start": 121
          },
          "type": 13
         },
         {
          "name": "ClaimSet",
          "sectionOrigin": {
           "end": 105,
           "start": 61
          },
          "type": 9
         },
         {
          "name": "ClaimSet",
          "sectionOrigin": {
           "end": 113,
           "start": 106
          },
          "type": 9
         },
         {
          "name": "ClaimSet",
          "sectionOrigin": {
           "end": 120,
           "start": 114
          },
          "type": 9
         }
        ],
        "title": {}
       },
       "validation": {
        "results": [],
        "ruleTemplateErrors": []
       }
      },
      "text/plain": [
       "<IPython.core.display.JSON object>"
      ]
     },
     "execution_count": 5,
     "metadata": {
      "application/json": {
       "expanded": false,
       "root": "root"
      }
     },
     "output_type": "execute_result"
    }
   ],
   "source": [
    "JSON(context)"
   ]
  },
  {
   "cell_type": "code",
   "execution_count": null,
   "id": "ad0cd546-ab48-4e49-9fff-62f8fa9b49e8",
   "metadata": {},
   "outputs": [],
   "source": []
  },
  {
   "cell_type": "code",
   "execution_count": null,
   "id": "9a089961-3ae6-4b11-9707-67161a3a12ad",
   "metadata": {},
   "outputs": [],
   "source": []
  }
 ],
 "metadata": {
  "kernelspec": {
   "display_name": "Python 3 (ipykernel)",
   "language": "python",
   "name": "python3"
  },
  "language_info": {
   "codemirror_mode": {
    "name": "ipython",
    "version": 3
   },
   "file_extension": ".py",
   "mimetype": "text/x-python",
   "name": "python",
   "nbconvert_exporter": "python",
   "pygments_lexer": "ipython3",
   "version": "3.8.10"
  }
 },
 "nbformat": 4,
 "nbformat_minor": 5
}
