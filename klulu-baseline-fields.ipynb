{
 "cells": [
  {
   "cell_type": "code",
   "execution_count": 1,
   "metadata": {},
   "outputs": [],
   "source": [
    "%load_ext autoreload"
   ]
  },
  {
   "cell_type": "code",
   "execution_count": 2,
   "metadata": {},
   "outputs": [],
   "source": [
    "%autoreload 1"
   ]
  },
  {
   "cell_type": "code",
   "execution_count": 3,
   "metadata": {},
   "outputs": [],
   "source": [
    "from IPython.core.interactiveshell import InteractiveShell\n",
    "InteractiveShell.ast_node_interactivity = \"all\""
   ]
  },
  {
   "cell_type": "code",
   "execution_count": 4,
   "metadata": {},
   "outputs": [],
   "source": [
    "import os\n",
    "import sys"
   ]
  },
  {
   "cell_type": "code",
   "execution_count": 5,
   "metadata": {},
   "outputs": [],
   "source": [
    "library_path = os.environ.get(\"NLP_PATENT_PATH\")\n",
    "if library_path not in sys.path:\n",
    "    sys.path.append(library_path)"
   ]
  },
  {
   "cell_type": "code",
   "execution_count": 6,
   "metadata": {},
   "outputs": [],
   "source": [
    "%aimport settings\n",
    "%aimport app.io.file_readers"
   ]
  },
  {
   "cell_type": "code",
   "execution_count": 7,
   "metadata": {},
   "outputs": [],
   "source": [
    "import json\n",
    "\n",
    "from docx import Document\n",
    "import re\n",
    "from pathlib import Path\n",
    "import spacy\n",
    "from spacy.matcher import PhraseMatcher, Matcher\n",
    "from spacy.tokens import Span, Doc, Token\n",
    "from spacy import displacy"
   ]
  },
  {
   "cell_type": "code",
   "execution_count": 8,
   "metadata": {},
   "outputs": [],
   "source": [
    "from settings import DATA_DIR\n",
    "from app.io.file_readers import get_text_from_word_document"
   ]
  },
  {
   "cell_type": "markdown",
   "metadata": {},
   "source": [
    "##### SpaCy re-cap"
   ]
  },
  {
   "cell_type": "code",
   "execution_count": 31,
   "metadata": {},
   "outputs": [],
   "source": [
    "Doc.set_extension('title', default=None, force=True)\n",
    "Token.set_extension('is_color', default=False)"
   ]
  },
  {
   "cell_type": "code",
   "execution_count": 49,
   "metadata": {},
   "outputs": [
    {
     "name": "stdout",
     "output_type": "stream",
     "text": [
      "<strong>Hello world</strong>\n"
     ]
    }
   ],
   "source": [
    "from spacy.lang.en import English\n",
    "from spacy.tokens import Span\n",
    "\n",
    "nlp = English()\n",
    "\n",
    "# Define the method\n",
    "def to_html(span, tag):\n",
    "    # Wrap the span text in a HTML tag and return it\n",
    "    return \"<{tag}>{text}</{tag}>\".format(tag=tag, text=span.text)\n",
    "\n",
    "\n",
    "# Register the Span property extension 'to_html' with the method to_html\n",
    "Span.set_extension(\"to_html\", method=to_html)\n",
    "\n",
    "# Process the text and call the to_html method on the span with the tag name 'strong'\n",
    "doc = nlp(\"Hello world, this is a sentence.\")\n",
    "span = doc[0:2]\n",
    "print(span._.to_html(\"strong\"))"
   ]
  },
  {
   "cell_type": "code",
   "execution_count": 20,
   "metadata": {},
   "outputs": [
    {
     "name": "stdout",
     "output_type": "stream",
     "text": [
      "fifty years None\n",
      "first None\n",
      "David Bowie https://en.wikipedia.org/w/index.php?search=David_Bowie\n"
     ]
    }
   ],
   "source": [
    "import spacy\n",
    "from spacy.tokens import Span\n",
    "\n",
    "nlp = spacy.load(\"en_core_web_sm\")\n",
    "\n",
    "\n",
    "def get_wikipedia_url(span):\n",
    "    # Get a Wikipedia URL if the span has one of the labels\n",
    "    if span.label_ in (\"PERSON\", \"ORG\", \"GPE\", \"LOCATION\"):\n",
    "        entity_text = span.text.replace(\" \", \"_\")\n",
    "        return \"https://en.wikipedia.org/w/index.php?search=\" + entity_text\n",
    "\n",
    "\n",
    "# Set the Span extension wikipedia_url using get getter get_wikipedia_url\n",
    "Span.set_extension(\"wikipedia_url\", getter=get_wikipedia_url, force=True)\n",
    "\n",
    "doc = nlp(\n",
    "    \"In over fifty years from his very first recordings right through to his \"\n",
    "    \"last album, David Bowie was at the vanguard of contemporary culture.\"\n",
    ")\n",
    "for ent in doc.ents:\n",
    "    # Print the text and Wikipedia URL of the entity\n",
    "    print(ent.text, ent._.wikipedia_url)"
   ]
  },
  {
   "cell_type": "code",
   "execution_count": 33,
   "metadata": {},
   "outputs": [
    {
     "name": "stdout",
     "output_type": "stream",
     "text": [
      "['tagger', 'parser', 'ner', 'countries_component']\n",
      "[('Czech Republic', 'GPE', 'A'), ('Slovakia', 'GPE', 'B')]\n"
     ]
    }
   ],
   "source": [
    "from spacy.lang.en import English\n",
    "from spacy.tokens import Span\n",
    "from spacy.matcher import PhraseMatcher\n",
    "\n",
    "COUNTRIES = [\"Czech Republic\", \"Slovakia\"]\n",
    "\n",
    "CAPITALS = {\"Czech Republic\": \"A\", \"Slovakia\": \"B\"}\n",
    "\n",
    "matcher = PhraseMatcher(nlp.vocab)\n",
    "matcher.add(\"COUNTRY\", None, *list(nlp.pipe(COUNTRIES)))\n",
    "\n",
    "\n",
    "def countries_component(doc):\n",
    "    # Create an entity Span with the label 'GPE' for all matches\n",
    "    matches = matcher(doc)\n",
    "    doc.ents = [Span(doc, start, end, label=\"GPE\") for match_id, start, end in matches]\n",
    "    return doc\n",
    "\n",
    "# Add the component to the pipeline\n",
    "nlp.add_pipe(countries_component)\n",
    "print(nlp.pipe_names)\n",
    "\n",
    "# Getter that looks up the span text in the dictionary of country capitals\n",
    "get_capital = lambda span: CAPITALS.get(span.text)\n",
    "\n",
    "# Register the Span extension attribute 'capital' with the getter get_capital\n",
    "Span.set_extension(\"capital\", getter=get_capital, force=True)\n",
    "\n",
    "# Process the text and print the entity text, label and capital attributes\n",
    "doc = nlp(\"Czech Republic may help Slovakia protect its airspace\")\n",
    "print([(ent.text, ent.label_, ent._.capital) for ent in doc.ents])"
   ]
  },
  {
   "cell_type": "code",
   "execution_count": 76,
   "metadata": {},
   "outputs": [
    {
     "name": "stdout",
     "output_type": "stream",
     "text": [
      "[0, 2, 6, 10, 15, 21, 29, 32, 36]\n",
      "15 27 Great Britain\n"
     ]
    }
   ],
   "source": [
    "t = \"A big and cool Great Britain is here.\"\n",
    "d = nlp(t)\n",
    "pos = [X.idx for X in d]\n",
    "print(pos)\n",
    "c = d.ents[0]\n",
    "country_name = c.text\n",
    "start = pos[c.start]\n",
    "end = start + len(country_name) - 1\n",
    "print(start, end, t[start:end+1])"
   ]
  },
  {
   "cell_type": "code",
   "execution_count": 45,
   "metadata": {},
   "outputs": [
    {
     "name": "stdout",
     "output_type": "stream",
     "text": [
      "Percentage found: 60\n",
      "Percentage found: 4\n"
     ]
    }
   ],
   "source": [
    "from spacy.lang.en import English\n",
    "\n",
    "nlp = English()\n",
    "\n",
    "# Process the text\n",
    "doc = nlp(\n",
    "    \"In 1990, more than 60% of people in East Asia were in extreme poverty. \"\n",
    "    \"Now less than 4% are.\"\n",
    ")\n",
    "\n",
    "# Iterate over the tokens in the doc\n",
    "for token in doc:\n",
    "    # Check if the token resembles a number\n",
    "    if token.like_num:\n",
    "        # Get the next token in the document\n",
    "        next_idx = token.i + 1\n",
    "        if next_idx < len(doc):\n",
    "            next_token = doc[next_idx]\n",
    "        # Check if the next token's text equals '%'\n",
    "            if next_token.text == \"%\":\n",
    "                print(\"Percentage found:\", token.text)"
   ]
  },
  {
   "cell_type": "code",
   "execution_count": 85,
   "metadata": {},
   "outputs": [
    {
     "name": "stdout",
     "output_type": "stream",
     "text": [
      "PATTERN1 Amazon Prime\n",
      "PATTERN2 ad-free viewing\n",
      "PATTERN1 Amazon Prime\n",
      "PATTERN2 ad-free viewing\n",
      "PATTERN2 ad-free viewing\n",
      "PATTERN2 ad-free viewing\n"
     ]
    }
   ],
   "source": [
    "import spacy\n",
    "from spacy.matcher import Matcher\n",
    "\n",
    "nlp = spacy.load(\"en_core_web_sm\")\n",
    "doc = nlp(\n",
    "    \"Twitch Prime, the perks program for Amazon Prime members offering free \"\n",
    "    \"loot, games and other benefits, is ditching one of its best features: \"\n",
    "    \"ad-free viewing. According to an email sent out to Amazon Prime members \"\n",
    "    \"today, ad-free viewing will no longer be included as a part of Twitch \"\n",
    "    \"Prime for new members, beginning on September 14. However, members with \"\n",
    "    \"existing annual subscriptions will be able to continue to enjoy ad-free \"\n",
    "    \"viewing until their subscription comes up for renewal. Those with \"\n",
    "    \"monthly subscriptions will have access to ad-free viewing until October 15.\"\n",
    ")\n",
    "\n",
    "# Create the match patterns\n",
    "pattern1 = [{\"LOWER\": \"amazon\"}, {\"IS_TITLE\": True, \"POS\": \"PROPN\"}]\n",
    "pattern2 = [{\"LOWER\": \"ad\"}, {\"LOWER\": \"-\"}, {\"LOWER\": \"free\"}, {\"POS\": \"NOUN\"}]\n",
    "\n",
    "# Initialize the Matcher and add the patterns\n",
    "matcher = Matcher(nlp.vocab)\n",
    "matcher.add(\"PATTERN1\", None, pattern1)\n",
    "matcher.add(\"PATTERN2\", None, pattern2)\n",
    "\n",
    "# Iterate over the matches\n",
    "for match_id, start, end in matcher(doc):\n",
    "    # Print pattern string name and text of matched span\n",
    "    print(doc.vocab.strings[match_id], doc[start:end].text)"
   ]
  },
  {
   "cell_type": "markdown",
   "metadata": {},
   "source": [
    "##### Read the data"
   ]
  },
  {
   "cell_type": "code",
   "execution_count": 9,
   "metadata": {},
   "outputs": [
    {
     "name": "stdout",
     "output_type": "stream",
     "text": [
      "['context', 'before_analyze', 'context_request', 'after_analyze']\n"
     ]
    }
   ],
   "source": [
    "path = DATA_DIR / \"pipeline_sample\"\n",
    "json_files = list(path.glob(\"*json\"))\n",
    "data = {}\n",
    "for file in json_files:\n",
    "    key = file.name.split(\".\")[1].strip().lower()\n",
    "    with file.open() as f:\n",
    "        data[key] = json.load(f)\n",
    "\n",
    "print(list(data.keys()))\n",
    "texts = [claim[\"Preamble\"] for claim in data[\"before_analyze\"][\"Claims\"]]"
   ]
  },
  {
   "cell_type": "code",
   "execution_count": 11,
   "metadata": {},
   "outputs": [
    {
     "data": {
      "text/plain": [
       "'{\"Claims\": [{\"Preamble\": \"A method of wireless communication performed by a user equipment (UE), comprising:\", \"ClaimNumber\": 1, \"Limitations\": [{\"LimitationText\": \"receiving, when operating in a network that provides synchronization signals at a plurality of locations in a channel bandwidth, a common search space (CSS) indicator for a synchronization signal, wherein the CSS indicator indicates that the synchronization signal is not associated with a CSS for a downlink control channel; and\", \"Limitations\": []}, {\"LimitationText\": \"determining a location of the CSS for the downlink control channel based at least in part on the CSS indicator.\", \"Limitations\": []}], \"ClaimType\": 0, \"ParentClaimNumbers\": [], \"DeviceName\": \"\"}, {\"Preamble\": \"The method of claim 1, wherein the CSS indicator is receiving in a physical broadcast channel (PBCH).\", \"ClaimNumber\": 2, \"Limitations\": [], \"ClaimType\": 0, \"ParentClaimNumbers\": [], \"DeviceName\": \"\"}, {\"Preamble\": \"The method of claim 2, wherein the location of the CSS is determined based at least in part on the physical broadcast channel.\", \"ClaimNumber\": 3, \"Limitations\": [], \"ClaimType\": 0, \"ParentClaimNumbers\": [], \"DeviceName\": \"\"}, {\"Preamble\": \"The method of claim 1, wherein the CSS indicator includes information identifying a location of another synchronization signal that is associated with the CSS; and\", \"ClaimNumber\": 4, \"Limitations\": [{\"LimitationText\": \"wherein the location of the CSS is determined based at least in part on the other synchronization signal.\", \"Limitations\": []}], \"ClaimType\": 0, \"ParentClaimNumbers\": [], \"DeviceName\": \"\"}, {\"Preamble\": \"The method of claim 4, wherein the other synchronization signal is in the channel bandwidth.\", \"ClaimNumber\": 5, \"Limitations\": [], \"ClaimType\": 0, \"ParentClaimNumbers\": [], \"DeviceName\": \"\"}, {\"Preamble\": \"The method of claim 1, wherein the CSS indicator includes a one-bit flag that indicates that the synchronization signal is not associated with a CSS for the downlink control channel.\", \"ClaimNumber\": 6, \"Limitations\": [], \"ClaimType\": 0, \"ParentClaimNumbers\": [], \"DeviceName\": \"\"}, {\"Preamble\": \"The method of claim 1, wherein the channel bandwidth includes a plurality of synchronization signals and a plurality of CSSs,\", \"ClaimNumber\": 7, \"Limitations\": [{\"LimitationText\": \"wherein a quantity of synchronization signals, included in the plurality of synchronization signals, is greater than a quantity of CSSs included in the plurality of CSSs, and\", \"Limitations\": []}, {\"LimitationText\": \"wherein the plurality of synchronization signals includes the synchronization signal and the plurality of CSSs includes the CSS.\", \"Limitations\": []}], \"ClaimType\": 0, \"ParentClaimNumbers\": [], \"DeviceName\": \"\"}, {\"Preamble\": \"The method of claim 1, wherein the UE is configured to access the CSS based at least in part on determining the location of the CSS, wherein the CSS includes information associated with accessing the network.\", \"ClaimNumber\": 8, \"Limitations\": [], \"ClaimType\": 0, \"ParentClaimNumbers\": [], \"DeviceName\": \"\"}, {\"Preamble\": \"A user equipment (UE) for wireless communication, comprising:\", \"ClaimNumber\": 9, \"Limitations\": [{\"LimitationText\": \"memory; and\", \"Limitations\": []}, {\"LimitationText\": \"one or more processors coupled to the memory, the memory and the one or more processors configured to:\", \"Limitations\": [{\"LimitationText\": \"receive, when operating in a network that provides synchronization signals at a plurality of locations in a channel bandwidth, a common search space (CSS) indicator for a synchronization signal, wherein the CSS indicator indicates that the synchronization signal is not associated with a CSS for a downlink control channel; and\", \"Limitations\": []}, {\"LimitationText\": \"determine a location of the CSS for the downlink control channel based at least in part on the CSS indicator.\", \"Limitations\": []}]}], \"ClaimType\": 0, \"ParentClaimNumbers\": [], \"DeviceName\": \"\"}, {\"Preamble\": \"The UE of claim 9, wherein the CSS indicator is received in a physical broadcast channel (PBCH).\", \"ClaimNumber\": 10, \"Limitations\": [], \"ClaimType\": 0, \"ParentClaimNumbers\": [], \"DeviceName\": \"\"}, {\"Preamble\": \"The UE of claim 10, wherein the location of the CSS is determined based at least in part on the physical broadcast channel.\", \"ClaimNumber\": 11, \"Limitations\": [], \"ClaimType\": 0, \"ParentClaimNumbers\": [], \"DeviceName\": \"\"}, {\"Preamble\": \"The UE of claim 9, wherein the CSS indicator includes information identifying a location of another synchronization signal that is associated with the CSS; and\", \"ClaimNumber\": 12, \"Limitations\": [{\"LimitationText\": \"wherein the location of the CSS is determined based at least in part on the other synchronization signal.\", \"Limitations\": []}], \"ClaimType\": 0, \"ParentClaimNumbers\": [], \"DeviceName\": \"\"}, {\"Preamble\": \"The UE of claim 12, wherein the other synchronization signal is in the channel bandwidth.\", \"ClaimNumber\": 13, \"Limitations\": [], \"ClaimType\": 0, \"ParentClaimNumbers\": [], \"DeviceName\": \"\"}, {\"Preamble\": \"The UE of claim 9, wherein the CSS indicator includes a one-bit flag that indicates that the synchronization signal is not associated with a CSS for the downlink control channel.\", \"ClaimNumber\": 14, \"Limitations\": [], \"ClaimType\": 0, \"ParentClaimNumbers\": [], \"DeviceName\": \"\"}, {\"Preamble\": \"The UE of claim 9, wherein the channel bandwidth includes a plurality of synchronization signals and a plurality of CSSs,\", \"ClaimNumber\": 15, \"Limitations\": [{\"LimitationText\": \"wherein a quantity of synchronization signals, included in the plurality of synchronization signals, is greater than a quantity of CSSs included in the plurality of CSSs, and\", \"Limitations\": []}, {\"LimitationText\": \"wherein the plurality of synchronization signals includes the synchronization signal and the plurality of CSSs includes the CSS.\", \"Limitations\": []}], \"ClaimType\": 0, \"ParentClaimNumbers\": [], \"DeviceName\": \"\"}, {\"Preamble\": \"The UE of claim 9, wherein the UE is configured to access the CSS based at least in part on determining the location of the CSS, wherein the CSS includes information associated with accessing the network.\", \"ClaimNumber\": 16, \"Limitations\": [], \"ClaimType\": 0, \"ParentClaimNumbers\": [], \"DeviceName\": \"\"}, {\"Preamble\": \"A non-transitory computer-readable medium storing one or more instructions for wireless communication, the one or more instructions comprising:\", \"ClaimNumber\": 17, \"Limitations\": [{\"LimitationText\": \"one or more instructions that, when executed by one or more processors of a user equipment (UE), cause the one or more processors to:\", \"Limitations\": [{\"LimitationText\": \"receive, when operating in a network that provides synchronization signals at a plurality of locations in a channel bandwidth, a common search space (CSS) indicator for a synchronization signal, wherein the CSS indicator indicates that the synchronization signal is not associated with a CSS for a downlink control channel; and\", \"Limitations\": []}, {\"LimitationText\": \"determine a location of the CSS for the downlink control channel based at least in part on the CSS indicator.\", \"Limitations\": []}]}], \"ClaimType\": 0, \"ParentClaimNumbers\": [], \"DeviceName\": \"\"}, {\"Preamble\": \"The non-transitory computer-readable medium of claim 17, wherein the CSS indicator is received in a physical broadcast channel (PBCH).\", \"ClaimNumber\": 18, \"Limitations\": [], \"ClaimType\": 0, \"ParentClaimNumbers\": [], \"DeviceName\": \"\"}, {\"Preamble\": \"The non-transitory computer-readable medium of claim 18, wherein the location of the CSS is determined based at least in part on the physical broadcast channel.\", \"ClaimNumber\": 19, \"Limitations\": [], \"ClaimType\": 0, \"ParentClaimNumbers\": [], \"DeviceName\": \"\"}, {\"Preamble\": \"The non-transitory computer-readable medium of claim 17, wherein the CSS indicator includes information identifying a location of another synchronization signal that is associated with the CSS, wherein the other synchronization signal is in the channel bandwidth; and\", \"ClaimNumber\": 20, \"Limitations\": [{\"LimitationText\": \"wherein the location of the CSS is determined based at least in part on the other synchronization signal.\", \"Limitations\": []}], \"ClaimType\": 0, \"ParentClaimNumbers\": [], \"DeviceName\": \"\"}, {\"Preamble\": \"The non-transitory computer-readable medium of claim 17, wherein the CSS indicator includes a one-bit flag that indicates that the synchronization signal is not associated with a CSS for the downlink control channel.\", \"ClaimNumber\": 21, \"Limitations\": [], \"ClaimType\": 0, \"ParentClaimNumbers\": [], \"DeviceName\": \"\"}, {\"Preamble\": \"The non-transitory computer-readable medium of claim 17, wherein the channel bandwidth includes a plurality of synchronization signals and a plurality of CSSs,\", \"ClaimNumber\": 22, \"Limitations\": [{\"LimitationText\": \"wherein a quantity of synchronization signals, included in the plurality of synchronization signals, is greater than a quantity of CSSs included in the plurality of CSSs, and\", \"Limitations\": []}, {\"LimitationText\": \"wherein the plurality of synchronization signals includes the synchronization signal and the plurality of CSSs includes the CSS.\", \"Limitations\": []}], \"ClaimType\": 0, \"ParentClaimNumbers\": [], \"DeviceName\": \"\"}, {\"Preamble\": \"The non-transitory computer-readable medium of claim 17, wherein the UE is configured to access the CSS based at least in part on determining the location of the CSS, wherein the CSS includes information associated with accessing the network.\", \"ClaimNumber\": 23, \"Limitations\": [], \"ClaimType\": 0, \"ParentClaimNumbers\": [], \"DeviceName\": \"\"}, {\"Preamble\": \"An apparatus for wireless communication, comprising:\", \"ClaimNumber\": 24, \"Limitations\": [{\"LimitationText\": \"means for receiving, when operating in a network that provides synchronization signals at a plurality of locations in a channel bandwidth, a common search space (CSS) indicator for a synchronization signal, wherein the CSS indicator indicates that the synchronization signal is not associated with a CSS for a downlink control channel; and\", \"Limitations\": []}, {\"LimitationText\": \"means for determining a location of the CSS for the downlink control channel based at least in part on the CSS indicator.\", \"Limitations\": []}], \"ClaimType\": 0, \"ParentClaimNumbers\": [], \"DeviceName\": \"\"}, {\"Preamble\": \"The apparatus of claim 24, wherein the CSS indicator is received in a physical broadcast channel (PBCH).\", \"ClaimNumber\": 25, \"Limitations\": [], \"ClaimType\": 0, \"ParentClaimNumbers\": [], \"DeviceName\": \"\"}, {\"Preamble\": \"The apparatus of claim 25, wherein the location of the CSS is determined based at least in part on the physical broadcast channel.\", \"ClaimNumber\": 26, \"Limitations\": [], \"ClaimType\": 0, \"ParentClaimNumbers\": [], \"DeviceName\": \"\"}, {\"Preamble\": \"The apparatus of claim 24, wherein the CSS indicator includes information identifying a location of another synchronization signal that is associated with the CSS, wherein the other synchronization signal is in the channel bandwidth; and\", \"ClaimNumber\": 27, \"Limitations\": [{\"LimitationText\": \"wherein the location of the CSS is determined based at least in part on the other synchronization signal.\", \"Limitations\": []}], \"ClaimType\": 0, \"ParentClaimNumbers\": [], \"DeviceName\": \"\"}, {\"Preamble\": \"The apparatus of claim 24, wherein the CSS indicator includes a one-bit flag that indicates that the synchronization signal is not associated with a CSS for the downlink control channel.\", \"ClaimNumber\": 28, \"Limitations\": [], \"ClaimType\": 0, \"ParentClaimNumbers\": [], \"DeviceName\": \"\"}, {\"Preamble\": \"The apparatus of claim 24, wherein the channel bandwidth includes a plurality of synchronization signals and a plurality of CSSs,\", \"ClaimNumber\": 29, \"Limitations\": [{\"LimitationText\": \"wherein a quantity of synchronization signals, included in the plurality of synchronization signals, is greater than a quantity of CSSs included in the plurality of CSSs, and\", \"Limitations\": []}, {\"LimitationText\": \"wherein the plurality of synchronization signals includes the synchronization signal and the plurality of CSSs includes the CSS.\", \"Limitations\": []}], \"ClaimType\": 0, \"ParentClaimNumbers\": [], \"DeviceName\": \"\"}, {\"Preamble\": \"The apparatus of claim 24, wherein the apparatus is configured to access the CSS based at least in part on determining the location of the CSS, wherein the CSS includes information associated with accessing the network.\", \"ClaimNumber\": 30, \"Limitations\": [], \"ClaimType\": 0, \"ParentClaimNumbers\": [], \"DeviceName\": \"\"}, {\"Preamble\": \"A 111 for wireless communication, comprising: a memory; and one or more processors operatively coupled to the memory, the memory and the one or more processors configured to:\", \"ClaimNumber\": 31, \"Limitations\": [{\"LimitationText\": \"receive, when operating in a network that provides synchronization signals at a plurality of locations in a channel bandwidth, a common search space (CSS) indicator for a synchronization signal, wherein the CSS indicator indicates that the synchronization signal is not associated with a CSS for a downlink control channel; and\", \"Limitations\": []}, {\"LimitationText\": \"determine a location of the CSS for the downlink control channel based at least in part on the CSS indicator.\", \"Limitations\": []}], \"ClaimType\": 0, \"ParentClaimNumbers\": [], \"DeviceName\": \"\"}, {\"Preamble\": \"The 111 of claim 31, wherein the CSS indicator is received in a physical broadcast channel (PBCH).\", \"ClaimNumber\": 32, \"Limitations\": [], \"ClaimType\": 0, \"ParentClaimNumbers\": [], \"DeviceName\": \"\"}, {\"Preamble\": \"The 111 of claim 32, wherein the location of the CSS is determined based at least in part on the physical broadcast channel.\", \"ClaimNumber\": 33, \"Limitations\": [], \"ClaimType\": 0, \"ParentClaimNumbers\": [], \"DeviceName\": \"\"}, {\"Preamble\": \"The 111 of claim 31, wherein the CSS indicator includes information identifying a location of another synchronization signal that is associated with the CSS; and\", \"ClaimNumber\": 34, \"Limitations\": [{\"LimitationText\": \"wherein the location of the CSS is determined based at least in part on the other synchronization signal.\", \"Limitations\": []}], \"ClaimType\": 0, \"ParentClaimNumbers\": [], \"DeviceName\": \"\"}, {\"Preamble\": \"The 111 of claim 34, wherein the other synchronization signal is in the channel bandwidth.\", \"ClaimNumber\": 35, \"Limitations\": [], \"ClaimType\": 0, \"ParentClaimNumbers\": [], \"DeviceName\": \"\"}, {\"Preamble\": \"The 111 of claim 31, wherein the CSS indicator includes a one-bit flag that indicates that the synchronization signal is not associated with a CSS for the downlink control channel.\", \"ClaimNumber\": 36, \"Limitations\": [], \"ClaimType\": 0, \"ParentClaimNumbers\": [], \"DeviceName\": \"\"}, {\"Preamble\": \"The 111 of claim 31, wherein the channel bandwidth includes a plurality of synchronization signals and a plurality of CSSs,\", \"ClaimNumber\": 37, \"Limitations\": [{\"LimitationText\": \"wherein a quantity of synchronization signals, included in the plurality of synchronization signals, is greater than a quantity of CSSs included in the plurality of CSSs, and\", \"Limitations\": []}, {\"LimitationText\": \"wherein the plurality of synchronization signals includes the synchronization signal and the plurality of CSSs includes the CSS.\", \"Limitations\": []}], \"ClaimType\": 0, \"ParentClaimNumbers\": [], \"DeviceName\": \"\"}, {\"Preamble\": \"The 111 of claim 31, wherein the UE is configured to access the CSS based at least in part on determining the location of the CSS, wherein the CSS includes information associated with accessing the network.\", \"ClaimNumber\": 38, \"Limitations\": [], \"ClaimType\": 0, \"ParentClaimNumbers\": [], \"DeviceName\": \"\"}, {\"Preamble\": \"A user equipment (UE), comprising:\", \"ClaimNumber\": 39, \"Limitations\": [{\"LimitationText\": \"one or more memories; and\", \"Limitations\": []}, {\"LimitationText\": \"one or more processors communicatively coupled to the one or more memories, configured to:\", \"Limitations\": [{\"LimitationText\": \"receive, when operating in a network that provides synchronization signals at a plurality of locations in a channel bandwidth, a common search space (CSS) indicator for a synchronization signal, wherein the CSS indicator indicates that the synchronization signal is not associated with a CSS for a downlink control channel; and\", \"Limitations\": []}, {\"LimitationText\": \"determine a location of the CSS for the downlink control channel based at least in part on the CSS indicator.\", \"Limitations\": []}]}], \"ClaimType\": 0, \"ParentClaimNumbers\": [], \"DeviceName\": \"\"}, {\"Preamble\": \"The device of claim 39, wherein the CSS indicator is received in a physical broadcast channel (PBCH).\", \"ClaimNumber\": 40, \"Limitations\": [], \"ClaimType\": 0, \"ParentClaimNumbers\": [], \"DeviceName\": \"\"}, {\"Preamble\": \"The device of claim 40, wherein the location of the CSS is determined based at least in part on the physical broadcast channel.\", \"ClaimNumber\": 41, \"Limitations\": [], \"ClaimType\": 0, \"ParentClaimNumbers\": [], \"DeviceName\": \"\"}, {\"Preamble\": \"The device of claim 39, wherein the CSS indicator includes information identifying a location of another synchronization signal that is associated with the CSS; and\", \"ClaimNumber\": 42, \"Limitations\": [{\"LimitationText\": \"wherein the location of the CSS is determined based at least in part on the other synchronization signal.\", \"Limitations\": []}], \"ClaimType\": 0, \"ParentClaimNumbers\": [], \"DeviceName\": \"\"}, {\"Preamble\": \"The device of claim 42, wherein the other synchronization signal is in the channel bandwidth.\", \"ClaimNumber\": 43, \"Limitations\": [], \"ClaimType\": 0, \"ParentClaimNumbers\": [], \"DeviceName\": \"\"}, {\"Preamble\": \"The device of claim 39, wherein the CSS indicator includes a one-bit flag that indicates that the synchronization signal is not associated with a CSS for the downlink control channel.\", \"ClaimNumber\": 44, \"Limitations\": [], \"ClaimType\": 0, \"ParentClaimNumbers\": [], \"DeviceName\": \"\"}, {\"Preamble\": \"The device of claim 39, wherein the channel bandwidth includes a plurality of synchronization signals and a plurality of CSSs,\", \"ClaimNumber\": 45, \"Limitations\": [{\"LimitationText\": \"wherein a quantity of synchronization signals, included in the plurality of synchronization signals, is greater than a quantity of CSSs included in the plurality of CSSs, and\", \"Limitations\": []}, {\"LimitationText\": \"wherein the plurality of synchronization signals includes the synchronization signal and the plurality of CSSs includes the CSS.\", \"Limitations\": []}], \"ClaimType\": 0, \"ParentClaimNumbers\": [], \"DeviceName\": \"\"}, {\"Preamble\": \"The device of claim 39, wherein the UE is configured to access the CSS based at least in part on determining the location of the CSS, wherein the CSS includes information associated with accessing the network.\", \"ClaimNumber\": 46, \"Limitations\": [], \"ClaimType\": 0, \"ParentClaimNumbers\": [], \"DeviceName\": \"\"}]}'"
      ]
     },
     "execution_count": 11,
     "metadata": {},
     "output_type": "execute_result"
    }
   ],
   "source": [
    "json.dumps(data[\"before_analyze\"])"
   ]
  },
  {
   "cell_type": "markdown",
   "metadata": {},
   "source": [
    "##### Extract Parent claim number"
   ]
  },
  {
   "cell_type": "code",
   "execution_count": 10,
   "metadata": {},
   "outputs": [
    {
     "name": "stdout",
     "output_type": "stream",
     "text": [
      "['tagger', 'parser', 'ner']\n"
     ]
    }
   ],
   "source": [
    "nlp = spacy.load(\"en_core_web_sm\", disable=[\"textcat\"])\n",
    "print(nlp.pipe_names)"
   ]
  },
  {
   "cell_type": "code",
   "execution_count": 11,
   "metadata": {},
   "outputs": [
    {
     "name": "stdout",
     "output_type": "stream",
     "text": [
      "A DET DT equipment\n",
      "user NOUN NN equipment\n",
      "equipment NOUN NN equipment\n",
      "( PUNCT -LRB- equipment\n",
      "UE PROPN NNP equipment\n",
      ") PUNCT -RRB- equipment\n",
      "for ADP IN equipment\n",
      "wireless ADJ JJ communication\n",
      "communication NOUN NN for\n",
      ", PUNCT , equipment\n",
      "comprising VERB VBG equipment\n",
      ": PUNCT : equipment\n"
     ]
    },
    {
     "data": {
      "text/html": [
       "<svg xmlns=\"http://www.w3.org/2000/svg\" xmlns:xlink=\"http://www.w3.org/1999/xlink\" xml:lang=\"en\" id=\"58513a638e2343599bba164ee1cadef6-0\" class=\"displacy\" width=\"1450\" height=\"399.5\" direction=\"ltr\" style=\"max-width: none; height: 399.5px; color: #000000; background: #ffffff; font-family: Arial; direction: ltr\"><text class=\"displacy-token\" fill=\"currentColor\" text-anchor=\"middle\" y=\"309.5\"><tspan class=\"displacy-word\" fill=\"currentColor\" x=\"50\">A</tspan><tspan class=\"displacy-tag\" dy=\"2em\" fill=\"currentColor\" x=\"50\">DET</tspan></text><text class=\"displacy-token\" fill=\"currentColor\" text-anchor=\"middle\" y=\"309.5\"><tspan class=\"displacy-word\" fill=\"currentColor\" x=\"225\">user</tspan><tspan class=\"displacy-tag\" dy=\"2em\" fill=\"currentColor\" x=\"225\">NOUN</tspan></text><text class=\"displacy-token\" fill=\"currentColor\" text-anchor=\"middle\" y=\"309.5\"><tspan class=\"displacy-word\" fill=\"currentColor\" x=\"400\">equipment (</tspan><tspan class=\"displacy-tag\" dy=\"2em\" fill=\"currentColor\" x=\"400\">NOUN</tspan></text><text class=\"displacy-token\" fill=\"currentColor\" text-anchor=\"middle\" y=\"309.5\"><tspan class=\"displacy-word\" fill=\"currentColor\" x=\"575\">UE)</tspan><tspan class=\"displacy-tag\" dy=\"2em\" fill=\"currentColor\" x=\"575\">PROPN</tspan></text><text class=\"displacy-token\" fill=\"currentColor\" text-anchor=\"middle\" y=\"309.5\"><tspan class=\"displacy-word\" fill=\"currentColor\" x=\"750\">for</tspan><tspan class=\"displacy-tag\" dy=\"2em\" fill=\"currentColor\" x=\"750\">ADP</tspan></text><text class=\"displacy-token\" fill=\"currentColor\" text-anchor=\"middle\" y=\"309.5\"><tspan class=\"displacy-word\" fill=\"currentColor\" x=\"925\">wireless</tspan><tspan class=\"displacy-tag\" dy=\"2em\" fill=\"currentColor\" x=\"925\">ADJ</tspan></text><text class=\"displacy-token\" fill=\"currentColor\" text-anchor=\"middle\" y=\"309.5\"><tspan class=\"displacy-word\" fill=\"currentColor\" x=\"1100\">communication,</tspan><tspan class=\"displacy-tag\" dy=\"2em\" fill=\"currentColor\" x=\"1100\">NOUN</tspan></text><text class=\"displacy-token\" fill=\"currentColor\" text-anchor=\"middle\" y=\"309.5\"><tspan class=\"displacy-word\" fill=\"currentColor\" x=\"1275\">comprising:</tspan><tspan class=\"displacy-tag\" dy=\"2em\" fill=\"currentColor\" x=\"1275\">VERB</tspan></text><g class=\"displacy-arrow\"><path class=\"displacy-arc\" id=\"arrow-58513a638e2343599bba164ee1cadef6-0-0\" stroke-width=\"2px\" d=\"M70,264.5 C70,89.5 395.0,89.5 395.0,264.5\" fill=\"none\" stroke=\"currentColor\"/><text dy=\"1.25em\" style=\"font-size: 0.8em; letter-spacing: 1px\"><textPath xlink:href=\"#arrow-58513a638e2343599bba164ee1cadef6-0-0\" class=\"displacy-label\" startOffset=\"50%\" side=\"left\" fill=\"currentColor\" text-anchor=\"middle\">det</textPath></text><path class=\"displacy-arrowhead\" d=\"M70,266.5 L62,254.5 78,254.5\" fill=\"currentColor\"/></g><g class=\"displacy-arrow\"><path class=\"displacy-arc\" id=\"arrow-58513a638e2343599bba164ee1cadef6-0-1\" stroke-width=\"2px\" d=\"M245,264.5 C245,177.0 390.0,177.0 390.0,264.5\" fill=\"none\" stroke=\"currentColor\"/><text dy=\"1.25em\" style=\"font-size: 0.8em; letter-spacing: 1px\"><textPath xlink:href=\"#arrow-58513a638e2343599bba164ee1cadef6-0-1\" class=\"displacy-label\" startOffset=\"50%\" side=\"left\" fill=\"currentColor\" text-anchor=\"middle\">compound</textPath></text><path class=\"displacy-arrowhead\" d=\"M245,266.5 L237,254.5 253,254.5\" fill=\"currentColor\"/></g><g class=\"displacy-arrow\"><path class=\"displacy-arc\" id=\"arrow-58513a638e2343599bba164ee1cadef6-0-2\" stroke-width=\"2px\" d=\"M420,264.5 C420,177.0 565.0,177.0 565.0,264.5\" fill=\"none\" stroke=\"currentColor\"/><text dy=\"1.25em\" style=\"font-size: 0.8em; letter-spacing: 1px\"><textPath xlink:href=\"#arrow-58513a638e2343599bba164ee1cadef6-0-2\" class=\"displacy-label\" startOffset=\"50%\" side=\"left\" fill=\"currentColor\" text-anchor=\"middle\">appos</textPath></text><path class=\"displacy-arrowhead\" d=\"M565.0,266.5 L573.0,254.5 557.0,254.5\" fill=\"currentColor\"/></g><g class=\"displacy-arrow\"><path class=\"displacy-arc\" id=\"arrow-58513a638e2343599bba164ee1cadef6-0-3\" stroke-width=\"2px\" d=\"M420,264.5 C420,89.5 745.0,89.5 745.0,264.5\" fill=\"none\" stroke=\"currentColor\"/><text dy=\"1.25em\" style=\"font-size: 0.8em; letter-spacing: 1px\"><textPath xlink:href=\"#arrow-58513a638e2343599bba164ee1cadef6-0-3\" class=\"displacy-label\" startOffset=\"50%\" side=\"left\" fill=\"currentColor\" text-anchor=\"middle\">prep</textPath></text><path class=\"displacy-arrowhead\" d=\"M745.0,266.5 L753.0,254.5 737.0,254.5\" fill=\"currentColor\"/></g><g class=\"displacy-arrow\"><path class=\"displacy-arc\" id=\"arrow-58513a638e2343599bba164ee1cadef6-0-4\" stroke-width=\"2px\" d=\"M945,264.5 C945,177.0 1090.0,177.0 1090.0,264.5\" fill=\"none\" stroke=\"currentColor\"/><text dy=\"1.25em\" style=\"font-size: 0.8em; letter-spacing: 1px\"><textPath xlink:href=\"#arrow-58513a638e2343599bba164ee1cadef6-0-4\" class=\"displacy-label\" startOffset=\"50%\" side=\"left\" fill=\"currentColor\" text-anchor=\"middle\">amod</textPath></text><path class=\"displacy-arrowhead\" d=\"M945,266.5 L937,254.5 953,254.5\" fill=\"currentColor\"/></g><g class=\"displacy-arrow\"><path class=\"displacy-arc\" id=\"arrow-58513a638e2343599bba164ee1cadef6-0-5\" stroke-width=\"2px\" d=\"M770,264.5 C770,89.5 1095.0,89.5 1095.0,264.5\" fill=\"none\" stroke=\"currentColor\"/><text dy=\"1.25em\" style=\"font-size: 0.8em; letter-spacing: 1px\"><textPath xlink:href=\"#arrow-58513a638e2343599bba164ee1cadef6-0-5\" class=\"displacy-label\" startOffset=\"50%\" side=\"left\" fill=\"currentColor\" text-anchor=\"middle\">pobj</textPath></text><path class=\"displacy-arrowhead\" d=\"M1095.0,266.5 L1103.0,254.5 1087.0,254.5\" fill=\"currentColor\"/></g><g class=\"displacy-arrow\"><path class=\"displacy-arc\" id=\"arrow-58513a638e2343599bba164ee1cadef6-0-6\" stroke-width=\"2px\" d=\"M420,264.5 C420,2.0 1275.0,2.0 1275.0,264.5\" fill=\"none\" stroke=\"currentColor\"/><text dy=\"1.25em\" style=\"font-size: 0.8em; letter-spacing: 1px\"><textPath xlink:href=\"#arrow-58513a638e2343599bba164ee1cadef6-0-6\" class=\"displacy-label\" startOffset=\"50%\" side=\"left\" fill=\"currentColor\" text-anchor=\"middle\">appos</textPath></text><path class=\"displacy-arrowhead\" d=\"M1275.0,266.5 L1283.0,254.5 1267.0,254.5\" fill=\"currentColor\"/></g></svg>"
      ],
      "text/plain": [
       "<IPython.core.display.HTML object>"
      ]
     },
     "metadata": {},
     "output_type": "display_data"
    }
   ],
   "source": [
    "text = \"A user equipment (UE) for wireless communication, comprising:\"\n",
    "doc = nlp(text)\n",
    "for token in doc:\n",
    "    print(token.text, token.pos_, token.tag_, token.head)\n",
    "displacy.render(doc, style=\"dep\", minify=True)"
   ]
  },
  {
   "cell_type": "code",
   "execution_count": 25,
   "metadata": {},
   "outputs": [
    {
     "name": "stdout",
     "output_type": "stream",
     "text": [
      "Claim: 1, Parent: []\n",
      "Claim: 2, Parent: [1]\n",
      "Claim: 3, Parent: [2]\n",
      "Claim: 4, Parent: [1]\n",
      "Claim: 5, Parent: [4]\n",
      "Claim: 6, Parent: [1]\n",
      "Claim: 7, Parent: [1]\n",
      "Claim: 8, Parent: [1]\n",
      "Claim: 9, Parent: []\n",
      "Claim: 10, Parent: [9]\n",
      "Claim: 11, Parent: [10]\n",
      "Claim: 12, Parent: [9]\n",
      "Claim: 13, Parent: [12]\n",
      "Claim: 14, Parent: [9]\n",
      "Claim: 15, Parent: [9]\n",
      "Claim: 16, Parent: [9]\n",
      "Claim: 17, Parent: []\n",
      "Claim: 18, Parent: [17]\n",
      "Claim: 19, Parent: [18]\n",
      "Claim: 20, Parent: [17]\n",
      "Claim: 21, Parent: [17]\n",
      "Claim: 22, Parent: [17]\n",
      "Claim: 23, Parent: [17]\n",
      "Claim: 24, Parent: []\n",
      "Claim: 25, Parent: [24]\n",
      "Claim: 26, Parent: [25]\n",
      "Claim: 27, Parent: [24]\n",
      "Claim: 28, Parent: [24]\n",
      "Claim: 29, Parent: [24]\n",
      "Claim: 30, Parent: [24]\n",
      "Claim: 31, Parent: []\n",
      "Claim: 32, Parent: [31]\n",
      "Claim: 33, Parent: [32]\n",
      "Claim: 34, Parent: [31]\n",
      "Claim: 35, Parent: [34]\n",
      "Claim: 36, Parent: [31]\n",
      "Claim: 37, Parent: [31]\n",
      "Claim: 38, Parent: [31]\n",
      "Claim: 39, Parent: []\n",
      "Claim: 40, Parent: [39]\n",
      "Claim: 41, Parent: [40]\n",
      "Claim: 42, Parent: [39]\n",
      "Claim: 43, Parent: [42]\n",
      "Claim: 44, Parent: [39]\n",
      "Claim: 45, Parent: [39]\n",
      "Claim: 46, Parent: [39]\n"
     ]
    }
   ],
   "source": [
    "class ParentClaimComponent(object):\n",
    "    \n",
    "    def __init__(self, nlp, *patterns):\n",
    "        self.matcher = Matcher(nlp.vocab)\n",
    "        for k, pattern in enumerate(patterns):          \n",
    "            self.matcher.add(f\"PARENT_CLAIM_{k}\", None, pattern)\n",
    "        Doc.set_extension(\"parent_claim_numbers\", \n",
    "                          default=[], \n",
    "                          force=True)\n",
    "        \n",
    "    def __call__(self, doc):\n",
    "        parent_claims = []\n",
    "        for match_id, start, end in self.matcher(doc):\n",
    "            try:\n",
    "                parent_claim = int(doc[end-1].text)\n",
    "                parent_claims.append(parent_claim)\n",
    "            except ValueError:\n",
    "                continue\n",
    "        doc._.parent_claim_numbers = parent_claims\n",
    "        return doc\n",
    "\n",
    "# Load language\n",
    "nlp = spacy.load(\"en_core_web_sm\", disable=[\"textcat\"])\n",
    "\n",
    "# Define parent pattern\n",
    "parent_claim_pattern = [{\"LOWER\": \"claim\", \"POS\": \"NOUN\"}, {\"IS_DIGIT\": True}]\n",
    "\n",
    "# Create component\n",
    "parent_component = ParentClaimComponent(nlp, parent_claim_pattern)\n",
    "try:\n",
    "    nlp.add_pipe(parent_component)\n",
    "except ValueError as err:\n",
    "    print(err)\n",
    "    \n",
    "for k, doc in enumerate(nlp.pipe(texts), 1):\n",
    "    print(f\"Claim: {k}, Parent: {doc._.parent_claim_numbers}\")"
   ]
  },
  {
   "cell_type": "code",
   "execution_count": 51,
   "metadata": {},
   "outputs": [
    {
     "data": {
      "text/plain": [
       "('claim_type', <__main__.ClaimTypeComponent at 0x11eec9b10>)"
      ]
     },
     "execution_count": 51,
     "metadata": {},
     "output_type": "execute_result"
    },
    {
     "name": "stdout",
     "output_type": "stream",
     "text": [
      "Claim: 1, Parent: [], Type: `Process`\n",
      "Claim: 2, Parent: [1], Type: `Process`\n",
      "Claim: 3, Parent: [2], Type: `Process`\n",
      "Claim: 4, Parent: [1], Type: `Process`\n",
      "Claim: 5, Parent: [4], Type: `Process`\n",
      "Claim: 6, Parent: [1], Type: `Process`\n",
      "Claim: 7, Parent: [1], Type: `Process`\n",
      "Claim: 8, Parent: [1], Type: `Process`\n",
      "Claim: 9, Parent: [], Type: `Device`\n",
      "Claim: 10, Parent: [9], Type: `Unknown`\n",
      "Claim: 11, Parent: [10], Type: `Unknown`\n",
      "Claim: 12, Parent: [9], Type: `Unknown`\n",
      "Claim: 13, Parent: [12], Type: `Unknown`\n",
      "Claim: 14, Parent: [9], Type: `Unknown`\n",
      "Claim: 15, Parent: [9], Type: `Unknown`\n",
      "Claim: 16, Parent: [9], Type: `Unknown`\n",
      "Claim: 17, Parent: [], Type: `Device`\n",
      "Claim: 18, Parent: [17], Type: `Unknown`\n",
      "Claim: 19, Parent: [18], Type: `Unknown`\n",
      "Claim: 20, Parent: [17], Type: `Unknown`\n",
      "Claim: 21, Parent: [17], Type: `Unknown`\n",
      "Claim: 22, Parent: [17], Type: `Unknown`\n",
      "Claim: 23, Parent: [17], Type: `Unknown`\n",
      "Claim: 24, Parent: [], Type: `Device`\n",
      "Claim: 25, Parent: [24], Type: `Unknown`\n",
      "Claim: 26, Parent: [25], Type: `Unknown`\n",
      "Claim: 27, Parent: [24], Type: `Unknown`\n",
      "Claim: 28, Parent: [24], Type: `Unknown`\n",
      "Claim: 29, Parent: [24], Type: `Unknown`\n",
      "Claim: 30, Parent: [24], Type: `Unknown`\n",
      "Claim: 31, Parent: [], Type: `Device`\n",
      "Claim: 32, Parent: [31], Type: `Unknown`\n",
      "Claim: 33, Parent: [32], Type: `Unknown`\n",
      "Claim: 34, Parent: [31], Type: `Unknown`\n",
      "Claim: 35, Parent: [34], Type: `Unknown`\n",
      "Claim: 36, Parent: [31], Type: `Unknown`\n",
      "Claim: 37, Parent: [31], Type: `Unknown`\n",
      "Claim: 38, Parent: [31], Type: `Unknown`\n",
      "Claim: 39, Parent: [], Type: `Device`\n",
      "Claim: 40, Parent: [39], Type: `Unknown`\n",
      "Claim: 41, Parent: [40], Type: `Unknown`\n",
      "Claim: 42, Parent: [39], Type: `Unknown`\n",
      "Claim: 43, Parent: [42], Type: `Unknown`\n",
      "Claim: 44, Parent: [39], Type: `Unknown`\n",
      "Claim: 45, Parent: [39], Type: `Unknown`\n",
      "Claim: 46, Parent: [39], Type: `Unknown`\n"
     ]
    }
   ],
   "source": [
    "class ClaimTypeComponent(object):\n",
    "    \n",
    "    def __init__(self, claim_type_to_pattern, flags=0):\n",
    "        self.claim_type_to_pattern = claim_type_to_pattern\n",
    "        self.flags = flags\n",
    "        Doc.set_extension(\"claim_type\", \n",
    "                          default=\"Unknown\", \n",
    "                          force=True)\n",
    "        \n",
    "    def __call__(self, doc):\n",
    "        for claim_type, pattern in self.claim_type_to_pattern:\n",
    "            if re.search(pattern, doc.text, self.flags):\n",
    "                doc._.claim_type = claim_type\n",
    "                break\n",
    "        return doc\n",
    "    \n",
    "claim_type_to_pattern = [(\"Omnibus\", r\"^A method, device, apparatus\"),\n",
    "                         (\"Process\", r\"method\"),\n",
    "                         (\"Device\", r\"^(A|An).*?compris(e|es|ing):\"),\n",
    "                         (\"CRM\", r\"^A non-transitory computer-readable medium storing(.*)compris(e|es|ing):\"),\n",
    "                         (\"MeansFor\", r\"^An apparatus(.*?)compris(e|es|ing):\")]\n",
    "claim_type_component = ClaimTypeComponent(claim_type_to_pattern)\n",
    "try:\n",
    "    nlp.add_pipe(claim_type_component, name=\"claim_type\")\n",
    "except ValueError as err:\n",
    "    nlp.remove_pipe(\"claim_type\")\n",
    "    nlp.add_pipe(claim_type_component, name=\"claim_type\")\n",
    "    \n",
    "for k, doc in enumerate(nlp.pipe(texts), 1):\n",
    "    print(f\"Claim: {k}, Parent: {doc._.parent_claim_numbers}, Type: `{doc._.claim_type}`\")"
   ]
  },
  {
   "cell_type": "markdown",
   "metadata": {},
   "source": [
    "##### Extract DeviceName"
   ]
  },
  {
   "cell_type": "code",
   "execution_count": 27,
   "metadata": {},
   "outputs": [
    {
     "data": {
      "text/html": [
       "<svg xmlns=\"http://www.w3.org/2000/svg\" xmlns:xlink=\"http://www.w3.org/1999/xlink\" xml:lang=\"en\" id=\"11f49aba77724e79a65225cdc0f01c59-0\" class=\"displacy\" width=\"1850\" height=\"437.0\" direction=\"ltr\" style=\"max-width: none; height: 437.0px; color: black; background: white; font-family: Arial; direction: ltr\"><text class=\"displacy-token\" fill=\"currentColor\" text-anchor=\"middle\" y=\"347.0\"><tspan class=\"displacy-word\" fill=\"currentColor\" x=\"50\">A</tspan><tspan class=\"displacy-tag\" dy=\"2em\" fill=\"currentColor\" x=\"50\">DET</tspan></text><text class=\"displacy-token\" fill=\"currentColor\" text-anchor=\"middle\" y=\"347.0\"><tspan class=\"displacy-word\" fill=\"currentColor\" x=\"200\">method</tspan><tspan class=\"displacy-tag\" dy=\"2em\" fill=\"currentColor\" x=\"200\">NOUN</tspan></text><text class=\"displacy-token\" fill=\"currentColor\" text-anchor=\"middle\" y=\"347.0\"><tspan class=\"displacy-word\" fill=\"currentColor\" x=\"350\">of</tspan><tspan class=\"displacy-tag\" dy=\"2em\" fill=\"currentColor\" x=\"350\">ADP</tspan></text><text class=\"displacy-token\" fill=\"currentColor\" text-anchor=\"middle\" y=\"347.0\"><tspan class=\"displacy-word\" fill=\"currentColor\" x=\"500\">wireless</tspan><tspan class=\"displacy-tag\" dy=\"2em\" fill=\"currentColor\" x=\"500\">ADJ</tspan></text><text class=\"displacy-token\" fill=\"currentColor\" text-anchor=\"middle\" y=\"347.0\"><tspan class=\"displacy-word\" fill=\"currentColor\" x=\"650\">communication</tspan><tspan class=\"displacy-tag\" dy=\"2em\" fill=\"currentColor\" x=\"650\">NOUN</tspan></text><text class=\"displacy-token\" fill=\"currentColor\" text-anchor=\"middle\" y=\"347.0\"><tspan class=\"displacy-word\" fill=\"currentColor\" x=\"800\">performed</tspan><tspan class=\"displacy-tag\" dy=\"2em\" fill=\"currentColor\" x=\"800\">VERB</tspan></text><text class=\"displacy-token\" fill=\"currentColor\" text-anchor=\"middle\" y=\"347.0\"><tspan class=\"displacy-word\" fill=\"currentColor\" x=\"950\">by</tspan><tspan class=\"displacy-tag\" dy=\"2em\" fill=\"currentColor\" x=\"950\">ADP</tspan></text><text class=\"displacy-token\" fill=\"currentColor\" text-anchor=\"middle\" y=\"347.0\"><tspan class=\"displacy-word\" fill=\"currentColor\" x=\"1100\">a</tspan><tspan class=\"displacy-tag\" dy=\"2em\" fill=\"currentColor\" x=\"1100\">DET</tspan></text><text class=\"displacy-token\" fill=\"currentColor\" text-anchor=\"middle\" y=\"347.0\"><tspan class=\"displacy-word\" fill=\"currentColor\" x=\"1250\">user</tspan><tspan class=\"displacy-tag\" dy=\"2em\" fill=\"currentColor\" x=\"1250\">NOUN</tspan></text><text class=\"displacy-token\" fill=\"currentColor\" text-anchor=\"middle\" y=\"347.0\"><tspan class=\"displacy-word\" fill=\"currentColor\" x=\"1400\">equipment (</tspan><tspan class=\"displacy-tag\" dy=\"2em\" fill=\"currentColor\" x=\"1400\">NOUN</tspan></text><text class=\"displacy-token\" fill=\"currentColor\" text-anchor=\"middle\" y=\"347.0\"><tspan class=\"displacy-word\" fill=\"currentColor\" x=\"1550\">UE),</tspan><tspan class=\"displacy-tag\" dy=\"2em\" fill=\"currentColor\" x=\"1550\">PROPN</tspan></text><text class=\"displacy-token\" fill=\"currentColor\" text-anchor=\"middle\" y=\"347.0\"><tspan class=\"displacy-word\" fill=\"currentColor\" x=\"1700\">comprising:</tspan><tspan class=\"displacy-tag\" dy=\"2em\" fill=\"currentColor\" x=\"1700\">VERB</tspan></text><g class=\"displacy-arrow\"><path class=\"displacy-arc\" id=\"arrow-11f49aba77724e79a65225cdc0f01c59-0-0\" stroke-width=\"2px\" d=\"M62,302.0 62,277.0 191.0,277.0 191.0,302.0\" fill=\"none\" stroke=\"currentColor\"/><text dy=\"1.25em\" style=\"font-size: 0.8em; letter-spacing: 1px\"><textPath xlink:href=\"#arrow-11f49aba77724e79a65225cdc0f01c59-0-0\" class=\"displacy-label\" startOffset=\"50%\" side=\"left\" fill=\"currentColor\" text-anchor=\"middle\">det</textPath></text><path class=\"displacy-arrowhead\" d=\"M62,304.0 L58,296.0 66,296.0\" fill=\"currentColor\"/></g><g class=\"displacy-arrow\"><path class=\"displacy-arc\" id=\"arrow-11f49aba77724e79a65225cdc0f01c59-0-1\" stroke-width=\"2px\" d=\"M212,302.0 212,202.0 1700.0,202.0 1700.0,302.0\" fill=\"none\" stroke=\"currentColor\"/><text dy=\"1.25em\" style=\"font-size: 0.8em; letter-spacing: 1px\"><textPath xlink:href=\"#arrow-11f49aba77724e79a65225cdc0f01c59-0-1\" class=\"displacy-label\" startOffset=\"50%\" side=\"left\" fill=\"currentColor\" text-anchor=\"middle\">nsubj</textPath></text><path class=\"displacy-arrowhead\" d=\"M212,304.0 L208,296.0 216,296.0\" fill=\"currentColor\"/></g><g class=\"displacy-arrow\"><path class=\"displacy-arc\" id=\"arrow-11f49aba77724e79a65225cdc0f01c59-0-2\" stroke-width=\"2px\" d=\"M212,302.0 212,277.0 341.0,277.0 341.0,302.0\" fill=\"none\" stroke=\"currentColor\"/><text dy=\"1.25em\" style=\"font-size: 0.8em; letter-spacing: 1px\"><textPath xlink:href=\"#arrow-11f49aba77724e79a65225cdc0f01c59-0-2\" class=\"displacy-label\" startOffset=\"50%\" side=\"left\" fill=\"currentColor\" text-anchor=\"middle\">prep</textPath></text><path class=\"displacy-arrowhead\" d=\"M341.0,304.0 L345.0,296.0 337.0,296.0\" fill=\"currentColor\"/></g><g class=\"displacy-arrow\"><path class=\"displacy-arc\" id=\"arrow-11f49aba77724e79a65225cdc0f01c59-0-3\" stroke-width=\"2px\" d=\"M512,302.0 512,277.0 641.0,277.0 641.0,302.0\" fill=\"none\" stroke=\"currentColor\"/><text dy=\"1.25em\" style=\"font-size: 0.8em; letter-spacing: 1px\"><textPath xlink:href=\"#arrow-11f49aba77724e79a65225cdc0f01c59-0-3\" class=\"displacy-label\" startOffset=\"50%\" side=\"left\" fill=\"currentColor\" text-anchor=\"middle\">amod</textPath></text><path class=\"displacy-arrowhead\" d=\"M512,304.0 L508,296.0 516,296.0\" fill=\"currentColor\"/></g><g class=\"displacy-arrow\"><path class=\"displacy-arc\" id=\"arrow-11f49aba77724e79a65225cdc0f01c59-0-4\" stroke-width=\"2px\" d=\"M362,302.0 362,252.0 644.0,252.0 644.0,302.0\" fill=\"none\" stroke=\"currentColor\"/><text dy=\"1.25em\" style=\"font-size: 0.8em; letter-spacing: 1px\"><textPath xlink:href=\"#arrow-11f49aba77724e79a65225cdc0f01c59-0-4\" class=\"displacy-label\" startOffset=\"50%\" side=\"left\" fill=\"currentColor\" text-anchor=\"middle\">pobj</textPath></text><path class=\"displacy-arrowhead\" d=\"M644.0,304.0 L648.0,296.0 640.0,296.0\" fill=\"currentColor\"/></g><g class=\"displacy-arrow\"><path class=\"displacy-arc\" id=\"arrow-11f49aba77724e79a65225cdc0f01c59-0-5\" stroke-width=\"2px\" d=\"M662,302.0 662,277.0 791.0,277.0 791.0,302.0\" fill=\"none\" stroke=\"currentColor\"/><text dy=\"1.25em\" style=\"font-size: 0.8em; letter-spacing: 1px\"><textPath xlink:href=\"#arrow-11f49aba77724e79a65225cdc0f01c59-0-5\" class=\"displacy-label\" startOffset=\"50%\" side=\"left\" fill=\"currentColor\" text-anchor=\"middle\">acl</textPath></text><path class=\"displacy-arrowhead\" d=\"M791.0,304.0 L795.0,296.0 787.0,296.0\" fill=\"currentColor\"/></g><g class=\"displacy-arrow\"><path class=\"displacy-arc\" id=\"arrow-11f49aba77724e79a65225cdc0f01c59-0-6\" stroke-width=\"2px\" d=\"M812,302.0 812,277.0 941.0,277.0 941.0,302.0\" fill=\"none\" stroke=\"currentColor\"/><text dy=\"1.25em\" style=\"font-size: 0.8em; letter-spacing: 1px\"><textPath xlink:href=\"#arrow-11f49aba77724e79a65225cdc0f01c59-0-6\" class=\"displacy-label\" startOffset=\"50%\" side=\"left\" fill=\"currentColor\" text-anchor=\"middle\">agent</textPath></text><path class=\"displacy-arrowhead\" d=\"M941.0,304.0 L945.0,296.0 937.0,296.0\" fill=\"currentColor\"/></g><g class=\"displacy-arrow\"><path class=\"displacy-arc\" id=\"arrow-11f49aba77724e79a65225cdc0f01c59-0-7\" stroke-width=\"2px\" d=\"M1112,302.0 1112,252.0 1394.0,252.0 1394.0,302.0\" fill=\"none\" stroke=\"currentColor\"/><text dy=\"1.25em\" style=\"font-size: 0.8em; letter-spacing: 1px\"><textPath xlink:href=\"#arrow-11f49aba77724e79a65225cdc0f01c59-0-7\" class=\"displacy-label\" startOffset=\"50%\" side=\"left\" fill=\"currentColor\" text-anchor=\"middle\">det</textPath></text><path class=\"displacy-arrowhead\" d=\"M1112,304.0 L1108,296.0 1116,296.0\" fill=\"currentColor\"/></g><g class=\"displacy-arrow\"><path class=\"displacy-arc\" id=\"arrow-11f49aba77724e79a65225cdc0f01c59-0-8\" stroke-width=\"2px\" d=\"M1262,302.0 1262,277.0 1391.0,277.0 1391.0,302.0\" fill=\"none\" stroke=\"currentColor\"/><text dy=\"1.25em\" style=\"font-size: 0.8em; letter-spacing: 1px\"><textPath xlink:href=\"#arrow-11f49aba77724e79a65225cdc0f01c59-0-8\" class=\"displacy-label\" startOffset=\"50%\" side=\"left\" fill=\"currentColor\" text-anchor=\"middle\">compound</textPath></text><path class=\"displacy-arrowhead\" d=\"M1262,304.0 L1258,296.0 1266,296.0\" fill=\"currentColor\"/></g><g class=\"displacy-arrow\"><path class=\"displacy-arc\" id=\"arrow-11f49aba77724e79a65225cdc0f01c59-0-9\" stroke-width=\"2px\" d=\"M962,302.0 962,227.0 1397.0,227.0 1397.0,302.0\" fill=\"none\" stroke=\"currentColor\"/><text dy=\"1.25em\" style=\"font-size: 0.8em; letter-spacing: 1px\"><textPath xlink:href=\"#arrow-11f49aba77724e79a65225cdc0f01c59-0-9\" class=\"displacy-label\" startOffset=\"50%\" side=\"left\" fill=\"currentColor\" text-anchor=\"middle\">pobj</textPath></text><path class=\"displacy-arrowhead\" d=\"M1397.0,304.0 L1401.0,296.0 1393.0,296.0\" fill=\"currentColor\"/></g><g class=\"displacy-arrow\"><path class=\"displacy-arc\" id=\"arrow-11f49aba77724e79a65225cdc0f01c59-0-10\" stroke-width=\"2px\" d=\"M1412,302.0 1412,277.0 1541.0,277.0 1541.0,302.0\" fill=\"none\" stroke=\"currentColor\"/><text dy=\"1.25em\" style=\"font-size: 0.8em; letter-spacing: 1px\"><textPath xlink:href=\"#arrow-11f49aba77724e79a65225cdc0f01c59-0-10\" class=\"displacy-label\" startOffset=\"50%\" side=\"left\" fill=\"currentColor\" text-anchor=\"middle\">appos</textPath></text><path class=\"displacy-arrowhead\" d=\"M1541.0,304.0 L1545.0,296.0 1537.0,296.0\" fill=\"currentColor\"/></g></svg>"
      ],
      "text/plain": [
       "<IPython.core.display.HTML object>"
      ]
     },
     "metadata": {},
     "output_type": "display_data"
    }
   ],
   "source": [
    "text = \"A method of wireless communication performed by a user equipment (UE), comprising:\"\n",
    "doc = nlp(text)\n",
    "options = {\"compact\": True, \n",
    "           \"bg\": \"white\",\n",
    "           \"color\": \"black\"}\n",
    "displacy.render(doc, style=\"dep\", minify=True, options=options)"
   ]
  },
  {
   "cell_type": "code",
   "execution_count": 192,
   "metadata": {},
   "outputs": [
    {
     "data": {
      "text/plain": [
       "{'Text': 'user equipment',\n",
       " 'Offset': 50,\n",
       " 'Length': 14,\n",
       " 'Location': 'Preamble',\n",
       " 'Acronym': 'UE'}"
      ]
     },
     "execution_count": 192,
     "metadata": {},
     "output_type": "execute_result"
    }
   ],
   "source": [
    "device_name = {}\n",
    "for chunk in doc.noun_chunks:\n",
    "    root = chunk.root\n",
    "    root_head = root.head\n",
    "    if root_head.lower_ == \"by\" and root_head.head.lemma_ in [\"perform\", \"do\"]:\n",
    "        if chunk[0].pos_ in [\"DET\"]:\n",
    "            chunk = chunk[1:]\n",
    "        if chunk.text.lower() not in [\"device\", \"method\"]:\n",
    "            device_name = {\"Text\": chunk.text,\n",
    "                           \"Offset\": chunk.start_char,\n",
    "                           \"Length\": len(chunk.text),\n",
    "                           \"Location\": \"Preamble\",\n",
    "                           \"Acronym\": \"\"}\n",
    "            break\n",
    "if device_name:\n",
    "    match = re.search(rf\"{device_name['Text']}\\s*(\\((?P<Acronym>\\w*?)\\))?\", doc.text, re.I | re.M)\n",
    "    if match:\n",
    "        device_name[\"Acronym\"] = match.group(\"Acronym\")\n",
    "\n",
    "device_name"
   ]
  },
  {
   "cell_type": "markdown",
   "metadata": {},
   "source": [
    "##### Test code"
   ]
  },
  {
   "cell_type": "code",
   "execution_count": 10,
   "metadata": {},
   "outputs": [],
   "source": [
    "%aimport app.nlp.components\n",
    "%aimport app.nlp.pipeline\n",
    "%aimport settings"
   ]
  },
  {
   "cell_type": "code",
   "execution_count": 11,
   "metadata": {},
   "outputs": [],
   "source": [
    "from app.nlp.components import ParentClaimComponent, ClaimTypeComponent\n",
    "from app.nlp.pipeline import Pipeline"
   ]
  },
  {
   "cell_type": "code",
   "execution_count": 42,
   "metadata": {},
   "outputs": [
    {
     "name": "stdout",
     "output_type": "stream",
     "text": [
      "Claim: 1, Type: `Process`, Parent: `[]`,\n",
      "Device: `{'Text': 'user equipment', 'Offset': 50, 'Length': 14, 'Location': 'Preamble', 'Acronym': 'UE'}`\n",
      "\n",
      "Claim: 2, Type: `Process`, Parent: `[1]`,\n",
      "Device: `{}`\n",
      "\n",
      "Claim: 3, Type: `Process`, Parent: `[2]`,\n",
      "Device: `{}`\n",
      "\n",
      "Claim: 4, Type: `Process`, Parent: `[1]`,\n",
      "Device: `{}`\n",
      "\n",
      "Claim: 5, Type: `Process`, Parent: `[4]`,\n",
      "Device: `{}`\n",
      "\n",
      "Claim: 6, Type: `Process`, Parent: `[1]`,\n",
      "Device: `{}`\n",
      "\n",
      "Claim: 7, Type: `Process`, Parent: `[1]`,\n",
      "Device: `{}`\n",
      "\n",
      "Claim: 8, Type: `Process`, Parent: `[1]`,\n",
      "Device: `{}`\n",
      "\n",
      "Claim: 9, Type: `Device`, Parent: `[]`,\n",
      "Device: `{}`\n",
      "\n",
      "Claim: 10, Type: `Unknown`, Parent: `[9]`,\n",
      "Device: `{}`\n",
      "\n",
      "Claim: 11, Type: `Unknown`, Parent: `[10]`,\n",
      "Device: `{}`\n",
      "\n",
      "Claim: 12, Type: `Unknown`, Parent: `[9]`,\n",
      "Device: `{}`\n",
      "\n",
      "Claim: 13, Type: `Unknown`, Parent: `[12]`,\n",
      "Device: `{}`\n",
      "\n",
      "Claim: 14, Type: `Unknown`, Parent: `[9]`,\n",
      "Device: `{}`\n",
      "\n",
      "Claim: 15, Type: `Unknown`, Parent: `[9]`,\n",
      "Device: `{}`\n",
      "\n",
      "Claim: 16, Type: `Unknown`, Parent: `[9]`,\n",
      "Device: `{}`\n",
      "\n",
      "Claim: 17, Type: `Device`, Parent: `[]`,\n",
      "Device: `{}`\n",
      "\n",
      "Claim: 18, Type: `Unknown`, Parent: `[17]`,\n",
      "Device: `{}`\n",
      "\n",
      "Claim: 19, Type: `Unknown`, Parent: `[18]`,\n",
      "Device: `{}`\n",
      "\n",
      "Claim: 20, Type: `Unknown`, Parent: `[17]`,\n",
      "Device: `{}`\n",
      "\n",
      "Claim: 21, Type: `Unknown`, Parent: `[17]`,\n",
      "Device: `{}`\n",
      "\n",
      "Claim: 22, Type: `Unknown`, Parent: `[17]`,\n",
      "Device: `{}`\n",
      "\n",
      "Claim: 23, Type: `Unknown`, Parent: `[17]`,\n",
      "Device: `{}`\n",
      "\n",
      "Claim: 24, Type: `Device`, Parent: `[]`,\n",
      "Device: `{}`\n",
      "\n",
      "Claim: 25, Type: `Unknown`, Parent: `[24]`,\n",
      "Device: `{}`\n",
      "\n",
      "Claim: 26, Type: `Unknown`, Parent: `[25]`,\n",
      "Device: `{}`\n",
      "\n",
      "Claim: 27, Type: `Unknown`, Parent: `[24]`,\n",
      "Device: `{}`\n",
      "\n",
      "Claim: 28, Type: `Unknown`, Parent: `[24]`,\n",
      "Device: `{}`\n",
      "\n",
      "Claim: 29, Type: `Unknown`, Parent: `[24]`,\n",
      "Device: `{}`\n",
      "\n",
      "Claim: 30, Type: `Unknown`, Parent: `[24]`,\n",
      "Device: `{}`\n",
      "\n",
      "Claim: 31, Type: `Device`, Parent: `[]`,\n",
      "Device: `{}`\n",
      "\n",
      "Claim: 32, Type: `Unknown`, Parent: `[31]`,\n",
      "Device: `{}`\n",
      "\n",
      "Claim: 33, Type: `Unknown`, Parent: `[32]`,\n",
      "Device: `{}`\n",
      "\n",
      "Claim: 34, Type: `Unknown`, Parent: `[31]`,\n",
      "Device: `{}`\n",
      "\n",
      "Claim: 35, Type: `Unknown`, Parent: `[34]`,\n",
      "Device: `{}`\n",
      "\n",
      "Claim: 36, Type: `Unknown`, Parent: `[31]`,\n",
      "Device: `{}`\n",
      "\n",
      "Claim: 37, Type: `Unknown`, Parent: `[31]`,\n",
      "Device: `{}`\n",
      "\n",
      "Claim: 38, Type: `Unknown`, Parent: `[31]`,\n",
      "Device: `{}`\n",
      "\n",
      "Claim: 39, Type: `Device`, Parent: `[]`,\n",
      "Device: `{}`\n",
      "\n",
      "Claim: 40, Type: `Unknown`, Parent: `[39]`,\n",
      "Device: `{}`\n",
      "\n",
      "Claim: 41, Type: `Unknown`, Parent: `[40]`,\n",
      "Device: `{}`\n",
      "\n",
      "Claim: 42, Type: `Unknown`, Parent: `[39]`,\n",
      "Device: `{}`\n",
      "\n",
      "Claim: 43, Type: `Unknown`, Parent: `[42]`,\n",
      "Device: `{}`\n",
      "\n",
      "Claim: 44, Type: `Unknown`, Parent: `[39]`,\n",
      "Device: `{}`\n",
      "\n",
      "Claim: 45, Type: `Unknown`, Parent: `[39]`,\n",
      "Device: `{}`\n",
      "\n",
      "Claim: 46, Type: `Unknown`, Parent: `[39]`,\n",
      "Device: `{}`\n",
      "\n"
     ]
    }
   ],
   "source": [
    "pipeline = Pipeline(model_name=\"en_core_web_sm\")\n",
    "limitations =  [claim[\"Limitations\"] for claim in data[\"before_analyze\"][\"Claims\"]]\n",
    "texts_with_context = list(zip(texts, limitations))\n",
    "output = pipeline.run(texts_with_context, as_tuples=True)\n",
    "\n",
    "for k, doc in enumerate(output, 1):\n",
    "    print(f\"Claim: {k}, Type: `{doc._.claim_type}`, Parent: `{doc._.parent_claim}`,\\n\"\n",
    "          f\"Device: `{doc._.device_name}`\\n\")"
   ]
  },
  {
   "cell_type": "code",
   "execution_count": 41,
   "metadata": {},
   "outputs": [
    {
     "name": "stdout",
     "output_type": "stream",
     "text": [
      "A user equipment [A, user, equipment, (, UE, ), for, wireless, communication, ,, comprising, .]\n",
      "UE [UE]\n",
      "wireless communication [wireless, communication]\n"
     ]
    },
    {
     "data": {
      "text/html": [
       "<svg xmlns=\"http://www.w3.org/2000/svg\" xmlns:xlink=\"http://www.w3.org/1999/xlink\" xml:lang=\"en\" id=\"aa980e33a276430f981149e65c420c0b-0\" class=\"displacy\" width=\"1250\" height=\"362.0\" direction=\"ltr\" style=\"max-width: none; height: 362.0px; color: black; background: white; font-family: Arial; direction: ltr\"><text class=\"displacy-token\" fill=\"currentColor\" text-anchor=\"middle\" y=\"272.0\"><tspan class=\"displacy-word\" fill=\"currentColor\" x=\"50\">A</tspan><tspan class=\"displacy-tag\" dy=\"2em\" fill=\"currentColor\" x=\"50\">DET</tspan></text><text class=\"displacy-token\" fill=\"currentColor\" text-anchor=\"middle\" y=\"272.0\"><tspan class=\"displacy-word\" fill=\"currentColor\" x=\"200\">user</tspan><tspan class=\"displacy-tag\" dy=\"2em\" fill=\"currentColor\" x=\"200\">NOUN</tspan></text><text class=\"displacy-token\" fill=\"currentColor\" text-anchor=\"middle\" y=\"272.0\"><tspan class=\"displacy-word\" fill=\"currentColor\" x=\"350\">equipment (</tspan><tspan class=\"displacy-tag\" dy=\"2em\" fill=\"currentColor\" x=\"350\">NOUN</tspan></text><text class=\"displacy-token\" fill=\"currentColor\" text-anchor=\"middle\" y=\"272.0\"><tspan class=\"displacy-word\" fill=\"currentColor\" x=\"500\">UE)</tspan><tspan class=\"displacy-tag\" dy=\"2em\" fill=\"currentColor\" x=\"500\">PROPN</tspan></text><text class=\"displacy-token\" fill=\"currentColor\" text-anchor=\"middle\" y=\"272.0\"><tspan class=\"displacy-word\" fill=\"currentColor\" x=\"650\">for</tspan><tspan class=\"displacy-tag\" dy=\"2em\" fill=\"currentColor\" x=\"650\">ADP</tspan></text><text class=\"displacy-token\" fill=\"currentColor\" text-anchor=\"middle\" y=\"272.0\"><tspan class=\"displacy-word\" fill=\"currentColor\" x=\"800\">wireless</tspan><tspan class=\"displacy-tag\" dy=\"2em\" fill=\"currentColor\" x=\"800\">ADJ</tspan></text><text class=\"displacy-token\" fill=\"currentColor\" text-anchor=\"middle\" y=\"272.0\"><tspan class=\"displacy-word\" fill=\"currentColor\" x=\"950\">communication,</tspan><tspan class=\"displacy-tag\" dy=\"2em\" fill=\"currentColor\" x=\"950\">NOUN</tspan></text><text class=\"displacy-token\" fill=\"currentColor\" text-anchor=\"middle\" y=\"272.0\"><tspan class=\"displacy-word\" fill=\"currentColor\" x=\"1100\">comprising.</tspan><tspan class=\"displacy-tag\" dy=\"2em\" fill=\"currentColor\" x=\"1100\">VERB</tspan></text><g class=\"displacy-arrow\"><path class=\"displacy-arc\" id=\"arrow-aa980e33a276430f981149e65c420c0b-0-0\" stroke-width=\"2px\" d=\"M62,227.0 62,177.0 347.0,177.0 347.0,227.0\" fill=\"none\" stroke=\"currentColor\"/><text dy=\"1.25em\" style=\"font-size: 0.8em; letter-spacing: 1px\"><textPath xlink:href=\"#arrow-aa980e33a276430f981149e65c420c0b-0-0\" class=\"displacy-label\" startOffset=\"50%\" side=\"left\" fill=\"currentColor\" text-anchor=\"middle\">det</textPath></text><path class=\"displacy-arrowhead\" d=\"M62,229.0 L58,221.0 66,221.0\" fill=\"currentColor\"/></g><g class=\"displacy-arrow\"><path class=\"displacy-arc\" id=\"arrow-aa980e33a276430f981149e65c420c0b-0-1\" stroke-width=\"2px\" d=\"M212,227.0 212,202.0 344.0,202.0 344.0,227.0\" fill=\"none\" stroke=\"currentColor\"/><text dy=\"1.25em\" style=\"font-size: 0.8em; letter-spacing: 1px\"><textPath xlink:href=\"#arrow-aa980e33a276430f981149e65c420c0b-0-1\" class=\"displacy-label\" startOffset=\"50%\" side=\"left\" fill=\"currentColor\" text-anchor=\"middle\">compound</textPath></text><path class=\"displacy-arrowhead\" d=\"M212,229.0 L208,221.0 216,221.0\" fill=\"currentColor\"/></g><g class=\"displacy-arrow\"><path class=\"displacy-arc\" id=\"arrow-aa980e33a276430f981149e65c420c0b-0-2\" stroke-width=\"2px\" d=\"M362,227.0 362,202.0 494.0,202.0 494.0,227.0\" fill=\"none\" stroke=\"currentColor\"/><text dy=\"1.25em\" style=\"font-size: 0.8em; letter-spacing: 1px\"><textPath xlink:href=\"#arrow-aa980e33a276430f981149e65c420c0b-0-2\" class=\"displacy-label\" startOffset=\"50%\" side=\"left\" fill=\"currentColor\" text-anchor=\"middle\">appos</textPath></text><path class=\"displacy-arrowhead\" d=\"M494.0,229.0 L498.0,221.0 490.0,221.0\" fill=\"currentColor\"/></g><g class=\"displacy-arrow\"><path class=\"displacy-arc\" id=\"arrow-aa980e33a276430f981149e65c420c0b-0-3\" stroke-width=\"2px\" d=\"M362,227.0 362,177.0 647.0,177.0 647.0,227.0\" fill=\"none\" stroke=\"currentColor\"/><text dy=\"1.25em\" style=\"font-size: 0.8em; letter-spacing: 1px\"><textPath xlink:href=\"#arrow-aa980e33a276430f981149e65c420c0b-0-3\" class=\"displacy-label\" startOffset=\"50%\" side=\"left\" fill=\"currentColor\" text-anchor=\"middle\">prep</textPath></text><path class=\"displacy-arrowhead\" d=\"M647.0,229.0 L651.0,221.0 643.0,221.0\" fill=\"currentColor\"/></g><g class=\"displacy-arrow\"><path class=\"displacy-arc\" id=\"arrow-aa980e33a276430f981149e65c420c0b-0-4\" stroke-width=\"2px\" d=\"M812,227.0 812,202.0 944.0,202.0 944.0,227.0\" fill=\"none\" stroke=\"currentColor\"/><text dy=\"1.25em\" style=\"font-size: 0.8em; letter-spacing: 1px\"><textPath xlink:href=\"#arrow-aa980e33a276430f981149e65c420c0b-0-4\" class=\"displacy-label\" startOffset=\"50%\" side=\"left\" fill=\"currentColor\" text-anchor=\"middle\">amod</textPath></text><path class=\"displacy-arrowhead\" d=\"M812,229.0 L808,221.0 816,221.0\" fill=\"currentColor\"/></g><g class=\"displacy-arrow\"><path class=\"displacy-arc\" id=\"arrow-aa980e33a276430f981149e65c420c0b-0-5\" stroke-width=\"2px\" d=\"M662,227.0 662,177.0 947.0,177.0 947.0,227.0\" fill=\"none\" stroke=\"currentColor\"/><text dy=\"1.25em\" style=\"font-size: 0.8em; letter-spacing: 1px\"><textPath xlink:href=\"#arrow-aa980e33a276430f981149e65c420c0b-0-5\" class=\"displacy-label\" startOffset=\"50%\" side=\"left\" fill=\"currentColor\" text-anchor=\"middle\">pobj</textPath></text><path class=\"displacy-arrowhead\" d=\"M947.0,229.0 L951.0,221.0 943.0,221.0\" fill=\"currentColor\"/></g><g class=\"displacy-arrow\"><path class=\"displacy-arc\" id=\"arrow-aa980e33a276430f981149e65c420c0b-0-6\" stroke-width=\"2px\" d=\"M362,227.0 362,152.0 1100.0,152.0 1100.0,227.0\" fill=\"none\" stroke=\"currentColor\"/><text dy=\"1.25em\" style=\"font-size: 0.8em; letter-spacing: 1px\"><textPath xlink:href=\"#arrow-aa980e33a276430f981149e65c420c0b-0-6\" class=\"displacy-label\" startOffset=\"50%\" side=\"left\" fill=\"currentColor\" text-anchor=\"middle\">appos</textPath></text><path class=\"displacy-arrowhead\" d=\"M1100.0,229.0 L1104.0,221.0 1096.0,221.0\" fill=\"currentColor\"/></g></svg>"
      ],
      "text/plain": [
       "<IPython.core.display.HTML object>"
      ]
     },
     "metadata": {},
     "output_type": "display_data"
    }
   ],
   "source": [
    "d = nlp('A user equipment (UE) for wireless communication, comprising.')\n",
    "for ch in d.noun_chunks:\n",
    "    print(ch.text, list(ch.subtree))\n",
    "displacy.render(d, style=\"dep\", minify=True, options=options)"
   ]
  },
  {
   "cell_type": "code",
   "execution_count": 21,
   "metadata": {},
   "outputs": [
    {
     "data": {
      "text/plain": [
       "['user equipment (UE)',\n",
       " 'method of claim 1',\n",
       " 'method of claim 2',\n",
       " 'method of claim 1',\n",
       " 'method of claim 4',\n",
       " 'method of claim 1',\n",
       " 'method of claim 1',\n",
       " 'method of claim 1',\n",
       " 'user equipment (UE',\n",
       " 'UE of claim 9',\n",
       " 'UE of claim 10',\n",
       " 'UE of claim 9',\n",
       " 'UE of claim 12',\n",
       " 'UE of claim 9',\n",
       " 'UE of claim 9',\n",
       " 'UE of claim 9',\n",
       " 'non-transitory computer-readable medium storing one or more instructions for wireless communication',\n",
       " 'non-transitory computer-readable medium of claim 17',\n",
       " 'non-transitory computer-readable medium of claim 18',\n",
       " 'non-transitory computer-readable medium of claim 17',\n",
       " 'non-transitory computer-readable medium of claim 17',\n",
       " 'non-transitory computer-readable medium of claim 17',\n",
       " 'non-transitory computer-readable medium of claim 17',\n",
       " 'apparatus for wireless communication',\n",
       " 'apparatus of claim 24',\n",
       " 'apparatus of claim 25',\n",
       " 'apparatus of claim 24',\n",
       " 'apparatus of claim 24',\n",
       " 'apparatus of claim 24',\n",
       " 'apparatus of claim 24',\n",
       " '111 for wireless communication',\n",
       " '111 of claim 31',\n",
       " '111 of claim 32',\n",
       " '111 of claim 31',\n",
       " '111 of claim 34',\n",
       " '111 of claim 31',\n",
       " '111 of claim 31',\n",
       " '111 of claim 31',\n",
       " 'user equipment (UE)',\n",
       " 'device of claim 39',\n",
       " 'device of claim 40',\n",
       " 'device of claim 39',\n",
       " 'device of claim 42',\n",
       " 'device of claim 39',\n",
       " 'device of claim 39',\n",
       " 'device of claim 39']"
      ]
     },
     "execution_count": 21,
     "metadata": {},
     "output_type": "execute_result"
    }
   ],
   "source": [
    "[el[\"DeviceName\"] for el in data[\"after_analyze\"][\"Claims\"]]"
   ]
  },
  {
   "cell_type": "code",
   "execution_count": 129,
   "metadata": {},
   "outputs": [],
   "source": [
    "def flatten_limitations(limitations):\n",
    "    text = []\n",
    "    for limitation in limitations:\n",
    "        chunk = [limitation['LimitationText']]\n",
    "        text += chunk\n",
    "        subtree = flatten_limitations(limitation['Limitations'])\n",
    "        text += subtree\n",
    "    return text\n",
    "\n",
    "text = \" \".join(flatten_limitations(limitations[8]))\n",
    "patt = re.compile(r\",\\sby\\s(an|a|the)\\s(.*?)(\\sand\\s(?P<AfterAndPart>.*?))?,\",\n",
    "                  flags=re.I)\n",
    "match = patt.search(text)"
   ]
  },
  {
   "cell_type": "code",
   "execution_count": 113,
   "metadata": {},
   "outputs": [
    {
     "name": "stdout",
     "output_type": "stream",
     "text": [
      "{\n",
      "    \"Claims\": [\n",
      "        {\n",
      "            \"Preamble\": \"A non-transitory computer-readable medium storing one or more instructions for wireless communication, the one or more instructions comprising:\",\n",
      "            \"ClaimNumber\": 17,\n",
      "            \"Limitations\": [\n",
      "                {\n",
      "                    \"LimitationText\": \"one or more instructions that, when executed by one or more processors of a user equipment (UE), cause the one or more processors to:\",\n",
      "                    \"Limitations\": [\n",
      "                        {\n",
      "                            \"LimitationText\": \"receive, when operating in a network that provides synchronization signals at a plurality of locations in a channel bandwidth, a common search space (CSS) indicator for a synchronization signal, wherein the CSS indicator indicates that the synchronization signal is not associated with a CSS for a downlink control channel; and\",\n",
      "                            \"Limitations\": []\n",
      "                        },\n",
      "                        {\n",
      "                            \"LimitationText\": \"determine a location of the CSS for the downlink control channel based at least in part on the CSS indicator.\",\n",
      "                            \"Limitations\": []\n",
      "                        }\n",
      "                    ]\n",
      "                }\n",
      "            ],\n",
      "            \"ClaimType\": 2,\n",
      "            \"ParentClaimNumbers\": [],\n",
      "            \"DeviceName\": \"non-transitory computer-readable medium storing one or more instructions for wireless communication\"\n",
      "        }\n",
      "    ]\n",
      "}\n"
     ]
    }
   ],
   "source": [
    "print(json.dumps({\"Claims\": [data[\"after_analyze\"][\"Claims\"][16]]}, indent=4))"
   ]
  }
 ],
 "metadata": {
  "kernelspec": {
   "display_name": "Python 3",
   "language": "python",
   "name": "python3"
  },
  "language_info": {
   "codemirror_mode": {
    "name": "ipython",
    "version": 3
   },
   "file_extension": ".py",
   "mimetype": "text/x-python",
   "name": "python",
   "nbconvert_exporter": "python",
   "pygments_lexer": "ipython3",
   "version": "3.7.4"
  }
 },
 "nbformat": 4,
 "nbformat_minor": 4
}
